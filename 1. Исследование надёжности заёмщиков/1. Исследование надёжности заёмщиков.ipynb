{
 "cells": [
  {
   "cell_type": "markdown",
   "metadata": {},
   "source": [
    "# Исследование надёжности заёмщиков\n",
    "\n",
    "Заказчик — кредитный отдел банка. Нужно разобраться, влияет ли семейное положение и количество детей клиента на факт погашения кредита в срок. Входные данные от банка — статистика о платёжеспособности клиентов.\n",
    "\n",
    "Результаты исследования будут учтены при построении модели **кредитного скоринга** — специальной системы, которая оценивает способность потенциального заёмщика вернуть кредит банку."
   ]
  },
  {
   "cell_type": "markdown",
   "metadata": {},
   "source": [
    "## Откроем файл с данными и изучим общую информацию"
   ]
  },
  {
   "cell_type": "code",
   "execution_count": 4,
   "metadata": {},
   "outputs": [
    {
     "name": "stdout",
     "output_type": "stream",
     "text": [
      "<class 'pandas.core.frame.DataFrame'>\n",
      "RangeIndex: 21525 entries, 0 to 21524\n",
      "Data columns (total 12 columns):\n",
      "children            21525 non-null int64\n",
      "days_employed       19351 non-null float64\n",
      "dob_years           21525 non-null int64\n",
      "education           21525 non-null object\n",
      "education_id        21525 non-null int64\n",
      "family_status       21525 non-null object\n",
      "family_status_id    21525 non-null int64\n",
      "gender              21525 non-null object\n",
      "income_type         21525 non-null object\n",
      "debt                21525 non-null int64\n",
      "total_income        19351 non-null float64\n",
      "purpose             21525 non-null object\n",
      "dtypes: float64(2), int64(5), object(5)\n",
      "memory usage: 2.0+ MB\n"
     ]
    }
   ],
   "source": [
    "import pandas as pd\n",
    "data = pd.read_csv('/datasets/data.csv')\n",
    "data.info()"
   ]
  },
  {
   "cell_type": "markdown",
   "metadata": {},
   "source": [
    "   После изучения общей информации можно сделать следующий вывод: в столбцах \"трудовой стаж\" и \"доход в месяц\" много пропусков, также в этих столбцах тип переменных.float64. Постараемся избавиться от пропусков и заменить тип данных."
   ]
  },
  {
   "cell_type": "markdown",
   "metadata": {},
   "source": [
    "## Предобработка данных"
   ]
  },
  {
   "cell_type": "markdown",
   "metadata": {},
   "source": [
    "### Обработка пропусков"
   ]
  },
  {
   "cell_type": "code",
   "execution_count": 5,
   "metadata": {},
   "outputs": [
    {
     "data": {
      "text/html": [
       "<div>\n",
       "<style scoped>\n",
       "    .dataframe tbody tr th:only-of-type {\n",
       "        vertical-align: middle;\n",
       "    }\n",
       "\n",
       "    .dataframe tbody tr th {\n",
       "        vertical-align: top;\n",
       "    }\n",
       "\n",
       "    .dataframe thead th {\n",
       "        text-align: right;\n",
       "    }\n",
       "</style>\n",
       "<table border=\"1\" class=\"dataframe\">\n",
       "  <thead>\n",
       "    <tr style=\"text-align: right;\">\n",
       "      <th></th>\n",
       "      <th>children</th>\n",
       "      <th>days_employed</th>\n",
       "      <th>dob_years</th>\n",
       "      <th>education</th>\n",
       "      <th>education_id</th>\n",
       "      <th>family_status</th>\n",
       "      <th>family_status_id</th>\n",
       "      <th>gender</th>\n",
       "      <th>income_type</th>\n",
       "      <th>debt</th>\n",
       "      <th>total_income</th>\n",
       "      <th>purpose</th>\n",
       "    </tr>\n",
       "  </thead>\n",
       "  <tbody>\n",
       "    <tr>\n",
       "      <td>12</td>\n",
       "      <td>0</td>\n",
       "      <td>NaN</td>\n",
       "      <td>65</td>\n",
       "      <td>среднее</td>\n",
       "      <td>1</td>\n",
       "      <td>гражданский брак</td>\n",
       "      <td>1</td>\n",
       "      <td>M</td>\n",
       "      <td>пенсионер</td>\n",
       "      <td>0</td>\n",
       "      <td>NaN</td>\n",
       "      <td>сыграть свадьбу</td>\n",
       "    </tr>\n",
       "    <tr>\n",
       "      <td>26</td>\n",
       "      <td>0</td>\n",
       "      <td>NaN</td>\n",
       "      <td>41</td>\n",
       "      <td>среднее</td>\n",
       "      <td>1</td>\n",
       "      <td>женат / замужем</td>\n",
       "      <td>0</td>\n",
       "      <td>M</td>\n",
       "      <td>госслужащий</td>\n",
       "      <td>0</td>\n",
       "      <td>NaN</td>\n",
       "      <td>образование</td>\n",
       "    </tr>\n",
       "    <tr>\n",
       "      <td>29</td>\n",
       "      <td>0</td>\n",
       "      <td>NaN</td>\n",
       "      <td>63</td>\n",
       "      <td>среднее</td>\n",
       "      <td>1</td>\n",
       "      <td>Не женат / не замужем</td>\n",
       "      <td>4</td>\n",
       "      <td>F</td>\n",
       "      <td>пенсионер</td>\n",
       "      <td>0</td>\n",
       "      <td>NaN</td>\n",
       "      <td>строительство жилой недвижимости</td>\n",
       "    </tr>\n",
       "    <tr>\n",
       "      <td>41</td>\n",
       "      <td>0</td>\n",
       "      <td>NaN</td>\n",
       "      <td>50</td>\n",
       "      <td>среднее</td>\n",
       "      <td>1</td>\n",
       "      <td>женат / замужем</td>\n",
       "      <td>0</td>\n",
       "      <td>F</td>\n",
       "      <td>госслужащий</td>\n",
       "      <td>0</td>\n",
       "      <td>NaN</td>\n",
       "      <td>сделка с подержанным автомобилем</td>\n",
       "    </tr>\n",
       "    <tr>\n",
       "      <td>55</td>\n",
       "      <td>0</td>\n",
       "      <td>NaN</td>\n",
       "      <td>54</td>\n",
       "      <td>среднее</td>\n",
       "      <td>1</td>\n",
       "      <td>гражданский брак</td>\n",
       "      <td>1</td>\n",
       "      <td>F</td>\n",
       "      <td>пенсионер</td>\n",
       "      <td>1</td>\n",
       "      <td>NaN</td>\n",
       "      <td>сыграть свадьбу</td>\n",
       "    </tr>\n",
       "    <tr>\n",
       "      <td>...</td>\n",
       "      <td>...</td>\n",
       "      <td>...</td>\n",
       "      <td>...</td>\n",
       "      <td>...</td>\n",
       "      <td>...</td>\n",
       "      <td>...</td>\n",
       "      <td>...</td>\n",
       "      <td>...</td>\n",
       "      <td>...</td>\n",
       "      <td>...</td>\n",
       "      <td>...</td>\n",
       "      <td>...</td>\n",
       "    </tr>\n",
       "    <tr>\n",
       "      <td>21489</td>\n",
       "      <td>2</td>\n",
       "      <td>NaN</td>\n",
       "      <td>47</td>\n",
       "      <td>Среднее</td>\n",
       "      <td>1</td>\n",
       "      <td>женат / замужем</td>\n",
       "      <td>0</td>\n",
       "      <td>M</td>\n",
       "      <td>компаньон</td>\n",
       "      <td>0</td>\n",
       "      <td>NaN</td>\n",
       "      <td>сделка с автомобилем</td>\n",
       "    </tr>\n",
       "    <tr>\n",
       "      <td>21495</td>\n",
       "      <td>1</td>\n",
       "      <td>NaN</td>\n",
       "      <td>50</td>\n",
       "      <td>среднее</td>\n",
       "      <td>1</td>\n",
       "      <td>гражданский брак</td>\n",
       "      <td>1</td>\n",
       "      <td>F</td>\n",
       "      <td>сотрудник</td>\n",
       "      <td>0</td>\n",
       "      <td>NaN</td>\n",
       "      <td>свадьба</td>\n",
       "    </tr>\n",
       "    <tr>\n",
       "      <td>21497</td>\n",
       "      <td>0</td>\n",
       "      <td>NaN</td>\n",
       "      <td>48</td>\n",
       "      <td>ВЫСШЕЕ</td>\n",
       "      <td>0</td>\n",
       "      <td>женат / замужем</td>\n",
       "      <td>0</td>\n",
       "      <td>F</td>\n",
       "      <td>компаньон</td>\n",
       "      <td>0</td>\n",
       "      <td>NaN</td>\n",
       "      <td>строительство недвижимости</td>\n",
       "    </tr>\n",
       "    <tr>\n",
       "      <td>21502</td>\n",
       "      <td>1</td>\n",
       "      <td>NaN</td>\n",
       "      <td>42</td>\n",
       "      <td>среднее</td>\n",
       "      <td>1</td>\n",
       "      <td>женат / замужем</td>\n",
       "      <td>0</td>\n",
       "      <td>F</td>\n",
       "      <td>сотрудник</td>\n",
       "      <td>0</td>\n",
       "      <td>NaN</td>\n",
       "      <td>строительство жилой недвижимости</td>\n",
       "    </tr>\n",
       "    <tr>\n",
       "      <td>21510</td>\n",
       "      <td>2</td>\n",
       "      <td>NaN</td>\n",
       "      <td>28</td>\n",
       "      <td>среднее</td>\n",
       "      <td>1</td>\n",
       "      <td>женат / замужем</td>\n",
       "      <td>0</td>\n",
       "      <td>F</td>\n",
       "      <td>сотрудник</td>\n",
       "      <td>0</td>\n",
       "      <td>NaN</td>\n",
       "      <td>приобретение автомобиля</td>\n",
       "    </tr>\n",
       "  </tbody>\n",
       "</table>\n",
       "<p>2174 rows × 12 columns</p>\n",
       "</div>"
      ],
      "text/plain": [
       "       children  days_employed  dob_years education  education_id  \\\n",
       "12            0            NaN         65   среднее             1   \n",
       "26            0            NaN         41   среднее             1   \n",
       "29            0            NaN         63   среднее             1   \n",
       "41            0            NaN         50   среднее             1   \n",
       "55            0            NaN         54   среднее             1   \n",
       "...         ...            ...        ...       ...           ...   \n",
       "21489         2            NaN         47   Среднее             1   \n",
       "21495         1            NaN         50   среднее             1   \n",
       "21497         0            NaN         48    ВЫСШЕЕ             0   \n",
       "21502         1            NaN         42   среднее             1   \n",
       "21510         2            NaN         28   среднее             1   \n",
       "\n",
       "               family_status  family_status_id gender  income_type  debt  \\\n",
       "12          гражданский брак                 1      M    пенсионер     0   \n",
       "26           женат / замужем                 0      M  госслужащий     0   \n",
       "29     Не женат / не замужем                 4      F    пенсионер     0   \n",
       "41           женат / замужем                 0      F  госслужащий     0   \n",
       "55          гражданский брак                 1      F    пенсионер     1   \n",
       "...                      ...               ...    ...          ...   ...   \n",
       "21489        женат / замужем                 0      M    компаньон     0   \n",
       "21495       гражданский брак                 1      F    сотрудник     0   \n",
       "21497        женат / замужем                 0      F    компаньон     0   \n",
       "21502        женат / замужем                 0      F    сотрудник     0   \n",
       "21510        женат / замужем                 0      F    сотрудник     0   \n",
       "\n",
       "       total_income                           purpose  \n",
       "12              NaN                   сыграть свадьбу  \n",
       "26              NaN                       образование  \n",
       "29              NaN  строительство жилой недвижимости  \n",
       "41              NaN  сделка с подержанным автомобилем  \n",
       "55              NaN                   сыграть свадьбу  \n",
       "...             ...                               ...  \n",
       "21489           NaN              сделка с автомобилем  \n",
       "21495           NaN                           свадьба  \n",
       "21497           NaN        строительство недвижимости  \n",
       "21502           NaN  строительство жилой недвижимости  \n",
       "21510           NaN           приобретение автомобиля  \n",
       "\n",
       "[2174 rows x 12 columns]"
      ]
     },
     "execution_count": 5,
     "metadata": {},
     "output_type": "execute_result"
    }
   ],
   "source": [
    "data[data['days_employed'].isna()]\n",
    "data[data['total_income'].isna()]"
   ]
  },
  {
   "cell_type": "code",
   "execution_count": 6,
   "metadata": {},
   "outputs": [
    {
     "name": "stdout",
     "output_type": "stream",
     "text": [
      "<class 'pandas.core.frame.DataFrame'>\n",
      "RangeIndex: 21525 entries, 0 to 21524\n",
      "Data columns (total 12 columns):\n",
      "children            21525 non-null int64\n",
      "days_employed       21525 non-null float64\n",
      "dob_years           21525 non-null int64\n",
      "education           21525 non-null object\n",
      "education_id        21525 non-null int64\n",
      "family_status       21525 non-null object\n",
      "family_status_id    21525 non-null int64\n",
      "gender              21525 non-null object\n",
      "income_type         21525 non-null object\n",
      "debt                21525 non-null int64\n",
      "total_income        21525 non-null float64\n",
      "purpose             21525 non-null object\n",
      "dtypes: float64(2), int64(5), object(5)\n",
      "memory usage: 2.0+ MB\n"
     ]
    }
   ],
   "source": [
    "# заменим пропуски в столбце \"доход в месяц\" \n",
    "# медианой с учетом группировки по типу занятости\n",
    "\n",
    "data['total_income'] = data['total_income'].\\\n",
    "fillna(data.groupby('income_type')['total_income'].transform('median'))\n",
    "\n",
    "# заменим пропуски в столбце \"стаж работы\" \n",
    "# средним значением с учетом группировки по возрасту\n",
    "\n",
    "data['days_employed'] = data['days_employed'].\\\n",
    "fillna(data.groupby('dob_years')['days_employed'].transform('mean'))\n",
    "data.info()"
   ]
  },
  {
   "cell_type": "markdown",
   "metadata": {},
   "source": [
    "Столбец \"трудовой стаж\" оставили без изменений, он не влияет на анализ в нашей работе.\n",
    "В столбце \"доход в месяц\" заменили пропуски медианой, использовали fillna с учетом группировки по типу занятости. Пропуски связаны с нежеланием клиентов предоставлять о себе данные."
   ]
  },
  {
   "cell_type": "markdown",
   "metadata": {},
   "source": [
    "### Замена типа данных"
   ]
  },
  {
   "cell_type": "code",
   "execution_count": 7,
   "metadata": {
    "scrolled": true
   },
   "outputs": [
    {
     "name": "stdout",
     "output_type": "stream",
     "text": [
      "<class 'pandas.core.frame.DataFrame'>\n",
      "RangeIndex: 21525 entries, 0 to 21524\n",
      "Data columns (total 12 columns):\n",
      "children            21525 non-null int64\n",
      "days_employed       21525 non-null Int64\n",
      "dob_years           21525 non-null int64\n",
      "education           21525 non-null object\n",
      "education_id        21525 non-null int64\n",
      "family_status       21525 non-null object\n",
      "family_status_id    21525 non-null int64\n",
      "gender              21525 non-null object\n",
      "income_type         21525 non-null object\n",
      "debt                21525 non-null int64\n",
      "total_income        21525 non-null int64\n",
      "purpose             21525 non-null object\n",
      "dtypes: Int64(1), int64(6), object(5)\n",
      "memory usage: 2.0+ MB\n"
     ]
    }
   ],
   "source": [
    "data['days_employed'].abs()\n",
    " \n",
    "data['days_employed'] = data['days_employed'].round().astype('Int64')\n",
    "data['total_income'] = data['total_income'].astype(int)\n",
    "data.info()"
   ]
  },
  {
   "cell_type": "markdown",
   "metadata": {},
   "source": [
    "Мы заменили тип данных в столбцах \"трудовой стаж\" и \"доход в месяц\" с float64 на int64, а также привели значения в графе \"трудовой стаж\" к абсолютным."
   ]
  },
  {
   "cell_type": "markdown",
   "metadata": {},
   "source": [
    "### Обработка дубликатов"
   ]
  },
  {
   "cell_type": "code",
   "execution_count": 8,
   "metadata": {},
   "outputs": [
    {
     "data": {
      "text/html": [
       "<div>\n",
       "<style scoped>\n",
       "    .dataframe tbody tr th:only-of-type {\n",
       "        vertical-align: middle;\n",
       "    }\n",
       "\n",
       "    .dataframe tbody tr th {\n",
       "        vertical-align: top;\n",
       "    }\n",
       "\n",
       "    .dataframe thead th {\n",
       "        text-align: right;\n",
       "    }\n",
       "</style>\n",
       "<table border=\"1\" class=\"dataframe\">\n",
       "  <thead>\n",
       "    <tr style=\"text-align: right;\">\n",
       "      <th></th>\n",
       "      <th>children</th>\n",
       "      <th>days_employed</th>\n",
       "      <th>dob_years</th>\n",
       "      <th>education</th>\n",
       "      <th>education_id</th>\n",
       "      <th>family_status</th>\n",
       "      <th>family_status_id</th>\n",
       "      <th>gender</th>\n",
       "      <th>income_type</th>\n",
       "      <th>debt</th>\n",
       "      <th>total_income</th>\n",
       "      <th>purpose</th>\n",
       "    </tr>\n",
       "  </thead>\n",
       "  <tbody>\n",
       "    <tr>\n",
       "      <td>0</td>\n",
       "      <td>1</td>\n",
       "      <td>-8438</td>\n",
       "      <td>42</td>\n",
       "      <td>высшее</td>\n",
       "      <td>0</td>\n",
       "      <td>женат / замужем</td>\n",
       "      <td>0</td>\n",
       "      <td>F</td>\n",
       "      <td>сотрудник</td>\n",
       "      <td>0</td>\n",
       "      <td>253875</td>\n",
       "      <td>покупка жилья</td>\n",
       "    </tr>\n",
       "    <tr>\n",
       "      <td>1</td>\n",
       "      <td>1</td>\n",
       "      <td>-4025</td>\n",
       "      <td>36</td>\n",
       "      <td>среднее</td>\n",
       "      <td>1</td>\n",
       "      <td>женат / замужем</td>\n",
       "      <td>0</td>\n",
       "      <td>F</td>\n",
       "      <td>сотрудник</td>\n",
       "      <td>0</td>\n",
       "      <td>112080</td>\n",
       "      <td>приобретение автомобиля</td>\n",
       "    </tr>\n",
       "    <tr>\n",
       "      <td>2</td>\n",
       "      <td>0</td>\n",
       "      <td>-5623</td>\n",
       "      <td>33</td>\n",
       "      <td>среднее</td>\n",
       "      <td>1</td>\n",
       "      <td>женат / замужем</td>\n",
       "      <td>0</td>\n",
       "      <td>M</td>\n",
       "      <td>сотрудник</td>\n",
       "      <td>0</td>\n",
       "      <td>145885</td>\n",
       "      <td>покупка жилья</td>\n",
       "    </tr>\n",
       "    <tr>\n",
       "      <td>3</td>\n",
       "      <td>3</td>\n",
       "      <td>-4125</td>\n",
       "      <td>32</td>\n",
       "      <td>среднее</td>\n",
       "      <td>1</td>\n",
       "      <td>женат / замужем</td>\n",
       "      <td>0</td>\n",
       "      <td>M</td>\n",
       "      <td>сотрудник</td>\n",
       "      <td>0</td>\n",
       "      <td>267628</td>\n",
       "      <td>дополнительное образование</td>\n",
       "    </tr>\n",
       "    <tr>\n",
       "      <td>4</td>\n",
       "      <td>0</td>\n",
       "      <td>340266</td>\n",
       "      <td>53</td>\n",
       "      <td>среднее</td>\n",
       "      <td>1</td>\n",
       "      <td>гражданский брак</td>\n",
       "      <td>1</td>\n",
       "      <td>F</td>\n",
       "      <td>пенсионер</td>\n",
       "      <td>0</td>\n",
       "      <td>158616</td>\n",
       "      <td>сыграть свадьбу</td>\n",
       "    </tr>\n",
       "    <tr>\n",
       "      <td>5</td>\n",
       "      <td>0</td>\n",
       "      <td>-926</td>\n",
       "      <td>27</td>\n",
       "      <td>высшее</td>\n",
       "      <td>0</td>\n",
       "      <td>гражданский брак</td>\n",
       "      <td>1</td>\n",
       "      <td>M</td>\n",
       "      <td>компаньон</td>\n",
       "      <td>0</td>\n",
       "      <td>255763</td>\n",
       "      <td>покупка жилья</td>\n",
       "    </tr>\n",
       "    <tr>\n",
       "      <td>6</td>\n",
       "      <td>0</td>\n",
       "      <td>-2879</td>\n",
       "      <td>43</td>\n",
       "      <td>высшее</td>\n",
       "      <td>0</td>\n",
       "      <td>женат / замужем</td>\n",
       "      <td>0</td>\n",
       "      <td>F</td>\n",
       "      <td>компаньон</td>\n",
       "      <td>0</td>\n",
       "      <td>240525</td>\n",
       "      <td>операции с жильем</td>\n",
       "    </tr>\n",
       "    <tr>\n",
       "      <td>7</td>\n",
       "      <td>0</td>\n",
       "      <td>-153</td>\n",
       "      <td>50</td>\n",
       "      <td>среднее</td>\n",
       "      <td>1</td>\n",
       "      <td>женат / замужем</td>\n",
       "      <td>0</td>\n",
       "      <td>M</td>\n",
       "      <td>сотрудник</td>\n",
       "      <td>0</td>\n",
       "      <td>135823</td>\n",
       "      <td>образование</td>\n",
       "    </tr>\n",
       "    <tr>\n",
       "      <td>8</td>\n",
       "      <td>2</td>\n",
       "      <td>-6930</td>\n",
       "      <td>35</td>\n",
       "      <td>высшее</td>\n",
       "      <td>0</td>\n",
       "      <td>гражданский брак</td>\n",
       "      <td>1</td>\n",
       "      <td>F</td>\n",
       "      <td>сотрудник</td>\n",
       "      <td>0</td>\n",
       "      <td>95856</td>\n",
       "      <td>на проведение свадьбы</td>\n",
       "    </tr>\n",
       "    <tr>\n",
       "      <td>9</td>\n",
       "      <td>0</td>\n",
       "      <td>-2189</td>\n",
       "      <td>41</td>\n",
       "      <td>среднее</td>\n",
       "      <td>1</td>\n",
       "      <td>женат / замужем</td>\n",
       "      <td>0</td>\n",
       "      <td>M</td>\n",
       "      <td>сотрудник</td>\n",
       "      <td>0</td>\n",
       "      <td>144425</td>\n",
       "      <td>покупка жилья для семьи</td>\n",
       "    </tr>\n",
       "  </tbody>\n",
       "</table>\n",
       "</div>"
      ],
      "text/plain": [
       "   children  days_employed  dob_years education  education_id  \\\n",
       "0         1          -8438         42    высшее             0   \n",
       "1         1          -4025         36   среднее             1   \n",
       "2         0          -5623         33   среднее             1   \n",
       "3         3          -4125         32   среднее             1   \n",
       "4         0         340266         53   среднее             1   \n",
       "5         0           -926         27    высшее             0   \n",
       "6         0          -2879         43    высшее             0   \n",
       "7         0           -153         50   среднее             1   \n",
       "8         2          -6930         35    высшее             0   \n",
       "9         0          -2189         41   среднее             1   \n",
       "\n",
       "      family_status  family_status_id gender income_type  debt  total_income  \\\n",
       "0   женат / замужем                 0      F   сотрудник     0        253875   \n",
       "1   женат / замужем                 0      F   сотрудник     0        112080   \n",
       "2   женат / замужем                 0      M   сотрудник     0        145885   \n",
       "3   женат / замужем                 0      M   сотрудник     0        267628   \n",
       "4  гражданский брак                 1      F   пенсионер     0        158616   \n",
       "5  гражданский брак                 1      M   компаньон     0        255763   \n",
       "6   женат / замужем                 0      F   компаньон     0        240525   \n",
       "7   женат / замужем                 0      M   сотрудник     0        135823   \n",
       "8  гражданский брак                 1      F   сотрудник     0         95856   \n",
       "9   женат / замужем                 0      M   сотрудник     0        144425   \n",
       "\n",
       "                      purpose  \n",
       "0               покупка жилья  \n",
       "1     приобретение автомобиля  \n",
       "2               покупка жилья  \n",
       "3  дополнительное образование  \n",
       "4             сыграть свадьбу  \n",
       "5               покупка жилья  \n",
       "6           операции с жильем  \n",
       "7                 образование  \n",
       "8       на проведение свадьбы  \n",
       "9     покупка жилья для семьи  "
      ]
     },
     "execution_count": 8,
     "metadata": {},
     "output_type": "execute_result"
    }
   ],
   "source": [
    "data.duplicated().sum()\n",
    "data['education'] = data['education'].str.lower()\n",
    "data = data.drop_duplicates().reset_index(drop=True) \n",
    "data.duplicated().sum()\n",
    "data.head(10)"
   ]
  },
  {
   "cell_type": "markdown",
   "metadata": {},
   "source": [
    "Сначала мы перевелии в нижний регистр данные из столбца \"образование\" с помощью str.lower(), затем с помощью duplicated().sum() нашли количество дубликатов  и с помощью drop_duplicates() избавились от них."
   ]
  },
  {
   "cell_type": "markdown",
   "metadata": {},
   "source": [
    "### Лемматизация"
   ]
  },
  {
   "cell_type": "code",
   "execution_count": 9,
   "metadata": {},
   "outputs": [
    {
     "name": "stdout",
     "output_type": "stream",
     "text": [
      "Counter({'автомобиль': 2, 'покупка жилье': 1, 'приобретение автомобиль': 1, 'дополнительный образование': 1, 'сыграть свадьба': 1, 'операция с жилье': 1, 'образование': 1, 'на проведение свадьба': 1, 'покупка жилье для семья': 1, 'покупка недвижимость': 1, 'покупка коммерческий недвижимость': 1, 'покупка жилой недвижимость': 1, 'строительство собственный недвижимость': 1, 'недвижимость': 1, 'строительство недвижимость': 1, 'на покупка подержать автомобиль': 1, 'на покупка свой автомобиль': 1, 'операция с коммерческий недвижимость': 1, 'строительство жилой недвижимость': 1, 'жилье': 1, 'операция со свой недвижимость': 1, 'заниматься образование': 1, 'сделка с подержанный автомобиль': 1, 'получение образование': 1, 'свадьба': 1, 'получение дополнительный образование': 1, 'покупка свой жилье': 1, 'операция с недвижимость': 1, 'получение высокий образование': 1, 'свой автомобиль': 1, 'сделка с автомобиль': 1, 'профильный образование': 1, 'высокий образование': 1, 'покупка жилье для сдача': 1, 'на покупка автомобиль': 1, 'ремонт жилье': 1, 'заниматься высокий образование': 1})\n"
     ]
    }
   ],
   "source": [
    "from pymystem3 import Mystem  # импорт лемматизатора\n",
    "m = Mystem()\n",
    "\n",
    "unique_purpose = data['purpose'].unique()   # найдем сначала уникальные цели\n",
    "#print(unique_purpose)\n",
    "\n",
    "lemmas_list = []\n",
    "\n",
    "for purpose in unique_purpose:                # в цикле создаем список лемм        \n",
    "    lemmas = ''.join(m.lemmatize(purpose)).strip()\n",
    "    lemmas_list.append(lemmas) \n",
    "\n",
    "from collections import Counter               # посмотрим частотность \n",
    "print(Counter(lemmas_list))\n",
    "\n",
    "def create_category_purpose(row):\n",
    "    lem_purpose = m.lemmatize(row['purpose'])\n",
    "    if 'недвижимость' in lem_purpose:\n",
    "        return 'недвижимость'\n",
    "    if 'жилье' in lem_purpose:\n",
    "        return 'недвижимость'\n",
    "    if 'автомобиль' in lem_purpose:\n",
    "        return 'автомобиль'\n",
    "    if 'образование' in lem_purpose:\n",
    "        return 'образование'\n",
    "    return 'прочие цели'\n",
    "data['type_purpose'] = data.apply(create_category_purpose, axis=1)\n",
    "#data.head(20)\n"
   ]
  },
  {
   "cell_type": "markdown",
   "metadata": {},
   "source": [
    "Мы создали новый солбец \"type_purpose\" или \"тип цели\" с помощью apply. Содали функцию с конкретной целью (недвижимость, автомобиль, образование и прочие цели). Таким образом, лемматизировали цели."
   ]
  },
  {
   "cell_type": "markdown",
   "metadata": {},
   "source": [
    "### Категоризация данных"
   ]
  },
  {
   "cell_type": "code",
   "execution_count": 10,
   "metadata": {},
   "outputs": [
    {
     "name": "stdout",
     "output_type": "stream",
     "text": [
      "   children  days_employed  dob_years education  education_id  \\\n",
      "0         1          -8438         42    высшее             0   \n",
      "1         1          -4025         36   среднее             1   \n",
      "2         0          -5623         33   среднее             1   \n",
      "3         3          -4125         32   среднее             1   \n",
      "4         0         340266         53   среднее             1   \n",
      "5         0           -926         27    высшее             0   \n",
      "6         0          -2879         43    высшее             0   \n",
      "7         0           -153         50   среднее             1   \n",
      "8         2          -6930         35    высшее             0   \n",
      "9         0          -2189         41   среднее             1   \n",
      "\n",
      "      family_status  family_status_id gender income_type  debt  total_income  \\\n",
      "0   женат / замужем                 0      F   сотрудник     0        253875   \n",
      "1   женат / замужем                 0      F   сотрудник     0        112080   \n",
      "2   женат / замужем                 0      M   сотрудник     0        145885   \n",
      "3   женат / замужем                 0      M   сотрудник     0        267628   \n",
      "4  гражданский брак                 1      F   пенсионер     0        158616   \n",
      "5  гражданский брак                 1      M   компаньон     0        255763   \n",
      "6   женат / замужем                 0      F   компаньон     0        240525   \n",
      "7   женат / замужем                 0      M   сотрудник     0        135823   \n",
      "8  гражданский брак                 1      F   сотрудник     0         95856   \n",
      "9   женат / замужем                 0      M   сотрудник     0        144425   \n",
      "\n",
      "                      purpose  type_purpose                  children_debt  \\\n",
      "0               покупка жилья  недвижимость          есть дети и нет долга   \n",
      "1     приобретение автомобиля    автомобиль          есть дети и нет долга   \n",
      "2               покупка жилья  недвижимость          нет детей и нет долга   \n",
      "3  дополнительное образование   образование  многодетная семья и нет долга   \n",
      "4             сыграть свадьбу   прочие цели          нет детей и нет долга   \n",
      "5               покупка жилья  недвижимость          нет детей и нет долга   \n",
      "6           операции с жильем  недвижимость          нет детей и нет долга   \n",
      "7                 образование   образование          нет детей и нет долга   \n",
      "8       на проведение свадьбы   прочие цели          есть дети и нет долга   \n",
      "9     покупка жилья для семьи  недвижимость          нет детей и нет долга   \n",
      "\n",
      "             family_status_debt total_income_type          total_income_debt  \\\n",
      "0  семейный человек и нет долга     высокий доход  высокий доход и нет долга   \n",
      "1  семейный человек и нет долга     средний доход  средний доход и нет долга   \n",
      "2  семейный человек и нет долга     средний доход  средний доход и нет долга   \n",
      "3  семейный человек и нет долга     высокий доход  высокий доход и нет долга   \n",
      "4  семейный человек и нет долга     высокий доход  высокий доход и нет долга   \n",
      "5  семейный человек и нет долга     высокий доход  высокий доход и нет долга   \n",
      "6  семейный человек и нет долга     высокий доход  высокий доход и нет долга   \n",
      "7  семейный человек и нет долга     средний доход  средний доход и нет долга   \n",
      "8  семейный человек и нет долга     средний доход  средний доход и нет долга   \n",
      "9  семейный человек и нет долга     средний доход  средний доход и нет долга   \n",
      "\n",
      "          type_purpose_debt  \n",
      "0  недвижимость и нет долга  \n",
      "1    автомобиль и нет долга  \n",
      "2  недвижимость и нет долга  \n",
      "3   образование и нет долга  \n",
      "4   прочие цели и нет долга  \n",
      "5  недвижимость и нет долга  \n",
      "6  недвижимость и нет долга  \n",
      "7   образование и нет долга  \n",
      "8   прочие цели и нет долга  \n",
      "9  недвижимость и нет долга  \n"
     ]
    }
   ],
   "source": [
    "# устраняем ошибки в графе \"дети\", проверяем с помощью value_counts()\n",
    "\n",
    "data['children'] = data['children'].replace(-1, 1)\n",
    "data['children'] = data['children'].replace(20, 2)\n",
    "data['children'].value_counts()\n",
    "\n",
    "# проверим связь между наличием ребенка и долгом\n",
    "\n",
    "def children_debt(row):\n",
    "    children = row['children'] \n",
    "    debt = row['debt']\n",
    "    if debt == 1:\n",
    "        if children < 1:\n",
    "            return 'нет детей и есть долг'\n",
    "        if 1 <= children <= 2:\n",
    "            return 'есть дети и есть долг'\n",
    "        if children > 2:\n",
    "            return 'многодетная семья и есть долг'\n",
    "    if debt == 0:\n",
    "        if children < 1:\n",
    "            return 'нет детей и нет долга'\n",
    "        if 1 <= children <= 2:\n",
    "            return 'есть дети и нет долга'\n",
    "        if children > 2:\n",
    "            return 'многодетная семья и нет долга'\n",
    "           \n",
    "data['children_debt'] = data.apply(children_debt, axis = 1)\n",
    "#print(data.head(10))"
   ]
  },
  {
   "cell_type": "code",
   "execution_count": null,
   "metadata": {},
   "outputs": [],
   "source": [
    "# проверим связь между семейным положением и долгом\n",
    "\n",
    "def family_status_debt(row):\n",
    "    family_status = row['family_status'] \n",
    "    debt = row['debt']\n",
    "    if debt == 1:\n",
    "        if family_status == 'женат / замужем':\n",
    "            return 'семейный человек и есть долг'\n",
    "        if family_status == 'гражданский брак':\n",
    "            return 'семейный человек и есть долг'\n",
    "        if family_status == 'Не женат / не замужем':\n",
    "            return 'одинокий человек и есть долг'\n",
    "        if family_status == 'вдовец / вдова':\n",
    "            return 'одинокий человек и есть долг'\n",
    "    if debt == 0:  \n",
    "        if family_status == 'женат / замужем':\n",
    "            return 'семейный человек и нет долга'\n",
    "        if family_status == 'гражданский брак':\n",
    "            return 'семейный человек и нет долга'\n",
    "        if family_status == 'Не женат / не замужем':\n",
    "            return 'одинокий человек и нет долга'\n",
    "        if family_status == 'вдовец / вдова':\n",
    "            return 'одинокий человек и нет долга'         \n",
    "data['family_status_debt'] = data.apply(family_status_debt, axis = 1)\n",
    "#print(data.head(10))"
   ]
  },
  {
   "cell_type": "code",
   "execution_count": 16,
   "metadata": {},
   "outputs": [],
   "source": [
    "# функция для разделения категорий доходов, для того чтобы потом по ней удобнее строить сводную таблицу\n",
    "def total_income_type(row):\n",
    "    total_income = row['total_income']\n",
    "    if total_income <= 75000:\n",
    "            return 'низкий доход'\n",
    "    if total_income <= 150000:\n",
    "            return 'средний доход'\n",
    "    if total_income > 150000:\n",
    "            return 'высокий доход'\n",
    "data['total_income_type'] = data.apply(total_income_type, axis = 1)\n",
    "\n",
    "\n",
    "def total_income_debt(row):\n",
    "    total_income = row['total_income'] \n",
    "    debt = row['debt']\n",
    "    if debt == 1:\n",
    "        if total_income <= 75000:\n",
    "            return 'низкий доход и есть долг'\n",
    "        if total_income <= 150000:\n",
    "            return 'средний доход и есть долг'\n",
    "        if total_income > 150000:\n",
    "            return 'высокий доход и есть долг'\n",
    "    if debt == 0:\n",
    "        if total_income <= 75000:\n",
    "            return 'низкий доход и нет долга'\n",
    "        if total_income <= 150000:\n",
    "            return 'средний доход и нет долга'\n",
    "        if total_income > 150000:\n",
    "            return 'высокий доход и нет долга'       \n",
    "data['total_income_debt'] = data.apply(total_income_debt, axis = 1)\n",
    "\n",
    "#print(data.head(10))"
   ]
  },
  {
   "cell_type": "code",
   "execution_count": 17,
   "metadata": {},
   "outputs": [
    {
     "name": "stdout",
     "output_type": "stream",
     "text": [
      "   children  days_employed  dob_years education  education_id  \\\n",
      "0         1          -8438         42    высшее             0   \n",
      "1         1          -4025         36   среднее             1   \n",
      "2         0          -5623         33   среднее             1   \n",
      "3         3          -4125         32   среднее             1   \n",
      "4         0         340266         53   среднее             1   \n",
      "5         0           -926         27    высшее             0   \n",
      "6         0          -2879         43    высшее             0   \n",
      "7         0           -153         50   среднее             1   \n",
      "8         2          -6930         35    высшее             0   \n",
      "9         0          -2189         41   среднее             1   \n",
      "\n",
      "      family_status  family_status_id gender income_type  debt  total_income  \\\n",
      "0   женат / замужем                 0      F   сотрудник     0        253875   \n",
      "1   женат / замужем                 0      F   сотрудник     0        112080   \n",
      "2   женат / замужем                 0      M   сотрудник     0        145885   \n",
      "3   женат / замужем                 0      M   сотрудник     0        267628   \n",
      "4  гражданский брак                 1      F   пенсионер     0        158616   \n",
      "5  гражданский брак                 1      M   компаньон     0        255763   \n",
      "6   женат / замужем                 0      F   компаньон     0        240525   \n",
      "7   женат / замужем                 0      M   сотрудник     0        135823   \n",
      "8  гражданский брак                 1      F   сотрудник     0         95856   \n",
      "9   женат / замужем                 0      M   сотрудник     0        144425   \n",
      "\n",
      "                      purpose  type_purpose                  children_debt  \\\n",
      "0               покупка жилья  недвижимость          есть дети и нет долга   \n",
      "1     приобретение автомобиля    автомобиль          есть дети и нет долга   \n",
      "2               покупка жилья  недвижимость          нет детей и нет долга   \n",
      "3  дополнительное образование   образование  многодетная семья и нет долга   \n",
      "4             сыграть свадьбу   прочие цели          нет детей и нет долга   \n",
      "5               покупка жилья  недвижимость          нет детей и нет долга   \n",
      "6           операции с жильем  недвижимость          нет детей и нет долга   \n",
      "7                 образование   образование          нет детей и нет долга   \n",
      "8       на проведение свадьбы   прочие цели          есть дети и нет долга   \n",
      "9     покупка жилья для семьи  недвижимость          нет детей и нет долга   \n",
      "\n",
      "             family_status_debt total_income_type          total_income_debt  \\\n",
      "0  семейный человек и нет долга     высокий доход  высокий доход и нет долга   \n",
      "1  семейный человек и нет долга     средний доход  средний доход и нет долга   \n",
      "2  семейный человек и нет долга     средний доход  средний доход и нет долга   \n",
      "3  семейный человек и нет долга     высокий доход  высокий доход и нет долга   \n",
      "4  семейный человек и нет долга     высокий доход  высокий доход и нет долга   \n",
      "5  семейный человек и нет долга     высокий доход  высокий доход и нет долга   \n",
      "6  семейный человек и нет долга     высокий доход  высокий доход и нет долга   \n",
      "7  семейный человек и нет долга     средний доход  средний доход и нет долга   \n",
      "8  семейный человек и нет долга     средний доход  средний доход и нет долга   \n",
      "9  семейный человек и нет долга     средний доход  средний доход и нет долга   \n",
      "\n",
      "          type_purpose_debt  \n",
      "0  недвижимость и нет долга  \n",
      "1    автомобиль и нет долга  \n",
      "2  недвижимость и нет долга  \n",
      "3   образование и нет долга  \n",
      "4   прочие цели и нет долга  \n",
      "5  недвижимость и нет долга  \n",
      "6  недвижимость и нет долга  \n",
      "7   образование и нет долга  \n",
      "8   прочие цели и нет долга  \n",
      "9  недвижимость и нет долга  \n"
     ]
    }
   ],
   "source": [
    "# проверим связь между целью кредита и долгом\n",
    "\n",
    "def type_purpose_debt(row):\n",
    "    type_purpose = row['type_purpose']\n",
    "    debt = row['debt']\n",
    "    if debt == 1:\n",
    "        if type_purpose == 'недвижимость':\n",
    "            return 'недвижимость и есть долг'\n",
    "        if type_purpose == 'автомобиль':\n",
    "            return 'автомобиль и есть долг'\n",
    "        if type_purpose == 'образование':\n",
    "            return 'образование и есть долг'\n",
    "        if type_purpose == 'прочие цели':\n",
    "            return 'прочие цели и есть долг'   \n",
    "    if debt == 0:    \n",
    "        if type_purpose == 'недвижимость':\n",
    "            return 'недвижимость и нет долга'\n",
    "        if type_purpose == 'автомобиль':\n",
    "            return 'автомобиль и нет долга'\n",
    "        if type_purpose == 'образование':\n",
    "            return 'образование и нет долга'\n",
    "        if type_purpose == 'прочие цели':\n",
    "            return 'прочие цели и нет долга'\n",
    "data['type_purpose_debt'] = data.apply(type_purpose_debt, axis = 1)\n",
    "print(data.head(10))"
   ]
  },
  {
   "cell_type": "markdown",
   "metadata": {},
   "source": [
    "Мы созали 4 функции для категоризации (влияние различных факторов на возврат долга):\n",
    "- наличия детей;\n",
    "- семейное положение;\n",
    "- доход;\n",
    "- цель кредита."
   ]
  },
  {
   "cell_type": "markdown",
   "metadata": {},
   "source": [
    "## Ответьте на вопросы"
   ]
  },
  {
   "cell_type": "markdown",
   "metadata": {},
   "source": [
    "- Есть ли зависимость между наличием детей и возвратом кредита в срок?"
   ]
  },
  {
   "cell_type": "code",
   "execution_count": 11,
   "metadata": {},
   "outputs": [
    {
     "name": "stdout",
     "output_type": "stream",
     "text": [
      "debt            0       1   percent\n",
      "children                           \n",
      "0         13028.0  1063.0  7.543822\n",
      "1          4410.0   445.0  9.165808\n",
      "2          1926.0   202.0  9.492481\n",
      "3           303.0    27.0  8.181818\n",
      "4            37.0     4.0  9.756098\n",
      "5             9.0     NaN       NaN\n"
     ]
    }
   ],
   "source": [
    "pivot_children = data.pivot_table(index='children', columns= 'debt', values='days_employed', aggfunc='count')\n",
    "pivot_children['percent'] = pivot_children[1] / (pivot_children[1] + pivot_children[0]) * 100\n",
    "print(pivot_children)"
   ]
  },
  {
   "cell_type": "markdown",
   "metadata": {},
   "source": [
    "Наличие детей в среднем на 1.5 % ухудшает шансы на возврат кредита, возможно это связано с тем, что с появлением детей увеличиваются и траты."
   ]
  },
  {
   "cell_type": "markdown",
   "metadata": {},
   "source": [
    "- Есть ли зависимость между семейным положением и возвратом кредита в срок?"
   ]
  },
  {
   "cell_type": "code",
   "execution_count": 12,
   "metadata": {},
   "outputs": [
    {
     "name": "stdout",
     "output_type": "stream",
     "text": [
      "debt                       0    1   percent\n",
      "family_status                              \n",
      "Не женат / не замужем   2536  274  9.750890\n",
      "в разводе               1110   85  7.112971\n",
      "вдовец / вдова           896   63  6.569343\n",
      "гражданский брак        3763  388  9.347145\n",
      "женат / замужем        11408  931  7.545182\n"
     ]
    }
   ],
   "source": [
    "pivot_family = data.pivot_table(index='family_status', columns= 'debt', values='days_employed', aggfunc='count')\n",
    "pivot_family['percent'] = pivot_family[1] / (pivot_family[1] + pivot_family[0]) * 100\n",
    "print(pivot_family)"
   ]
  },
  {
   "cell_type": "markdown",
   "metadata": {},
   "source": [
    "Клиенты, не находящиеся в браке и живущие в гражданском браке, более чем на 2 % хуже платят кредит, чем те кто состоит в браке сейчас или находился ранее. Возможно это связано с тем, что люди принявшие решение о браке более ответственны."
   ]
  },
  {
   "cell_type": "markdown",
   "metadata": {},
   "source": [
    "- Есть ли зависимость между уровнем дохода и возвратом кредита в срок?"
   ]
  },
  {
   "cell_type": "code",
   "execution_count": 13,
   "metadata": {},
   "outputs": [
    {
     "name": "stdout",
     "output_type": "stream",
     "text": [
      "debt                  0    1   percent\n",
      "total_income_type                     \n",
      "высокий доход      9068  763  7.761164\n",
      "низкий доход       1729  136  7.292225\n",
      "средний доход      8916  842  8.628817\n"
     ]
    }
   ],
   "source": [
    "pivot_income = data.pivot_table(index='total_income_type', columns= 'debt', values='days_employed', aggfunc='count')\n",
    "pivot_income['percent'] = pivot_income[1] / (pivot_income[1] + pivot_income[0]) * 100\n",
    "print(pivot_income)"
   ]
  },
  {
   "cell_type": "markdown",
   "metadata": {},
   "source": [
    "Клиенты со средним доходом чаще сталкиваются с проблебой возврата кредита (минимум на 1%). Возможно это связано с излишней уверенностью в своих силах. В то время как клиенты с никим доходом являются самыми дисциплинированными, скорее всего они тщательнее продумывают с каких средст будут погашать кредит."
   ]
  },
  {
   "cell_type": "markdown",
   "metadata": {},
   "source": [
    "- Как разные цели кредита влияют на его возврат в срок?"
   ]
  },
  {
   "cell_type": "code",
   "execution_count": 14,
   "metadata": {
    "scrolled": true
   },
   "outputs": [
    {
     "name": "stdout",
     "output_type": "stream",
     "text": [
      "debt              0    1   percent\n",
      "type_purpose                      \n",
      "автомобиль     3903  403  9.359034\n",
      "недвижимость  10029  782  7.233373\n",
      "образование    3643  370  9.220035\n",
      "прочие цели    2138  186  8.003442\n"
     ]
    }
   ],
   "source": [
    "pivot_purpose = data.pivot_table(index='type_purpose', columns= 'debt', values='days_employed', aggfunc='count')\n",
    "pivot_purpose['percent'] = pivot_purpose[1] / (pivot_purpose[1] + pivot_purpose[0]) * 100\n",
    "print(pivot_purpose)"
   ]
  },
  {
   "cell_type": "markdown",
   "metadata": {},
   "source": [
    "Автомобиль и образование лидеры по количеству невозвратов. Возможно клиенты более спонтанно относятся к покупке товаров этих категорий."
   ]
  },
  {
   "cell_type": "markdown",
   "metadata": {},
   "source": [
    "## Общий вывод"
   ]
  },
  {
   "cell_type": "markdown",
   "metadata": {},
   "source": [
    "Получив таблицу с данными, мы привели ее в пригодный для анализа вид. С помощью категоризации объединили данные в категории, вывели в сводные таблицы. Для наглядности посчитали в процентах данные по задолженности. Благодаря этим данным сделали следующие выводы:\n",
    "- наличие детей в среднем на 1.5 % ухудшает шансы на возврат кредита;\n",
    "- клиенты, не находящиеся в браке или живущие в гражданском браке, более чем на 2 % хуже платят кредит;\n",
    "- клиенты со средним доходом минимум на 1 % чаще сталкиваются с проблебой возврата кредита;\n",
    "- клиенты, берущие кредит на автомобиль и образование на 1.5-2 % чаще не возвращают долг.\n",
    "С поставленной задачей мы справились. Передаем данные руководству."
   ]
  }
 ],
 "metadata": {
  "ExecuteTimeLog": [
   {
    "duration": 630,
    "start_time": "2021-08-30T16:03:26.365Z"
   },
   {
    "duration": 270,
    "start_time": "2021-08-30T16:14:44.193Z"
   },
   {
    "duration": 11,
    "start_time": "2021-08-30T16:15:32.823Z"
   },
   {
    "duration": 10,
    "start_time": "2021-08-30T16:17:32.201Z"
   },
   {
    "duration": 13,
    "start_time": "2021-08-30T16:19:15.545Z"
   },
   {
    "duration": 460,
    "start_time": "2021-09-01T12:54:14.545Z"
   },
   {
    "duration": 428,
    "start_time": "2021-09-01T12:54:51.855Z"
   },
   {
    "duration": 415,
    "start_time": "2021-09-01T12:54:57.270Z"
   },
   {
    "duration": 4,
    "start_time": "2021-09-01T12:55:03.135Z"
   },
   {
    "duration": 989,
    "start_time": "2021-09-01T12:55:25.487Z"
   },
   {
    "duration": 38,
    "start_time": "2021-09-01T12:56:16.590Z"
   },
   {
    "duration": 565,
    "start_time": "2021-09-01T13:05:14.825Z"
   },
   {
    "duration": 999,
    "start_time": "2021-09-01T13:05:39.144Z"
   },
   {
    "duration": 82,
    "start_time": "2021-09-01T13:05:47.320Z"
   },
   {
    "duration": 26,
    "start_time": "2021-09-01T13:05:50.383Z"
   },
   {
    "duration": 20,
    "start_time": "2021-09-01T13:06:03.803Z"
   },
   {
    "duration": 446,
    "start_time": "2021-09-01T13:07:44.609Z"
   },
   {
    "duration": 419,
    "start_time": "2021-09-01T13:08:00.267Z"
   },
   {
    "duration": 488,
    "start_time": "2021-09-01T13:08:24.812Z"
   },
   {
    "duration": 101,
    "start_time": "2021-09-01T13:10:54.011Z"
   },
   {
    "duration": 15,
    "start_time": "2021-09-01T13:11:03.434Z"
   },
   {
    "duration": 424,
    "start_time": "2021-09-01T13:11:04.355Z"
   },
   {
    "duration": 43,
    "start_time": "2021-09-01T13:13:14.830Z"
   },
   {
    "duration": 16,
    "start_time": "2021-09-01T13:13:25.988Z"
   },
   {
    "duration": 38,
    "start_time": "2021-09-01T13:13:33.500Z"
   },
   {
    "duration": 31,
    "start_time": "2021-09-01T13:13:43.356Z"
   },
   {
    "duration": 37,
    "start_time": "2021-09-01T13:14:06.684Z"
   },
   {
    "duration": 38,
    "start_time": "2021-09-01T13:19:07.640Z"
   },
   {
    "duration": 36,
    "start_time": "2021-09-01T13:20:18.926Z"
   },
   {
    "duration": 39,
    "start_time": "2021-09-01T13:21:02.512Z"
   },
   {
    "duration": 14,
    "start_time": "2021-09-01T13:21:17.952Z"
   },
   {
    "duration": 15,
    "start_time": "2021-09-01T13:21:23.367Z"
   },
   {
    "duration": 12,
    "start_time": "2021-09-01T13:21:30.199Z"
   },
   {
    "duration": 72,
    "start_time": "2021-09-01T13:21:59.079Z"
   },
   {
    "duration": 48,
    "start_time": "2021-09-01T13:22:04.438Z"
   },
   {
    "duration": 26,
    "start_time": "2021-09-01T13:23:34.555Z"
   },
   {
    "duration": 16,
    "start_time": "2021-09-01T13:46:38.826Z"
   },
   {
    "duration": 17,
    "start_time": "2021-09-01T13:47:11.905Z"
   },
   {
    "duration": 406,
    "start_time": "2021-09-04T06:36:05.052Z"
   },
   {
    "duration": 843,
    "start_time": "2021-09-04T06:36:22.154Z"
   },
   {
    "duration": 50,
    "start_time": "2021-09-04T06:36:29.096Z"
   },
   {
    "duration": 18,
    "start_time": "2021-09-04T06:36:32.572Z"
   },
   {
    "duration": 21,
    "start_time": "2021-09-04T06:36:39.223Z"
   },
   {
    "duration": 22,
    "start_time": "2021-09-04T06:36:49.898Z"
   },
   {
    "duration": 59,
    "start_time": "2021-09-04T06:38:21.412Z"
   },
   {
    "duration": 45,
    "start_time": "2021-09-04T06:39:08.339Z"
   },
   {
    "duration": 20,
    "start_time": "2021-09-04T06:39:20.267Z"
   },
   {
    "duration": 22,
    "start_time": "2021-09-04T06:39:25.606Z"
   },
   {
    "duration": 22,
    "start_time": "2021-09-04T06:39:34.920Z"
   },
   {
    "duration": 15,
    "start_time": "2021-09-04T06:39:38.637Z"
   },
   {
    "duration": 22,
    "start_time": "2021-09-04T06:39:41.026Z"
   },
   {
    "duration": 22,
    "start_time": "2021-09-04T06:40:37.288Z"
   },
   {
    "duration": 22,
    "start_time": "2021-09-04T06:41:20.695Z"
   },
   {
    "duration": 23,
    "start_time": "2021-09-04T06:43:28.556Z"
   },
   {
    "duration": 63,
    "start_time": "2021-09-04T06:45:26.848Z"
   },
   {
    "duration": 57,
    "start_time": "2021-09-04T06:45:37.219Z"
   },
   {
    "duration": 310,
    "start_time": "2021-09-04T06:58:10.377Z"
   },
   {
    "duration": 349,
    "start_time": "2021-09-04T07:02:51.611Z"
   },
   {
    "duration": 334,
    "start_time": "2021-09-04T07:05:26.708Z"
   },
   {
    "duration": 20,
    "start_time": "2021-09-04T07:22:30.291Z"
   },
   {
    "duration": 74,
    "start_time": "2021-09-04T07:22:50.218Z"
   },
   {
    "duration": 39,
    "start_time": "2021-09-04T07:22:55.318Z"
   },
   {
    "duration": 22,
    "start_time": "2021-09-04T07:22:58.618Z"
   },
   {
    "duration": 101,
    "start_time": "2021-09-04T07:37:31.795Z"
   },
   {
    "duration": 280,
    "start_time": "2021-09-04T07:44:36.070Z"
   },
   {
    "duration": 288,
    "start_time": "2021-09-04T07:45:10.219Z"
   },
   {
    "duration": 22,
    "start_time": "2021-09-04T07:46:04.782Z"
   },
   {
    "duration": 18,
    "start_time": "2021-09-04T07:46:09.980Z"
   },
   {
    "duration": 77,
    "start_time": "2021-09-04T07:54:31.231Z"
   },
   {
    "duration": 74,
    "start_time": "2021-09-04T08:00:05.692Z"
   },
   {
    "duration": 330,
    "start_time": "2021-09-04T08:08:30.314Z"
   },
   {
    "duration": 237,
    "start_time": "2021-09-04T08:14:36.535Z"
   },
   {
    "duration": 240,
    "start_time": "2021-09-04T08:17:58.668Z"
   },
   {
    "duration": 918,
    "start_time": "2021-09-04T08:18:08.129Z"
   },
   {
    "duration": 944,
    "start_time": "2021-09-04T08:19:09.066Z"
   },
   {
    "duration": 306,
    "start_time": "2021-09-04T08:19:37.205Z"
   },
   {
    "duration": 236,
    "start_time": "2021-09-04T08:19:56.355Z"
   },
   {
    "duration": 280,
    "start_time": "2021-09-04T08:22:14.131Z"
   },
   {
    "duration": 307,
    "start_time": "2021-09-04T08:22:19.835Z"
   },
   {
    "duration": 7,
    "start_time": "2021-09-04T08:25:53.645Z"
   },
   {
    "duration": 9,
    "start_time": "2021-09-04T08:26:07.349Z"
   },
   {
    "duration": 5700,
    "start_time": "2021-09-04T08:41:20.248Z"
   },
   {
    "duration": 89,
    "start_time": "2021-09-04T08:42:01.555Z"
   },
   {
    "duration": 105,
    "start_time": "2021-09-04T08:42:22.297Z"
   },
   {
    "duration": 76,
    "start_time": "2021-09-04T08:42:35.851Z"
   },
   {
    "duration": 93,
    "start_time": "2021-09-04T08:43:08.099Z"
   },
   {
    "duration": 79,
    "start_time": "2021-09-04T08:45:31.338Z"
   },
   {
    "duration": 54,
    "start_time": "2021-09-04T08:45:31.420Z"
   },
   {
    "duration": 25,
    "start_time": "2021-09-04T08:45:31.477Z"
   },
   {
    "duration": 20,
    "start_time": "2021-09-04T08:45:31.505Z"
   },
   {
    "duration": 157,
    "start_time": "2021-09-04T08:45:31.527Z"
   },
   {
    "duration": 5923,
    "start_time": "2021-09-04T08:45:31.686Z"
   },
   {
    "duration": 81,
    "start_time": "2021-09-04T08:47:44.947Z"
   },
   {
    "duration": 42,
    "start_time": "2021-09-04T08:47:45.031Z"
   },
   {
    "duration": 44,
    "start_time": "2021-09-04T08:47:45.077Z"
   },
   {
    "duration": 25,
    "start_time": "2021-09-04T08:47:45.124Z"
   },
   {
    "duration": 100,
    "start_time": "2021-09-04T08:47:45.152Z"
   },
   {
    "duration": 1090,
    "start_time": "2021-09-04T08:47:45.254Z"
   },
   {
    "duration": 1068,
    "start_time": "2021-09-04T08:48:03.564Z"
   },
   {
    "duration": 6198,
    "start_time": "2021-09-04T08:48:34.378Z"
   },
   {
    "duration": 281,
    "start_time": "2021-09-04T09:10:21.127Z"
   },
   {
    "duration": 13,
    "start_time": "2021-09-04T09:10:45.959Z"
   },
   {
    "duration": 10,
    "start_time": "2021-09-04T10:20:19.926Z"
   },
   {
    "duration": 11,
    "start_time": "2021-09-04T10:21:03.267Z"
   },
   {
    "duration": 10,
    "start_time": "2021-09-04T10:21:11.379Z"
   },
   {
    "duration": 9,
    "start_time": "2021-09-04T10:21:17.715Z"
   },
   {
    "duration": 11,
    "start_time": "2021-09-04T10:21:24.204Z"
   },
   {
    "duration": 272,
    "start_time": "2021-09-04T10:38:12.181Z"
   },
   {
    "duration": 662,
    "start_time": "2021-09-04T10:41:06.026Z"
   },
   {
    "duration": 106,
    "start_time": "2021-09-04T10:42:17.661Z"
   },
   {
    "duration": 665,
    "start_time": "2021-09-04T10:46:36.503Z"
   },
   {
    "duration": 9,
    "start_time": "2021-09-04T11:04:09.140Z"
   },
   {
    "duration": 10,
    "start_time": "2021-09-04T11:06:25.413Z"
   },
   {
    "duration": 12,
    "start_time": "2021-09-04T11:06:28.523Z"
   },
   {
    "duration": 9,
    "start_time": "2021-09-04T11:09:28.642Z"
   },
   {
    "duration": 10,
    "start_time": "2021-09-04T11:09:53.607Z"
   },
   {
    "duration": 9,
    "start_time": "2021-09-04T11:09:56.948Z"
   },
   {
    "duration": 10,
    "start_time": "2021-09-04T11:10:19.392Z"
   },
   {
    "duration": 10,
    "start_time": "2021-09-04T11:10:23.277Z"
   },
   {
    "duration": 9,
    "start_time": "2021-09-04T12:46:19.211Z"
   },
   {
    "duration": 11,
    "start_time": "2021-09-04T12:46:28.219Z"
   },
   {
    "duration": 9,
    "start_time": "2021-09-04T12:46:42.609Z"
   },
   {
    "duration": 8,
    "start_time": "2021-09-04T12:49:01.373Z"
   },
   {
    "duration": 75,
    "start_time": "2021-09-04T12:49:22.085Z"
   },
   {
    "duration": 36,
    "start_time": "2021-09-04T12:49:22.216Z"
   },
   {
    "duration": 21,
    "start_time": "2021-09-04T12:49:22.254Z"
   },
   {
    "duration": 19,
    "start_time": "2021-09-04T12:49:22.278Z"
   },
   {
    "duration": 106,
    "start_time": "2021-09-04T12:49:22.299Z"
   },
   {
    "duration": 5650,
    "start_time": "2021-09-04T12:49:22.407Z"
   },
   {
    "duration": 10,
    "start_time": "2021-09-04T12:49:28.067Z"
   },
   {
    "duration": 72,
    "start_time": "2021-09-04T12:49:41.270Z"
   },
   {
    "duration": 45,
    "start_time": "2021-09-04T12:49:41.345Z"
   },
   {
    "duration": 22,
    "start_time": "2021-09-04T12:49:41.393Z"
   },
   {
    "duration": 19,
    "start_time": "2021-09-04T12:49:41.418Z"
   },
   {
    "duration": 84,
    "start_time": "2021-09-04T12:49:41.467Z"
   },
   {
    "duration": 5741,
    "start_time": "2021-09-04T12:49:41.553Z"
   },
   {
    "duration": 11,
    "start_time": "2021-09-04T12:49:47.296Z"
   },
   {
    "duration": 858,
    "start_time": "2021-09-04T12:50:51.816Z"
   },
   {
    "duration": 627,
    "start_time": "2021-09-04T12:51:25.198Z"
   },
   {
    "duration": 653,
    "start_time": "2021-09-04T12:52:09.632Z"
   },
   {
    "duration": 1438,
    "start_time": "2021-09-04T12:56:58.631Z"
   },
   {
    "duration": 1228,
    "start_time": "2021-09-04T12:57:38.227Z"
   },
   {
    "duration": 741,
    "start_time": "2021-09-04T12:58:55.516Z"
   },
   {
    "duration": 1338,
    "start_time": "2021-09-04T12:59:28.511Z"
   },
   {
    "duration": 1206,
    "start_time": "2021-09-04T13:00:04.700Z"
   },
   {
    "duration": 1421,
    "start_time": "2021-09-04T13:00:31.087Z"
   },
   {
    "duration": 1238,
    "start_time": "2021-09-04T13:00:38.040Z"
   },
   {
    "duration": 1326,
    "start_time": "2021-09-04T13:01:11.884Z"
   },
   {
    "duration": 1228,
    "start_time": "2021-09-04T13:01:43.268Z"
   },
   {
    "duration": 1232,
    "start_time": "2021-09-04T13:02:35.590Z"
   },
   {
    "duration": 1233,
    "start_time": "2021-09-04T13:03:02.684Z"
   },
   {
    "duration": 916,
    "start_time": "2021-09-04T13:03:27.471Z"
   },
   {
    "duration": 1260,
    "start_time": "2021-09-04T13:03:54.125Z"
   },
   {
    "duration": 1244,
    "start_time": "2021-09-04T13:06:31.871Z"
   },
   {
    "duration": 5577,
    "start_time": "2021-09-04T13:11:19.668Z"
   },
   {
    "duration": 1711,
    "start_time": "2021-09-04T13:19:53.134Z"
   },
   {
    "duration": 1935,
    "start_time": "2021-09-04T13:20:50.829Z"
   },
   {
    "duration": 2202,
    "start_time": "2021-09-04T13:33:52.626Z"
   },
   {
    "duration": 1881,
    "start_time": "2021-09-04T13:34:14.041Z"
   },
   {
    "duration": 1880,
    "start_time": "2021-09-04T13:36:36.987Z"
   },
   {
    "duration": 11383,
    "start_time": "2021-09-04T14:00:42.165Z"
   },
   {
    "duration": 10005,
    "start_time": "2021-09-04T14:02:32.706Z"
   },
   {
    "duration": 76,
    "start_time": "2021-09-04T14:04:03.219Z"
   },
   {
    "duration": 37,
    "start_time": "2021-09-04T14:04:03.298Z"
   },
   {
    "duration": 39,
    "start_time": "2021-09-04T14:04:03.339Z"
   },
   {
    "duration": 20,
    "start_time": "2021-09-04T14:04:03.382Z"
   },
   {
    "duration": 116,
    "start_time": "2021-09-04T14:04:03.405Z"
   },
   {
    "duration": 5802,
    "start_time": "2021-09-04T14:04:03.524Z"
   },
   {
    "duration": 9134,
    "start_time": "2021-09-04T14:04:09.328Z"
   },
   {
    "duration": 8687,
    "start_time": "2021-09-04T14:09:29.229Z"
   },
   {
    "duration": 2438,
    "start_time": "2021-09-04T14:13:14.086Z"
   },
   {
    "duration": 2463,
    "start_time": "2021-09-04T14:24:38.145Z"
   },
   {
    "duration": 2439,
    "start_time": "2021-09-04T14:25:05.688Z"
   },
   {
    "duration": 2472,
    "start_time": "2021-09-04T14:27:12.798Z"
   },
   {
    "duration": 2557,
    "start_time": "2021-09-04T14:27:40.898Z"
   },
   {
    "duration": 2509,
    "start_time": "2021-09-04T14:30:56.166Z"
   },
   {
    "duration": 75,
    "start_time": "2021-09-04T14:32:10.965Z"
   },
   {
    "duration": 38,
    "start_time": "2021-09-04T14:32:11.043Z"
   },
   {
    "duration": 22,
    "start_time": "2021-09-04T14:32:11.083Z"
   },
   {
    "duration": 19,
    "start_time": "2021-09-04T14:32:11.108Z"
   },
   {
    "duration": 115,
    "start_time": "2021-09-04T14:32:11.130Z"
   },
   {
    "duration": 5744,
    "start_time": "2021-09-04T14:32:11.247Z"
   },
   {
    "duration": 2446,
    "start_time": "2021-09-04T14:32:16.994Z"
   },
   {
    "duration": 2556,
    "start_time": "2021-09-04T14:32:58.503Z"
   },
   {
    "duration": 2500,
    "start_time": "2021-09-04T14:35:49.001Z"
   },
   {
    "duration": 2421,
    "start_time": "2021-09-04T14:37:09.704Z"
   },
   {
    "duration": 2516,
    "start_time": "2021-09-04T14:39:46.504Z"
   },
   {
    "duration": 2645,
    "start_time": "2021-09-04T14:42:15.788Z"
   },
   {
    "duration": 2579,
    "start_time": "2021-09-04T14:43:52.344Z"
   },
   {
    "duration": 2499,
    "start_time": "2021-09-04T14:46:21.977Z"
   },
   {
    "duration": 2487,
    "start_time": "2021-09-04T14:47:54.553Z"
   },
   {
    "duration": 2483,
    "start_time": "2021-09-04T14:49:33.967Z"
   },
   {
    "duration": 7047,
    "start_time": "2021-09-04T14:51:23.316Z"
   },
   {
    "duration": 2523,
    "start_time": "2021-09-04T14:53:31.805Z"
   },
   {
    "duration": 2664,
    "start_time": "2021-09-04T14:55:10.003Z"
   },
   {
    "duration": 8864,
    "start_time": "2021-09-04T14:58:55.286Z"
   },
   {
    "duration": 77,
    "start_time": "2021-09-04T18:15:45.020Z"
   },
   {
    "duration": 36,
    "start_time": "2021-09-04T18:15:45.099Z"
   },
   {
    "duration": 46,
    "start_time": "2021-09-04T18:15:45.138Z"
   },
   {
    "duration": 17,
    "start_time": "2021-09-04T18:15:45.187Z"
   },
   {
    "duration": 113,
    "start_time": "2021-09-04T18:15:45.207Z"
   },
   {
    "duration": 5711,
    "start_time": "2021-09-04T18:15:45.322Z"
   },
   {
    "duration": 2533,
    "start_time": "2021-09-04T18:15:51.036Z"
   },
   {
    "duration": 2504,
    "start_time": "2021-09-04T18:18:24.514Z"
   },
   {
    "duration": 2489,
    "start_time": "2021-09-04T18:21:52.756Z"
   },
   {
    "duration": 2706,
    "start_time": "2021-09-04T18:24:01.589Z"
   },
   {
    "duration": 2731,
    "start_time": "2021-09-04T18:26:07.312Z"
   },
   {
    "duration": 2819,
    "start_time": "2021-09-04T18:26:39.263Z"
   },
   {
    "duration": 2837,
    "start_time": "2021-09-04T18:28:15.263Z"
   },
   {
    "duration": 2530,
    "start_time": "2021-09-04T18:39:06.925Z"
   },
   {
    "duration": 2697,
    "start_time": "2021-09-04T18:40:55.997Z"
   },
   {
    "duration": 2684,
    "start_time": "2021-09-04T18:41:22.861Z"
   },
   {
    "duration": 2641,
    "start_time": "2021-09-04T18:46:11.430Z"
   },
   {
    "duration": 2710,
    "start_time": "2021-09-04T18:47:10.984Z"
   },
   {
    "duration": 2681,
    "start_time": "2021-09-04T18:47:43.479Z"
   },
   {
    "duration": 2780,
    "start_time": "2021-09-04T18:52:35.831Z"
   },
   {
    "duration": 2667,
    "start_time": "2021-09-04T18:54:12.233Z"
   },
   {
    "duration": 2759,
    "start_time": "2021-09-04T18:56:00.170Z"
   },
   {
    "duration": 2660,
    "start_time": "2021-09-04T18:57:24.588Z"
   },
   {
    "duration": 3106,
    "start_time": "2021-09-04T19:04:43.639Z"
   },
   {
    "duration": 32,
    "start_time": "2021-09-04T19:09:11.054Z"
   },
   {
    "duration": 37,
    "start_time": "2021-09-04T19:09:42.777Z"
   },
   {
    "duration": 43,
    "start_time": "2021-09-04T19:10:41.863Z"
   },
   {
    "duration": 50,
    "start_time": "2021-09-04T19:10:44.550Z"
   },
   {
    "duration": 3319,
    "start_time": "2021-09-04T19:10:55.173Z"
   },
   {
    "duration": 321,
    "start_time": "2021-09-05T09:09:01.804Z"
   },
   {
    "duration": 790,
    "start_time": "2021-09-05T09:09:21.460Z"
   },
   {
    "duration": 42,
    "start_time": "2021-09-05T09:09:22.253Z"
   },
   {
    "duration": 21,
    "start_time": "2021-09-05T09:09:22.298Z"
   },
   {
    "duration": 45,
    "start_time": "2021-09-05T09:09:22.322Z"
   },
   {
    "duration": 98,
    "start_time": "2021-09-05T09:09:22.370Z"
   },
   {
    "duration": 5533,
    "start_time": "2021-09-05T09:09:22.471Z"
   },
   {
    "duration": 2681,
    "start_time": "2021-09-05T09:09:28.007Z"
   },
   {
    "duration": 36,
    "start_time": "2021-09-05T09:09:30.691Z"
   },
   {
    "duration": 44,
    "start_time": "2021-09-05T09:09:30.730Z"
   },
   {
    "duration": 25,
    "start_time": "2021-09-05T09:09:30.776Z"
   },
   {
    "duration": 49,
    "start_time": "2021-09-05T09:09:30.803Z"
   },
   {
    "duration": 28,
    "start_time": "2021-09-05T09:11:37.024Z"
   },
   {
    "duration": 575,
    "start_time": "2021-09-05T10:50:37.807Z"
   },
   {
    "duration": 25,
    "start_time": "2021-09-05T10:50:38.384Z"
   },
   {
    "duration": 12,
    "start_time": "2021-09-05T10:50:38.411Z"
   },
   {
    "duration": 238,
    "start_time": "2021-09-05T10:50:38.425Z"
   },
   {
    "duration": -2504,
    "start_time": "2021-09-05T10:50:41.169Z"
   },
   {
    "duration": -2506,
    "start_time": "2021-09-05T10:50:41.172Z"
   },
   {
    "duration": -2508,
    "start_time": "2021-09-05T10:50:41.175Z"
   },
   {
    "duration": -2535,
    "start_time": "2021-09-05T10:50:41.203Z"
   },
   {
    "duration": -2538,
    "start_time": "2021-09-05T10:50:41.206Z"
   },
   {
    "duration": -2540,
    "start_time": "2021-09-05T10:50:41.210Z"
   },
   {
    "duration": -2545,
    "start_time": "2021-09-05T10:50:41.216Z"
   },
   {
    "duration": 308,
    "start_time": "2021-09-05T12:18:57.747Z"
   },
   {
    "duration": 848,
    "start_time": "2021-09-05T12:20:02.525Z"
   },
   {
    "duration": 45,
    "start_time": "2021-09-05T12:20:03.376Z"
   },
   {
    "duration": 39,
    "start_time": "2021-09-05T12:20:03.424Z"
   },
   {
    "duration": 19,
    "start_time": "2021-09-05T12:20:03.466Z"
   },
   {
    "duration": 111,
    "start_time": "2021-09-05T12:20:03.487Z"
   },
   {
    "duration": 5530,
    "start_time": "2021-09-05T12:20:03.600Z"
   },
   {
    "duration": 2773,
    "start_time": "2021-09-05T12:20:09.132Z"
   },
   {
    "duration": 37,
    "start_time": "2021-09-05T12:20:11.908Z"
   },
   {
    "duration": 38,
    "start_time": "2021-09-05T12:20:11.947Z"
   },
   {
    "duration": 26,
    "start_time": "2021-09-05T12:20:11.987Z"
   },
   {
    "duration": 62,
    "start_time": "2021-09-05T12:20:12.016Z"
   },
   {
    "duration": 330,
    "start_time": "2021-09-05T12:43:30.067Z"
   },
   {
    "duration": 252,
    "start_time": "2021-09-05T12:51:28.608Z"
   },
   {
    "duration": 296,
    "start_time": "2021-09-05T12:52:35.830Z"
   },
   {
    "duration": 21,
    "start_time": "2021-09-05T12:52:51.871Z"
   },
   {
    "duration": 281,
    "start_time": "2021-09-05T13:05:52.854Z"
   },
   {
    "duration": 295,
    "start_time": "2021-09-05T13:06:29.215Z"
   },
   {
    "duration": 292,
    "start_time": "2021-09-05T13:08:43.838Z"
   },
   {
    "duration": 261,
    "start_time": "2021-09-05T13:10:58.743Z"
   },
   {
    "duration": 261,
    "start_time": "2021-09-05T13:11:06.672Z"
   },
   {
    "duration": 396,
    "start_time": "2021-09-05T13:11:13.061Z"
   },
   {
    "duration": 233,
    "start_time": "2021-09-05T13:11:19.798Z"
   },
   {
    "duration": 278,
    "start_time": "2021-09-05T13:18:26.842Z"
   },
   {
    "duration": 274,
    "start_time": "2021-09-05T13:48:48.637Z"
   },
   {
    "duration": 214,
    "start_time": "2021-09-05T13:48:56.157Z"
   },
   {
    "duration": 261,
    "start_time": "2021-09-05T13:49:12.465Z"
   },
   {
    "duration": 235,
    "start_time": "2021-09-05T13:50:01.335Z"
   },
   {
    "duration": 246,
    "start_time": "2021-09-05T13:51:07.247Z"
   },
   {
    "duration": 269,
    "start_time": "2021-09-05T13:51:15.542Z"
   },
   {
    "duration": 256,
    "start_time": "2021-09-05T13:51:48.226Z"
   },
   {
    "duration": 258,
    "start_time": "2021-09-05T13:52:03.055Z"
   },
   {
    "duration": 272,
    "start_time": "2021-09-05T14:12:20.441Z"
   },
   {
    "duration": 286,
    "start_time": "2021-09-05T14:16:19.289Z"
   },
   {
    "duration": 288,
    "start_time": "2021-09-05T14:16:27.482Z"
   },
   {
    "duration": 231,
    "start_time": "2021-09-05T14:22:47.550Z"
   },
   {
    "duration": 129,
    "start_time": "2021-09-05T16:13:55.787Z"
   },
   {
    "duration": 24,
    "start_time": "2021-09-05T16:14:02.002Z"
   },
   {
    "duration": 381,
    "start_time": "2021-09-05T16:14:20.445Z"
   },
   {
    "duration": 258,
    "start_time": "2021-09-05T16:14:30.030Z"
   },
   {
    "duration": 279,
    "start_time": "2021-09-05T16:14:42.520Z"
   },
   {
    "duration": 263,
    "start_time": "2021-09-05T16:14:46.880Z"
   },
   {
    "duration": 251,
    "start_time": "2021-09-05T16:15:01.791Z"
   },
   {
    "duration": 287,
    "start_time": "2021-09-05T16:15:04.252Z"
   },
   {
    "duration": 261,
    "start_time": "2021-09-05T16:15:40.531Z"
   },
   {
    "duration": 75,
    "start_time": "2021-09-05T16:19:43.130Z"
   },
   {
    "duration": 54,
    "start_time": "2021-09-05T16:19:43.208Z"
   },
   {
    "duration": 19,
    "start_time": "2021-09-05T16:19:43.264Z"
   },
   {
    "duration": 17,
    "start_time": "2021-09-05T16:19:43.286Z"
   },
   {
    "duration": 128,
    "start_time": "2021-09-05T16:19:43.305Z"
   },
   {
    "duration": 5637,
    "start_time": "2021-09-05T16:19:43.436Z"
   },
   {
    "duration": 2657,
    "start_time": "2021-09-05T16:19:49.075Z"
   },
   {
    "duration": 44,
    "start_time": "2021-09-05T16:19:51.735Z"
   },
   {
    "duration": 28,
    "start_time": "2021-09-05T16:19:51.782Z"
   },
   {
    "duration": 50,
    "start_time": "2021-09-05T16:19:51.812Z"
   },
   {
    "duration": 28,
    "start_time": "2021-09-05T16:19:51.864Z"
   },
   {
    "duration": 805,
    "start_time": "2021-09-05T16:21:16.443Z"
   },
   {
    "duration": 41,
    "start_time": "2021-09-05T16:21:17.251Z"
   },
   {
    "duration": 19,
    "start_time": "2021-09-05T16:21:17.299Z"
   },
   {
    "duration": 48,
    "start_time": "2021-09-05T16:21:17.320Z"
   },
   {
    "duration": 116,
    "start_time": "2021-09-05T16:21:17.370Z"
   },
   {
    "duration": 5500,
    "start_time": "2021-09-05T16:21:17.488Z"
   },
   {
    "duration": 2675,
    "start_time": "2021-09-05T16:21:22.992Z"
   },
   {
    "duration": 35,
    "start_time": "2021-09-05T16:21:25.670Z"
   },
   {
    "duration": 27,
    "start_time": "2021-09-05T16:21:25.708Z"
   },
   {
    "duration": 47,
    "start_time": "2021-09-05T16:21:25.737Z"
   },
   {
    "duration": 27,
    "start_time": "2021-09-05T16:21:25.787Z"
   },
   {
    "duration": 859,
    "start_time": "2021-09-06T13:26:04.542Z"
   },
   {
    "duration": 24,
    "start_time": "2021-09-06T13:26:05.403Z"
   },
   {
    "duration": 12,
    "start_time": "2021-09-06T13:26:05.430Z"
   },
   {
    "duration": 21,
    "start_time": "2021-09-06T13:26:05.444Z"
   },
   {
    "duration": 77,
    "start_time": "2021-09-06T13:26:05.467Z"
   },
   {
    "duration": 4074,
    "start_time": "2021-09-06T13:26:05.546Z"
   },
   {
    "duration": 1552,
    "start_time": "2021-09-06T13:26:09.623Z"
   },
   {
    "duration": 27,
    "start_time": "2021-09-06T13:26:11.177Z"
   },
   {
    "duration": 17,
    "start_time": "2021-09-06T13:26:11.206Z"
   },
   {
    "duration": 32,
    "start_time": "2021-09-06T13:26:11.224Z"
   },
   {
    "duration": 18,
    "start_time": "2021-09-06T13:26:11.257Z"
   },
   {
    "duration": 1614,
    "start_time": "2021-09-06T14:27:16.586Z"
   },
   {
    "duration": 1005,
    "start_time": "2021-09-06T14:27:23.885Z"
   },
   {
    "duration": 29,
    "start_time": "2021-09-06T14:27:24.893Z"
   },
   {
    "duration": 18,
    "start_time": "2021-09-06T14:27:24.924Z"
   },
   {
    "duration": 33,
    "start_time": "2021-09-06T14:27:24.944Z"
   },
   {
    "duration": 78,
    "start_time": "2021-09-06T14:27:24.979Z"
   },
   {
    "duration": 4733,
    "start_time": "2021-09-06T14:27:25.059Z"
   },
   {
    "duration": 2052,
    "start_time": "2021-09-06T14:27:29.795Z"
   },
   {
    "duration": 58,
    "start_time": "2021-09-06T14:27:31.850Z"
   },
   {
    "duration": 28,
    "start_time": "2021-09-06T14:27:31.911Z"
   },
   {
    "duration": 43,
    "start_time": "2021-09-06T14:27:31.941Z"
   },
   {
    "duration": 28,
    "start_time": "2021-09-06T14:27:31.988Z"
   },
   {
    "duration": 5796,
    "start_time": "2021-09-06T14:49:38.953Z"
   },
   {
    "duration": 4903,
    "start_time": "2021-09-06T14:49:57.606Z"
   },
   {
    "duration": 4790,
    "start_time": "2021-09-06T14:52:00.369Z"
   },
   {
    "duration": 4899,
    "start_time": "2021-09-06T14:57:56.212Z"
   },
   {
    "duration": 4992,
    "start_time": "2021-09-06T14:59:24.498Z"
   },
   {
    "duration": 5141,
    "start_time": "2021-09-06T15:01:16.213Z"
   },
   {
    "duration": 4953,
    "start_time": "2021-09-06T15:07:39.757Z"
   },
   {
    "duration": 28,
    "start_time": "2021-09-06T15:14:33.838Z"
   },
   {
    "duration": 699,
    "start_time": "2021-09-06T15:17:03.405Z"
   },
   {
    "duration": 30,
    "start_time": "2021-09-06T15:17:04.106Z"
   },
   {
    "duration": 19,
    "start_time": "2021-09-06T15:17:04.138Z"
   },
   {
    "duration": 31,
    "start_time": "2021-09-06T15:17:04.159Z"
   },
   {
    "duration": 91,
    "start_time": "2021-09-06T15:17:04.192Z"
   },
   {
    "duration": 4428,
    "start_time": "2021-09-06T15:17:04.284Z"
   },
   {
    "duration": 1778,
    "start_time": "2021-09-06T15:17:08.714Z"
   },
   {
    "duration": 29,
    "start_time": "2021-09-06T15:17:10.495Z"
   },
   {
    "duration": 22,
    "start_time": "2021-09-06T15:17:10.526Z"
   },
   {
    "duration": 44,
    "start_time": "2021-09-06T15:17:10.549Z"
   },
   {
    "duration": 21,
    "start_time": "2021-09-06T15:17:10.595Z"
   },
   {
    "duration": 274,
    "start_time": "2021-09-07T05:54:23.028Z"
   },
   {
    "duration": 708,
    "start_time": "2021-09-07T05:54:31.717Z"
   },
   {
    "duration": 40,
    "start_time": "2021-09-07T05:54:32.427Z"
   },
   {
    "duration": 25,
    "start_time": "2021-09-07T05:54:32.483Z"
   },
   {
    "duration": 17,
    "start_time": "2021-09-07T05:54:32.511Z"
   },
   {
    "duration": 118,
    "start_time": "2021-09-07T05:54:32.530Z"
   },
   {
    "duration": 5285,
    "start_time": "2021-09-07T05:54:32.651Z"
   },
   {
    "duration": -45378,
    "start_time": "2021-09-07T05:55:23.317Z"
   },
   {
    "duration": -45379,
    "start_time": "2021-09-07T05:55:23.320Z"
   },
   {
    "duration": -45383,
    "start_time": "2021-09-07T05:55:23.325Z"
   },
   {
    "duration": -45385,
    "start_time": "2021-09-07T05:55:23.329Z"
   },
   {
    "duration": -45388,
    "start_time": "2021-09-07T05:55:23.334Z"
   },
   {
    "duration": 106,
    "start_time": "2021-09-07T05:55:54.179Z"
   },
   {
    "duration": 310,
    "start_time": "2021-09-07T06:02:10.898Z"
   },
   {
    "duration": 238,
    "start_time": "2021-09-07T06:02:50.171Z"
   },
   {
    "duration": 300,
    "start_time": "2021-09-07T06:03:14.056Z"
   },
   {
    "duration": 216,
    "start_time": "2021-09-07T06:05:26.946Z"
   },
   {
    "duration": 266,
    "start_time": "2021-09-07T06:05:38.559Z"
   },
   {
    "duration": 296,
    "start_time": "2021-09-07T06:06:21.279Z"
   },
   {
    "duration": 5057,
    "start_time": "2021-09-07T07:14:49.802Z"
   },
   {
    "duration": 5173,
    "start_time": "2021-09-07T07:15:02.280Z"
   },
   {
    "duration": 307,
    "start_time": "2021-09-07T07:16:37.630Z"
   },
   {
    "duration": 274,
    "start_time": "2021-09-07T07:18:34.471Z"
   },
   {
    "duration": 264,
    "start_time": "2021-09-07T07:18:42.975Z"
   },
   {
    "duration": 3284,
    "start_time": "2021-09-07T07:33:54.562Z"
   },
   {
    "duration": 3816,
    "start_time": "2021-09-07T07:34:08.833Z"
   },
   {
    "duration": 3350,
    "start_time": "2021-09-07T07:34:37.168Z"
   },
   {
    "duration": 5242,
    "start_time": "2021-09-07T07:42:39.176Z"
   },
   {
    "duration": 5573,
    "start_time": "2021-09-07T07:43:18.597Z"
   },
   {
    "duration": 5268,
    "start_time": "2021-09-07T07:45:49.421Z"
   },
   {
    "duration": 5194,
    "start_time": "2021-09-07T07:46:19.749Z"
   },
   {
    "duration": 5244,
    "start_time": "2021-09-07T07:46:27.500Z"
   },
   {
    "duration": 74,
    "start_time": "2021-09-07T07:47:06.462Z"
   },
   {
    "duration": 45,
    "start_time": "2021-09-07T07:47:06.539Z"
   },
   {
    "duration": 24,
    "start_time": "2021-09-07T07:47:06.586Z"
   },
   {
    "duration": 17,
    "start_time": "2021-09-07T07:47:06.612Z"
   },
   {
    "duration": 120,
    "start_time": "2021-09-07T07:47:06.632Z"
   },
   {
    "duration": 5231,
    "start_time": "2021-09-07T07:47:06.754Z"
   },
   {
    "duration": 2708,
    "start_time": "2021-09-07T07:47:11.988Z"
   },
   {
    "duration": 36,
    "start_time": "2021-09-07T07:47:14.700Z"
   },
   {
    "duration": 48,
    "start_time": "2021-09-07T07:47:14.738Z"
   },
   {
    "duration": 26,
    "start_time": "2021-09-07T07:47:14.788Z"
   },
   {
    "duration": 26,
    "start_time": "2021-09-07T07:47:14.816Z"
   },
   {
    "duration": 124,
    "start_time": "2021-09-07T07:48:36.580Z"
   },
   {
    "duration": 9583,
    "start_time": "2021-09-07T07:48:52.035Z"
   },
   {
    "duration": 136,
    "start_time": "2021-09-07T07:49:54.407Z"
   },
   {
    "duration": 3456,
    "start_time": "2021-09-07T07:52:16.395Z"
   },
   {
    "duration": 3483,
    "start_time": "2021-09-07T07:53:25.827Z"
   },
   {
    "duration": 3959,
    "start_time": "2021-09-07T07:54:32.610Z"
   },
   {
    "duration": 3743,
    "start_time": "2021-09-07T07:55:36.970Z"
   },
   {
    "duration": 5026,
    "start_time": "2021-09-07T08:04:51.191Z"
   },
   {
    "duration": 5105,
    "start_time": "2021-09-07T08:05:06.718Z"
   },
   {
    "duration": 5190,
    "start_time": "2021-09-07T08:05:32.031Z"
   },
   {
    "duration": 5148,
    "start_time": "2021-09-07T08:05:40.399Z"
   },
   {
    "duration": 5356,
    "start_time": "2021-09-07T08:06:32.397Z"
   },
   {
    "duration": 266,
    "start_time": "2021-09-07T08:14:00.123Z"
   },
   {
    "duration": 5064,
    "start_time": "2021-09-07T08:15:21.661Z"
   },
   {
    "duration": 5247,
    "start_time": "2021-09-07T08:17:26.522Z"
   },
   {
    "duration": 5302,
    "start_time": "2021-09-07T08:20:55.257Z"
   },
   {
    "duration": 5166,
    "start_time": "2021-09-07T08:23:00.920Z"
   },
   {
    "duration": 5210,
    "start_time": "2021-09-07T08:23:20.703Z"
   },
   {
    "duration": 131,
    "start_time": "2022-03-15T06:30:25.576Z"
   },
   {
    "duration": 79,
    "start_time": "2022-03-15T06:30:40.392Z"
   },
   {
    "duration": 311,
    "start_time": "2022-03-15T06:33:06.974Z"
   },
   {
    "duration": 711,
    "start_time": "2022-03-15T06:33:13.648Z"
   },
   {
    "duration": 28,
    "start_time": "2022-03-15T06:33:14.361Z"
   },
   {
    "duration": 16,
    "start_time": "2022-03-15T06:33:14.391Z"
   },
   {
    "duration": 26,
    "start_time": "2022-03-15T06:33:14.408Z"
   },
   {
    "duration": 83,
    "start_time": "2022-03-15T06:33:14.436Z"
   },
   {
    "duration": 4878,
    "start_time": "2022-03-15T06:33:14.521Z"
   },
   {
    "duration": 1681,
    "start_time": "2022-03-15T06:33:19.401Z"
   },
   {
    "duration": 26,
    "start_time": "2022-03-15T06:33:21.085Z"
   },
   {
    "duration": 18,
    "start_time": "2022-03-15T06:33:21.112Z"
   },
   {
    "duration": 41,
    "start_time": "2022-03-15T06:33:21.132Z"
   },
   {
    "duration": 19,
    "start_time": "2022-03-15T06:33:21.176Z"
   },
   {
    "duration": 951,
    "start_time": "2022-03-15T06:36:59.502Z"
   },
   {
    "duration": 559,
    "start_time": "2022-03-15T06:38:46.263Z"
   },
   {
    "duration": 358,
    "start_time": "2022-03-15T06:38:47.036Z"
   }
  ],
  "kernelspec": {
   "display_name": "Python 3 (ipykernel)",
   "language": "python",
   "name": "python3"
  },
  "language_info": {
   "codemirror_mode": {
    "name": "ipython",
    "version": 3
   },
   "file_extension": ".py",
   "mimetype": "text/x-python",
   "name": "python",
   "nbconvert_exporter": "python",
   "pygments_lexer": "ipython3",
   "version": "3.9.5"
  },
  "toc": {
   "base_numbering": 1,
   "nav_menu": {},
   "number_sections": true,
   "sideBar": true,
   "skip_h1_title": true,
   "title_cell": "Table of Contents",
   "title_sidebar": "Contents",
   "toc_cell": false,
   "toc_position": {},
   "toc_section_display": true,
   "toc_window_display": false
  }
 },
 "nbformat": 4,
 "nbformat_minor": 2
}
