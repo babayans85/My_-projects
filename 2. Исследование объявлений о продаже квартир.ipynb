{
 "cells": [
  {
   "cell_type": "markdown",
   "metadata": {
    "toc": true
   },
   "source": [
    "<h1>Содержание<span class=\"tocSkip\"></span></h1>\n",
    "<div class=\"toc\"><ul class=\"toc-item\"><li><span><a href=\"#Изучение-данных-из-файла\" data-toc-modified-id=\"Изучение-данных-из-файла-1\"><span class=\"toc-item-num\">1&nbsp;&nbsp;</span>Изучение данных из файла</a></span><ul class=\"toc-item\"><li><span><a href=\"#Вывод\" data-toc-modified-id=\"Вывод-1.1\"><span class=\"toc-item-num\">1.1&nbsp;&nbsp;</span>Вывод</a></span></li></ul></li><li><span><a href=\"#Предобработка-данных\" data-toc-modified-id=\"Предобработка-данных-2\"><span class=\"toc-item-num\">2&nbsp;&nbsp;</span>Предобработка данных</a></span></li><li><span><a href=\"#Расчёты-и-добавление-результатов-в-таблицу\" data-toc-modified-id=\"Расчёты-и-добавление-результатов-в-таблицу-3\"><span class=\"toc-item-num\">3&nbsp;&nbsp;</span>Расчёты и добавление результатов в таблицу</a></span></li><li><span><a href=\"#Исследовательский-анализ-данных\" data-toc-modified-id=\"Исследовательский-анализ-данных-4\"><span class=\"toc-item-num\">4&nbsp;&nbsp;</span>Исследовательский анализ данных</a></span></li><li><span><a href=\"#Общий-вывод\" data-toc-modified-id=\"Общий-вывод-5\"><span class=\"toc-item-num\">5&nbsp;&nbsp;</span>Общий вывод</a></span></li><li><span><a href=\"#Чек-лист-готовности-проекта\" data-toc-modified-id=\"Чек-лист-готовности-проекта-6\"><span class=\"toc-item-num\">6&nbsp;&nbsp;</span>Чек-лист готовности проекта</a></span></li></ul></div>"
   ]
  },
  {
   "cell_type": "markdown",
   "metadata": {},
   "source": [
    "# Исследование объявлений о продаже квартир\n",
    "\n",
    "В вашем распоряжении данные сервиса Яндекс.Недвижимость — архив объявлений о продаже квартир в Санкт-Петербурге и соседних населённых пунктах за несколько лет. Нужно научиться определять рыночную стоимость объектов недвижимости. Ваша задача — установить параметры. Это позволит построить автоматизированную систему: она отследит аномалии и мошенническую деятельность. \n",
    "\n",
    "По каждой квартире на продажу доступны два вида данных. Первые вписаны пользователем, вторые получены автоматически на основе картографических данных. Например, расстояние до центра, аэропорта, ближайшего парка и водоёма. "
   ]
  },
  {
   "cell_type": "markdown",
   "metadata": {},
   "source": [
    "## Изучение данных из файла"
   ]
  },
  {
   "cell_type": "code",
   "execution_count": 1,
   "metadata": {
    "scrolled": true
   },
   "outputs": [
    {
     "data": {
      "text/html": [
       "<div>\n",
       "<style scoped>\n",
       "    .dataframe tbody tr th:only-of-type {\n",
       "        vertical-align: middle;\n",
       "    }\n",
       "\n",
       "    .dataframe tbody tr th {\n",
       "        vertical-align: top;\n",
       "    }\n",
       "\n",
       "    .dataframe thead th {\n",
       "        text-align: right;\n",
       "    }\n",
       "</style>\n",
       "<table border=\"1\" class=\"dataframe\">\n",
       "  <thead>\n",
       "    <tr style=\"text-align: right;\">\n",
       "      <th></th>\n",
       "      <th>total_images</th>\n",
       "      <th>last_price</th>\n",
       "      <th>total_area</th>\n",
       "      <th>first_day_exposition</th>\n",
       "      <th>rooms</th>\n",
       "      <th>ceiling_height</th>\n",
       "      <th>floors_total</th>\n",
       "      <th>living_area</th>\n",
       "      <th>floor</th>\n",
       "      <th>is_apartment</th>\n",
       "      <th>...</th>\n",
       "      <th>kitchen_area</th>\n",
       "      <th>balcony</th>\n",
       "      <th>locality_name</th>\n",
       "      <th>airports_nearest</th>\n",
       "      <th>cityCenters_nearest</th>\n",
       "      <th>parks_around3000</th>\n",
       "      <th>parks_nearest</th>\n",
       "      <th>ponds_around3000</th>\n",
       "      <th>ponds_nearest</th>\n",
       "      <th>days_exposition</th>\n",
       "    </tr>\n",
       "  </thead>\n",
       "  <tbody>\n",
       "    <tr>\n",
       "      <td>0</td>\n",
       "      <td>20</td>\n",
       "      <td>13000000.0</td>\n",
       "      <td>108.0</td>\n",
       "      <td>2019-03-07T00:00:00</td>\n",
       "      <td>3</td>\n",
       "      <td>2.70</td>\n",
       "      <td>16.0</td>\n",
       "      <td>51.0</td>\n",
       "      <td>8</td>\n",
       "      <td>NaN</td>\n",
       "      <td>...</td>\n",
       "      <td>25.0</td>\n",
       "      <td>NaN</td>\n",
       "      <td>Санкт-Петербург</td>\n",
       "      <td>18863.0</td>\n",
       "      <td>16028.0</td>\n",
       "      <td>1.0</td>\n",
       "      <td>482.0</td>\n",
       "      <td>2.0</td>\n",
       "      <td>755.0</td>\n",
       "      <td>NaN</td>\n",
       "    </tr>\n",
       "    <tr>\n",
       "      <td>1</td>\n",
       "      <td>7</td>\n",
       "      <td>3350000.0</td>\n",
       "      <td>40.4</td>\n",
       "      <td>2018-12-04T00:00:00</td>\n",
       "      <td>1</td>\n",
       "      <td>NaN</td>\n",
       "      <td>11.0</td>\n",
       "      <td>18.6</td>\n",
       "      <td>1</td>\n",
       "      <td>NaN</td>\n",
       "      <td>...</td>\n",
       "      <td>11.0</td>\n",
       "      <td>2.0</td>\n",
       "      <td>посёлок Шушары</td>\n",
       "      <td>12817.0</td>\n",
       "      <td>18603.0</td>\n",
       "      <td>0.0</td>\n",
       "      <td>NaN</td>\n",
       "      <td>0.0</td>\n",
       "      <td>NaN</td>\n",
       "      <td>81.0</td>\n",
       "    </tr>\n",
       "    <tr>\n",
       "      <td>2</td>\n",
       "      <td>10</td>\n",
       "      <td>5196000.0</td>\n",
       "      <td>56.0</td>\n",
       "      <td>2015-08-20T00:00:00</td>\n",
       "      <td>2</td>\n",
       "      <td>NaN</td>\n",
       "      <td>5.0</td>\n",
       "      <td>34.3</td>\n",
       "      <td>4</td>\n",
       "      <td>NaN</td>\n",
       "      <td>...</td>\n",
       "      <td>8.3</td>\n",
       "      <td>0.0</td>\n",
       "      <td>Санкт-Петербург</td>\n",
       "      <td>21741.0</td>\n",
       "      <td>13933.0</td>\n",
       "      <td>1.0</td>\n",
       "      <td>90.0</td>\n",
       "      <td>2.0</td>\n",
       "      <td>574.0</td>\n",
       "      <td>558.0</td>\n",
       "    </tr>\n",
       "    <tr>\n",
       "      <td>3</td>\n",
       "      <td>0</td>\n",
       "      <td>64900000.0</td>\n",
       "      <td>159.0</td>\n",
       "      <td>2015-07-24T00:00:00</td>\n",
       "      <td>3</td>\n",
       "      <td>NaN</td>\n",
       "      <td>14.0</td>\n",
       "      <td>NaN</td>\n",
       "      <td>9</td>\n",
       "      <td>NaN</td>\n",
       "      <td>...</td>\n",
       "      <td>NaN</td>\n",
       "      <td>0.0</td>\n",
       "      <td>Санкт-Петербург</td>\n",
       "      <td>28098.0</td>\n",
       "      <td>6800.0</td>\n",
       "      <td>2.0</td>\n",
       "      <td>84.0</td>\n",
       "      <td>3.0</td>\n",
       "      <td>234.0</td>\n",
       "      <td>424.0</td>\n",
       "    </tr>\n",
       "    <tr>\n",
       "      <td>4</td>\n",
       "      <td>2</td>\n",
       "      <td>10000000.0</td>\n",
       "      <td>100.0</td>\n",
       "      <td>2018-06-19T00:00:00</td>\n",
       "      <td>2</td>\n",
       "      <td>3.03</td>\n",
       "      <td>14.0</td>\n",
       "      <td>32.0</td>\n",
       "      <td>13</td>\n",
       "      <td>NaN</td>\n",
       "      <td>...</td>\n",
       "      <td>41.0</td>\n",
       "      <td>NaN</td>\n",
       "      <td>Санкт-Петербург</td>\n",
       "      <td>31856.0</td>\n",
       "      <td>8098.0</td>\n",
       "      <td>2.0</td>\n",
       "      <td>112.0</td>\n",
       "      <td>1.0</td>\n",
       "      <td>48.0</td>\n",
       "      <td>121.0</td>\n",
       "    </tr>\n",
       "  </tbody>\n",
       "</table>\n",
       "<p>5 rows × 22 columns</p>\n",
       "</div>"
      ],
      "text/plain": [
       "   total_images  last_price  total_area first_day_exposition  rooms  \\\n",
       "0            20  13000000.0       108.0  2019-03-07T00:00:00      3   \n",
       "1             7   3350000.0        40.4  2018-12-04T00:00:00      1   \n",
       "2            10   5196000.0        56.0  2015-08-20T00:00:00      2   \n",
       "3             0  64900000.0       159.0  2015-07-24T00:00:00      3   \n",
       "4             2  10000000.0       100.0  2018-06-19T00:00:00      2   \n",
       "\n",
       "   ceiling_height  floors_total  living_area  floor is_apartment  ...  \\\n",
       "0            2.70          16.0         51.0      8          NaN  ...   \n",
       "1             NaN          11.0         18.6      1          NaN  ...   \n",
       "2             NaN           5.0         34.3      4          NaN  ...   \n",
       "3             NaN          14.0          NaN      9          NaN  ...   \n",
       "4            3.03          14.0         32.0     13          NaN  ...   \n",
       "\n",
       "   kitchen_area  balcony    locality_name  airports_nearest  \\\n",
       "0          25.0      NaN  Санкт-Петербург           18863.0   \n",
       "1          11.0      2.0   посёлок Шушары           12817.0   \n",
       "2           8.3      0.0  Санкт-Петербург           21741.0   \n",
       "3           NaN      0.0  Санкт-Петербург           28098.0   \n",
       "4          41.0      NaN  Санкт-Петербург           31856.0   \n",
       "\n",
       "  cityCenters_nearest  parks_around3000  parks_nearest  ponds_around3000  \\\n",
       "0             16028.0               1.0          482.0               2.0   \n",
       "1             18603.0               0.0            NaN               0.0   \n",
       "2             13933.0               1.0           90.0               2.0   \n",
       "3              6800.0               2.0           84.0               3.0   \n",
       "4              8098.0               2.0          112.0               1.0   \n",
       "\n",
       "   ponds_nearest  days_exposition  \n",
       "0          755.0              NaN  \n",
       "1            NaN             81.0  \n",
       "2          574.0            558.0  \n",
       "3          234.0            424.0  \n",
       "4           48.0            121.0  \n",
       "\n",
       "[5 rows x 22 columns]"
      ]
     },
     "metadata": {},
     "output_type": "display_data"
    },
    {
     "name": "stdout",
     "output_type": "stream",
     "text": [
      "<class 'pandas.core.frame.DataFrame'>\n",
      "RangeIndex: 23699 entries, 0 to 23698\n",
      "Data columns (total 22 columns):\n",
      "total_images            23699 non-null int64\n",
      "last_price              23699 non-null float64\n",
      "total_area              23699 non-null float64\n",
      "first_day_exposition    23699 non-null object\n",
      "rooms                   23699 non-null int64\n",
      "ceiling_height          14504 non-null float64\n",
      "floors_total            23613 non-null float64\n",
      "living_area             21796 non-null float64\n",
      "floor                   23699 non-null int64\n",
      "is_apartment            2775 non-null object\n",
      "studio                  23699 non-null bool\n",
      "open_plan               23699 non-null bool\n",
      "kitchen_area            21421 non-null float64\n",
      "balcony                 12180 non-null float64\n",
      "locality_name           23650 non-null object\n",
      "airports_nearest        18157 non-null float64\n",
      "cityCenters_nearest     18180 non-null float64\n",
      "parks_around3000        18181 non-null float64\n",
      "parks_nearest           8079 non-null float64\n",
      "ponds_around3000        18181 non-null float64\n",
      "ponds_nearest           9110 non-null float64\n",
      "days_exposition         20518 non-null float64\n",
      "dtypes: bool(2), float64(14), int64(3), object(3)\n",
      "memory usage: 3.7+ MB\n"
     ]
    }
   ],
   "source": [
    "import pandas as pd\n",
    "from IPython.display import display\n",
    "import matplotlib.pyplot as plt \n",
    "\n",
    "real_estate_data = pd.read_csv('/datasets/real_estate_data.csv', sep = '\\t') \n",
    "display(real_estate_data.head(5)) \n",
    "real_estate_data.info()\n",
    "#данные склеились, попробуем их отлепить с помощью sep="
   ]
  },
  {
   "cell_type": "markdown",
   "metadata": {},
   "source": [
    "### Вывод"
   ]
  },
  {
   "cell_type": "markdown",
   "metadata": {},
   "source": [
    "Мы открыли файл, изучили данные, столкнулись с проблемой склеивания данных в строку и решили ее с помощью sep=. Также обнаружены пропуски в данных, пострараемся их решить."
   ]
  },
  {
   "cell_type": "markdown",
   "metadata": {},
   "source": [
    "## Предобработка данных"
   ]
  },
  {
   "cell_type": "code",
   "execution_count": 2,
   "metadata": {},
   "outputs": [],
   "source": [
    "#дату публикации обрежем до дней\n",
    "real_estate_data['first_day_exposition'] = pd.to_datetime(real_estate_data['first_day_exposition'], format='%Y-%m-%d').dt.date\n",
    "#display(real_estate_data.head(5)) \n",
    "    \n",
    "#заменим пропуски  медианой с учетом группировки по этажности \n",
    "real_estate_data['ceiling_height'] = real_estate_data['ceiling_height'].fillna(real_estate_data.groupby('floors_total')['ceiling_height'].transform('median'))\n",
    "#real_estate_data.info() #пропуски остались только там где не указано количество этажей\n",
    "\n",
    "#пропуски в living_area заменим медианой с учетом группировки по количеству комнат \n",
    "real_estate_data['living_area'] = real_estate_data['living_area'].fillna(real_estate_data.groupby('rooms')['living_area'].transform('median'))        \n",
    "#real_estate_data.info()\n",
    "\n",
    "#пропуски в is_apartment. Предположим, что в жилье, не являяющемся апартаментами, вместо False стоит пропуск и заменим пропуск на 0.\n",
    "real_estate_data['is_apartment'] = real_estate_data['is_apartment'].fillna(value=False)\n",
    "#real_estate_data.info()\n",
    "\n",
    "#пропуски в balcony. Предположим, что пропуски та, где нет балкона и заполним по аналогии с is_apartment 0\n",
    "real_estate_data['balcony'] = real_estate_data['balcony'].fillna(value=0)    \n",
    "#real_estate_data.info()    \n",
    "    \n",
    "#пропуски в kitchen_area заменим медианой с учетом группировки по количеству комнат\n",
    "real_estate_data['kitchen_area'] = real_estate_data['kitchen_area'].fillna(real_estate_data.groupby('rooms')['kitchen_area'].transform('median'))        \n",
    "#real_estate_data.info()\n",
    "        \n",
    "#пропуски в airports_nearest заменим медианой с учетом группировки по locality_name\n",
    "real_estate_data['airports_nearest'] = real_estate_data['airports_nearest'].fillna(real_estate_data.groupby('locality_name')['airports_nearest'].transform('median'))        \n",
    "#real_estate_data.info() #всё равно много пропусков, возможно из-за того, что поселения находятся далеко от аэропортов.  "
   ]
  },
  {
   "cell_type": "code",
   "execution_count": 3,
   "metadata": {},
   "outputs": [],
   "source": [
    "#пропуски в ceiling_height. \n",
    "\n",
    "print(real_estate_data['ceiling_height'].describe())  #посмотрим общие характеристики\n",
    "\n",
    "real_estate_data.loc[(real_estate_data['ceiling_height'] < 2.55) | (real_estate_data['ceiling_height'] > 2.75), 'ceiling_height'] = 2.65\n",
    "#print(real_estate_data['ceiling_height'].describe()) \n",
    "#с помощью loc мы избавились от аномалий, заменив медианой значения меньше 1 квартиля и больше 2 квартиля\n",
    "#затем убедились, что аномалии исчезли"
   ]
  },
  {
   "cell_type": "code",
   "execution_count": 4,
   "metadata": {},
   "outputs": [],
   "source": [
    "#пропуски в floors_total оставим без изменеий, нет подходящих значений для замены\n",
    "\n",
    "#locality_name оставим без изменеий, нет подходящих значений для замены, пропусков мало, возможно просто забыли указать.\n",
    "\n",
    "#days_exposition оставим как есть, нет данных\n",
    "\n",
    "#cityCenters_nearest, parks_nearest, ponds_nearest parks_around3000, ponds_around3000, parks_around3000 оставим как есть. \n",
    "#Возможно объекты находятся на отдалении от центра или больших городов"
   ]
  },
  {
   "cell_type": "code",
   "execution_count": 5,
   "metadata": {},
   "outputs": [
    {
     "name": "stdout",
     "output_type": "stream",
     "text": [
      "<class 'pandas.core.frame.DataFrame'>\n",
      "RangeIndex: 23699 entries, 0 to 23698\n",
      "Data columns (total 22 columns):\n",
      "total_images            23699 non-null int64\n",
      "last_price              23699 non-null int64\n",
      "total_area              23699 non-null float64\n",
      "first_day_exposition    23699 non-null object\n",
      "rooms                   23699 non-null int64\n",
      "ceiling_height          23621 non-null float64\n",
      "floors_total            23613 non-null Int64\n",
      "living_area             23699 non-null float64\n",
      "floor                   23699 non-null int64\n",
      "is_apartment            23699 non-null bool\n",
      "studio                  23699 non-null bool\n",
      "open_plan               23699 non-null bool\n",
      "kitchen_area            23502 non-null float64\n",
      "balcony                 23699 non-null Int64\n",
      "locality_name           23650 non-null object\n",
      "airports_nearest        18305 non-null Int64\n",
      "cityCenters_nearest     18180 non-null Int64\n",
      "parks_around3000        18181 non-null Int64\n",
      "parks_nearest           8079 non-null Int64\n",
      "ponds_around3000        18181 non-null Int64\n",
      "ponds_nearest           9110 non-null Int64\n",
      "days_exposition         20518 non-null Int64\n",
      "dtypes: Int64(9), bool(3), float64(4), int64(4), object(2)\n",
      "memory usage: 3.7+ MB\n"
     ]
    }
   ],
   "source": [
    " #перевод данных к нужному типу\n",
    "real_estate_data['last_price'] = real_estate_data['last_price'].astype('int') #когда речь о миллионах, запятая не нужна\n",
    "\n",
    "#попробуем объединить несколько столбцов для наглядности\n",
    "real_estate_data[['floors_total', 'airports_nearest', 'cityCenters_nearest']] = real_estate_data[\n",
    "    ['floors_total', 'airports_nearest', 'cityCenters_nearest']].round().astype('Int64')\n",
    "\n",
    "real_estate_data['parks_nearest'] = real_estate_data['parks_nearest'].round().astype('Int64')\n",
    "real_estate_data['ponds_nearest'] = real_estate_data['ponds_nearest'].round().astype('Int64')\n",
    "real_estate_data['days_exposition'] = real_estate_data['days_exposition'].round().astype('Int64')\n",
    "\n",
    "real_estate_data['balcony'] = real_estate_data['balcony'].replace('.', '').round().astype('Int64')  #здесь и далее используем \n",
    "#replace чтобы избавиться от точки, а round() чтоб избавиться от NaN\n",
    "real_estate_data['parks_around3000'] = real_estate_data['parks_around3000'].replace('.', '').round().astype('Int64')\n",
    "real_estate_data['ponds_around3000'] = real_estate_data['ponds_around3000'].replace('.', '').round().astype('Int64')\n",
    "#для total_area, ceiling_height, living_area, kitchen_area перевод не нужен, тут цифры после запятой выжны\n",
    "\n",
    "real_estate_data.info()   "
   ]
  },
  {
   "cell_type": "markdown",
   "metadata": {},
   "source": [
    "## Расчёты и добавление результатов в таблицу"
   ]
  },
  {
   "cell_type": "code",
   "execution_count": 6,
   "metadata": {},
   "outputs": [
    {
     "data": {
      "text/html": [
       "<div>\n",
       "<style scoped>\n",
       "    .dataframe tbody tr th:only-of-type {\n",
       "        vertical-align: middle;\n",
       "    }\n",
       "\n",
       "    .dataframe tbody tr th {\n",
       "        vertical-align: top;\n",
       "    }\n",
       "\n",
       "    .dataframe thead th {\n",
       "        text-align: right;\n",
       "    }\n",
       "</style>\n",
       "<table border=\"1\" class=\"dataframe\">\n",
       "  <thead>\n",
       "    <tr style=\"text-align: right;\">\n",
       "      <th></th>\n",
       "      <th>total_images</th>\n",
       "      <th>last_price</th>\n",
       "      <th>total_area</th>\n",
       "      <th>first_day_exposition</th>\n",
       "      <th>rooms</th>\n",
       "      <th>ceiling_height</th>\n",
       "      <th>floors_total</th>\n",
       "      <th>living_area</th>\n",
       "      <th>floor</th>\n",
       "      <th>is_apartment</th>\n",
       "      <th>...</th>\n",
       "      <th>ponds_around3000</th>\n",
       "      <th>ponds_nearest</th>\n",
       "      <th>days_exposition</th>\n",
       "      <th>price_of_m2</th>\n",
       "      <th>weekday</th>\n",
       "      <th>month</th>\n",
       "      <th>year</th>\n",
       "      <th>floor_type</th>\n",
       "      <th>living_to_total</th>\n",
       "      <th>kitchen_to_total</th>\n",
       "    </tr>\n",
       "  </thead>\n",
       "  <tbody>\n",
       "    <tr>\n",
       "      <td>0</td>\n",
       "      <td>20</td>\n",
       "      <td>13000000</td>\n",
       "      <td>108.0</td>\n",
       "      <td>2019-03-07</td>\n",
       "      <td>3</td>\n",
       "      <td>2.70</td>\n",
       "      <td>16</td>\n",
       "      <td>51.0</td>\n",
       "      <td>8</td>\n",
       "      <td>False</td>\n",
       "      <td>...</td>\n",
       "      <td>2</td>\n",
       "      <td>755</td>\n",
       "      <td>NaN</td>\n",
       "      <td>120370</td>\n",
       "      <td>3</td>\n",
       "      <td>3</td>\n",
       "      <td>2019</td>\n",
       "      <td>другой</td>\n",
       "      <td>0.472222</td>\n",
       "      <td>0.231481</td>\n",
       "    </tr>\n",
       "    <tr>\n",
       "      <td>1</td>\n",
       "      <td>7</td>\n",
       "      <td>3350000</td>\n",
       "      <td>40.4</td>\n",
       "      <td>2018-12-04</td>\n",
       "      <td>1</td>\n",
       "      <td>2.75</td>\n",
       "      <td>11</td>\n",
       "      <td>18.6</td>\n",
       "      <td>1</td>\n",
       "      <td>False</td>\n",
       "      <td>...</td>\n",
       "      <td>0</td>\n",
       "      <td>NaN</td>\n",
       "      <td>81</td>\n",
       "      <td>82921</td>\n",
       "      <td>1</td>\n",
       "      <td>12</td>\n",
       "      <td>2018</td>\n",
       "      <td>первый</td>\n",
       "      <td>0.460396</td>\n",
       "      <td>0.272277</td>\n",
       "    </tr>\n",
       "    <tr>\n",
       "      <td>2</td>\n",
       "      <td>10</td>\n",
       "      <td>5196000</td>\n",
       "      <td>56.0</td>\n",
       "      <td>2015-08-20</td>\n",
       "      <td>2</td>\n",
       "      <td>2.55</td>\n",
       "      <td>5</td>\n",
       "      <td>34.3</td>\n",
       "      <td>4</td>\n",
       "      <td>False</td>\n",
       "      <td>...</td>\n",
       "      <td>2</td>\n",
       "      <td>574</td>\n",
       "      <td>558</td>\n",
       "      <td>92786</td>\n",
       "      <td>3</td>\n",
       "      <td>8</td>\n",
       "      <td>2015</td>\n",
       "      <td>другой</td>\n",
       "      <td>0.612500</td>\n",
       "      <td>0.148214</td>\n",
       "    </tr>\n",
       "  </tbody>\n",
       "</table>\n",
       "<p>3 rows × 29 columns</p>\n",
       "</div>"
      ],
      "text/plain": [
       "   total_images  last_price  total_area first_day_exposition  rooms  \\\n",
       "0            20    13000000       108.0           2019-03-07      3   \n",
       "1             7     3350000        40.4           2018-12-04      1   \n",
       "2            10     5196000        56.0           2015-08-20      2   \n",
       "\n",
       "   ceiling_height  floors_total  living_area  floor  is_apartment  ...  \\\n",
       "0            2.70            16         51.0      8         False  ...   \n",
       "1            2.75            11         18.6      1         False  ...   \n",
       "2            2.55             5         34.3      4         False  ...   \n",
       "\n",
       "   ponds_around3000  ponds_nearest  days_exposition  price_of_m2 weekday  \\\n",
       "0                 2            755              NaN       120370       3   \n",
       "1                 0            NaN               81        82921       1   \n",
       "2                 2            574              558        92786       3   \n",
       "\n",
       "   month  year  floor_type  living_to_total  kitchen_to_total  \n",
       "0      3  2019      другой         0.472222          0.231481  \n",
       "1     12  2018      первый         0.460396          0.272277  \n",
       "2      8  2015      другой         0.612500          0.148214  \n",
       "\n",
       "[3 rows x 29 columns]"
      ]
     },
     "metadata": {},
     "output_type": "display_data"
    }
   ],
   "source": [
    "#цена за метр2 = цена / площадь \n",
    "real_estate_data['price_of_m2'] = real_estate_data['last_price'] / real_estate_data['total_area']\n",
    "#приведем к типу int, чтоб в дальнейшем производить вычисления было удобно\n",
    "real_estate_data['price_of_m2'] = real_estate_data['price_of_m2'].round().astype('Int64')\n",
    "#добавим столбws с днем недели, месяцем и годом\n",
    "real_estate_data['weekday'] = pd.to_datetime(real_estate_data['first_day_exposition'], format='%Y-%m-%d').dt.weekday\n",
    "real_estate_data['month'] = pd.to_datetime(real_estate_data['first_day_exposition'], format='%Y-%m-%d').dt.month\n",
    "real_estate_data['year'] = pd.to_datetime(real_estate_data['first_day_exposition'], format='%Y-%m-%d').dt.year\n",
    "#добавим столбец про этаж\n",
    "def floor_type(row):   #создадим функцию\n",
    "    if row['floor'] == 1:\n",
    "        return 'первый'\n",
    "    elif row['floor'] == row['floors_total']:\n",
    "        return 'последний'\n",
    "    else:\n",
    "        return 'другой' \n",
    "real_estate_data['floor_type'] = real_estate_data.apply(floor_type, axis=1)\n",
    "#соотношение жилой к общей\n",
    "real_estate_data['living_to_total'] = real_estate_data['living_area'] / real_estate_data['total_area']\n",
    "#соотношение кухни к общей\n",
    "real_estate_data['kitchen_to_total'] = real_estate_data['kitchen_area'] / real_estate_data['total_area']\n",
    "display(real_estate_data.head(3))\n",
    "\n"
   ]
  },
  {
   "cell_type": "markdown",
   "metadata": {},
   "source": [
    "## Исследовательский анализ данных"
   ]
  },
  {
   "cell_type": "code",
   "execution_count": 21,
   "metadata": {},
   "outputs": [
    {
     "data": {
      "text/plain": [
       "<matplotlib.axes._subplots.AxesSubplot at 0x7fc603a6bd50>"
      ]
     },
     "execution_count": 21,
     "metadata": {},
     "output_type": "execute_result"
    },
    {
     "data": {
      "image/png": "[encoded data removed]",
      "text/plain": [
       "<Figure size 360x216 with 1 Axes>"
      ]
     },
     "metadata": {
      "needs_background": "light"
     },
     "output_type": "display_data"
    },
    {
     "data": {
      "image/png": "[encoded data removed]",
      "text/plain": [
       "<Figure size 360x216 with 1 Axes>"
      ]
     },
     "metadata": {
      "needs_background": "light"
     },
     "output_type": "display_data"
    },
    {
     "data": {
      "image/png": "[encoded data removed]",
      "text/plain": [
       "<Figure size 360x216 with 1 Axes>"
      ]
     },
     "metadata": {
      "needs_background": "light"
     },
     "output_type": "display_data"
    },
    {
     "data": {
      "image/png": "[encoded data removed]",
      "text/plain": [
       "<Figure size 360x216 with 1 Axes>"
      ]
     },
     "metadata": {
      "needs_background": "light"
     },
     "output_type": "display_data"
    }
   ],
   "source": [
    "#гистограмма площади\n",
    "#print(real_estate_data['total_area'].describe())\n",
    "real_estate_data.plot(y = 'total_area', kind = 'hist', bins = 50, grid=True, figsize = (5,3), range = (0,300)) \n",
    "#распределение данных нормальное\n",
    "\n",
    "#гистограмма цены\n",
    "#print(real_estate_data['last_price'].describe())\n",
    "real_estate_data['last_price'] = real_estate_data['last_price'] / 1000000\n",
    "real_estate_data.plot(y = 'last_price', kind = 'hist', bins = 100, grid=True, range = (0,10), figsize = (5,3))\n",
    "#распределение данных нормальное\n",
    "\n",
    "#число комнат\n",
    "#print(real_estate_data['rooms'].describe())\n",
    "real_estate_data.loc[real_estate_data.studio == True, 'rooms'] = 0 #приравняем количество комнат в студии к 0\n",
    "real_estate_data.plot(y = 'rooms', kind = 'hist', bins = 30, grid=True, figsize = (5,3))\n",
    "#похоже на правду\n",
    "\n",
    "#высота потолков\n",
    "real_estate_data.plot(y = 'ceiling_height', kind = 'hist', bins = 5, range = (2,5), grid=True, figsize = (5,3))\n",
    "#похоже на правду\n"
   ]
  },
  {
   "cell_type": "code",
   "execution_count": 22,
   "metadata": {},
   "outputs": [
    {
     "name": "stdout",
     "output_type": "stream",
     "text": [
      "count    20518.000000\n",
      "mean       180.888634\n",
      "std        219.727988\n",
      "min          1.000000\n",
      "25%         45.000000\n",
      "50%         95.000000\n",
      "75%        232.000000\n",
      "max       1580.000000\n",
      "Name: days_exposition, dtype: float64\n",
      "count    18896.000000\n",
      "mean       191.640188\n",
      "std        225.707795\n",
      "min          1.000000\n",
      "25%         41.000000\n",
      "50%        110.000000\n",
      "75%        252.000000\n",
      "max       1580.000000\n",
      "Name: days_exposition, dtype: float64\n"
     ]
    },
    {
     "data": {
      "image/png": "[encoded data removed]",
      "text/plain": [
       "<Figure size 360x216 with 1 Axes>"
      ]
     },
     "metadata": {
      "needs_background": "light"
     },
     "output_type": "display_data"
    },
    {
     "data": {
      "image/png": "[encoded data removed]",
      "text/plain": [
       "<Figure size 360x216 with 1 Axes>"
      ]
     },
     "metadata": {
      "needs_background": "light"
     },
     "output_type": "display_data"
    },
    {
     "data": {
      "image/png": "[encoded data removed]",
      "text/plain": [
       "<Figure size 432x288 with 1 Axes>"
      ]
     },
     "metadata": {
      "needs_background": "light"
     },
     "output_type": "display_data"
    },
    {
     "data": {
      "image/png": "[encoded data removed]",
      "text/plain": [
       "<Figure size 432x288 with 1 Axes>"
      ]
     },
     "metadata": {
      "needs_background": "light"
     },
     "output_type": "display_data"
    }
   ],
   "source": [
    "#время продажи\n",
    "print(real_estate_data['days_exposition'].describe())\n",
    "\n",
    "#обычно продажа занимает примерно 95 дней, за норму возьмем интервал от 45 до 232 дней.\n",
    "real_estate_data.plot(y = 'days_exposition', kind = 'hist', bins = 100, grid=True, range = (1,1500), figsize = (5,3))\n",
    "real_estate_data.plot(y = 'days_exposition', kind = 'hist', bins = 100, grid=True, range = (1,200), figsize = (5,3)) \n",
    "#обнаружили аномальные данные в районе 45, 60 и 90 дней\n",
    "#возможно это связано с правилами сайта о сроке хранения объявления\n",
    "#print(real_estate_data[real_estate_data['days_exposition']==45])\n",
    "# сделаем новую таблицу без учета аномалий\n",
    "real_estate_data_norm = real_estate_data.query('days_exposition != 45 and days_exposition != 60 and days_exposition != 90')\n",
    "\n",
    "#проверяем данные после удаления аномалий\n",
    "plt.boxplot(real_estate_data_norm['days_exposition'])\n",
    "plt.ylim(1,1000)\n",
    "real_estate_data_norm.plot(y = 'days_exposition', kind = 'hist', bins = 100, grid = True, range = (1,1500))\n",
    "real_estate_data_norm.plot(y = 'days_exposition', kind = 'hist', bins = 100, grid = True, range = (1,200))\n",
    "print(real_estate_data_norm['days_exposition'].describe())\n",
    "#гистограмма стала ровнее,квартили поменялись, тем самым диапазон нормальных значений увеличился."
   ]
  },
  {
   "cell_type": "code",
   "execution_count": 23,
   "metadata": {},
   "outputs": [
    {
     "data": {
      "text/plain": [
       "<matplotlib.axes._subplots.AxesSubplot at 0x7fc603762090>"
      ]
     },
     "execution_count": 23,
     "metadata": {},
     "output_type": "execute_result"
    },
    {
     "data": {
      "image/png": "[encoded data removed]",
      "text/plain": [
       "<Figure size 432x288 with 1 Axes>"
      ]
     },
     "metadata": {
      "needs_background": "light"
     },
     "output_type": "display_data"
    },
    {
     "data": {
      "image/png": "[encoded data removed]",
      "text/plain": [
       "<Figure size 432x288 with 1 Axes>"
      ]
     },
     "metadata": {
      "needs_background": "light"
     },
     "output_type": "display_data"
    },
    {
     "data": {
      "image/png": "[encoded data removed]",
      "text/plain": [
       "<Figure size 432x288 with 1 Axes>"
      ]
     },
     "metadata": {
      "needs_background": "light"
     },
     "output_type": "display_data"
    },
    {
     "data": {
      "image/png": "[encoded data removed]",
      "text/plain": [
       "<Figure size 432x288 with 1 Axes>"
      ]
     },
     "metadata": {
      "needs_background": "light"
     },
     "output_type": "display_data"
    }
   ],
   "source": [
    "#факторы, влияющие на стоимость квартир\n",
    "#1 цена-площадь\n",
    "pivot_table_total_area = real_estate_data.pivot_table(\n",
    "    index = 'total_area', values = 'price_of_m2', aggfunc = ['mean', 'count', 'median']\n",
    ")\n",
    "pivot_table_total_area.columns = ['mean', 'count', 'median']\n",
    "pivot_table_total_area.plot(y = 'median', style = 'o')\n",
    "pivot_table_total_area.sort_values('median', ascending = False)\n",
    "#print(real_estate_data['total_area'].corr(real_estate_data['price_of_m2']))\n",
    "#кореляция есть в сторону увеличения площади, но слабая. 0.3\n",
    "\n",
    "#2 цена-колличество комнат\n",
    "pivot_table_rooms = real_estate_data.pivot_table(\n",
    "    index = 'rooms', values = 'price_of_m2', aggfunc = ['mean', 'count', 'median']\n",
    ")\n",
    "pivot_table_rooms.columns = ['mean', 'count', 'median']\n",
    "pivot_table_rooms.query('count > 100').plot(y = 'median', style = 'o')\n",
    "pivot_table_rooms.query('count > 100').sort_values('median', ascending = False)\n",
    "#print(real_estate_data['rooms'].corr(real_estate_data['price_of_m2']))\n",
    "#цена за квадрат падает от студии до трехкомнатной, это объясняется тем, что студии и однушки самые популярные для покупки\n",
    "\n",
    "#3 цена-удаленность от центра\n",
    "#pivot_table_сenter = real_estate_data.pivot_table(\n",
    "#index = 'cityCenters_nearest', values = 'price_of_m2', aggfunc = ['mean', 'count', 'median']\n",
    "#)\n",
    "#pivot_table_сenter.columns = ['mean', 'count', 'median']\n",
    "#pivot_table_сenter.plot(y = 'median', style = 'o')\n",
    "#pivot_table_сenter.sort_values('median', ascending = False)\n",
    "\n",
    "real_estate_data.plot(kind = 'scatter', y = 'price_of_m2', x = 'cityCenters_nearest', alpha = 0.3)\n",
    "#чем ближе к центру тем стоимость выше, связь четко прослеживается\n",
    "\n",
    "#4 цена-этаж\n",
    "pivot_table_floor_type = real_estate_data.pivot_table(\n",
    "    index = 'floor_type', values = 'price_of_m2', aggfunc = ['mean', 'count', 'median']\n",
    ")\n",
    "pivot_table_floor_type.columns = ['mean', 'count', 'median']\n",
    "pivot_table_floor_type.plot(y = 'median')\n",
    "#первый этаж самый дешевый, затем идет последний этаж. Другие этажи гораздо дороже."
   ]
  },
  {
   "cell_type": "code",
   "execution_count": 47,
   "metadata": {},
   "outputs": [],
   "source": [
    "#5 цена от даты размещения\n",
    "#попробуем построить графики в цикле\n",
    "\n",
    "#columns = ['weekday', 'month', 'year']\n",
    "#for i in columns:\n",
    "    #pivot_table_date = real_estate_data.pivot_table(\n",
    "    #index = 'i', values = 'price_of_m2', aggfunc = ['mean', 'count', 'median']\n",
    "    #pivot_table_date.columns = ['mean', 'count', 'median']\n",
    "    #pivot_table_date.plot(y = 'median')\n",
    "    #pivot_table_date.sort_values('median', ascending = False)\n",
    "                    "
   ]
  },
  {
   "cell_type": "code",
   "execution_count": 7,
   "metadata": {},
   "outputs": [],
   "source": [
    "plot_columns = [\n",
    "    'total_area',\n",
    "    'rooms',\n",
    "    'ceiling_height'\n",
    "]"
   ]
  },
  {
   "cell_type": "code",
   "execution_count": 11,
   "metadata": {
    "scrolled": true
   },
   "outputs": [
    {
     "data": {
      "image/png": "[encoded data removed]",
      "text/plain": [
       "<Figure size 432x288 with 1 Axes>"
      ]
     },
     "metadata": {
      "needs_background": "light"
     },
     "output_type": "display_data"
    },
    {
     "data": {
      "image/png": "[encoded data removed]",
      "text/plain": [
       "<Figure size 432x288 with 1 Axes>"
      ]
     },
     "metadata": {
      "needs_background": "light"
     },
     "output_type": "display_data"
    },
    {
     "data": {
      "image/png": "[encoded data removed]",
      "text/plain": [
       "<Figure size 432x288 with 1 Axes>"
      ]
     },
     "metadata": {
      "needs_background": "light"
     },
     "output_type": "display_data"
    }
   ],
   "source": [
    "for col in plot_columns:\n",
    "    real_estate_data[col].hist()\n",
    "    plt.title(col)\n",
    "    plt.show()"
   ]
  },
  {
   "cell_type": "code",
   "execution_count": 28,
   "metadata": {},
   "outputs": [
    {
     "data": {
      "text/html": [
       "<div>\n",
       "<style scoped>\n",
       "    .dataframe tbody tr th:only-of-type {\n",
       "        vertical-align: middle;\n",
       "    }\n",
       "\n",
       "    .dataframe tbody tr th {\n",
       "        vertical-align: top;\n",
       "    }\n",
       "\n",
       "    .dataframe thead th {\n",
       "        text-align: right;\n",
       "    }\n",
       "</style>\n",
       "<table border=\"1\" class=\"dataframe\">\n",
       "  <thead>\n",
       "    <tr style=\"text-align: right;\">\n",
       "      <th></th>\n",
       "      <th>mean</th>\n",
       "      <th>count</th>\n",
       "      <th>median</th>\n",
       "    </tr>\n",
       "    <tr>\n",
       "      <th>year</th>\n",
       "      <th></th>\n",
       "      <th></th>\n",
       "      <th></th>\n",
       "    </tr>\n",
       "  </thead>\n",
       "  <tbody>\n",
       "    <tr>\n",
       "      <td>2014</td>\n",
       "      <td>124830.459854</td>\n",
       "      <td>137</td>\n",
       "      <td>107000</td>\n",
       "    </tr>\n",
       "    <tr>\n",
       "      <td>2019</td>\n",
       "      <td>107123.773532</td>\n",
       "      <td>2879</td>\n",
       "      <td>103306</td>\n",
       "    </tr>\n",
       "    <tr>\n",
       "      <td>2018</td>\n",
       "      <td>97773.557460</td>\n",
       "      <td>8519</td>\n",
       "      <td>95690</td>\n",
       "    </tr>\n",
       "    <tr>\n",
       "      <td>2015</td>\n",
       "      <td>104614.206549</td>\n",
       "      <td>1191</td>\n",
       "      <td>93415</td>\n",
       "    </tr>\n",
       "    <tr>\n",
       "      <td>2017</td>\n",
       "      <td>97621.874847</td>\n",
       "      <td>8190</td>\n",
       "      <td>92565</td>\n",
       "    </tr>\n",
       "    <tr>\n",
       "      <td>2016</td>\n",
       "      <td>98322.341358</td>\n",
       "      <td>2783</td>\n",
       "      <td>91743</td>\n",
       "    </tr>\n",
       "  </tbody>\n",
       "</table>\n",
       "</div>"
      ],
      "text/plain": [
       "               mean  count  median\n",
       "year                              \n",
       "2014  124830.459854    137  107000\n",
       "2019  107123.773532   2879  103306\n",
       "2018   97773.557460   8519   95690\n",
       "2015  104614.206549   1191   93415\n",
       "2017   97621.874847   8190   92565\n",
       "2016   98322.341358   2783   91743"
      ]
     },
     "execution_count": 28,
     "metadata": {},
     "output_type": "execute_result"
    },
    {
     "data": {
      "image/png": "[encoded data removed]",
      "text/plain": [
       "<Figure size 432x288 with 1 Axes>"
      ]
     },
     "metadata": {
      "needs_background": "light"
     },
     "output_type": "display_data"
    },
    {
     "data": {
      "image/png": "[encoded data removed]",
      "text/plain": [
       "<Figure size 432x288 with 1 Axes>"
      ]
     },
     "metadata": {
      "needs_background": "light"
     },
     "output_type": "display_data"
    },
    {
     "data": {
      "image/png": "[encoded data removed]",
      "text/plain": [
       "<Figure size 432x288 with 1 Axes>"
      ]
     },
     "metadata": {
      "needs_background": "light"
     },
     "output_type": "display_data"
    }
   ],
   "source": [
    "#5 цена от даты размещения\n",
    "#5.1 день недели        \n",
    "pivot_table_weekday = real_estate_data.pivot_table(\n",
    "    index = 'weekday', values = 'price_of_m2', aggfunc = ['mean', 'count', 'median']\n",
    ")    \n",
    "pivot_table_weekday.columns = ['mean', 'count', 'median']\n",
    "pivot_table_weekday.plot(y = 'median')\n",
    "pivot_table_weekday.sort_values('median', ascending = False)\n",
    "#цена растет и достигает пика во вторник и минимума к субботе...в принципе это с вязано с обычной рабочей продуктивностью \n",
    "#человека)\n",
    "#5.2 месяц\n",
    "pivot_table_month = real_estate_data.pivot_table(\n",
    "    index = 'month', values = 'price_of_m2', aggfunc = ['mean', 'count', 'median']\n",
    ")\n",
    "pivot_table_month.columns = ['mean', 'count', 'median']\n",
    "pivot_table_month.plot(y = 'median')\n",
    "pivot_table_month.sort_values('median', ascending = False)\n",
    "#цена с начала года растет и достигает первого пика в апреле, затем резкое падение май и июнь. Сезон отпусков никто не отменял\n",
    "#Второй и третьи пики приходятся на август и ноябрь\n",
    "#год\n",
    "pivot_table_year = real_estate_data.pivot_table(\n",
    "    index = 'year', values = 'price_of_m2', aggfunc = ['mean', 'count', 'median']\n",
    ")\n",
    "pivot_table_year.columns = ['mean', 'count', 'median']\n",
    "pivot_table_year.plot(y = 'median')\n",
    "pivot_table_year.sort_values('median', ascending = False)\n",
    "#цены достигли дна и были на низких уровнях с 2015 по 2017 года (кризис!). затем пошел подъем до прежних высоких уровней"
   ]
  },
  {
   "cell_type": "code",
   "execution_count": 29,
   "metadata": {},
   "outputs": [
    {
     "data": {
      "text/html": [
       "<div>\n",
       "<style scoped>\n",
       "    .dataframe tbody tr th:only-of-type {\n",
       "        vertical-align: middle;\n",
       "    }\n",
       "\n",
       "    .dataframe tbody tr th {\n",
       "        vertical-align: top;\n",
       "    }\n",
       "\n",
       "    .dataframe thead th {\n",
       "        text-align: right;\n",
       "    }\n",
       "</style>\n",
       "<table border=\"1\" class=\"dataframe\">\n",
       "  <thead>\n",
       "    <tr style=\"text-align: right;\">\n",
       "      <th></th>\n",
       "      <th>count</th>\n",
       "      <th>mean</th>\n",
       "    </tr>\n",
       "    <tr>\n",
       "      <th>locality_name</th>\n",
       "      <th></th>\n",
       "      <th></th>\n",
       "    </tr>\n",
       "  </thead>\n",
       "  <tbody>\n",
       "    <tr>\n",
       "      <td>Выборг</td>\n",
       "      <td>237</td>\n",
       "      <td>58141.919831</td>\n",
       "    </tr>\n",
       "  </tbody>\n",
       "</table>\n",
       "</div>"
      ],
      "text/plain": [
       "               count          mean\n",
       "locality_name                     \n",
       "Выборг           237  58141.919831"
      ]
     },
     "execution_count": 29,
     "metadata": {},
     "output_type": "execute_result"
    }
   ],
   "source": [
    "#населенные пункты\n",
    "pivot_table_locality = real_estate_data.pivot_table(\n",
    "    index = 'locality_name', values = 'price_of_m2', aggfunc=['count', 'mean']\n",
    ")\n",
    "pivot_table_locality.columns = ['count', 'mean']\n",
    "pivot_table_locality = pivot_table_locality.sort_values('count', ascending = False).head(10)\n",
    "pivot_table_locality\n",
    "#самая высокая стоимость\n",
    "pivot_table_locality[pivot_table_locality['mean']==pivot_table_locality['mean'].max()] #как и ожидалось -  Санкт-Петербург\n",
    "#самая низкая стоимость\n",
    "pivot_table_locality[pivot_table_locality['mean']==pivot_table_locality['mean'].min()] #самый дешевый -  Выборг, \n",
    "#думаю это связано с большой удаленностью от Санкт-Петербурга"
   ]
  },
  {
   "cell_type": "code",
   "execution_count": 30,
   "metadata": {},
   "outputs": [
    {
     "data": {
      "image/png": "[encoded data removed]",
      "text/plain": [
       "<Figure size 1440x504 with 1 Axes>"
      ]
     },
     "metadata": {
      "needs_background": "light"
     },
     "output_type": "display_data"
    },
    {
     "data": {
      "text/html": [
       "<div>\n",
       "<style scoped>\n",
       "    .dataframe tbody tr th:only-of-type {\n",
       "        vertical-align: middle;\n",
       "    }\n",
       "\n",
       "    .dataframe tbody tr th {\n",
       "        vertical-align: top;\n",
       "    }\n",
       "\n",
       "    .dataframe thead th {\n",
       "        text-align: right;\n",
       "    }\n",
       "</style>\n",
       "<table border=\"1\" class=\"dataframe\">\n",
       "  <thead>\n",
       "    <tr style=\"text-align: right;\">\n",
       "      <th></th>\n",
       "      <th>mean</th>\n",
       "      <th>count</th>\n",
       "      <th>median</th>\n",
       "    </tr>\n",
       "    <tr>\n",
       "      <th>year</th>\n",
       "      <th></th>\n",
       "      <th></th>\n",
       "      <th></th>\n",
       "    </tr>\n",
       "  </thead>\n",
       "  <tbody>\n",
       "    <tr>\n",
       "      <td>2014</td>\n",
       "      <td>289487.000000</td>\n",
       "      <td>7</td>\n",
       "      <td>278100.0</td>\n",
       "    </tr>\n",
       "    <tr>\n",
       "      <td>2019</td>\n",
       "      <td>184901.606061</td>\n",
       "      <td>99</td>\n",
       "      <td>133333.0</td>\n",
       "    </tr>\n",
       "    <tr>\n",
       "      <td>2018</td>\n",
       "      <td>148071.672065</td>\n",
       "      <td>247</td>\n",
       "      <td>123529.0</td>\n",
       "    </tr>\n",
       "    <tr>\n",
       "      <td>2017</td>\n",
       "      <td>142408.000000</td>\n",
       "      <td>322</td>\n",
       "      <td>116654.5</td>\n",
       "    </tr>\n",
       "    <tr>\n",
       "      <td>2015</td>\n",
       "      <td>156105.833333</td>\n",
       "      <td>90</td>\n",
       "      <td>107981.0</td>\n",
       "    </tr>\n",
       "    <tr>\n",
       "      <td>2016</td>\n",
       "      <td>133605.780702</td>\n",
       "      <td>114</td>\n",
       "      <td>107142.5</td>\n",
       "    </tr>\n",
       "  </tbody>\n",
       "</table>\n",
       "</div>"
      ],
      "text/plain": [
       "               mean  count    median\n",
       "year                                \n",
       "2014  289487.000000      7  278100.0\n",
       "2019  184901.606061     99  133333.0\n",
       "2018  148071.672065    247  123529.0\n",
       "2017  142408.000000    322  116654.5\n",
       "2015  156105.833333     90  107981.0\n",
       "2016  133605.780702    114  107142.5"
      ]
     },
     "execution_count": 30,
     "metadata": {},
     "output_type": "execute_result"
    },
    {
     "data": {
      "image/png": "[encoded data removed]",
      "text/plain": [
       "<Figure size 432x288 with 1 Axes>"
      ]
     },
     "metadata": {
      "needs_background": "light"
     },
     "output_type": "display_data"
    },
    {
     "data": {
      "image/png": "[encoded data removed]",
      "text/plain": [
       "<Figure size 432x288 with 1 Axes>"
      ]
     },
     "metadata": {
      "needs_background": "light"
     },
     "output_type": "display_data"
    },
    {
     "data": {
      "image/png": "[encoded data removed]",
      "text/plain": [
       "<Figure size 432x288 with 1 Axes>"
      ]
     },
     "metadata": {
      "needs_background": "light"
     },
     "output_type": "display_data"
    },
    {
     "data": {
      "image/png": "[encoded data removed]",
      "text/plain": [
       "<Figure size 432x288 with 1 Axes>"
      ]
     },
     "metadata": {
      "needs_background": "light"
     },
     "output_type": "display_data"
    },
    {
     "data": {
      "image/png": "[encoded data removed]",
      "text/plain": [
       "<Figure size 432x288 with 1 Axes>"
      ]
     },
     "metadata": {
      "needs_background": "light"
     },
     "output_type": "display_data"
    },
    {
     "data": {
      "image/png": "[encoded data removed]",
      "text/plain": [
       "<Figure size 432x288 with 1 Axes>"
      ]
     },
     "metadata": {
      "needs_background": "light"
     },
     "output_type": "display_data"
    }
   ],
   "source": [
    "#находим центральную область\n",
    "real_estate_data['cityCenters_nearest_km'] = real_estate_data['cityCenters_nearest'] / 1000\n",
    "#real_estate_data['cityCenters_nearest_km'] = real_estate_data['cityCenters_nearest_km'].fillna(999999)\n",
    "real_estate_data['cityCenters_nearest_km'] = real_estate_data['cityCenters_nearest_km'].round().astype('Int64')\n",
    "pivot_table_km = real_estate_data.query('locality_name == \"Санкт-Петербург\"').pivot_table(index = 'cityCenters_nearest_km', values = 'price_of_m2', aggfunc = 'mean')\n",
    "pivot_table_km.plot(title='Зависимость цены от расстояния до центра', figsize=(20,7)) \n",
    "plt.show()\n",
    "pivot_table_km \n",
    "# в районе 3 км от центра происходит перелом цены, будем считать центром территорию радиусом в 3 км.\n",
    "\n",
    "#выделим центр и проанализируем\n",
    "real_estate_data_center = real_estate_data.query('cityCenters_nearest_km <= 3 and locality_name == \"Санкт-Петербург\"')\n",
    "#real_estate_data_center.head(10)\n",
    "#число комнат\n",
    "center_rooms = real_estate_data_center.pivot_table(index = 'rooms', values = 'price_of_m2', aggfunc = ['mean', 'count', 'median'])\n",
    "center_rooms.columns = ['mean', 'count', 'median']\n",
    "center_rooms.query('count > 50').plot(title='зависимость цены от количества комнат', y = 'median', style = 'o')\n",
    "center_rooms.query('count > 50').sort_values('median', ascending = False)\n",
    "# картина немного отличается,от общей. тут цена за квадрат постоянно падает с ростом количества комнат\n",
    "\n",
    "#этаж\n",
    "center_floors = real_estate_data_center.pivot_table(index = 'floor_type', values = 'price_of_m2', aggfunc = ['mean', 'count', 'median'])\n",
    "center_floors.columns = ['mean', 'count', 'median']\n",
    "center_floors.plot(title='зависимость цены от этажа', y = 'median')\n",
    "#зависимость такая же как и в общем. первый этаж самый дешевый, затем последний. \n",
    "\n",
    "#удаленность от центра\n",
    "real_estate_data_center.plot(title='cityCenters_nearest', kind = 'scatter', y = 'price_of_m2', x = 'cityCenters_nearest', alpha = 0.3)\n",
    "#нет четкой зависимости, так как все квартиры итак в центре.\n",
    "\n",
    "#дата размещения\n",
    "#день недели\n",
    "center_weekday = real_estate_data_center.pivot_table(index = 'weekday', values = 'price_of_m2', aggfunc = ['mean', 'count', 'median'])\n",
    "center_weekday.columns = ['mean', 'count', 'median']\n",
    "center_weekday.plot(y = 'median')\n",
    "center_weekday.sort_values('median', ascending = False)\n",
    "#в отличае от общей картины пик продаж понедельник и пятница, а худшие дни вторник и воскресенье\n",
    "#месяц\n",
    "center_month = real_estate_data_center.pivot_table(index = 'month', values = 'price_of_m2', aggfunc = ['mean', 'count', 'median'])\n",
    "center_month.columns = ['mean', 'count', 'median']\n",
    "center_month.plot(y = 'median')\n",
    "center_month.sort_values('median', ascending = False)\n",
    "#в целом картина схожая с общей, в с мая по август спад, пики - апрель и октябрь\n",
    "#год\n",
    "center_year = real_estate_data_center.pivot_table(index = 'year', values = 'price_of_m2', aggfunc = ['mean', 'count', 'median'])\n",
    "center_year.columns = ['mean', 'count', 'median']\n",
    "center_year.plot(y = 'median')\n",
    "center_year.sort_values('median', ascending = False)\n",
    "#мы видим такой же спад в 2015, 2016 и 2017 годах, н в отличае от общей картины тут так и не произошел возврат до прежних цен. \n",
    "#видимо цены на более дорогие квартиры растут медленнее чем на дешевые."
   ]
  },
  {
   "cell_type": "markdown",
   "metadata": {},
   "source": [
    "В районе 3 км от центра происходит перелом цены, так что будем считать центром территорию радиусом в 3 км!"
   ]
  },
  {
   "cell_type": "markdown",
   "metadata": {},
   "source": [
    "## Общий вывод"
   ]
  },
  {
   "cell_type": "markdown",
   "metadata": {},
   "source": [
    "С проблемами мы столкнулись с самого начала. Данные были \"склеяны\", но нам удалось привести их в удобный вид, заполнить пропуски где это возможно, привести к нужному типу. Добавили в таблицу новые столбцы для большей наглядности и удобства расчетов. Далее начался исследовательский анализ.Мы изучили площадь, цену, число комнат, высоту потолков.  Изучая время продажи нашли аномалии и связали их с правилами сайта по размещению объявлений, выяснили что нормальное время размещения колеблется от 41 до 252 дней. Убрали редкие и выбивающиеся значения. Выявили связь между количеством комнат и ценой за квадрат, с увеличением комнат стоимость квадрата падает, зато цена растет при уменьшении расстояния до центра. Также выяснили что первый и последний этажи стоят дешевле чем остальные. Также на стоимось квадратного метра влияет дата размещения, а именно день недели, месяц, год. Проследя за изменением цены за квадрат в зависимости от расстояния до центра, мы выделили зону радиусом 3 км. "
   ]
  }
 ],
 "metadata": {
  "ExecuteTimeLog": [
   {
    "duration": 831,
    "start_time": "2021-09-14T06:02:16.257Z"
   },
   {
    "duration": 85,
    "start_time": "2021-09-14T06:12:31.288Z"
   },
   {
    "duration": 83,
    "start_time": "2021-09-14T06:31:59.932Z"
   },
   {
    "duration": 90,
    "start_time": "2021-09-14T06:32:16.735Z"
   },
   {
    "duration": 116,
    "start_time": "2021-09-14T06:33:56.351Z"
   },
   {
    "duration": 121,
    "start_time": "2021-09-14T06:34:09.753Z"
   },
   {
    "duration": 167,
    "start_time": "2021-09-14T06:34:18.831Z"
   },
   {
    "duration": 84,
    "start_time": "2021-09-14T06:35:19.736Z"
   },
   {
    "duration": 88,
    "start_time": "2021-09-14T06:36:00.760Z"
   },
   {
    "duration": 86,
    "start_time": "2021-09-14T06:36:05.640Z"
   },
   {
    "duration": 79,
    "start_time": "2021-09-14T06:38:17.537Z"
   },
   {
    "duration": 143,
    "start_time": "2021-09-14T06:44:57.189Z"
   },
   {
    "duration": 78,
    "start_time": "2021-09-14T06:45:07.267Z"
   },
   {
    "duration": 81,
    "start_time": "2021-09-14T06:47:13.796Z"
   },
   {
    "duration": 78,
    "start_time": "2021-09-14T07:08:35.243Z"
   },
   {
    "duration": 81,
    "start_time": "2021-09-14T07:09:01.605Z"
   },
   {
    "duration": 106,
    "start_time": "2021-09-14T07:09:29.686Z"
   },
   {
    "duration": -904,
    "start_time": "2021-09-14T07:09:45.352Z"
   },
   {
    "duration": 5818,
    "start_time": "2021-09-14T07:09:50.838Z"
   },
   {
    "duration": 78,
    "start_time": "2021-09-14T07:10:16.535Z"
   },
   {
    "duration": 82,
    "start_time": "2021-09-14T07:10:45.152Z"
   },
   {
    "duration": 77,
    "start_time": "2021-09-14T07:11:26.967Z"
   },
   {
    "duration": 82,
    "start_time": "2021-09-14T07:12:27.998Z"
   },
   {
    "duration": 79,
    "start_time": "2021-09-14T07:12:39.192Z"
   },
   {
    "duration": 81,
    "start_time": "2021-09-14T07:18:14.226Z"
   },
   {
    "duration": 75,
    "start_time": "2021-09-14T07:18:17.824Z"
   },
   {
    "duration": 75,
    "start_time": "2021-09-14T07:18:22.594Z"
   },
   {
    "duration": 85,
    "start_time": "2021-09-14T07:20:56.706Z"
   },
   {
    "duration": 76,
    "start_time": "2021-09-14T07:20:59.725Z"
   },
   {
    "duration": 2277,
    "start_time": "2021-09-14T07:23:28.035Z"
   },
   {
    "duration": 2199,
    "start_time": "2021-09-14T07:24:10.909Z"
   },
   {
    "duration": 2318,
    "start_time": "2021-09-14T07:24:58.965Z"
   },
   {
    "duration": 128,
    "start_time": "2021-09-14T07:25:50.997Z"
   },
   {
    "duration": 174,
    "start_time": "2021-09-14T07:32:03.926Z"
   },
   {
    "duration": 131,
    "start_time": "2021-09-14T07:33:02.177Z"
   },
   {
    "duration": 77,
    "start_time": "2021-09-14T07:33:27.965Z"
   },
   {
    "duration": 1221,
    "start_time": "2021-09-14T17:16:15.768Z"
   },
   {
    "duration": 437,
    "start_time": "2021-09-14T17:16:23.771Z"
   },
   {
    "duration": 391,
    "start_time": "2021-09-14T17:16:31.893Z"
   },
   {
    "duration": 379,
    "start_time": "2021-09-14T17:18:10.317Z"
   },
   {
    "duration": 85,
    "start_time": "2021-09-14T17:18:18.299Z"
   },
   {
    "duration": 85,
    "start_time": "2021-09-14T17:22:00.344Z"
   },
   {
    "duration": 81,
    "start_time": "2021-09-14T17:22:06.124Z"
   },
   {
    "duration": 123,
    "start_time": "2021-09-14T17:22:19.008Z"
   },
   {
    "duration": 129,
    "start_time": "2021-09-14T17:23:03.962Z"
   },
   {
    "duration": 903,
    "start_time": "2021-09-15T05:58:07.799Z"
   },
   {
    "duration": 77,
    "start_time": "2021-09-15T06:08:47.311Z"
   },
   {
    "duration": 101,
    "start_time": "2021-09-15T06:11:56.549Z"
   },
   {
    "duration": 114,
    "start_time": "2021-09-15T06:13:10.172Z"
   },
   {
    "duration": 15,
    "start_time": "2021-09-15T07:03:15.374Z"
   },
   {
    "duration": 139,
    "start_time": "2021-09-15T07:07:28.068Z"
   },
   {
    "duration": 6,
    "start_time": "2021-09-15T07:07:46.558Z"
   },
   {
    "duration": 14,
    "start_time": "2021-09-15T07:09:37.164Z"
   },
   {
    "duration": 12,
    "start_time": "2021-09-15T07:11:36.790Z"
   },
   {
    "duration": 15,
    "start_time": "2021-09-15T07:14:39.320Z"
   },
   {
    "duration": 9,
    "start_time": "2021-09-15T07:22:28.556Z"
   },
   {
    "duration": 36,
    "start_time": "2021-09-15T07:36:16.255Z"
   },
   {
    "duration": 24,
    "start_time": "2021-09-15T07:36:47.199Z"
   },
   {
    "duration": 35,
    "start_time": "2021-09-15T07:37:08.725Z"
   },
   {
    "duration": 39,
    "start_time": "2021-09-15T07:38:30.224Z"
   },
   {
    "duration": 36,
    "start_time": "2021-09-15T07:38:49.379Z"
   },
   {
    "duration": 40,
    "start_time": "2021-09-15T07:40:13.666Z"
   },
   {
    "duration": 235,
    "start_time": "2021-09-15T07:42:36.769Z"
   },
   {
    "duration": 6,
    "start_time": "2021-09-15T07:43:01.107Z"
   },
   {
    "duration": 11,
    "start_time": "2021-09-15T07:50:33.024Z"
   },
   {
    "duration": 677,
    "start_time": "2021-09-15T07:58:31.522Z"
   },
   {
    "duration": 11,
    "start_time": "2021-09-15T08:05:40.296Z"
   },
   {
    "duration": 19,
    "start_time": "2021-09-15T08:13:10.027Z"
   },
   {
    "duration": 22,
    "start_time": "2021-09-15T08:13:22.329Z"
   },
   {
    "duration": 18,
    "start_time": "2021-09-15T08:13:49.312Z"
   },
   {
    "duration": 10,
    "start_time": "2021-09-15T08:14:27.088Z"
   },
   {
    "duration": 11,
    "start_time": "2021-09-15T08:14:33.690Z"
   },
   {
    "duration": 117,
    "start_time": "2021-09-15T08:14:43.083Z"
   },
   {
    "duration": 19,
    "start_time": "2021-09-15T08:14:43.203Z"
   },
   {
    "duration": 37,
    "start_time": "2021-09-15T08:21:09.133Z"
   },
   {
    "duration": 78,
    "start_time": "2021-09-15T08:25:28.909Z"
   },
   {
    "duration": 80,
    "start_time": "2021-09-15T08:31:16.168Z"
   },
   {
    "duration": 29,
    "start_time": "2021-09-15T08:40:46.807Z"
   },
   {
    "duration": 32,
    "start_time": "2021-09-15T08:53:51.123Z"
   },
   {
    "duration": 62,
    "start_time": "2021-09-15T09:01:26.409Z"
   },
   {
    "duration": 19,
    "start_time": "2021-09-15T09:13:13.446Z"
   },
   {
    "duration": 33,
    "start_time": "2021-09-15T09:14:12.999Z"
   },
   {
    "duration": 43,
    "start_time": "2021-09-15T09:24:37.628Z"
   },
   {
    "duration": 126,
    "start_time": "2021-09-15T10:31:27.012Z"
   },
   {
    "duration": 30,
    "start_time": "2021-09-15T10:31:46.145Z"
   },
   {
    "duration": 42,
    "start_time": "2021-09-15T10:34:24.484Z"
   },
   {
    "duration": 49,
    "start_time": "2021-09-15T10:35:39.908Z"
   },
   {
    "duration": 42,
    "start_time": "2021-09-15T10:36:50.102Z"
   },
   {
    "duration": 35,
    "start_time": "2021-09-15T12:15:24.054Z"
   },
   {
    "duration": 40,
    "start_time": "2021-09-15T12:22:54.575Z"
   },
   {
    "duration": 41,
    "start_time": "2021-09-15T12:25:40.730Z"
   },
   {
    "duration": 41,
    "start_time": "2021-09-15T12:26:31.202Z"
   },
   {
    "duration": 47,
    "start_time": "2021-09-15T12:26:48.635Z"
   },
   {
    "duration": 50,
    "start_time": "2021-09-15T13:01:41.155Z"
   },
   {
    "duration": 355,
    "start_time": "2021-09-16T06:11:11.248Z"
   },
   {
    "duration": 914,
    "start_time": "2021-09-16T06:11:20.241Z"
   },
   {
    "duration": 68,
    "start_time": "2021-09-16T06:11:21.158Z"
   },
   {
    "duration": 308,
    "start_time": "2021-09-16T06:22:30.420Z"
   },
   {
    "duration": 922,
    "start_time": "2021-09-16T06:26:35.012Z"
   },
   {
    "duration": 436,
    "start_time": "2021-09-16T06:27:14.710Z"
   },
   {
    "duration": 49,
    "start_time": "2021-09-16T06:27:25.158Z"
   },
   {
    "duration": 369,
    "start_time": "2021-09-16T06:35:38.538Z"
   },
   {
    "duration": 2327,
    "start_time": "2021-09-16T06:36:41.683Z"
   },
   {
    "duration": 2505,
    "start_time": "2021-09-16T06:40:47.350Z"
   },
   {
    "duration": 70,
    "start_time": "2021-09-16T06:42:01.013Z"
   },
   {
    "duration": 84,
    "start_time": "2021-09-16T06:42:24.368Z"
   },
   {
    "duration": 64,
    "start_time": "2021-09-16T06:44:20.325Z"
   },
   {
    "duration": 69,
    "start_time": "2021-09-16T06:51:28.371Z"
   },
   {
    "duration": 1186,
    "start_time": "2021-09-16T06:52:18.130Z"
   },
   {
    "duration": 314,
    "start_time": "2021-09-16T06:58:29.203Z"
   },
   {
    "duration": 323,
    "start_time": "2021-09-16T06:58:46.499Z"
   },
   {
    "duration": 64,
    "start_time": "2021-09-16T06:59:28.278Z"
   },
   {
    "duration": 722,
    "start_time": "2021-09-16T06:59:59.719Z"
   },
   {
    "duration": 64,
    "start_time": "2021-09-16T07:00:08.029Z"
   },
   {
    "duration": 66,
    "start_time": "2021-09-16T07:00:17.708Z"
   },
   {
    "duration": 68,
    "start_time": "2021-09-16T07:01:48.982Z"
   },
   {
    "duration": 7220,
    "start_time": "2021-09-16T07:07:18.810Z"
   },
   {
    "duration": 86,
    "start_time": "2021-09-16T07:08:23.864Z"
   },
   {
    "duration": 371,
    "start_time": "2021-09-16T07:09:17.089Z"
   },
   {
    "duration": 88,
    "start_time": "2021-09-16T07:22:48.381Z"
   },
   {
    "duration": 89,
    "start_time": "2021-09-16T07:23:22.690Z"
   },
   {
    "duration": 7737,
    "start_time": "2021-09-16T07:24:04.408Z"
   },
   {
    "duration": 90,
    "start_time": "2021-09-16T07:24:33.775Z"
   },
   {
    "duration": 6951,
    "start_time": "2021-09-16T07:24:57.517Z"
   },
   {
    "duration": 89,
    "start_time": "2021-09-16T07:25:55.162Z"
   },
   {
    "duration": 83,
    "start_time": "2021-09-16T07:26:21.784Z"
   },
   {
    "duration": 81,
    "start_time": "2021-09-16T07:26:40.292Z"
   },
   {
    "duration": 382,
    "start_time": "2021-09-16T07:30:25.730Z"
   },
   {
    "duration": 91,
    "start_time": "2021-09-16T07:31:10.498Z"
   },
   {
    "duration": 378,
    "start_time": "2021-09-16T07:32:02.755Z"
   },
   {
    "duration": 322,
    "start_time": "2021-09-16T07:32:30.034Z"
   },
   {
    "duration": 886,
    "start_time": "2021-09-16T07:33:40.316Z"
   },
   {
    "duration": 327,
    "start_time": "2021-09-16T07:34:49.549Z"
   },
   {
    "duration": 109,
    "start_time": "2021-09-16T07:34:56.885Z"
   },
   {
    "duration": 355,
    "start_time": "2021-09-16T07:34:56.996Z"
   },
   {
    "duration": 377,
    "start_time": "2021-09-16T07:36:40.952Z"
   },
   {
    "duration": 108,
    "start_time": "2021-09-16T07:38:09.060Z"
   },
   {
    "duration": 357,
    "start_time": "2021-09-16T07:38:09.171Z"
   },
   {
    "duration": 91,
    "start_time": "2021-09-16T07:38:38.293Z"
   },
   {
    "duration": 327,
    "start_time": "2021-09-16T07:38:52.070Z"
   },
   {
    "duration": 1077,
    "start_time": "2021-09-16T07:40:15.710Z"
   },
   {
    "duration": 358,
    "start_time": "2021-09-16T07:40:37.020Z"
   },
   {
    "duration": 90,
    "start_time": "2021-09-16T07:40:51.948Z"
   },
   {
    "duration": 87,
    "start_time": "2021-09-16T07:40:59.948Z"
   },
   {
    "duration": 89,
    "start_time": "2021-09-16T07:41:03.284Z"
   },
   {
    "duration": 89,
    "start_time": "2021-09-16T07:41:10.834Z"
   },
   {
    "duration": 89,
    "start_time": "2021-09-16T07:41:18.278Z"
   },
   {
    "duration": 322,
    "start_time": "2021-09-16T07:41:32.006Z"
   },
   {
    "duration": 92,
    "start_time": "2021-09-16T07:42:30.269Z"
   },
   {
    "duration": 88,
    "start_time": "2021-09-16T07:42:43.444Z"
   },
   {
    "duration": 89,
    "start_time": "2021-09-16T07:42:52.347Z"
   },
   {
    "duration": 119,
    "start_time": "2021-09-16T07:43:38.369Z"
   },
   {
    "duration": 446,
    "start_time": "2021-09-16T07:43:50.996Z"
   },
   {
    "duration": 341,
    "start_time": "2021-09-16T07:44:02.540Z"
   },
   {
    "duration": 341,
    "start_time": "2021-09-16T07:44:08.509Z"
   },
   {
    "duration": 92,
    "start_time": "2021-09-16T07:44:15.629Z"
   },
   {
    "duration": 92,
    "start_time": "2021-09-16T07:44:27.750Z"
   },
   {
    "duration": 109,
    "start_time": "2021-09-16T07:44:37.591Z"
   },
   {
    "duration": 93,
    "start_time": "2021-09-16T07:45:06.446Z"
   },
   {
    "duration": 93,
    "start_time": "2021-09-16T07:45:11.676Z"
   },
   {
    "duration": 94,
    "start_time": "2021-09-16T07:48:43.723Z"
   },
   {
    "duration": 443,
    "start_time": "2021-09-16T07:49:24.135Z"
   },
   {
    "duration": 92,
    "start_time": "2021-09-16T07:50:14.225Z"
   },
   {
    "duration": 418,
    "start_time": "2021-09-16T07:50:48.047Z"
   },
   {
    "duration": 355,
    "start_time": "2021-09-16T07:51:19.087Z"
   },
   {
    "duration": 361,
    "start_time": "2021-09-16T07:51:23.256Z"
   },
   {
    "duration": 111,
    "start_time": "2021-09-16T07:51:44.242Z"
   },
   {
    "duration": 379,
    "start_time": "2021-09-16T07:51:44.357Z"
   },
   {
    "duration": 463,
    "start_time": "2021-09-16T07:55:31.022Z"
   },
   {
    "duration": 85,
    "start_time": "2021-09-16T07:56:06.468Z"
   },
   {
    "duration": 69,
    "start_time": "2021-09-16T07:56:34.097Z"
   },
   {
    "duration": 91,
    "start_time": "2021-09-16T07:57:48.314Z"
   },
   {
    "duration": 1467,
    "start_time": "2021-09-16T07:58:04.370Z"
   },
   {
    "duration": 72,
    "start_time": "2021-09-16T07:58:22.226Z"
   },
   {
    "duration": 93,
    "start_time": "2021-09-16T07:58:29.066Z"
   },
   {
    "duration": 74,
    "start_time": "2021-09-16T07:59:28.734Z"
   },
   {
    "duration": 362,
    "start_time": "2021-09-16T07:59:36.235Z"
   },
   {
    "duration": 75,
    "start_time": "2021-09-16T08:02:21.878Z"
   },
   {
    "duration": 80,
    "start_time": "2021-09-16T08:02:36.188Z"
   },
   {
    "duration": 75,
    "start_time": "2021-09-16T08:03:11.054Z"
   },
   {
    "duration": 76,
    "start_time": "2021-09-16T08:03:57.156Z"
   },
   {
    "duration": 67,
    "start_time": "2021-09-16T08:12:34.398Z"
   },
   {
    "duration": 28,
    "start_time": "2021-09-16T08:12:58.495Z"
   },
   {
    "duration": 300,
    "start_time": "2021-09-16T08:13:25.969Z"
   },
   {
    "duration": 35,
    "start_time": "2021-09-16T08:16:54.419Z"
   },
   {
    "duration": 682,
    "start_time": "2021-09-16T08:17:14.978Z"
   },
   {
    "duration": 85,
    "start_time": "2021-09-16T08:17:26.035Z"
   },
   {
    "duration": 250,
    "start_time": "2021-09-16T08:17:39.313Z"
   },
   {
    "duration": 20,
    "start_time": "2021-09-16T08:24:49.782Z"
   },
   {
    "duration": 288,
    "start_time": "2021-09-16T08:25:01.141Z"
   },
   {
    "duration": 23,
    "start_time": "2021-09-16T08:25:10.797Z"
   },
   {
    "duration": 287,
    "start_time": "2021-09-16T08:25:18.234Z"
   },
   {
    "duration": 23,
    "start_time": "2021-09-16T11:50:06.238Z"
   },
   {
    "duration": 21,
    "start_time": "2021-09-16T11:50:16.257Z"
   },
   {
    "duration": 21,
    "start_time": "2021-09-16T11:50:32.997Z"
   },
   {
    "duration": 23,
    "start_time": "2021-09-16T11:50:44.450Z"
   },
   {
    "duration": 309,
    "start_time": "2021-09-16T11:50:54.879Z"
   },
   {
    "duration": 21,
    "start_time": "2021-09-16T11:51:13.526Z"
   },
   {
    "duration": 41,
    "start_time": "2021-09-16T11:52:36.231Z"
   },
   {
    "duration": 290,
    "start_time": "2021-09-16T11:53:17.267Z"
   },
   {
    "duration": 49,
    "start_time": "2021-09-16T11:53:28.652Z"
   },
   {
    "duration": 326,
    "start_time": "2021-09-16T11:53:48.993Z"
   },
   {
    "duration": 25,
    "start_time": "2021-09-16T11:54:01.106Z"
   },
   {
    "duration": 320,
    "start_time": "2021-09-16T11:54:23.600Z"
   },
   {
    "duration": 26,
    "start_time": "2021-09-16T11:54:34.611Z"
   },
   {
    "duration": 25,
    "start_time": "2021-09-16T11:54:48.696Z"
   },
   {
    "duration": 84,
    "start_time": "2021-09-16T11:55:22.074Z"
   },
   {
    "duration": 255,
    "start_time": "2021-09-16T11:56:05.896Z"
   },
   {
    "duration": 78,
    "start_time": "2021-09-16T11:56:50.892Z"
   },
   {
    "duration": 279,
    "start_time": "2021-09-16T11:57:03.956Z"
   },
   {
    "duration": 22,
    "start_time": "2021-09-16T11:58:20.885Z"
   },
   {
    "duration": 8,
    "start_time": "2021-09-16T11:58:39.465Z"
   },
   {
    "duration": 6,
    "start_time": "2021-09-16T12:00:50.523Z"
   },
   {
    "duration": 114,
    "start_time": "2021-09-16T12:00:58.700Z"
   },
   {
    "duration": 335,
    "start_time": "2021-09-16T12:00:58.817Z"
   },
   {
    "duration": -2103,
    "start_time": "2021-09-16T12:01:01.258Z"
   },
   {
    "duration": 369,
    "start_time": "2021-09-16T12:01:41.246Z"
   },
   {
    "duration": 61,
    "start_time": "2021-09-16T12:26:02.551Z"
   },
   {
    "duration": 71,
    "start_time": "2021-09-16T12:26:18.720Z"
   },
   {
    "duration": 266,
    "start_time": "2021-09-16T12:26:36.865Z"
   },
   {
    "duration": 1082,
    "start_time": "2021-09-16T12:27:05.336Z"
   },
   {
    "duration": 22,
    "start_time": "2021-09-16T12:27:35.402Z"
   },
   {
    "duration": 272,
    "start_time": "2021-09-16T12:28:20.871Z"
   },
   {
    "duration": 22,
    "start_time": "2021-09-16T12:28:50.631Z"
   },
   {
    "duration": 333,
    "start_time": "2021-09-16T12:33:17.600Z"
   },
   {
    "duration": 23,
    "start_time": "2021-09-16T12:33:50.721Z"
   },
   {
    "duration": 305,
    "start_time": "2021-09-16T12:34:09.708Z"
   },
   {
    "duration": 289,
    "start_time": "2021-09-16T12:34:19.688Z"
   },
   {
    "duration": 56,
    "start_time": "2021-09-16T12:34:44.592Z"
   },
   {
    "duration": 76,
    "start_time": "2021-09-16T12:39:56.632Z"
   },
   {
    "duration": 131,
    "start_time": "2021-09-16T12:48:40.666Z"
   },
   {
    "duration": 85,
    "start_time": "2021-09-16T12:48:40.800Z"
   },
   {
    "duration": 43,
    "start_time": "2021-09-16T12:48:40.888Z"
   },
   {
    "duration": 27,
    "start_time": "2021-09-16T12:49:23.014Z"
   },
   {
    "duration": 332,
    "start_time": "2021-09-16T12:49:38.418Z"
   },
   {
    "duration": 117,
    "start_time": "2021-09-16T12:50:04.368Z"
   },
   {
    "duration": 75,
    "start_time": "2021-09-16T12:50:04.488Z"
   },
   {
    "duration": 96,
    "start_time": "2021-09-16T12:50:04.566Z"
   },
   {
    "duration": 266,
    "start_time": "2021-09-16T12:50:23.080Z"
   },
   {
    "duration": 129,
    "start_time": "2021-09-16T12:50:27.576Z"
   },
   {
    "duration": 103,
    "start_time": "2021-09-16T12:50:27.708Z"
   },
   {
    "duration": 35,
    "start_time": "2021-09-16T12:50:27.815Z"
   },
   {
    "duration": 117,
    "start_time": "2021-09-16T12:50:49.819Z"
   },
   {
    "duration": 86,
    "start_time": "2021-09-16T12:50:49.938Z"
   },
   {
    "duration": 279,
    "start_time": "2021-09-16T12:50:50.027Z"
   },
   {
    "duration": 150,
    "start_time": "2021-09-16T12:51:14.716Z"
   },
   {
    "duration": 84,
    "start_time": "2021-09-16T12:51:14.869Z"
   },
   {
    "duration": 43,
    "start_time": "2021-09-16T12:51:14.956Z"
   },
   {
    "duration": 128,
    "start_time": "2021-09-16T12:53:12.739Z"
   },
   {
    "duration": 83,
    "start_time": "2021-09-16T12:53:12.871Z"
   },
   {
    "duration": 48,
    "start_time": "2021-09-16T12:53:12.957Z"
   },
   {
    "duration": 261,
    "start_time": "2021-09-16T12:53:49.481Z"
   },
   {
    "duration": 131,
    "start_time": "2021-09-16T12:53:53.660Z"
   },
   {
    "duration": 75,
    "start_time": "2021-09-16T12:53:53.794Z"
   },
   {
    "duration": 39,
    "start_time": "2021-09-16T12:53:53.884Z"
   },
   {
    "duration": 121,
    "start_time": "2021-09-16T12:56:05.651Z"
   },
   {
    "duration": 83,
    "start_time": "2021-09-16T12:56:05.775Z"
   },
   {
    "duration": 58,
    "start_time": "2021-09-16T12:56:05.862Z"
   },
   {
    "duration": 319,
    "start_time": "2021-09-16T12:57:23.627Z"
   },
   {
    "duration": 135,
    "start_time": "2021-09-16T12:57:28.668Z"
   },
   {
    "duration": 80,
    "start_time": "2021-09-16T12:57:28.805Z"
   },
   {
    "duration": 334,
    "start_time": "2021-09-16T12:57:28.888Z"
   },
   {
    "duration": 323,
    "start_time": "2021-09-16T12:58:17.954Z"
   },
   {
    "duration": 127,
    "start_time": "2021-09-16T12:58:25.572Z"
   },
   {
    "duration": 94,
    "start_time": "2021-09-16T12:58:25.702Z"
   },
   {
    "duration": 39,
    "start_time": "2021-09-16T12:58:25.800Z"
   },
   {
    "duration": 119,
    "start_time": "2021-09-16T12:59:25.592Z"
   },
   {
    "duration": 81,
    "start_time": "2021-09-16T12:59:25.715Z"
   },
   {
    "duration": 37,
    "start_time": "2021-09-16T12:59:25.799Z"
   },
   {
    "duration": 271,
    "start_time": "2021-09-16T12:59:55.843Z"
   },
   {
    "duration": 300,
    "start_time": "2021-09-16T13:00:12.418Z"
   },
   {
    "duration": 120,
    "start_time": "2021-09-16T13:00:18.889Z"
   },
   {
    "duration": 74,
    "start_time": "2021-09-16T13:00:19.011Z"
   },
   {
    "duration": 40,
    "start_time": "2021-09-16T13:00:19.089Z"
   },
   {
    "duration": 434,
    "start_time": "2021-09-16T13:01:36.244Z"
   },
   {
    "duration": 128,
    "start_time": "2021-09-16T13:01:40.062Z"
   },
   {
    "duration": 69,
    "start_time": "2021-09-16T13:01:40.193Z"
   },
   {
    "duration": 46,
    "start_time": "2021-09-16T13:01:40.283Z"
   },
   {
    "duration": 72,
    "start_time": "2021-09-16T13:02:39.228Z"
   },
   {
    "duration": 122,
    "start_time": "2021-09-16T13:02:45.615Z"
   },
   {
    "duration": 82,
    "start_time": "2021-09-16T13:02:45.740Z"
   },
   {
    "duration": 62,
    "start_time": "2021-09-16T13:02:45.826Z"
   },
   {
    "duration": 118,
    "start_time": "2021-09-16T13:03:13.910Z"
   },
   {
    "duration": 80,
    "start_time": "2021-09-16T13:03:14.031Z"
   },
   {
    "duration": 35,
    "start_time": "2021-09-16T13:03:14.114Z"
   },
   {
    "duration": 283,
    "start_time": "2021-09-16T13:04:23.293Z"
   },
   {
    "duration": 123,
    "start_time": "2021-09-16T13:04:26.377Z"
   },
   {
    "duration": 67,
    "start_time": "2021-09-16T13:04:26.503Z"
   },
   {
    "duration": 296,
    "start_time": "2021-09-16T13:04:26.572Z"
   },
   {
    "duration": 295,
    "start_time": "2021-09-16T13:04:40.679Z"
   },
   {
    "duration": 299,
    "start_time": "2021-09-16T13:04:56.477Z"
   },
   {
    "duration": 114,
    "start_time": "2021-09-16T13:05:05.134Z"
   },
   {
    "duration": 79,
    "start_time": "2021-09-16T13:05:05.251Z"
   },
   {
    "duration": 34,
    "start_time": "2021-09-16T13:05:05.332Z"
   },
   {
    "duration": 122,
    "start_time": "2021-09-16T13:08:05.495Z"
   },
   {
    "duration": 81,
    "start_time": "2021-09-16T13:08:05.620Z"
   },
   {
    "duration": 99,
    "start_time": "2021-09-16T13:08:05.704Z"
   },
   {
    "duration": 40,
    "start_time": "2021-09-16T13:08:19.182Z"
   },
   {
    "duration": 305,
    "start_time": "2021-09-16T13:10:30.409Z"
   },
   {
    "duration": 119,
    "start_time": "2021-09-16T13:10:36.209Z"
   },
   {
    "duration": 86,
    "start_time": "2021-09-16T13:10:36.331Z"
   },
   {
    "duration": 37,
    "start_time": "2021-09-16T13:10:36.421Z"
   },
   {
    "duration": 316,
    "start_time": "2021-09-16T13:11:05.760Z"
   },
   {
    "duration": 111,
    "start_time": "2021-09-16T13:11:09.611Z"
   },
   {
    "duration": 79,
    "start_time": "2021-09-16T13:11:09.725Z"
   },
   {
    "duration": 82,
    "start_time": "2021-09-16T13:11:09.808Z"
   },
   {
    "duration": 130,
    "start_time": "2021-09-16T13:11:31.536Z"
   },
   {
    "duration": 100,
    "start_time": "2021-09-16T13:11:31.669Z"
   },
   {
    "duration": 42,
    "start_time": "2021-09-16T13:11:31.788Z"
   },
   {
    "duration": 365,
    "start_time": "2021-09-16T13:13:03.042Z"
   },
   {
    "duration": 122,
    "start_time": "2021-09-16T13:13:08.875Z"
   },
   {
    "duration": 67,
    "start_time": "2021-09-16T13:13:09.001Z"
   },
   {
    "duration": 343,
    "start_time": "2021-09-16T13:13:09.086Z"
   },
   {
    "duration": 113,
    "start_time": "2021-09-16T13:13:39.010Z"
   },
   {
    "duration": 82,
    "start_time": "2021-09-16T13:13:39.126Z"
   },
   {
    "duration": 302,
    "start_time": "2021-09-16T13:13:39.211Z"
   },
   {
    "duration": 283,
    "start_time": "2021-09-16T13:14:28.556Z"
   },
   {
    "duration": 114,
    "start_time": "2021-09-16T13:14:31.389Z"
   },
   {
    "duration": 81,
    "start_time": "2021-09-16T13:14:31.506Z"
   },
   {
    "duration": 38,
    "start_time": "2021-09-16T13:14:31.593Z"
   },
   {
    "duration": 117,
    "start_time": "2021-09-16T13:14:57.343Z"
   },
   {
    "duration": 66,
    "start_time": "2021-09-16T13:14:57.503Z"
   },
   {
    "duration": 37,
    "start_time": "2021-09-16T13:14:57.571Z"
   },
   {
    "duration": 313,
    "start_time": "2021-09-16T13:15:25.823Z"
   },
   {
    "duration": 124,
    "start_time": "2021-09-16T13:15:31.947Z"
   },
   {
    "duration": 84,
    "start_time": "2021-09-16T13:15:32.074Z"
   },
   {
    "duration": 49,
    "start_time": "2021-09-16T13:15:32.161Z"
   },
   {
    "duration": 336,
    "start_time": "2021-09-16T13:16:52.907Z"
   },
   {
    "duration": 123,
    "start_time": "2021-09-16T13:16:57.734Z"
   },
   {
    "duration": 95,
    "start_time": "2021-09-16T13:16:57.860Z"
   },
   {
    "duration": 84,
    "start_time": "2021-09-16T13:16:57.959Z"
   },
   {
    "duration": 309,
    "start_time": "2021-09-16T13:17:23.546Z"
   },
   {
    "duration": 120,
    "start_time": "2021-09-16T13:17:28.532Z"
   },
   {
    "duration": 80,
    "start_time": "2021-09-16T13:17:28.655Z"
   },
   {
    "duration": 61,
    "start_time": "2021-09-16T13:17:28.738Z"
   },
   {
    "duration": 333,
    "start_time": "2021-09-16T13:17:59.820Z"
   },
   {
    "duration": 125,
    "start_time": "2021-09-16T13:18:07.989Z"
   },
   {
    "duration": 115,
    "start_time": "2021-09-16T13:18:08.117Z"
   },
   {
    "duration": 65,
    "start_time": "2021-09-16T13:18:08.235Z"
   },
   {
    "duration": 331,
    "start_time": "2021-09-16T13:18:46.803Z"
   },
   {
    "duration": 116,
    "start_time": "2021-09-16T13:18:50.364Z"
   },
   {
    "duration": 71,
    "start_time": "2021-09-16T13:18:50.484Z"
   },
   {
    "duration": 64,
    "start_time": "2021-09-16T13:18:50.559Z"
   },
   {
    "duration": 116,
    "start_time": "2021-09-16T13:19:40.061Z"
   },
   {
    "duration": 72,
    "start_time": "2021-09-16T13:19:40.184Z"
   },
   {
    "duration": 57,
    "start_time": "2021-09-16T13:19:40.258Z"
   },
   {
    "duration": 123,
    "start_time": "2021-09-16T13:21:16.144Z"
   },
   {
    "duration": 72,
    "start_time": "2021-09-16T13:21:16.269Z"
   },
   {
    "duration": 320,
    "start_time": "2021-09-16T13:21:16.344Z"
   },
   {
    "duration": 164,
    "start_time": "2021-09-16T13:22:42.702Z"
   },
   {
    "duration": 74,
    "start_time": "2021-09-16T13:22:42.870Z"
   },
   {
    "duration": 72,
    "start_time": "2021-09-16T13:22:42.948Z"
   },
   {
    "duration": 117,
    "start_time": "2021-09-16T13:23:42.701Z"
   },
   {
    "duration": 87,
    "start_time": "2021-09-16T13:23:42.821Z"
   },
   {
    "duration": 45,
    "start_time": "2021-09-16T13:23:42.911Z"
   },
   {
    "duration": 118,
    "start_time": "2021-09-16T13:25:22.432Z"
   },
   {
    "duration": 82,
    "start_time": "2021-09-16T13:25:22.554Z"
   },
   {
    "duration": 84,
    "start_time": "2021-09-16T13:25:22.639Z"
   },
   {
    "duration": 381,
    "start_time": "2021-09-16T13:26:47.898Z"
   },
   {
    "duration": 141,
    "start_time": "2021-09-16T13:26:51.735Z"
   },
   {
    "duration": 77,
    "start_time": "2021-09-16T13:26:51.879Z"
   },
   {
    "duration": 74,
    "start_time": "2021-09-16T13:26:51.959Z"
   },
   {
    "duration": 118,
    "start_time": "2021-09-16T13:28:36.748Z"
   },
   {
    "duration": 80,
    "start_time": "2021-09-16T13:28:36.868Z"
   },
   {
    "duration": 82,
    "start_time": "2021-09-16T13:28:36.952Z"
   },
   {
    "duration": 127,
    "start_time": "2021-09-16T13:29:19.891Z"
   },
   {
    "duration": 89,
    "start_time": "2021-09-16T13:29:20.021Z"
   },
   {
    "duration": 73,
    "start_time": "2021-09-16T13:29:20.114Z"
   },
   {
    "duration": 114,
    "start_time": "2021-09-16T13:30:20.578Z"
   },
   {
    "duration": 67,
    "start_time": "2021-09-16T13:30:20.696Z"
   },
   {
    "duration": 64,
    "start_time": "2021-09-16T13:30:20.783Z"
   },
   {
    "duration": 288,
    "start_time": "2021-09-16T13:30:30.063Z"
   },
   {
    "duration": 118,
    "start_time": "2021-09-16T13:30:37.894Z"
   },
   {
    "duration": 86,
    "start_time": "2021-09-16T13:30:38.015Z"
   },
   {
    "duration": 77,
    "start_time": "2021-09-16T13:30:38.104Z"
   },
   {
    "duration": 113,
    "start_time": "2021-09-16T13:30:56.754Z"
   },
   {
    "duration": 149,
    "start_time": "2021-09-16T13:30:56.870Z"
   },
   {
    "duration": 336,
    "start_time": "2021-09-16T13:30:57.022Z"
   },
   {
    "duration": 117,
    "start_time": "2021-09-16T13:31:24.250Z"
   },
   {
    "duration": 125,
    "start_time": "2021-09-16T13:31:24.370Z"
   },
   {
    "duration": 299,
    "start_time": "2021-09-16T13:31:24.499Z"
   },
   {
    "duration": 117,
    "start_time": "2021-09-16T13:31:55.666Z"
   },
   {
    "duration": 119,
    "start_time": "2021-09-16T13:31:55.786Z"
   },
   {
    "duration": 321,
    "start_time": "2021-09-16T13:31:55.908Z"
   },
   {
    "duration": 115,
    "start_time": "2021-09-16T13:32:16.962Z"
   },
   {
    "duration": 118,
    "start_time": "2021-09-16T13:32:17.084Z"
   },
   {
    "duration": 120,
    "start_time": "2021-09-16T13:34:23.577Z"
   },
   {
    "duration": 118,
    "start_time": "2021-09-16T13:34:23.700Z"
   },
   {
    "duration": 10,
    "start_time": "2021-09-16T13:43:48.045Z"
   },
   {
    "duration": 31,
    "start_time": "2021-09-16T13:51:46.120Z"
   },
   {
    "duration": 433,
    "start_time": "2021-09-17T05:08:52.611Z"
   },
   {
    "duration": 988,
    "start_time": "2021-09-17T05:09:01.836Z"
   },
   {
    "duration": 111,
    "start_time": "2021-09-17T05:09:02.826Z"
   },
   {
    "duration": 10,
    "start_time": "2021-09-17T05:09:02.940Z"
   },
   {
    "duration": 429,
    "start_time": "2021-09-17T05:51:32.923Z"
   },
   {
    "duration": 21,
    "start_time": "2021-09-17T06:01:19.656Z"
   },
   {
    "duration": 114,
    "start_time": "2021-09-17T06:03:54.857Z"
   },
   {
    "duration": 131,
    "start_time": "2021-09-17T06:03:54.974Z"
   },
   {
    "duration": 397,
    "start_time": "2021-09-17T06:03:55.108Z"
   },
   {
    "duration": 116,
    "start_time": "2021-09-17T06:04:34.617Z"
   },
   {
    "duration": 99,
    "start_time": "2021-09-17T06:04:34.737Z"
   },
   {
    "duration": 370,
    "start_time": "2021-09-17T06:04:34.839Z"
   },
   {
    "duration": 37,
    "start_time": "2021-09-17T06:19:49.064Z"
   },
   {
    "duration": 34,
    "start_time": "2021-09-17T06:33:23.807Z"
   },
   {
    "duration": 147,
    "start_time": "2021-09-17T06:34:38.932Z"
   },
   {
    "duration": 185,
    "start_time": "2021-09-17T06:34:50.524Z"
   },
   {
    "duration": 36,
    "start_time": "2021-09-17T06:36:39.228Z"
   },
   {
    "duration": 969,
    "start_time": "2021-09-17T06:39:38.312Z"
   },
   {
    "duration": 36,
    "start_time": "2021-09-17T06:40:04.497Z"
   },
   {
    "duration": 35,
    "start_time": "2021-09-17T06:40:41.094Z"
   },
   {
    "duration": 36,
    "start_time": "2021-09-17T06:41:38.374Z"
   },
   {
    "duration": 37,
    "start_time": "2021-09-17T06:41:59.008Z"
   },
   {
    "duration": 22,
    "start_time": "2021-09-17T06:42:20.609Z"
   },
   {
    "duration": 22,
    "start_time": "2021-09-17T06:43:02.865Z"
   },
   {
    "duration": 36,
    "start_time": "2021-09-17T06:43:29.527Z"
   },
   {
    "duration": 36,
    "start_time": "2021-09-17T06:45:59.099Z"
   },
   {
    "duration": 154,
    "start_time": "2021-09-17T06:46:14.544Z"
   },
   {
    "duration": 104,
    "start_time": "2021-09-17T06:46:14.701Z"
   },
   {
    "duration": 40,
    "start_time": "2021-09-17T06:46:14.817Z"
   },
   {
    "duration": 35,
    "start_time": "2021-09-17T06:47:21.463Z"
   },
   {
    "duration": 36,
    "start_time": "2021-09-17T06:48:38.761Z"
   },
   {
    "duration": 38,
    "start_time": "2021-09-17T06:48:54.689Z"
   },
   {
    "duration": 34,
    "start_time": "2021-09-17T06:49:21.341Z"
   },
   {
    "duration": 431,
    "start_time": "2021-09-17T06:55:06.510Z"
   },
   {
    "duration": 1114,
    "start_time": "2021-09-17T06:55:26.460Z"
   },
   {
    "duration": 1047,
    "start_time": "2021-09-17T07:03:03.792Z"
   },
   {
    "duration": 33,
    "start_time": "2021-09-17T07:04:04.668Z"
   },
   {
    "duration": 180,
    "start_time": "2021-09-17T07:42:46.365Z"
   },
   {
    "duration": 194,
    "start_time": "2021-09-17T07:43:22.930Z"
   },
   {
    "duration": 24,
    "start_time": "2021-09-17T07:43:31.729Z"
   },
   {
    "duration": 129,
    "start_time": "2021-09-17T07:45:57.189Z"
   },
   {
    "duration": 29,
    "start_time": "2021-09-17T07:46:28.017Z"
   },
   {
    "duration": 26,
    "start_time": "2021-09-17T07:46:57.170Z"
   },
   {
    "duration": 374,
    "start_time": "2021-09-17T07:52:32.637Z"
   },
   {
    "duration": 29,
    "start_time": "2021-09-17T07:53:01.031Z"
   },
   {
    "duration": 958,
    "start_time": "2021-09-17T07:53:54.094Z"
   },
   {
    "duration": 25,
    "start_time": "2021-09-17T07:55:08.519Z"
   },
   {
    "duration": 30,
    "start_time": "2021-09-17T07:56:11.552Z"
   },
   {
    "duration": 114,
    "start_time": "2021-09-17T07:56:25.664Z"
   },
   {
    "duration": 101,
    "start_time": "2021-09-17T07:56:25.781Z"
   },
   {
    "duration": 1115,
    "start_time": "2021-09-17T07:56:25.884Z"
   },
   {
    "duration": 392,
    "start_time": "2021-09-17T07:57:01.225Z"
   },
   {
    "duration": 354,
    "start_time": "2021-09-17T07:57:06.506Z"
   },
   {
    "duration": 363,
    "start_time": "2021-09-17T07:57:55.848Z"
   },
   {
    "duration": 31,
    "start_time": "2021-09-17T07:59:08.345Z"
   },
   {
    "duration": 35,
    "start_time": "2021-09-17T07:59:28.568Z"
   },
   {
    "duration": 112,
    "start_time": "2021-09-17T07:59:35.851Z"
   },
   {
    "duration": 108,
    "start_time": "2021-09-17T07:59:35.965Z"
   },
   {
    "duration": 37,
    "start_time": "2021-09-17T07:59:36.168Z"
   },
   {
    "duration": 42,
    "start_time": "2021-09-17T08:02:04.153Z"
   },
   {
    "duration": 115,
    "start_time": "2021-09-17T08:02:13.552Z"
   },
   {
    "duration": 115,
    "start_time": "2021-09-17T08:02:13.670Z"
   },
   {
    "duration": 57,
    "start_time": "2021-09-17T08:02:13.788Z"
   },
   {
    "duration": 43,
    "start_time": "2021-09-17T08:05:36.188Z"
   },
   {
    "duration": 115,
    "start_time": "2021-09-17T08:05:46.165Z"
   },
   {
    "duration": 114,
    "start_time": "2021-09-17T08:05:46.283Z"
   },
   {
    "duration": 54,
    "start_time": "2021-09-17T08:05:46.400Z"
   },
   {
    "duration": 39,
    "start_time": "2021-09-17T08:21:36.209Z"
   },
   {
    "duration": 35,
    "start_time": "2021-09-17T08:22:00.862Z"
   },
   {
    "duration": 113,
    "start_time": "2021-09-17T08:22:23.742Z"
   },
   {
    "duration": 116,
    "start_time": "2021-09-17T08:22:23.859Z"
   },
   {
    "duration": 48,
    "start_time": "2021-09-17T08:22:23.978Z"
   },
   {
    "duration": 52,
    "start_time": "2021-09-17T08:26:47.340Z"
   },
   {
    "duration": 1410,
    "start_time": "2021-09-17T08:30:12.488Z"
   },
   {
    "duration": 397,
    "start_time": "2021-09-17T08:31:24.966Z"
   },
   {
    "duration": 897,
    "start_time": "2021-09-17T08:31:42.367Z"
   },
   {
    "duration": 5922,
    "start_time": "2021-09-17T08:32:40.472Z"
   },
   {
    "duration": 909,
    "start_time": "2021-09-17T08:33:03.513Z"
   },
   {
    "duration": 888,
    "start_time": "2021-09-17T08:51:42.793Z"
   },
   {
    "duration": 983,
    "start_time": "2021-09-17T08:53:55.006Z"
   },
   {
    "duration": 957,
    "start_time": "2021-09-17T12:16:20.068Z"
   },
   {
    "duration": 488,
    "start_time": "2021-09-17T12:17:05.045Z"
   },
   {
    "duration": 296,
    "start_time": "2021-09-17T12:18:29.262Z"
   },
   {
    "duration": 365,
    "start_time": "2021-09-17T12:18:39.556Z"
   },
   {
    "duration": 287,
    "start_time": "2021-09-17T12:19:23.077Z"
   },
   {
    "duration": 320,
    "start_time": "2021-09-17T12:20:14.030Z"
   },
   {
    "duration": 329,
    "start_time": "2021-09-17T12:20:45.501Z"
   },
   {
    "duration": 333,
    "start_time": "2021-09-17T12:20:53.950Z"
   },
   {
    "duration": 340,
    "start_time": "2021-09-17T12:21:03.190Z"
   },
   {
    "duration": 341,
    "start_time": "2021-09-17T12:21:23.736Z"
   },
   {
    "duration": 391,
    "start_time": "2021-09-17T12:21:42.167Z"
   },
   {
    "duration": 395,
    "start_time": "2021-09-17T12:21:55.750Z"
   },
   {
    "duration": 535,
    "start_time": "2021-09-17T12:24:04.130Z"
   },
   {
    "duration": 124,
    "start_time": "2021-09-17T12:24:16.946Z"
   },
   {
    "duration": 183,
    "start_time": "2021-09-17T12:24:17.073Z"
   },
   {
    "duration": 923,
    "start_time": "2021-09-17T12:24:17.259Z"
   },
   {
    "duration": 446,
    "start_time": "2021-09-17T12:24:18.185Z"
   },
   {
    "duration": 451,
    "start_time": "2021-09-17T12:28:05.194Z"
   },
   {
    "duration": 454,
    "start_time": "2021-09-17T12:29:06.658Z"
   },
   {
    "duration": 701,
    "start_time": "2021-09-17T12:29:17.681Z"
   },
   {
    "duration": 1815,
    "start_time": "2021-09-17T12:30:10.170Z"
   },
   {
    "duration": 421,
    "start_time": "2021-09-17T12:31:47.621Z"
   },
   {
    "duration": 404,
    "start_time": "2021-09-17T12:32:47.651Z"
   },
   {
    "duration": 409,
    "start_time": "2021-09-17T12:32:52.731Z"
   },
   {
    "duration": 120,
    "start_time": "2021-09-17T12:32:57.909Z"
   },
   {
    "duration": 117,
    "start_time": "2021-09-17T12:32:58.033Z"
   },
   {
    "duration": 905,
    "start_time": "2021-09-17T12:32:58.154Z"
   },
   {
    "duration": 434,
    "start_time": "2021-09-17T12:32:59.062Z"
   },
   {
    "duration": 700,
    "start_time": "2021-09-17T12:34:07.119Z"
   },
   {
    "duration": 767,
    "start_time": "2021-09-17T12:34:53.549Z"
   },
   {
    "duration": 454,
    "start_time": "2021-09-17T12:35:10.365Z"
   },
   {
    "duration": 508,
    "start_time": "2021-09-17T12:35:30.694Z"
   },
   {
    "duration": 512,
    "start_time": "2021-09-17T12:35:39.884Z"
   },
   {
    "duration": 110,
    "start_time": "2021-09-17T12:40:07.785Z"
   },
   {
    "duration": 108,
    "start_time": "2021-09-17T12:40:07.898Z"
   },
   {
    "duration": 1007,
    "start_time": "2021-09-17T12:40:08.009Z"
   },
   {
    "duration": 499,
    "start_time": "2021-09-17T12:40:09.019Z"
   },
   {
    "duration": 1224,
    "start_time": "2021-09-17T12:43:10.943Z"
   },
   {
    "duration": 701,
    "start_time": "2021-09-17T12:43:55.592Z"
   },
   {
    "duration": 794,
    "start_time": "2021-09-17T12:48:57.010Z"
   },
   {
    "duration": 143,
    "start_time": "2021-09-17T12:50:14.682Z"
   },
   {
    "duration": 1064,
    "start_time": "2021-09-17T12:52:23.100Z"
   },
   {
    "duration": 839,
    "start_time": "2021-09-17T12:53:52.845Z"
   },
   {
    "duration": 751,
    "start_time": "2021-09-17T12:54:56.455Z"
   },
   {
    "duration": 969,
    "start_time": "2021-09-20T08:16:51.775Z"
   },
   {
    "duration": 500,
    "start_time": "2021-09-20T08:16:57.742Z"
   },
   {
    "duration": 115,
    "start_time": "2021-09-20T08:16:58.246Z"
   },
   {
    "duration": 905,
    "start_time": "2021-09-20T08:16:58.364Z"
   },
   {
    "duration": 1085,
    "start_time": "2021-09-20T08:16:59.272Z"
   },
   {
    "duration": 1364,
    "start_time": "2021-09-20T08:17:56.578Z"
   },
   {
    "duration": 1236,
    "start_time": "2021-09-20T08:18:50.850Z"
   },
   {
    "duration": 1121,
    "start_time": "2021-09-20T08:19:43.433Z"
   },
   {
    "duration": 1164,
    "start_time": "2021-09-20T08:19:58.242Z"
   },
   {
    "duration": 117,
    "start_time": "2021-09-20T08:21:18.705Z"
   },
   {
    "duration": 1121,
    "start_time": "2021-09-20T08:21:31.529Z"
   },
   {
    "duration": 1123,
    "start_time": "2021-09-20T08:22:10.384Z"
   },
   {
    "duration": 1127,
    "start_time": "2021-09-20T08:22:37.064Z"
   },
   {
    "duration": 1111,
    "start_time": "2021-09-20T08:24:06.392Z"
   },
   {
    "duration": 1027,
    "start_time": "2021-09-20T08:24:54.200Z"
   },
   {
    "duration": 1078,
    "start_time": "2021-09-20T08:25:12.120Z"
   },
   {
    "duration": 1118,
    "start_time": "2021-09-20T08:26:45.519Z"
   },
   {
    "duration": 1379,
    "start_time": "2021-09-20T08:28:05.447Z"
   },
   {
    "duration": 1479,
    "start_time": "2021-09-20T08:28:57.974Z"
   },
   {
    "duration": 119,
    "start_time": "2021-09-20T08:29:15.398Z"
   },
   {
    "duration": 129,
    "start_time": "2021-09-20T08:29:15.521Z"
   },
   {
    "duration": 982,
    "start_time": "2021-09-20T08:29:15.654Z"
   },
   {
    "duration": 1456,
    "start_time": "2021-09-20T08:29:16.639Z"
   },
   {
    "duration": 1408,
    "start_time": "2021-09-20T08:30:16.732Z"
   },
   {
    "duration": 1402,
    "start_time": "2021-09-20T08:34:14.092Z"
   },
   {
    "duration": 191,
    "start_time": "2021-09-20T08:35:22.003Z"
   },
   {
    "duration": 1536,
    "start_time": "2021-09-20T08:35:30.563Z"
   },
   {
    "duration": 1959,
    "start_time": "2021-09-20T08:38:59.426Z"
   },
   {
    "duration": 1740,
    "start_time": "2021-09-20T08:41:15.465Z"
   },
   {
    "duration": 1660,
    "start_time": "2021-09-20T08:41:35.882Z"
   },
   {
    "duration": 1787,
    "start_time": "2021-09-20T08:42:26.450Z"
   },
   {
    "duration": 1717,
    "start_time": "2021-09-20T08:53:37.750Z"
   },
   {
    "duration": 117,
    "start_time": "2021-09-20T08:55:12.399Z"
   },
   {
    "duration": 111,
    "start_time": "2021-09-20T08:55:12.518Z"
   },
   {
    "duration": 939,
    "start_time": "2021-09-20T08:55:12.631Z"
   },
   {
    "duration": 1819,
    "start_time": "2021-09-20T08:55:13.581Z"
   },
   {
    "duration": 735,
    "start_time": "2021-09-20T08:58:00.284Z"
   },
   {
    "duration": 3096,
    "start_time": "2021-09-20T08:58:25.420Z"
   },
   {
    "duration": 3290,
    "start_time": "2021-09-20T09:27:40.019Z"
   },
   {
    "duration": 746,
    "start_time": "2021-09-20T09:30:41.842Z"
   },
   {
    "duration": 1914,
    "start_time": "2021-09-20T09:33:30.778Z"
   },
   {
    "duration": 1975,
    "start_time": "2021-09-20T09:42:55.686Z"
   },
   {
    "duration": 237,
    "start_time": "2021-09-20T09:57:52.583Z"
   },
   {
    "duration": 268,
    "start_time": "2021-09-20T09:59:14.094Z"
   },
   {
    "duration": 519,
    "start_time": "2021-09-20T10:00:52.744Z"
   },
   {
    "duration": 493,
    "start_time": "2021-09-20T10:20:25.434Z"
   },
   {
    "duration": 519,
    "start_time": "2021-09-20T10:32:11.240Z"
   },
   {
    "duration": 546,
    "start_time": "2021-09-20T10:32:43.335Z"
   },
   {
    "duration": 571,
    "start_time": "2021-09-20T10:33:05.855Z"
   },
   {
    "duration": 359,
    "start_time": "2021-09-20T10:34:04.343Z"
   },
   {
    "duration": 108,
    "start_time": "2021-09-20T10:34:25.849Z"
   },
   {
    "duration": 122,
    "start_time": "2021-09-20T10:34:25.960Z"
   },
   {
    "duration": 897,
    "start_time": "2021-09-20T10:34:26.085Z"
   },
   {
    "duration": 2122,
    "start_time": "2021-09-20T10:34:26.985Z"
   },
   {
    "duration": 2354,
    "start_time": "2021-09-20T10:35:04.646Z"
   },
   {
    "duration": 1952,
    "start_time": "2021-09-20T10:40:24.092Z"
   },
   {
    "duration": 1999,
    "start_time": "2021-09-20T10:42:28.355Z"
   },
   {
    "duration": 2203,
    "start_time": "2021-09-20T10:46:57.233Z"
   },
   {
    "duration": 2244,
    "start_time": "2021-09-20T10:49:39.833Z"
   },
   {
    "duration": 111,
    "start_time": "2021-09-20T11:22:46.240Z"
   },
   {
    "duration": 115,
    "start_time": "2021-09-20T11:22:46.354Z"
   },
   {
    "duration": 979,
    "start_time": "2021-09-20T11:22:46.483Z"
   },
   {
    "duration": 2266,
    "start_time": "2021-09-20T11:22:47.464Z"
   },
   {
    "duration": 2642,
    "start_time": "2021-09-20T11:26:13.244Z"
   },
   {
    "duration": 106,
    "start_time": "2021-09-20T11:26:33.855Z"
   },
   {
    "duration": 106,
    "start_time": "2021-09-20T11:26:33.964Z"
   },
   {
    "duration": 1058,
    "start_time": "2021-09-20T11:26:34.073Z"
   },
   {
    "duration": 2653,
    "start_time": "2021-09-20T11:26:35.133Z"
   },
   {
    "duration": 7255,
    "start_time": "2021-09-20T11:27:28.717Z"
   },
   {
    "duration": 104,
    "start_time": "2021-09-20T11:27:37.276Z"
   },
   {
    "duration": 111,
    "start_time": "2021-09-20T11:27:37.383Z"
   },
   {
    "duration": 888,
    "start_time": "2021-09-20T11:27:37.498Z"
   },
   {
    "duration": 6189,
    "start_time": "2021-09-20T11:27:38.389Z"
   },
   {
    "duration": 104,
    "start_time": "2021-09-20T11:32:07.488Z"
   },
   {
    "duration": 113,
    "start_time": "2021-09-20T11:32:07.595Z"
   },
   {
    "duration": 932,
    "start_time": "2021-09-20T11:32:07.711Z"
   },
   {
    "duration": 6278,
    "start_time": "2021-09-20T11:32:08.645Z"
   },
   {
    "duration": 6570,
    "start_time": "2021-09-20T11:37:07.976Z"
   },
   {
    "duration": 6588,
    "start_time": "2021-09-20T11:37:19.824Z"
   },
   {
    "duration": 6154,
    "start_time": "2021-09-20T11:37:41.560Z"
   },
   {
    "duration": 102,
    "start_time": "2021-09-20T11:40:50.792Z"
   },
   {
    "duration": 137,
    "start_time": "2021-09-20T11:40:50.897Z"
   },
   {
    "duration": 908,
    "start_time": "2021-09-20T11:40:51.038Z"
   },
   {
    "duration": 7076,
    "start_time": "2021-09-20T11:40:51.948Z"
   },
   {
    "duration": 104,
    "start_time": "2021-09-20T11:41:23.682Z"
   },
   {
    "duration": 113,
    "start_time": "2021-09-20T11:41:23.789Z"
   },
   {
    "duration": 949,
    "start_time": "2021-09-20T11:41:23.905Z"
   },
   {
    "duration": 6939,
    "start_time": "2021-09-20T11:41:24.857Z"
   },
   {
    "duration": 98,
    "start_time": "2021-09-20T11:41:36.249Z"
   },
   {
    "duration": 100,
    "start_time": "2021-09-20T11:41:36.350Z"
   },
   {
    "duration": 897,
    "start_time": "2021-09-20T11:41:36.453Z"
   },
   {
    "duration": 6524,
    "start_time": "2021-09-20T11:41:37.352Z"
   },
   {
    "duration": 98,
    "start_time": "2021-09-20T11:42:41.087Z"
   },
   {
    "duration": 211,
    "start_time": "2021-09-20T11:42:41.188Z"
   },
   {
    "duration": 921,
    "start_time": "2021-09-20T11:42:41.401Z"
   },
   {
    "duration": 6512,
    "start_time": "2021-09-20T11:42:42.324Z"
   },
   {
    "duration": 98,
    "start_time": "2021-09-20T11:46:16.374Z"
   },
   {
    "duration": 114,
    "start_time": "2021-09-20T11:46:16.483Z"
   },
   {
    "duration": 939,
    "start_time": "2021-09-20T11:46:16.600Z"
   },
   {
    "duration": 7269,
    "start_time": "2021-09-20T11:46:17.542Z"
   },
   {
    "duration": 120,
    "start_time": "2021-09-20T11:49:01.106Z"
   },
   {
    "duration": 116,
    "start_time": "2021-09-20T11:49:01.229Z"
   },
   {
    "duration": 924,
    "start_time": "2021-09-20T11:49:01.348Z"
   },
   {
    "duration": 6383,
    "start_time": "2021-09-20T11:49:02.274Z"
   },
   {
    "duration": 108,
    "start_time": "2021-09-20T11:49:46.906Z"
   },
   {
    "duration": 112,
    "start_time": "2021-09-20T11:49:47.017Z"
   },
   {
    "duration": 1014,
    "start_time": "2021-09-20T11:49:47.131Z"
   },
   {
    "duration": 6103,
    "start_time": "2021-09-20T11:49:48.148Z"
   },
   {
    "duration": 6531,
    "start_time": "2021-09-20T11:50:31.900Z"
   },
   {
    "duration": 100,
    "start_time": "2021-09-20T11:50:41.630Z"
   },
   {
    "duration": 109,
    "start_time": "2021-09-20T11:50:41.733Z"
   },
   {
    "duration": 917,
    "start_time": "2021-09-20T11:50:41.845Z"
   },
   {
    "duration": 6261,
    "start_time": "2021-09-20T11:50:42.764Z"
   },
   {
    "duration": 99,
    "start_time": "2021-09-20T11:52:02.213Z"
   },
   {
    "duration": 110,
    "start_time": "2021-09-20T11:52:02.315Z"
   },
   {
    "duration": 917,
    "start_time": "2021-09-20T11:52:02.428Z"
   },
   {
    "duration": 6228,
    "start_time": "2021-09-20T11:52:03.348Z"
   },
   {
    "duration": 95,
    "start_time": "2021-09-20T12:02:15.705Z"
   },
   {
    "duration": 215,
    "start_time": "2021-09-20T12:02:15.803Z"
   },
   {
    "duration": 1016,
    "start_time": "2021-09-20T12:02:16.020Z"
   },
   {
    "duration": 6799,
    "start_time": "2021-09-20T12:02:17.039Z"
   },
   {
    "duration": 124,
    "start_time": "2021-09-20T12:05:37.768Z"
   },
   {
    "duration": 118,
    "start_time": "2021-09-20T12:05:37.895Z"
   },
   {
    "duration": 1066,
    "start_time": "2021-09-20T12:05:38.016Z"
   },
   {
    "duration": 6590,
    "start_time": "2021-09-20T12:05:39.086Z"
   },
   {
    "duration": 100,
    "start_time": "2021-09-20T12:11:52.102Z"
   },
   {
    "duration": 117,
    "start_time": "2021-09-20T12:11:52.205Z"
   },
   {
    "duration": 913,
    "start_time": "2021-09-20T12:11:52.325Z"
   },
   {
    "duration": 2404,
    "start_time": "2021-09-20T12:11:53.242Z"
   },
   {
    "duration": 97,
    "start_time": "2021-09-20T12:13:28.398Z"
   },
   {
    "duration": 109,
    "start_time": "2021-09-20T12:13:28.498Z"
   },
   {
    "duration": 876,
    "start_time": "2021-09-20T12:13:28.610Z"
   },
   {
    "duration": 3137,
    "start_time": "2021-09-20T12:13:29.488Z"
   },
   {
    "duration": 2835,
    "start_time": "2021-09-20T12:14:24.804Z"
   },
   {
    "duration": 2818,
    "start_time": "2021-09-20T12:23:39.776Z"
   },
   {
    "duration": 3528,
    "start_time": "2021-09-20T12:27:29.453Z"
   },
   {
    "duration": 98,
    "start_time": "2021-09-20T12:41:20.732Z"
   },
   {
    "duration": 111,
    "start_time": "2021-09-20T12:41:20.833Z"
   },
   {
    "duration": 930,
    "start_time": "2021-09-20T12:41:20.947Z"
   },
   {
    "duration": 4813,
    "start_time": "2021-09-20T12:41:21.882Z"
   },
   {
    "duration": 104,
    "start_time": "2021-09-20T12:41:42.531Z"
   },
   {
    "duration": 111,
    "start_time": "2021-09-20T12:41:42.637Z"
   },
   {
    "duration": 919,
    "start_time": "2021-09-20T12:41:42.751Z"
   },
   {
    "duration": 4641,
    "start_time": "2021-09-20T12:41:43.672Z"
   },
   {
    "duration": 99,
    "start_time": "2021-09-20T12:43:16.719Z"
   },
   {
    "duration": 111,
    "start_time": "2021-09-20T12:43:16.821Z"
   },
   {
    "duration": 952,
    "start_time": "2021-09-20T12:43:16.935Z"
   },
   {
    "duration": 4793,
    "start_time": "2021-09-20T12:43:17.889Z"
   },
   {
    "duration": 106,
    "start_time": "2021-09-20T13:35:15.306Z"
   },
   {
    "duration": 120,
    "start_time": "2021-09-20T13:35:15.415Z"
   },
   {
    "duration": 1009,
    "start_time": "2021-09-20T13:35:15.539Z"
   },
   {
    "duration": 5116,
    "start_time": "2021-09-20T13:35:16.551Z"
   },
   {
    "duration": 100,
    "start_time": "2021-09-20T13:36:25.457Z"
   },
   {
    "duration": 111,
    "start_time": "2021-09-20T13:36:25.560Z"
   },
   {
    "duration": 913,
    "start_time": "2021-09-20T13:36:25.682Z"
   },
   {
    "duration": 5308,
    "start_time": "2021-09-20T13:36:26.597Z"
   },
   {
    "duration": 103,
    "start_time": "2021-09-20T13:37:00.681Z"
   },
   {
    "duration": 116,
    "start_time": "2021-09-20T13:37:00.787Z"
   },
   {
    "duration": 1018,
    "start_time": "2021-09-20T13:37:00.906Z"
   },
   {
    "duration": 4905,
    "start_time": "2021-09-20T13:37:01.926Z"
   },
   {
    "duration": 4844,
    "start_time": "2021-09-20T13:38:45.432Z"
   },
   {
    "duration": 105,
    "start_time": "2021-09-20T13:47:28.182Z"
   },
   {
    "duration": 113,
    "start_time": "2021-09-20T13:47:28.290Z"
   },
   {
    "duration": 908,
    "start_time": "2021-09-20T13:47:28.405Z"
   },
   {
    "duration": 5390,
    "start_time": "2021-09-20T13:47:29.315Z"
   },
   {
    "duration": 103,
    "start_time": "2021-09-20T13:53:08.556Z"
   },
   {
    "duration": 108,
    "start_time": "2021-09-20T13:53:08.662Z"
   },
   {
    "duration": 899,
    "start_time": "2021-09-20T13:53:08.773Z"
   },
   {
    "duration": 113,
    "start_time": "2021-09-20T13:53:09.683Z"
   },
   {
    "duration": 5299,
    "start_time": "2021-09-20T13:53:36.634Z"
   },
   {
    "duration": 5317,
    "start_time": "2021-09-20T13:55:18.256Z"
   },
   {
    "duration": 1086,
    "start_time": "2021-09-20T18:38:19.520Z"
   },
   {
    "duration": 376,
    "start_time": "2021-09-20T18:38:26.059Z"
   },
   {
    "duration": 117,
    "start_time": "2021-09-20T18:38:26.439Z"
   },
   {
    "duration": 918,
    "start_time": "2021-09-20T18:38:26.558Z"
   },
   {
    "duration": 7353,
    "start_time": "2021-09-20T18:38:27.478Z"
   },
   {
    "duration": 120,
    "start_time": "2021-09-20T18:39:47.421Z"
   },
   {
    "duration": 115,
    "start_time": "2021-09-20T18:39:47.543Z"
   },
   {
    "duration": 894,
    "start_time": "2021-09-20T18:39:47.661Z"
   },
   {
    "duration": 5474,
    "start_time": "2021-09-20T18:39:48.558Z"
   },
   {
    "duration": 5663,
    "start_time": "2021-09-20T18:50:42.362Z"
   },
   {
    "duration": 6276,
    "start_time": "2021-09-20T18:55:56.845Z"
   },
   {
    "duration": 9659,
    "start_time": "2021-09-20T18:56:55.731Z"
   },
   {
    "duration": 9948,
    "start_time": "2021-09-20T19:11:01.437Z"
   },
   {
    "duration": 10104,
    "start_time": "2021-09-20T19:15:45.508Z"
   },
   {
    "duration": 6615,
    "start_time": "2021-09-20T19:16:17.122Z"
   },
   {
    "duration": 10505,
    "start_time": "2021-09-20T19:16:44.399Z"
   },
   {
    "duration": 6681,
    "start_time": "2021-09-20T19:20:20.269Z"
   },
   {
    "duration": 8089,
    "start_time": "2021-09-20T19:24:09.061Z"
   },
   {
    "duration": 894,
    "start_time": "2021-09-21T06:12:58.641Z"
   },
   {
    "duration": 117,
    "start_time": "2021-09-21T06:12:59.538Z"
   },
   {
    "duration": 1024,
    "start_time": "2021-09-21T06:12:59.667Z"
   },
   {
    "duration": 8101,
    "start_time": "2021-09-21T06:13:00.698Z"
   },
   {
    "duration": 149,
    "start_time": "2021-09-21T06:15:06.684Z"
   },
   {
    "duration": 247,
    "start_time": "2021-09-21T06:15:06.836Z"
   },
   {
    "duration": 1033,
    "start_time": "2021-09-21T06:15:07.087Z"
   },
   {
    "duration": 7503,
    "start_time": "2021-09-21T06:15:08.123Z"
   },
   {
    "duration": 8133,
    "start_time": "2021-09-21T06:21:10.449Z"
   },
   {
    "duration": 7728,
    "start_time": "2021-09-21T06:21:28.972Z"
   },
   {
    "duration": 7855,
    "start_time": "2021-09-21T06:22:52.083Z"
   },
   {
    "duration": 7268,
    "start_time": "2021-09-21T09:28:53.786Z"
   },
   {
    "duration": 111,
    "start_time": "2021-09-21T09:29:15.025Z"
   },
   {
    "duration": 109,
    "start_time": "2021-09-21T09:29:15.139Z"
   },
   {
    "duration": 926,
    "start_time": "2021-09-21T09:29:15.251Z"
   },
   {
    "duration": 7559,
    "start_time": "2021-09-21T09:29:16.180Z"
   },
   {
    "duration": 7276,
    "start_time": "2021-09-21T09:30:26.393Z"
   },
   {
    "duration": 7463,
    "start_time": "2021-09-21T09:30:45.647Z"
   },
   {
    "duration": 7358,
    "start_time": "2021-09-21T09:58:08.385Z"
   },
   {
    "duration": 7394,
    "start_time": "2021-09-21T09:58:34.998Z"
   },
   {
    "duration": 7392,
    "start_time": "2021-09-21T09:59:25.800Z"
   },
   {
    "duration": 7753,
    "start_time": "2021-09-21T10:22:41.298Z"
   },
   {
    "duration": 7590,
    "start_time": "2021-09-21T10:24:37.343Z"
   },
   {
    "duration": 8050,
    "start_time": "2021-09-21T10:30:46.684Z"
   },
   {
    "duration": 8902,
    "start_time": "2021-09-21T10:32:00.494Z"
   },
   {
    "duration": 8006,
    "start_time": "2021-09-21T10:32:19.621Z"
   },
   {
    "duration": 887,
    "start_time": "2021-09-21T18:03:26.768Z"
   },
   {
    "duration": 114,
    "start_time": "2021-09-21T18:03:27.658Z"
   },
   {
    "duration": 958,
    "start_time": "2021-09-21T18:03:27.775Z"
   },
   {
    "duration": 6610,
    "start_time": "2021-09-21T18:03:28.736Z"
   },
   {
    "duration": 109,
    "start_time": "2021-09-21T18:04:16.496Z"
   },
   {
    "duration": 142,
    "start_time": "2021-09-21T18:04:16.608Z"
   },
   {
    "duration": 928,
    "start_time": "2021-09-21T18:04:16.753Z"
   },
   {
    "duration": 6709,
    "start_time": "2021-09-21T18:04:17.684Z"
   },
   {
    "duration": 117,
    "start_time": "2021-09-21T18:10:36.585Z"
   },
   {
    "duration": 110,
    "start_time": "2021-09-21T18:10:36.705Z"
   },
   {
    "duration": 951,
    "start_time": "2021-09-21T18:10:36.818Z"
   },
   {
    "duration": 6839,
    "start_time": "2021-09-21T18:10:37.772Z"
   },
   {
    "duration": 8952,
    "start_time": "2021-09-21T18:11:07.265Z"
   },
   {
    "duration": 120,
    "start_time": "2021-09-21T18:11:44.891Z"
   },
   {
    "duration": 110,
    "start_time": "2021-09-21T18:11:45.014Z"
   },
   {
    "duration": 948,
    "start_time": "2021-09-21T18:11:45.127Z"
   },
   {
    "duration": 6780,
    "start_time": "2021-09-21T18:11:46.077Z"
   },
   {
    "duration": 106,
    "start_time": "2021-09-21T18:14:40.378Z"
   },
   {
    "duration": 104,
    "start_time": "2021-09-21T18:14:40.487Z"
   },
   {
    "duration": 913,
    "start_time": "2021-09-21T18:14:40.594Z"
   },
   {
    "duration": 8857,
    "start_time": "2021-09-21T18:14:41.510Z"
   },
   {
    "duration": 108,
    "start_time": "2021-09-21T18:14:58.673Z"
   },
   {
    "duration": 109,
    "start_time": "2021-09-21T18:14:58.784Z"
   },
   {
    "duration": 915,
    "start_time": "2021-09-21T18:14:58.897Z"
   },
   {
    "duration": 8806,
    "start_time": "2021-09-21T18:14:59.815Z"
   },
   {
    "duration": 8811,
    "start_time": "2021-09-21T18:15:42.986Z"
   },
   {
    "duration": 10897,
    "start_time": "2021-09-21T18:17:48.245Z"
   },
   {
    "duration": 106,
    "start_time": "2021-09-21T18:19:11.993Z"
   },
   {
    "duration": 113,
    "start_time": "2021-09-21T18:19:12.102Z"
   },
   {
    "duration": 912,
    "start_time": "2021-09-21T18:19:12.218Z"
   },
   {
    "duration": 11740,
    "start_time": "2021-09-21T18:19:13.133Z"
   },
   {
    "duration": 9918,
    "start_time": "2021-09-21T18:20:43.726Z"
   },
   {
    "duration": 108,
    "start_time": "2021-09-21T18:21:41.245Z"
   },
   {
    "duration": 134,
    "start_time": "2021-09-21T18:21:41.356Z"
   },
   {
    "duration": 900,
    "start_time": "2021-09-21T18:21:41.493Z"
   },
   {
    "duration": 10937,
    "start_time": "2021-09-21T18:21:42.395Z"
   },
   {
    "duration": 11433,
    "start_time": "2021-09-21T18:29:16.900Z"
   },
   {
    "duration": 11929,
    "start_time": "2021-09-21T18:32:44.652Z"
   },
   {
    "duration": 11721,
    "start_time": "2021-09-21T18:33:49.677Z"
   },
   {
    "duration": 12027,
    "start_time": "2021-09-21T18:39:28.628Z"
   },
   {
    "duration": 12270,
    "start_time": "2021-09-21T18:40:22.101Z"
   },
   {
    "duration": 902,
    "start_time": "2021-09-23T06:04:38.753Z"
   },
   {
    "duration": 284,
    "start_time": "2021-09-23T06:28:15.824Z"
   },
   {
    "duration": 66,
    "start_time": "2021-09-23T06:28:16.111Z"
   },
   {
    "duration": 50,
    "start_time": "2021-09-23T06:28:16.180Z"
   },
   {
    "duration": 906,
    "start_time": "2021-09-23T06:28:16.233Z"
   },
   {
    "duration": 4486,
    "start_time": "2021-09-23T06:28:17.141Z"
   },
   {
    "duration": 5053,
    "start_time": "2021-09-23T06:28:21.631Z"
   },
   {
    "duration": 2463,
    "start_time": "2021-09-23T06:28:26.687Z"
   },
   {
    "duration": 99,
    "start_time": "2021-09-23T06:28:29.153Z"
   },
   {
    "duration": 5125,
    "start_time": "2021-09-23T06:36:24.603Z"
   },
   {
    "duration": 4786,
    "start_time": "2021-09-23T06:37:42.490Z"
   },
   {
    "duration": 4989,
    "start_time": "2021-09-23T06:39:21.009Z"
   },
   {
    "duration": 424,
    "start_time": "2021-09-23T06:42:48.995Z"
   },
   {
    "duration": 451,
    "start_time": "2021-09-23T06:44:24.543Z"
   },
   {
    "duration": 2309,
    "start_time": "2021-09-23T06:45:16.342Z"
   },
   {
    "duration": 2728,
    "start_time": "2021-09-23T06:45:51.991Z"
   },
   {
    "duration": 120,
    "start_time": "2021-09-23T06:46:20.757Z"
   },
   {
    "duration": 55,
    "start_time": "2021-09-23T06:46:20.880Z"
   },
   {
    "duration": 67,
    "start_time": "2021-09-23T06:46:20.938Z"
   },
   {
    "duration": 911,
    "start_time": "2021-09-23T06:46:21.008Z"
   },
   {
    "duration": 4609,
    "start_time": "2021-09-23T06:46:21.921Z"
   },
   {
    "duration": 4963,
    "start_time": "2021-09-23T06:46:26.532Z"
   },
   {
    "duration": 2794,
    "start_time": "2021-09-23T06:46:31.498Z"
   },
   {
    "duration": 94,
    "start_time": "2021-09-23T06:46:34.295Z"
   },
   {
    "duration": 2404,
    "start_time": "2021-09-23T06:53:07.550Z"
   },
   {
    "duration": 2445,
    "start_time": "2021-09-23T06:54:00.222Z"
   },
   {
    "duration": 664,
    "start_time": "2021-09-23T06:54:28.791Z"
   },
   {
    "duration": 2505,
    "start_time": "2021-09-23T06:55:10.068Z"
   },
   {
    "duration": 2380,
    "start_time": "2021-09-23T06:55:23.188Z"
   },
   {
    "duration": 2718,
    "start_time": "2021-09-23T06:55:59.492Z"
   },
   {
    "duration": 286,
    "start_time": "2021-09-23T08:38:07.895Z"
   },
   {
    "duration": 271,
    "start_time": "2021-09-23T08:38:31.626Z"
   },
   {
    "duration": 308,
    "start_time": "2021-09-23T08:41:53.406Z"
   },
   {
    "duration": 265,
    "start_time": "2021-09-23T08:43:19.693Z"
   },
   {
    "duration": 274,
    "start_time": "2021-09-23T08:43:34.734Z"
   },
   {
    "duration": 311,
    "start_time": "2021-09-23T08:50:17.804Z"
   },
   {
    "duration": 793,
    "start_time": "2021-09-23T08:51:28.803Z"
   },
   {
    "duration": 243,
    "start_time": "2021-09-23T08:52:34.829Z"
   },
   {
    "duration": 285,
    "start_time": "2021-09-23T08:57:23.066Z"
   },
   {
    "duration": 370,
    "start_time": "2021-09-23T08:59:50.139Z"
   },
   {
    "duration": 323,
    "start_time": "2021-09-23T09:19:59.595Z"
   },
   {
    "duration": 162,
    "start_time": "2021-09-23T09:20:21.274Z"
   },
   {
    "duration": 67,
    "start_time": "2021-09-23T09:20:21.439Z"
   },
   {
    "duration": 72,
    "start_time": "2021-09-23T09:20:21.509Z"
   },
   {
    "duration": 84,
    "start_time": "2021-09-23T09:20:21.585Z"
   },
   {
    "duration": -13844,
    "start_time": "2021-09-23T09:20:35.515Z"
   },
   {
    "duration": -13849,
    "start_time": "2021-09-23T09:20:35.522Z"
   },
   {
    "duration": -13851,
    "start_time": "2021-09-23T09:20:35.526Z"
   },
   {
    "duration": -13853,
    "start_time": "2021-09-23T09:20:35.529Z"
   },
   {
    "duration": -13855,
    "start_time": "2021-09-23T09:20:35.532Z"
   },
   {
    "duration": 139,
    "start_time": "2021-09-23T09:23:49.432Z"
   },
   {
    "duration": 62,
    "start_time": "2021-09-23T09:23:49.574Z"
   },
   {
    "duration": 74,
    "start_time": "2021-09-23T09:23:49.640Z"
   },
   {
    "duration": 187,
    "start_time": "2021-09-23T09:23:49.717Z"
   },
   {
    "duration": -8645,
    "start_time": "2021-09-23T09:23:58.552Z"
   },
   {
    "duration": -8646,
    "start_time": "2021-09-23T09:23:58.555Z"
   },
   {
    "duration": -8647,
    "start_time": "2021-09-23T09:23:58.558Z"
   },
   {
    "duration": -8647,
    "start_time": "2021-09-23T09:23:58.560Z"
   },
   {
    "duration": -8649,
    "start_time": "2021-09-23T09:23:58.563Z"
   },
   {
    "duration": 126,
    "start_time": "2021-09-23T09:24:13.495Z"
   },
   {
    "duration": 68,
    "start_time": "2021-09-23T09:24:13.624Z"
   },
   {
    "duration": 51,
    "start_time": "2021-09-23T09:24:13.695Z"
   },
   {
    "duration": 77,
    "start_time": "2021-09-23T09:24:13.749Z"
   },
   {
    "duration": -8629,
    "start_time": "2021-09-23T09:24:22.458Z"
   },
   {
    "duration": -8632,
    "start_time": "2021-09-23T09:24:22.462Z"
   },
   {
    "duration": -8633,
    "start_time": "2021-09-23T09:24:22.465Z"
   },
   {
    "duration": -8639,
    "start_time": "2021-09-23T09:24:22.472Z"
   },
   {
    "duration": -8642,
    "start_time": "2021-09-23T09:24:22.476Z"
   },
   {
    "duration": 372,
    "start_time": "2021-09-23T09:25:02.843Z"
   },
   {
    "duration": 123,
    "start_time": "2021-09-23T09:25:27.688Z"
   },
   {
    "duration": 68,
    "start_time": "2021-09-23T09:25:27.814Z"
   },
   {
    "duration": 52,
    "start_time": "2021-09-23T09:25:27.886Z"
   },
   {
    "duration": 931,
    "start_time": "2021-09-23T09:25:27.941Z"
   },
   {
    "duration": 4497,
    "start_time": "2021-09-23T09:25:28.875Z"
   },
   {
    "duration": 4787,
    "start_time": "2021-09-23T09:25:33.375Z"
   },
   {
    "duration": 2712,
    "start_time": "2021-09-23T09:25:38.164Z"
   },
   {
    "duration": 101,
    "start_time": "2021-09-23T09:25:40.879Z"
   },
   {
    "duration": 122,
    "start_time": "2021-09-23T09:25:59.286Z"
   },
   {
    "duration": 66,
    "start_time": "2021-09-23T09:25:59.411Z"
   },
   {
    "duration": 52,
    "start_time": "2021-09-23T09:25:59.479Z"
   },
   {
    "duration": 918,
    "start_time": "2021-09-23T09:25:59.534Z"
   },
   {
    "duration": 4490,
    "start_time": "2021-09-23T09:26:00.462Z"
   },
   {
    "duration": 4690,
    "start_time": "2021-09-23T09:26:04.963Z"
   },
   {
    "duration": 2582,
    "start_time": "2021-09-23T09:26:09.656Z"
   },
   {
    "duration": 5064,
    "start_time": "2021-09-23T10:30:27.378Z"
   },
   {
    "duration": 123,
    "start_time": "2021-09-23T10:32:55.407Z"
   },
   {
    "duration": 115,
    "start_time": "2021-09-23T10:34:29.638Z"
   },
   {
    "duration": 3,
    "start_time": "2021-09-23T10:34:40.606Z"
   },
   {
    "duration": 113,
    "start_time": "2021-09-23T14:16:36.997Z"
   },
   {
    "duration": 437,
    "start_time": "2021-09-24T10:13:19.707Z"
   },
   {
    "duration": 1013,
    "start_time": "2021-09-24T10:13:28.236Z"
   },
   {
    "duration": 50,
    "start_time": "2021-09-24T10:13:29.252Z"
   },
   {
    "duration": 8,
    "start_time": "2021-09-24T10:13:29.305Z"
   },
   {
    "duration": 74,
    "start_time": "2021-09-24T10:13:29.316Z"
   },
   {
    "duration": 1135,
    "start_time": "2021-09-24T10:13:29.392Z"
   },
   {
    "duration": 2066,
    "start_time": "2021-09-24T10:13:30.530Z"
   },
   {
    "duration": 2842,
    "start_time": "2021-09-24T10:13:32.598Z"
   },
   {
    "duration": 3751,
    "start_time": "2021-09-24T10:13:35.443Z"
   },
   {
    "duration": 1104,
    "start_time": "2021-09-24T10:13:39.197Z"
   },
   {
    "duration": 173,
    "start_time": "2021-09-24T10:13:40.303Z"
   },
   {
    "duration": 2715,
    "start_time": "2021-09-24T10:13:40.478Z"
   },
   {
    "duration": 2664,
    "start_time": "2021-09-24T10:21:26.547Z"
   },
   {
    "duration": 2676,
    "start_time": "2021-09-24T10:22:48.695Z"
   },
   {
    "duration": 129,
    "start_time": "2021-09-24T10:31:38.892Z"
   },
   {
    "duration": 60,
    "start_time": "2021-09-24T10:31:39.025Z"
   },
   {
    "duration": 9,
    "start_time": "2021-09-24T10:31:39.089Z"
   },
   {
    "duration": 5,
    "start_time": "2021-09-24T10:31:39.102Z"
   },
   {
    "duration": 81,
    "start_time": "2021-09-24T10:31:39.110Z"
   },
   {
    "duration": 876,
    "start_time": "2021-09-24T10:31:39.193Z"
   },
   {
    "duration": 1728,
    "start_time": "2021-09-24T10:31:40.071Z"
   },
   {
    "duration": 2662,
    "start_time": "2021-09-24T10:31:41.802Z"
   },
   {
    "duration": 3533,
    "start_time": "2021-09-24T10:31:44.466Z"
   },
   {
    "duration": 130,
    "start_time": "2021-09-24T10:31:48.002Z"
   },
   {
    "duration": -5704,
    "start_time": "2021-09-24T10:31:53.840Z"
   },
   {
    "duration": -5712,
    "start_time": "2021-09-24T10:31:53.850Z"
   },
   {
    "duration": -5713,
    "start_time": "2021-09-24T10:31:53.854Z"
   },
   {
    "duration": 47,
    "start_time": "2021-09-24T10:32:24.403Z"
   },
   {
    "duration": 143,
    "start_time": "2021-09-24T10:33:32.084Z"
   },
   {
    "duration": 159,
    "start_time": "2021-09-24T10:34:41.436Z"
   },
   {
    "duration": 980,
    "start_time": "2021-09-24T10:35:10.910Z"
   },
   {
    "duration": 158,
    "start_time": "2021-09-24T10:35:15.933Z"
   },
   {
    "duration": 2616,
    "start_time": "2021-09-24T10:35:20.302Z"
   },
   {
    "duration": 126,
    "start_time": "2021-09-24T10:44:46.311Z"
   },
   {
    "duration": 435,
    "start_time": "2021-09-24T11:03:15.467Z"
   },
   {
    "duration": 784,
    "start_time": "2021-09-24T11:03:32.348Z"
   },
   {
    "duration": 1300,
    "start_time": "2021-09-24T11:05:40.594Z"
   },
   {
    "duration": 765,
    "start_time": "2021-09-24T11:05:57.749Z"
   },
   {
    "duration": 10133,
    "start_time": "2021-09-24T11:08:04.530Z"
   },
   {
    "duration": 2809,
    "start_time": "2021-09-24T11:09:46.117Z"
   },
   {
    "duration": 337,
    "start_time": "2021-09-24T11:10:01.798Z"
   },
   {
    "duration": 450,
    "start_time": "2021-09-24T11:10:30.012Z"
   },
   {
    "duration": 2789,
    "start_time": "2021-09-24T11:10:37.420Z"
   },
   {
    "duration": 10287,
    "start_time": "2021-09-24T11:12:20.973Z"
   },
   {
    "duration": 5,
    "start_time": "2021-09-24T11:19:16.536Z"
   },
   {
    "duration": 6,
    "start_time": "2021-09-24T11:19:23.535Z"
   },
   {
    "duration": 5,
    "start_time": "2021-09-24T11:19:40.055Z"
   },
   {
    "duration": 10269,
    "start_time": "2021-09-24T11:20:37.483Z"
   },
   {
    "duration": 1240,
    "start_time": "2021-09-24T11:21:08.457Z"
   },
   {
    "duration": 4,
    "start_time": "2021-09-24T11:22:56.297Z"
   },
   {
    "duration": 1071,
    "start_time": "2021-09-25T08:51:52.898Z"
   },
   {
    "duration": 56,
    "start_time": "2021-09-25T08:51:56.264Z"
   },
   {
    "duration": 9,
    "start_time": "2021-09-25T08:51:56.423Z"
   },
   {
    "duration": 3,
    "start_time": "2021-09-25T08:51:56.566Z"
   },
   {
    "duration": 55,
    "start_time": "2021-09-25T08:51:56.711Z"
   },
   {
    "duration": 938,
    "start_time": "2021-09-25T08:51:57.786Z"
   },
   {
    "duration": 3,
    "start_time": "2021-09-25T08:53:06.257Z"
   },
   {
    "duration": 59,
    "start_time": "2021-09-25T08:53:19.834Z"
   },
   {
    "duration": 744,
    "start_time": "2021-09-25T08:53:47.896Z"
   },
   {
    "duration": 873,
    "start_time": "2021-09-25T08:54:04.340Z"
   },
   {
    "duration": 850,
    "start_time": "2021-09-25T08:54:15.567Z"
   }
  ],
  "kernelspec": {
   "display_name": "Python 3 (ipykernel)",
   "language": "python",
   "name": "python3"
  },
  "language_info": {
   "codemirror_mode": {
    "name": "ipython",
    "version": 3
   },
   "file_extension": ".py",
   "mimetype": "text/x-python",
   "name": "python",
   "nbconvert_exporter": "python",
   "pygments_lexer": "ipython3",
   "version": "3.9.5"
  },
  "toc": {
   "base_numbering": 1,
   "nav_menu": {},
   "number_sections": true,
   "sideBar": true,
   "skip_h1_title": true,
   "title_cell": "Содержание",
   "title_sidebar": "Contents",
   "toc_cell": true,
   "toc_position": {
    "height": "calc(100% - 180px)",
    "left": "10px",
    "top": "150px",
    "width": "165px"
   },
   "toc_section_display": true,
   "toc_window_display": true
  }
 },
 "nbformat": 4,
 "nbformat_minor": 2
}
