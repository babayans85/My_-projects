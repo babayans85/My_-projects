{
 "cells": [
  {
   "cell_type": "markdown",
   "metadata": {},
   "source": [
    "# Определение перспективного тарифа для телеком-компании\n",
    "\n",
    "\n",
    "Вы аналитик компании «Мегалайн» — федерального оператора сотовой связи. Клиентам предлагают два тарифных плана: «Смарт» и «Ультра». Чтобы скорректировать рекламный бюджет, коммерческий департамент хочет понять, какой тариф приносит больше денег.\n",
    "Вам предстоит сделать предварительный анализ тарифов на небольшой выборке клиентов. В вашем распоряжении данные 500 пользователей «Мегалайна»: кто они, откуда, каким тарифом пользуются, сколько звонков и сообщений каждый отправил за 2018 год. Нужно проанализировать поведение клиентов и сделать вывод — какой тариф лучше."
   ]
  },
  {
   "cell_type": "markdown",
   "metadata": {},
   "source": [
    "## Изучение данных из файлов"
   ]
  },
  {
   "cell_type": "code",
   "execution_count": 1,
   "metadata": {},
   "outputs": [
    {
     "data": {
      "text/html": [
       "<div>\n",
       "<style scoped>\n",
       "    .dataframe tbody tr th:only-of-type {\n",
       "        vertical-align: middle;\n",
       "    }\n",
       "\n",
       "    .dataframe tbody tr th {\n",
       "        vertical-align: top;\n",
       "    }\n",
       "\n",
       "    .dataframe thead th {\n",
       "        text-align: right;\n",
       "    }\n",
       "</style>\n",
       "<table border=\"1\" class=\"dataframe\">\n",
       "  <thead>\n",
       "    <tr style=\"text-align: right;\">\n",
       "      <th></th>\n",
       "      <th>id</th>\n",
       "      <th>call_date</th>\n",
       "      <th>duration</th>\n",
       "      <th>user_id</th>\n",
       "    </tr>\n",
       "  </thead>\n",
       "  <tbody>\n",
       "    <tr>\n",
       "      <td>0</td>\n",
       "      <td>1000_0</td>\n",
       "      <td>2018-07-25</td>\n",
       "      <td>0.00</td>\n",
       "      <td>1000</td>\n",
       "    </tr>\n",
       "    <tr>\n",
       "      <td>1</td>\n",
       "      <td>1000_1</td>\n",
       "      <td>2018-08-17</td>\n",
       "      <td>0.00</td>\n",
       "      <td>1000</td>\n",
       "    </tr>\n",
       "    <tr>\n",
       "      <td>2</td>\n",
       "      <td>1000_2</td>\n",
       "      <td>2018-06-11</td>\n",
       "      <td>2.85</td>\n",
       "      <td>1000</td>\n",
       "    </tr>\n",
       "    <tr>\n",
       "      <td>3</td>\n",
       "      <td>1000_3</td>\n",
       "      <td>2018-09-21</td>\n",
       "      <td>13.80</td>\n",
       "      <td>1000</td>\n",
       "    </tr>\n",
       "    <tr>\n",
       "      <td>4</td>\n",
       "      <td>1000_4</td>\n",
       "      <td>2018-12-15</td>\n",
       "      <td>5.18</td>\n",
       "      <td>1000</td>\n",
       "    </tr>\n",
       "  </tbody>\n",
       "</table>\n",
       "</div>"
      ],
      "text/plain": [
       "       id   call_date  duration  user_id\n",
       "0  1000_0  2018-07-25      0.00     1000\n",
       "1  1000_1  2018-08-17      0.00     1000\n",
       "2  1000_2  2018-06-11      2.85     1000\n",
       "3  1000_3  2018-09-21     13.80     1000\n",
       "4  1000_4  2018-12-15      5.18     1000"
      ]
     },
     "metadata": {},
     "output_type": "display_data"
    },
    {
     "data": {
      "text/html": [
       "<div>\n",
       "<style scoped>\n",
       "    .dataframe tbody tr th:only-of-type {\n",
       "        vertical-align: middle;\n",
       "    }\n",
       "\n",
       "    .dataframe tbody tr th {\n",
       "        vertical-align: top;\n",
       "    }\n",
       "\n",
       "    .dataframe thead th {\n",
       "        text-align: right;\n",
       "    }\n",
       "</style>\n",
       "<table border=\"1\" class=\"dataframe\">\n",
       "  <thead>\n",
       "    <tr style=\"text-align: right;\">\n",
       "      <th></th>\n",
       "      <th>Unnamed: 0</th>\n",
       "      <th>id</th>\n",
       "      <th>mb_used</th>\n",
       "      <th>session_date</th>\n",
       "      <th>user_id</th>\n",
       "    </tr>\n",
       "  </thead>\n",
       "  <tbody>\n",
       "    <tr>\n",
       "      <td>0</td>\n",
       "      <td>0</td>\n",
       "      <td>1000_0</td>\n",
       "      <td>112.95</td>\n",
       "      <td>2018-11-25</td>\n",
       "      <td>1000</td>\n",
       "    </tr>\n",
       "    <tr>\n",
       "      <td>1</td>\n",
       "      <td>1</td>\n",
       "      <td>1000_1</td>\n",
       "      <td>1052.81</td>\n",
       "      <td>2018-09-07</td>\n",
       "      <td>1000</td>\n",
       "    </tr>\n",
       "    <tr>\n",
       "      <td>2</td>\n",
       "      <td>2</td>\n",
       "      <td>1000_2</td>\n",
       "      <td>1197.26</td>\n",
       "      <td>2018-06-25</td>\n",
       "      <td>1000</td>\n",
       "    </tr>\n",
       "    <tr>\n",
       "      <td>3</td>\n",
       "      <td>3</td>\n",
       "      <td>1000_3</td>\n",
       "      <td>550.27</td>\n",
       "      <td>2018-08-22</td>\n",
       "      <td>1000</td>\n",
       "    </tr>\n",
       "    <tr>\n",
       "      <td>4</td>\n",
       "      <td>4</td>\n",
       "      <td>1000_4</td>\n",
       "      <td>302.56</td>\n",
       "      <td>2018-09-24</td>\n",
       "      <td>1000</td>\n",
       "    </tr>\n",
       "  </tbody>\n",
       "</table>\n",
       "</div>"
      ],
      "text/plain": [
       "   Unnamed: 0      id  mb_used session_date  user_id\n",
       "0           0  1000_0   112.95   2018-11-25     1000\n",
       "1           1  1000_1  1052.81   2018-09-07     1000\n",
       "2           2  1000_2  1197.26   2018-06-25     1000\n",
       "3           3  1000_3   550.27   2018-08-22     1000\n",
       "4           4  1000_4   302.56   2018-09-24     1000"
      ]
     },
     "metadata": {},
     "output_type": "display_data"
    },
    {
     "data": {
      "text/html": [
       "<div>\n",
       "<style scoped>\n",
       "    .dataframe tbody tr th:only-of-type {\n",
       "        vertical-align: middle;\n",
       "    }\n",
       "\n",
       "    .dataframe tbody tr th {\n",
       "        vertical-align: top;\n",
       "    }\n",
       "\n",
       "    .dataframe thead th {\n",
       "        text-align: right;\n",
       "    }\n",
       "</style>\n",
       "<table border=\"1\" class=\"dataframe\">\n",
       "  <thead>\n",
       "    <tr style=\"text-align: right;\">\n",
       "      <th></th>\n",
       "      <th>id</th>\n",
       "      <th>message_date</th>\n",
       "      <th>user_id</th>\n",
       "    </tr>\n",
       "  </thead>\n",
       "  <tbody>\n",
       "    <tr>\n",
       "      <td>0</td>\n",
       "      <td>1000_0</td>\n",
       "      <td>2018-06-27</td>\n",
       "      <td>1000</td>\n",
       "    </tr>\n",
       "    <tr>\n",
       "      <td>1</td>\n",
       "      <td>1000_1</td>\n",
       "      <td>2018-10-08</td>\n",
       "      <td>1000</td>\n",
       "    </tr>\n",
       "    <tr>\n",
       "      <td>2</td>\n",
       "      <td>1000_2</td>\n",
       "      <td>2018-08-04</td>\n",
       "      <td>1000</td>\n",
       "    </tr>\n",
       "    <tr>\n",
       "      <td>3</td>\n",
       "      <td>1000_3</td>\n",
       "      <td>2018-06-16</td>\n",
       "      <td>1000</td>\n",
       "    </tr>\n",
       "    <tr>\n",
       "      <td>4</td>\n",
       "      <td>1000_4</td>\n",
       "      <td>2018-12-05</td>\n",
       "      <td>1000</td>\n",
       "    </tr>\n",
       "  </tbody>\n",
       "</table>\n",
       "</div>"
      ],
      "text/plain": [
       "       id message_date  user_id\n",
       "0  1000_0   2018-06-27     1000\n",
       "1  1000_1   2018-10-08     1000\n",
       "2  1000_2   2018-08-04     1000\n",
       "3  1000_3   2018-06-16     1000\n",
       "4  1000_4   2018-12-05     1000"
      ]
     },
     "metadata": {},
     "output_type": "display_data"
    },
    {
     "data": {
      "text/html": [
       "<div>\n",
       "<style scoped>\n",
       "    .dataframe tbody tr th:only-of-type {\n",
       "        vertical-align: middle;\n",
       "    }\n",
       "\n",
       "    .dataframe tbody tr th {\n",
       "        vertical-align: top;\n",
       "    }\n",
       "\n",
       "    .dataframe thead th {\n",
       "        text-align: right;\n",
       "    }\n",
       "</style>\n",
       "<table border=\"1\" class=\"dataframe\">\n",
       "  <thead>\n",
       "    <tr style=\"text-align: right;\">\n",
       "      <th></th>\n",
       "      <th>messages_included</th>\n",
       "      <th>mb_per_month_included</th>\n",
       "      <th>minutes_included</th>\n",
       "      <th>rub_monthly_fee</th>\n",
       "      <th>rub_per_gb</th>\n",
       "      <th>rub_per_message</th>\n",
       "      <th>rub_per_minute</th>\n",
       "      <th>tariff_name</th>\n",
       "    </tr>\n",
       "  </thead>\n",
       "  <tbody>\n",
       "    <tr>\n",
       "      <td>0</td>\n",
       "      <td>50</td>\n",
       "      <td>15360</td>\n",
       "      <td>500</td>\n",
       "      <td>550</td>\n",
       "      <td>200</td>\n",
       "      <td>3</td>\n",
       "      <td>3</td>\n",
       "      <td>smart</td>\n",
       "    </tr>\n",
       "    <tr>\n",
       "      <td>1</td>\n",
       "      <td>1000</td>\n",
       "      <td>30720</td>\n",
       "      <td>3000</td>\n",
       "      <td>1950</td>\n",
       "      <td>150</td>\n",
       "      <td>1</td>\n",
       "      <td>1</td>\n",
       "      <td>ultra</td>\n",
       "    </tr>\n",
       "  </tbody>\n",
       "</table>\n",
       "</div>"
      ],
      "text/plain": [
       "   messages_included  mb_per_month_included  minutes_included  \\\n",
       "0                 50                  15360               500   \n",
       "1               1000                  30720              3000   \n",
       "\n",
       "   rub_monthly_fee  rub_per_gb  rub_per_message  rub_per_minute tariff_name  \n",
       "0              550         200                3               3       smart  \n",
       "1             1950         150                1               1       ultra  "
      ]
     },
     "metadata": {},
     "output_type": "display_data"
    },
    {
     "data": {
      "text/html": [
       "<div>\n",
       "<style scoped>\n",
       "    .dataframe tbody tr th:only-of-type {\n",
       "        vertical-align: middle;\n",
       "    }\n",
       "\n",
       "    .dataframe tbody tr th {\n",
       "        vertical-align: top;\n",
       "    }\n",
       "\n",
       "    .dataframe thead th {\n",
       "        text-align: right;\n",
       "    }\n",
       "</style>\n",
       "<table border=\"1\" class=\"dataframe\">\n",
       "  <thead>\n",
       "    <tr style=\"text-align: right;\">\n",
       "      <th></th>\n",
       "      <th>user_id</th>\n",
       "      <th>age</th>\n",
       "      <th>churn_date</th>\n",
       "      <th>city</th>\n",
       "      <th>first_name</th>\n",
       "      <th>last_name</th>\n",
       "      <th>reg_date</th>\n",
       "      <th>tariff</th>\n",
       "    </tr>\n",
       "  </thead>\n",
       "  <tbody>\n",
       "    <tr>\n",
       "      <td>0</td>\n",
       "      <td>1000</td>\n",
       "      <td>52</td>\n",
       "      <td>NaN</td>\n",
       "      <td>Краснодар</td>\n",
       "      <td>Рафаил</td>\n",
       "      <td>Верещагин</td>\n",
       "      <td>2018-05-25</td>\n",
       "      <td>ultra</td>\n",
       "    </tr>\n",
       "    <tr>\n",
       "      <td>1</td>\n",
       "      <td>1001</td>\n",
       "      <td>41</td>\n",
       "      <td>NaN</td>\n",
       "      <td>Москва</td>\n",
       "      <td>Иван</td>\n",
       "      <td>Ежов</td>\n",
       "      <td>2018-11-01</td>\n",
       "      <td>smart</td>\n",
       "    </tr>\n",
       "    <tr>\n",
       "      <td>2</td>\n",
       "      <td>1002</td>\n",
       "      <td>59</td>\n",
       "      <td>NaN</td>\n",
       "      <td>Стерлитамак</td>\n",
       "      <td>Евгений</td>\n",
       "      <td>Абрамович</td>\n",
       "      <td>2018-06-17</td>\n",
       "      <td>smart</td>\n",
       "    </tr>\n",
       "    <tr>\n",
       "      <td>3</td>\n",
       "      <td>1003</td>\n",
       "      <td>23</td>\n",
       "      <td>NaN</td>\n",
       "      <td>Москва</td>\n",
       "      <td>Белла</td>\n",
       "      <td>Белякова</td>\n",
       "      <td>2018-08-17</td>\n",
       "      <td>ultra</td>\n",
       "    </tr>\n",
       "    <tr>\n",
       "      <td>4</td>\n",
       "      <td>1004</td>\n",
       "      <td>68</td>\n",
       "      <td>NaN</td>\n",
       "      <td>Новокузнецк</td>\n",
       "      <td>Татьяна</td>\n",
       "      <td>Авдеенко</td>\n",
       "      <td>2018-05-14</td>\n",
       "      <td>ultra</td>\n",
       "    </tr>\n",
       "  </tbody>\n",
       "</table>\n",
       "</div>"
      ],
      "text/plain": [
       "   user_id  age churn_date         city first_name  last_name    reg_date  \\\n",
       "0     1000   52        NaN    Краснодар     Рафаил  Верещагин  2018-05-25   \n",
       "1     1001   41        NaN       Москва       Иван       Ежов  2018-11-01   \n",
       "2     1002   59        NaN  Стерлитамак    Евгений  Абрамович  2018-06-17   \n",
       "3     1003   23        NaN       Москва      Белла   Белякова  2018-08-17   \n",
       "4     1004   68        NaN  Новокузнецк    Татьяна   Авдеенко  2018-05-14   \n",
       "\n",
       "  tariff  \n",
       "0  ultra  \n",
       "1  smart  \n",
       "2  smart  \n",
       "3  ultra  \n",
       "4  ultra  "
      ]
     },
     "metadata": {},
     "output_type": "display_data"
    },
    {
     "name": "stdout",
     "output_type": "stream",
     "text": [
      "<class 'pandas.core.frame.DataFrame'>\n",
      "RangeIndex: 202607 entries, 0 to 202606\n",
      "Data columns (total 4 columns):\n",
      "id           202607 non-null object\n",
      "call_date    202607 non-null object\n",
      "duration     202607 non-null float64\n",
      "user_id      202607 non-null int64\n",
      "dtypes: float64(1), int64(1), object(2)\n",
      "memory usage: 6.2+ MB\n",
      "<class 'pandas.core.frame.DataFrame'>\n",
      "RangeIndex: 149396 entries, 0 to 149395\n",
      "Data columns (total 5 columns):\n",
      "Unnamed: 0      149396 non-null int64\n",
      "id              149396 non-null object\n",
      "mb_used         149396 non-null float64\n",
      "session_date    149396 non-null object\n",
      "user_id         149396 non-null int64\n",
      "dtypes: float64(1), int64(2), object(2)\n",
      "memory usage: 5.7+ MB\n",
      "<class 'pandas.core.frame.DataFrame'>\n",
      "RangeIndex: 123036 entries, 0 to 123035\n",
      "Data columns (total 3 columns):\n",
      "id              123036 non-null object\n",
      "message_date    123036 non-null object\n",
      "user_id         123036 non-null int64\n",
      "dtypes: int64(1), object(2)\n",
      "memory usage: 2.8+ MB\n",
      "<class 'pandas.core.frame.DataFrame'>\n",
      "RangeIndex: 2 entries, 0 to 1\n",
      "Data columns (total 8 columns):\n",
      "messages_included        2 non-null int64\n",
      "mb_per_month_included    2 non-null int64\n",
      "minutes_included         2 non-null int64\n",
      "rub_monthly_fee          2 non-null int64\n",
      "rub_per_gb               2 non-null int64\n",
      "rub_per_message          2 non-null int64\n",
      "rub_per_minute           2 non-null int64\n",
      "tariff_name              2 non-null object\n",
      "dtypes: int64(7), object(1)\n",
      "memory usage: 256.0+ bytes\n",
      "<class 'pandas.core.frame.DataFrame'>\n",
      "RangeIndex: 500 entries, 0 to 499\n",
      "Data columns (total 8 columns):\n",
      "user_id       500 non-null int64\n",
      "age           500 non-null int64\n",
      "churn_date    38 non-null object\n",
      "city          500 non-null object\n",
      "first_name    500 non-null object\n",
      "last_name     500 non-null object\n",
      "reg_date      500 non-null object\n",
      "tariff        500 non-null object\n",
      "dtypes: int64(2), object(6)\n",
      "memory usage: 31.4+ KB\n"
     ]
    }
   ],
   "source": [
    "import pandas as pd\n",
    "import math\n",
    "import numpy as np \n",
    "from scipy import stats as st\n",
    "import matplotlib.pyplot as plt\n",
    "from IPython.display import display\n",
    "\n",
    "calls = pd.read_csv('/datasets/calls.csv') \n",
    "internet = pd.read_csv('/datasets/internet.csv')\n",
    "messages = pd.read_csv('/datasets/messages.csv')\n",
    "tariffs = pd.read_csv('/datasets/tariffs.csv')\n",
    "users = pd.read_csv('/datasets/users.csv')\n",
    "display(calls.head(5), internet.head(5), messages.head(5), tariffs.head(5), users.head(5)) \n",
    "calls.info()\n",
    "internet.info()\n",
    "messages.info()\n",
    "tariffs.info()\n",
    "users.info()"
   ]
  },
  {
   "cell_type": "markdown",
   "metadata": {},
   "source": [
    "### Вывод\n",
    "Мы открыли 5 файлов и изучили их. \n",
    "В файлах calls,  messages, tariffs нет пропусков, файл открывается корректно. В файле internet нет пропусков, файл открывается корректно, но есть ненужный столбец, попробуем удалить его в дальнейшем. В файле users есть пропуски в столбце churn_date, оставим их как есть, так как это значит что пользователь еще пользуется тарифом, файл открывается корректно."
   ]
  },
  {
   "cell_type": "markdown",
   "metadata": {},
   "source": [
    "## Предобработка данных"
   ]
  },
  {
   "cell_type": "code",
   "execution_count": 2,
   "metadata": {},
   "outputs": [
    {
     "data": {
      "text/html": [
       "<div>\n",
       "<style scoped>\n",
       "    .dataframe tbody tr th:only-of-type {\n",
       "        vertical-align: middle;\n",
       "    }\n",
       "\n",
       "    .dataframe tbody tr th {\n",
       "        vertical-align: top;\n",
       "    }\n",
       "\n",
       "    .dataframe thead th {\n",
       "        text-align: right;\n",
       "    }\n",
       "</style>\n",
       "<table border=\"1\" class=\"dataframe\">\n",
       "  <thead>\n",
       "    <tr style=\"text-align: right;\">\n",
       "      <th></th>\n",
       "      <th>id</th>\n",
       "      <th>call_date</th>\n",
       "      <th>duration</th>\n",
       "      <th>user_id</th>\n",
       "    </tr>\n",
       "  </thead>\n",
       "  <tbody>\n",
       "    <tr>\n",
       "      <td>0</td>\n",
       "      <td>1000_0</td>\n",
       "      <td>2018-07-25</td>\n",
       "      <td>0</td>\n",
       "      <td>1000</td>\n",
       "    </tr>\n",
       "    <tr>\n",
       "      <td>1</td>\n",
       "      <td>1000_1</td>\n",
       "      <td>2018-08-17</td>\n",
       "      <td>0</td>\n",
       "      <td>1000</td>\n",
       "    </tr>\n",
       "    <tr>\n",
       "      <td>2</td>\n",
       "      <td>1000_2</td>\n",
       "      <td>2018-06-11</td>\n",
       "      <td>3</td>\n",
       "      <td>1000</td>\n",
       "    </tr>\n",
       "    <tr>\n",
       "      <td>3</td>\n",
       "      <td>1000_3</td>\n",
       "      <td>2018-09-21</td>\n",
       "      <td>14</td>\n",
       "      <td>1000</td>\n",
       "    </tr>\n",
       "    <tr>\n",
       "      <td>4</td>\n",
       "      <td>1000_4</td>\n",
       "      <td>2018-12-15</td>\n",
       "      <td>6</td>\n",
       "      <td>1000</td>\n",
       "    </tr>\n",
       "  </tbody>\n",
       "</table>\n",
       "</div>"
      ],
      "text/plain": [
       "       id   call_date  duration  user_id\n",
       "0  1000_0  2018-07-25         0     1000\n",
       "1  1000_1  2018-08-17         0     1000\n",
       "2  1000_2  2018-06-11         3     1000\n",
       "3  1000_3  2018-09-21        14     1000\n",
       "4  1000_4  2018-12-15         6     1000"
      ]
     },
     "metadata": {},
     "output_type": "display_data"
    },
    {
     "name": "stdout",
     "output_type": "stream",
     "text": [
      "<class 'pandas.core.frame.DataFrame'>\n",
      "RangeIndex: 202607 entries, 0 to 202606\n",
      "Data columns (total 4 columns):\n",
      "id           202607 non-null object\n",
      "call_date    202607 non-null object\n",
      "duration     202607 non-null int64\n",
      "user_id      202607 non-null int64\n",
      "dtypes: int64(2), object(2)\n",
      "memory usage: 6.2+ MB\n"
     ]
    },
    {
     "data": {
      "text/html": [
       "<div>\n",
       "<style scoped>\n",
       "    .dataframe tbody tr th:only-of-type {\n",
       "        vertical-align: middle;\n",
       "    }\n",
       "\n",
       "    .dataframe tbody tr th {\n",
       "        vertical-align: top;\n",
       "    }\n",
       "\n",
       "    .dataframe thead th {\n",
       "        text-align: right;\n",
       "    }\n",
       "</style>\n",
       "<table border=\"1\" class=\"dataframe\">\n",
       "  <thead>\n",
       "    <tr style=\"text-align: right;\">\n",
       "      <th></th>\n",
       "      <th>id</th>\n",
       "      <th>mb_used</th>\n",
       "      <th>session_date</th>\n",
       "      <th>user_id</th>\n",
       "    </tr>\n",
       "  </thead>\n",
       "  <tbody>\n",
       "    <tr>\n",
       "      <td>0</td>\n",
       "      <td>1000_0</td>\n",
       "      <td>112.95</td>\n",
       "      <td>2018-11-25</td>\n",
       "      <td>1000</td>\n",
       "    </tr>\n",
       "    <tr>\n",
       "      <td>1</td>\n",
       "      <td>1000_1</td>\n",
       "      <td>1052.81</td>\n",
       "      <td>2018-09-07</td>\n",
       "      <td>1000</td>\n",
       "    </tr>\n",
       "    <tr>\n",
       "      <td>2</td>\n",
       "      <td>1000_2</td>\n",
       "      <td>1197.26</td>\n",
       "      <td>2018-06-25</td>\n",
       "      <td>1000</td>\n",
       "    </tr>\n",
       "    <tr>\n",
       "      <td>3</td>\n",
       "      <td>1000_3</td>\n",
       "      <td>550.27</td>\n",
       "      <td>2018-08-22</td>\n",
       "      <td>1000</td>\n",
       "    </tr>\n",
       "    <tr>\n",
       "      <td>4</td>\n",
       "      <td>1000_4</td>\n",
       "      <td>302.56</td>\n",
       "      <td>2018-09-24</td>\n",
       "      <td>1000</td>\n",
       "    </tr>\n",
       "  </tbody>\n",
       "</table>\n",
       "</div>"
      ],
      "text/plain": [
       "       id  mb_used session_date  user_id\n",
       "0  1000_0   112.95   2018-11-25     1000\n",
       "1  1000_1  1052.81   2018-09-07     1000\n",
       "2  1000_2  1197.26   2018-06-25     1000\n",
       "3  1000_3   550.27   2018-08-22     1000\n",
       "4  1000_4   302.56   2018-09-24     1000"
      ]
     },
     "metadata": {},
     "output_type": "display_data"
    },
    {
     "name": "stdout",
     "output_type": "stream",
     "text": [
      "<class 'pandas.core.frame.DataFrame'>\n",
      "RangeIndex: 149396 entries, 0 to 149395\n",
      "Data columns (total 4 columns):\n",
      "id              149396 non-null object\n",
      "mb_used         149396 non-null float64\n",
      "session_date    149396 non-null object\n",
      "user_id         149396 non-null int64\n",
      "dtypes: float64(1), int64(1), object(2)\n",
      "memory usage: 4.6+ MB\n"
     ]
    }
   ],
   "source": [
    "#calls: округлим значения в столбце duration в большую сторону, тип автоматически станет int64\n",
    "calls['duration'] = calls['duration'].apply(math.ceil)\n",
    "display(calls.head(5))\n",
    "calls.info()\n",
    "\n",
    "#internet: значения в столбце mb_used оставим как есть, округлим их после группировки, также удалим лишний столбец\n",
    "internet.drop('Unnamed: 0', axis=1, inplace=True)\n",
    "display(internet.head(5))\n",
    "internet.info()"
   ]
  },
  {
   "cell_type": "markdown",
   "metadata": {},
   "source": [
    "### Вывод\n",
    "Мы привели данные в порядок и к нужным типам. В файле calls округлили значения в столбце duration в большую сторону с помощью math.ceil, в internet удалили лишний столбец."
   ]
  },
  {
   "cell_type": "code",
   "execution_count": 3,
   "metadata": {},
   "outputs": [
    {
     "data": {
      "text/html": [
       "<div>\n",
       "<style scoped>\n",
       "    .dataframe tbody tr th:only-of-type {\n",
       "        vertical-align: middle;\n",
       "    }\n",
       "\n",
       "    .dataframe tbody tr th {\n",
       "        vertical-align: top;\n",
       "    }\n",
       "\n",
       "    .dataframe thead th {\n",
       "        text-align: right;\n",
       "    }\n",
       "</style>\n",
       "<table border=\"1\" class=\"dataframe\">\n",
       "  <thead>\n",
       "    <tr style=\"text-align: right;\">\n",
       "      <th></th>\n",
       "      <th>user_id</th>\n",
       "      <th>month</th>\n",
       "      <th>minutes</th>\n",
       "      <th>number_of_calls</th>\n",
       "    </tr>\n",
       "  </thead>\n",
       "  <tbody>\n",
       "    <tr>\n",
       "      <td>0</td>\n",
       "      <td>1000</td>\n",
       "      <td>5</td>\n",
       "      <td>159</td>\n",
       "      <td>22</td>\n",
       "    </tr>\n",
       "    <tr>\n",
       "      <td>1</td>\n",
       "      <td>1000</td>\n",
       "      <td>6</td>\n",
       "      <td>172</td>\n",
       "      <td>43</td>\n",
       "    </tr>\n",
       "    <tr>\n",
       "      <td>2</td>\n",
       "      <td>1000</td>\n",
       "      <td>7</td>\n",
       "      <td>340</td>\n",
       "      <td>47</td>\n",
       "    </tr>\n",
       "    <tr>\n",
       "      <td>3</td>\n",
       "      <td>1000</td>\n",
       "      <td>8</td>\n",
       "      <td>408</td>\n",
       "      <td>52</td>\n",
       "    </tr>\n",
       "    <tr>\n",
       "      <td>4</td>\n",
       "      <td>1000</td>\n",
       "      <td>9</td>\n",
       "      <td>466</td>\n",
       "      <td>58</td>\n",
       "    </tr>\n",
       "  </tbody>\n",
       "</table>\n",
       "</div>"
      ],
      "text/plain": [
       "   user_id  month  minutes  number_of_calls\n",
       "0     1000      5      159               22\n",
       "1     1000      6      172               43\n",
       "2     1000      7      340               47\n",
       "3     1000      8      408               52\n",
       "4     1000      9      466               58"
      ]
     },
     "metadata": {},
     "output_type": "display_data"
    }
   ],
   "source": [
    "# добавим столбец месяц в таблицу calls с помощью pd.to_datetime(calls и dt.month\n",
    "calls['month'] = pd.to_datetime(calls['call_date'], format='%Y-%m-%d').dt.month\n",
    "\n",
    "# количество сделанных звонков и израсходованных минут по месяцам \n",
    "# заодно переименуем названия столбцов для удобства с помощью rename()\n",
    "user_calls = calls.groupby(['user_id', 'month'])\\\n",
    "    .agg({'duration':'sum', 'id':'count'}).reset_index()\n",
    "user_calls = user_calls.rename(\n",
    "    columns={'duration': 'minutes', 'id': 'number_of_calls'}) \n",
    "display(user_calls.head(5))"
   ]
  },
  {
   "cell_type": "code",
   "execution_count": 4,
   "metadata": {},
   "outputs": [
    {
     "data": {
      "text/html": [
       "<div>\n",
       "<style scoped>\n",
       "    .dataframe tbody tr th:only-of-type {\n",
       "        vertical-align: middle;\n",
       "    }\n",
       "\n",
       "    .dataframe tbody tr th {\n",
       "        vertical-align: top;\n",
       "    }\n",
       "\n",
       "    .dataframe thead th {\n",
       "        text-align: right;\n",
       "    }\n",
       "</style>\n",
       "<table border=\"1\" class=\"dataframe\">\n",
       "  <thead>\n",
       "    <tr style=\"text-align: right;\">\n",
       "      <th></th>\n",
       "      <th>user_id</th>\n",
       "      <th>month</th>\n",
       "      <th>number_of_messages</th>\n",
       "    </tr>\n",
       "  </thead>\n",
       "  <tbody>\n",
       "    <tr>\n",
       "      <td>0</td>\n",
       "      <td>1000</td>\n",
       "      <td>5</td>\n",
       "      <td>22</td>\n",
       "    </tr>\n",
       "    <tr>\n",
       "      <td>1</td>\n",
       "      <td>1000</td>\n",
       "      <td>6</td>\n",
       "      <td>60</td>\n",
       "    </tr>\n",
       "    <tr>\n",
       "      <td>2</td>\n",
       "      <td>1000</td>\n",
       "      <td>7</td>\n",
       "      <td>75</td>\n",
       "    </tr>\n",
       "    <tr>\n",
       "      <td>3</td>\n",
       "      <td>1000</td>\n",
       "      <td>8</td>\n",
       "      <td>81</td>\n",
       "    </tr>\n",
       "    <tr>\n",
       "      <td>4</td>\n",
       "      <td>1000</td>\n",
       "      <td>9</td>\n",
       "      <td>57</td>\n",
       "    </tr>\n",
       "  </tbody>\n",
       "</table>\n",
       "</div>"
      ],
      "text/plain": [
       "   user_id  month  number_of_messages\n",
       "0     1000      5                  22\n",
       "1     1000      6                  60\n",
       "2     1000      7                  75\n",
       "3     1000      8                  81\n",
       "4     1000      9                  57"
      ]
     },
     "metadata": {},
     "output_type": "display_data"
    }
   ],
   "source": [
    "# добавим столбец месяц в таблицу messages с помощью pd.to_datetime и dt.month\n",
    "messages['month'] = pd.to_datetime(messages['message_date'], format='%Y-%m-%d').dt.month\n",
    "# количество отправленных сообщений по месяцам\n",
    "user_messages = messages.groupby(['user_id', 'month'])\\\n",
    "    .agg({'id':'count'}).reset_index()\n",
    "user_messages = user_messages.rename(\n",
    "    columns={'id': 'number_of_messages'}) \n",
    "display(user_messages.head(5))"
   ]
  },
  {
   "cell_type": "code",
   "execution_count": 5,
   "metadata": {},
   "outputs": [
    {
     "data": {
      "text/html": [
       "<div>\n",
       "<style scoped>\n",
       "    .dataframe tbody tr th:only-of-type {\n",
       "        vertical-align: middle;\n",
       "    }\n",
       "\n",
       "    .dataframe tbody tr th {\n",
       "        vertical-align: top;\n",
       "    }\n",
       "\n",
       "    .dataframe thead th {\n",
       "        text-align: right;\n",
       "    }\n",
       "</style>\n",
       "<table border=\"1\" class=\"dataframe\">\n",
       "  <thead>\n",
       "    <tr style=\"text-align: right;\">\n",
       "      <th></th>\n",
       "      <th>user_id</th>\n",
       "      <th>month</th>\n",
       "      <th>mb_used</th>\n",
       "    </tr>\n",
       "  </thead>\n",
       "  <tbody>\n",
       "    <tr>\n",
       "      <td>0</td>\n",
       "      <td>1000</td>\n",
       "      <td>5</td>\n",
       "      <td>2253.49</td>\n",
       "    </tr>\n",
       "    <tr>\n",
       "      <td>1</td>\n",
       "      <td>1000</td>\n",
       "      <td>6</td>\n",
       "      <td>23233.77</td>\n",
       "    </tr>\n",
       "    <tr>\n",
       "      <td>2</td>\n",
       "      <td>1000</td>\n",
       "      <td>7</td>\n",
       "      <td>14003.64</td>\n",
       "    </tr>\n",
       "    <tr>\n",
       "      <td>3</td>\n",
       "      <td>1000</td>\n",
       "      <td>8</td>\n",
       "      <td>14055.93</td>\n",
       "    </tr>\n",
       "    <tr>\n",
       "      <td>4</td>\n",
       "      <td>1000</td>\n",
       "      <td>9</td>\n",
       "      <td>14568.91</td>\n",
       "    </tr>\n",
       "  </tbody>\n",
       "</table>\n",
       "</div>"
      ],
      "text/plain": [
       "   user_id  month   mb_used\n",
       "0     1000      5   2253.49\n",
       "1     1000      6  23233.77\n",
       "2     1000      7  14003.64\n",
       "3     1000      8  14055.93\n",
       "4     1000      9  14568.91"
      ]
     },
     "metadata": {},
     "output_type": "display_data"
    }
   ],
   "source": [
    "# добавим столбец месяц в таблицу internet с помощью pd.to_datetime и dt.month\n",
    "internet['month'] = pd.to_datetime(internet['session_date'], format='%Y-%m-%d').dt.month\n",
    "\n",
    "# количество потраченных мегабайт по месяцам\n",
    "user_internet = internet.groupby(['user_id', 'month'])\\\n",
    "    .agg({'mb_used':'sum'}).reset_index()\n",
    "user_internet = user_internet.rename(\n",
    "    columns={'id': 'number_of_mb'})\n",
    "display(user_internet.head(5))"
   ]
  },
  {
   "cell_type": "code",
   "execution_count": 6,
   "metadata": {},
   "outputs": [
    {
     "data": {
      "text/html": [
       "<div>\n",
       "<style scoped>\n",
       "    .dataframe tbody tr th:only-of-type {\n",
       "        vertical-align: middle;\n",
       "    }\n",
       "\n",
       "    .dataframe tbody tr th {\n",
       "        vertical-align: top;\n",
       "    }\n",
       "\n",
       "    .dataframe thead th {\n",
       "        text-align: right;\n",
       "    }\n",
       "</style>\n",
       "<table border=\"1\" class=\"dataframe\">\n",
       "  <thead>\n",
       "    <tr style=\"text-align: right;\">\n",
       "      <th></th>\n",
       "      <th>user_id</th>\n",
       "      <th>month</th>\n",
       "      <th>minutes</th>\n",
       "      <th>number_of_calls</th>\n",
       "      <th>number_of_messages</th>\n",
       "      <th>mb_used</th>\n",
       "      <th>age</th>\n",
       "      <th>churn_date</th>\n",
       "      <th>city</th>\n",
       "      <th>first_name</th>\n",
       "      <th>last_name</th>\n",
       "      <th>reg_date</th>\n",
       "      <th>tariff</th>\n",
       "      <th>messages_included</th>\n",
       "      <th>mb_per_month_included</th>\n",
       "      <th>minutes_included</th>\n",
       "      <th>rub_monthly_fee</th>\n",
       "      <th>rub_per_gb</th>\n",
       "      <th>rub_per_message</th>\n",
       "      <th>rub_per_minute</th>\n",
       "    </tr>\n",
       "  </thead>\n",
       "  <tbody>\n",
       "    <tr>\n",
       "      <td>0</td>\n",
       "      <td>1000</td>\n",
       "      <td>5</td>\n",
       "      <td>159.0</td>\n",
       "      <td>22.0</td>\n",
       "      <td>22.0</td>\n",
       "      <td>2253.49</td>\n",
       "      <td>52</td>\n",
       "      <td>NaN</td>\n",
       "      <td>Краснодар</td>\n",
       "      <td>Рафаил</td>\n",
       "      <td>Верещагин</td>\n",
       "      <td>2018-05-25</td>\n",
       "      <td>ultra</td>\n",
       "      <td>1000</td>\n",
       "      <td>30720</td>\n",
       "      <td>3000</td>\n",
       "      <td>1950</td>\n",
       "      <td>150</td>\n",
       "      <td>1</td>\n",
       "      <td>1</td>\n",
       "    </tr>\n",
       "    <tr>\n",
       "      <td>1</td>\n",
       "      <td>1000</td>\n",
       "      <td>6</td>\n",
       "      <td>172.0</td>\n",
       "      <td>43.0</td>\n",
       "      <td>60.0</td>\n",
       "      <td>23233.77</td>\n",
       "      <td>52</td>\n",
       "      <td>NaN</td>\n",
       "      <td>Краснодар</td>\n",
       "      <td>Рафаил</td>\n",
       "      <td>Верещагин</td>\n",
       "      <td>2018-05-25</td>\n",
       "      <td>ultra</td>\n",
       "      <td>1000</td>\n",
       "      <td>30720</td>\n",
       "      <td>3000</td>\n",
       "      <td>1950</td>\n",
       "      <td>150</td>\n",
       "      <td>1</td>\n",
       "      <td>1</td>\n",
       "    </tr>\n",
       "    <tr>\n",
       "      <td>2</td>\n",
       "      <td>1000</td>\n",
       "      <td>7</td>\n",
       "      <td>340.0</td>\n",
       "      <td>47.0</td>\n",
       "      <td>75.0</td>\n",
       "      <td>14003.64</td>\n",
       "      <td>52</td>\n",
       "      <td>NaN</td>\n",
       "      <td>Краснодар</td>\n",
       "      <td>Рафаил</td>\n",
       "      <td>Верещагин</td>\n",
       "      <td>2018-05-25</td>\n",
       "      <td>ultra</td>\n",
       "      <td>1000</td>\n",
       "      <td>30720</td>\n",
       "      <td>3000</td>\n",
       "      <td>1950</td>\n",
       "      <td>150</td>\n",
       "      <td>1</td>\n",
       "      <td>1</td>\n",
       "    </tr>\n",
       "    <tr>\n",
       "      <td>3</td>\n",
       "      <td>1000</td>\n",
       "      <td>8</td>\n",
       "      <td>408.0</td>\n",
       "      <td>52.0</td>\n",
       "      <td>81.0</td>\n",
       "      <td>14055.93</td>\n",
       "      <td>52</td>\n",
       "      <td>NaN</td>\n",
       "      <td>Краснодар</td>\n",
       "      <td>Рафаил</td>\n",
       "      <td>Верещагин</td>\n",
       "      <td>2018-05-25</td>\n",
       "      <td>ultra</td>\n",
       "      <td>1000</td>\n",
       "      <td>30720</td>\n",
       "      <td>3000</td>\n",
       "      <td>1950</td>\n",
       "      <td>150</td>\n",
       "      <td>1</td>\n",
       "      <td>1</td>\n",
       "    </tr>\n",
       "    <tr>\n",
       "      <td>4</td>\n",
       "      <td>1000</td>\n",
       "      <td>9</td>\n",
       "      <td>466.0</td>\n",
       "      <td>58.0</td>\n",
       "      <td>57.0</td>\n",
       "      <td>14568.91</td>\n",
       "      <td>52</td>\n",
       "      <td>NaN</td>\n",
       "      <td>Краснодар</td>\n",
       "      <td>Рафаил</td>\n",
       "      <td>Верещагин</td>\n",
       "      <td>2018-05-25</td>\n",
       "      <td>ultra</td>\n",
       "      <td>1000</td>\n",
       "      <td>30720</td>\n",
       "      <td>3000</td>\n",
       "      <td>1950</td>\n",
       "      <td>150</td>\n",
       "      <td>1</td>\n",
       "      <td>1</td>\n",
       "    </tr>\n",
       "  </tbody>\n",
       "</table>\n",
       "</div>"
      ],
      "text/plain": [
       "   user_id  month  minutes  number_of_calls  number_of_messages   mb_used  \\\n",
       "0     1000      5    159.0             22.0                22.0   2253.49   \n",
       "1     1000      6    172.0             43.0                60.0  23233.77   \n",
       "2     1000      7    340.0             47.0                75.0  14003.64   \n",
       "3     1000      8    408.0             52.0                81.0  14055.93   \n",
       "4     1000      9    466.0             58.0                57.0  14568.91   \n",
       "\n",
       "   age churn_date       city first_name  last_name    reg_date tariff  \\\n",
       "0   52        NaN  Краснодар     Рафаил  Верещагин  2018-05-25  ultra   \n",
       "1   52        NaN  Краснодар     Рафаил  Верещагин  2018-05-25  ultra   \n",
       "2   52        NaN  Краснодар     Рафаил  Верещагин  2018-05-25  ultra   \n",
       "3   52        NaN  Краснодар     Рафаил  Верещагин  2018-05-25  ultra   \n",
       "4   52        NaN  Краснодар     Рафаил  Верещагин  2018-05-25  ultra   \n",
       "\n",
       "   messages_included  mb_per_month_included  minutes_included  \\\n",
       "0               1000                  30720              3000   \n",
       "1               1000                  30720              3000   \n",
       "2               1000                  30720              3000   \n",
       "3               1000                  30720              3000   \n",
       "4               1000                  30720              3000   \n",
       "\n",
       "   rub_monthly_fee  rub_per_gb  rub_per_message  rub_per_minute  \n",
       "0             1950         150                1               1  \n",
       "1             1950         150                1               1  \n",
       "2             1950         150                1               1  \n",
       "3             1950         150                1               1  \n",
       "4             1950         150                1               1  "
      ]
     },
     "metadata": {},
     "output_type": "display_data"
    }
   ],
   "source": [
    "# попробуем объединить всё в одну таблицу\n",
    "user_c_m = user_calls.merge(user_messages, on=['user_id', 'month'], how='outer')\n",
    "user_c_m_i = user_c_m.merge(user_internet, on=['user_id', 'month'], how='outer')\n",
    "#display(user_c_m_i.head(5))\n",
    "\n",
    "#присоединяем таблицы пользователей и тарифов, чтобы под рукой была вся информация\n",
    "user_all = user_c_m_i.merge(users, on='user_id', how='left')\n",
    "tariffs = tariffs.rename(\n",
    "    columns={'tariff_name': 'tariff'})\n",
    "user_all = user_all.merge(tariffs, on='tariff', how='left')\n",
    "display(user_all.head(5))"
   ]
  },
  {
   "cell_type": "code",
   "execution_count": 7,
   "metadata": {},
   "outputs": [
    {
     "data": {
      "text/html": [
       "<div>\n",
       "<style scoped>\n",
       "    .dataframe tbody tr th:only-of-type {\n",
       "        vertical-align: middle;\n",
       "    }\n",
       "\n",
       "    .dataframe tbody tr th {\n",
       "        vertical-align: top;\n",
       "    }\n",
       "\n",
       "    .dataframe thead th {\n",
       "        text-align: right;\n",
       "    }\n",
       "</style>\n",
       "<table border=\"1\" class=\"dataframe\">\n",
       "  <thead>\n",
       "    <tr style=\"text-align: right;\">\n",
       "      <th></th>\n",
       "      <th>user_id</th>\n",
       "      <th>month</th>\n",
       "      <th>minutes</th>\n",
       "      <th>number_of_calls</th>\n",
       "      <th>number_of_messages</th>\n",
       "      <th>mb_used</th>\n",
       "      <th>age</th>\n",
       "      <th>churn_date</th>\n",
       "      <th>city</th>\n",
       "      <th>first_name</th>\n",
       "      <th>...</th>\n",
       "      <th>messages_included</th>\n",
       "      <th>mb_per_month_included</th>\n",
       "      <th>minutes_included</th>\n",
       "      <th>rub_monthly_fee</th>\n",
       "      <th>rub_per_gb</th>\n",
       "      <th>rub_per_message</th>\n",
       "      <th>rub_per_minute</th>\n",
       "      <th>minutes_overrun</th>\n",
       "      <th>messages_overrun</th>\n",
       "      <th>mb_used_overrun</th>\n",
       "    </tr>\n",
       "  </thead>\n",
       "  <tbody>\n",
       "    <tr>\n",
       "      <td>0</td>\n",
       "      <td>1000</td>\n",
       "      <td>5</td>\n",
       "      <td>159.0</td>\n",
       "      <td>22.0</td>\n",
       "      <td>22.0</td>\n",
       "      <td>2253.49</td>\n",
       "      <td>52</td>\n",
       "      <td>NaN</td>\n",
       "      <td>Краснодар</td>\n",
       "      <td>Рафаил</td>\n",
       "      <td>...</td>\n",
       "      <td>1000</td>\n",
       "      <td>30720</td>\n",
       "      <td>3000</td>\n",
       "      <td>1950</td>\n",
       "      <td>150</td>\n",
       "      <td>1</td>\n",
       "      <td>1</td>\n",
       "      <td>-2841.0</td>\n",
       "      <td>-978.0</td>\n",
       "      <td>-27.0</td>\n",
       "    </tr>\n",
       "    <tr>\n",
       "      <td>1</td>\n",
       "      <td>1000</td>\n",
       "      <td>6</td>\n",
       "      <td>172.0</td>\n",
       "      <td>43.0</td>\n",
       "      <td>60.0</td>\n",
       "      <td>23233.77</td>\n",
       "      <td>52</td>\n",
       "      <td>NaN</td>\n",
       "      <td>Краснодар</td>\n",
       "      <td>Рафаил</td>\n",
       "      <td>...</td>\n",
       "      <td>1000</td>\n",
       "      <td>30720</td>\n",
       "      <td>3000</td>\n",
       "      <td>1950</td>\n",
       "      <td>150</td>\n",
       "      <td>1</td>\n",
       "      <td>1</td>\n",
       "      <td>-2828.0</td>\n",
       "      <td>-940.0</td>\n",
       "      <td>-7.0</td>\n",
       "    </tr>\n",
       "    <tr>\n",
       "      <td>2</td>\n",
       "      <td>1000</td>\n",
       "      <td>7</td>\n",
       "      <td>340.0</td>\n",
       "      <td>47.0</td>\n",
       "      <td>75.0</td>\n",
       "      <td>14003.64</td>\n",
       "      <td>52</td>\n",
       "      <td>NaN</td>\n",
       "      <td>Краснодар</td>\n",
       "      <td>Рафаил</td>\n",
       "      <td>...</td>\n",
       "      <td>1000</td>\n",
       "      <td>30720</td>\n",
       "      <td>3000</td>\n",
       "      <td>1950</td>\n",
       "      <td>150</td>\n",
       "      <td>1</td>\n",
       "      <td>1</td>\n",
       "      <td>-2660.0</td>\n",
       "      <td>-925.0</td>\n",
       "      <td>-16.0</td>\n",
       "    </tr>\n",
       "    <tr>\n",
       "      <td>3</td>\n",
       "      <td>1000</td>\n",
       "      <td>8</td>\n",
       "      <td>408.0</td>\n",
       "      <td>52.0</td>\n",
       "      <td>81.0</td>\n",
       "      <td>14055.93</td>\n",
       "      <td>52</td>\n",
       "      <td>NaN</td>\n",
       "      <td>Краснодар</td>\n",
       "      <td>Рафаил</td>\n",
       "      <td>...</td>\n",
       "      <td>1000</td>\n",
       "      <td>30720</td>\n",
       "      <td>3000</td>\n",
       "      <td>1950</td>\n",
       "      <td>150</td>\n",
       "      <td>1</td>\n",
       "      <td>1</td>\n",
       "      <td>-2592.0</td>\n",
       "      <td>-919.0</td>\n",
       "      <td>-16.0</td>\n",
       "    </tr>\n",
       "    <tr>\n",
       "      <td>4</td>\n",
       "      <td>1000</td>\n",
       "      <td>9</td>\n",
       "      <td>466.0</td>\n",
       "      <td>58.0</td>\n",
       "      <td>57.0</td>\n",
       "      <td>14568.91</td>\n",
       "      <td>52</td>\n",
       "      <td>NaN</td>\n",
       "      <td>Краснодар</td>\n",
       "      <td>Рафаил</td>\n",
       "      <td>...</td>\n",
       "      <td>1000</td>\n",
       "      <td>30720</td>\n",
       "      <td>3000</td>\n",
       "      <td>1950</td>\n",
       "      <td>150</td>\n",
       "      <td>1</td>\n",
       "      <td>1</td>\n",
       "      <td>-2534.0</td>\n",
       "      <td>-943.0</td>\n",
       "      <td>-15.0</td>\n",
       "    </tr>\n",
       "  </tbody>\n",
       "</table>\n",
       "<p>5 rows × 23 columns</p>\n",
       "</div>"
      ],
      "text/plain": [
       "   user_id  month  minutes  number_of_calls  number_of_messages   mb_used  \\\n",
       "0     1000      5    159.0             22.0                22.0   2253.49   \n",
       "1     1000      6    172.0             43.0                60.0  23233.77   \n",
       "2     1000      7    340.0             47.0                75.0  14003.64   \n",
       "3     1000      8    408.0             52.0                81.0  14055.93   \n",
       "4     1000      9    466.0             58.0                57.0  14568.91   \n",
       "\n",
       "   age churn_date       city first_name  ... messages_included  \\\n",
       "0   52        NaN  Краснодар     Рафаил  ...              1000   \n",
       "1   52        NaN  Краснодар     Рафаил  ...              1000   \n",
       "2   52        NaN  Краснодар     Рафаил  ...              1000   \n",
       "3   52        NaN  Краснодар     Рафаил  ...              1000   \n",
       "4   52        NaN  Краснодар     Рафаил  ...              1000   \n",
       "\n",
       "  mb_per_month_included minutes_included  rub_monthly_fee  rub_per_gb  \\\n",
       "0                 30720             3000             1950         150   \n",
       "1                 30720             3000             1950         150   \n",
       "2                 30720             3000             1950         150   \n",
       "3                 30720             3000             1950         150   \n",
       "4                 30720             3000             1950         150   \n",
       "\n",
       "   rub_per_message  rub_per_minute  minutes_overrun  messages_overrun  \\\n",
       "0                1               1          -2841.0            -978.0   \n",
       "1                1               1          -2828.0            -940.0   \n",
       "2                1               1          -2660.0            -925.0   \n",
       "3                1               1          -2592.0            -919.0   \n",
       "4                1               1          -2534.0            -943.0   \n",
       "\n",
       "   mb_used_overrun  \n",
       "0            -27.0  \n",
       "1             -7.0  \n",
       "2            -16.0  \n",
       "3            -16.0  \n",
       "4            -15.0  \n",
       "\n",
       "[5 rows x 23 columns]"
      ]
     },
     "metadata": {},
     "output_type": "display_data"
    }
   ],
   "source": [
    "# найдем помесячную выручку с каждого пользователя\n",
    "# сначала найдем перерасход по каждой услуге\n",
    "user_all['minutes_overrun']  = user_all['minutes'] - user_all['minutes_included']\n",
    "user_all['messages_overrun'] = user_all['number_of_messages'] - user_all['messages_included']\n",
    "user_all['mb_used_overrun']  = user_all['mb_used'] - user_all['mb_per_month_included']\n",
    "\n",
    "#переведем перерасход в гигабайты и округлим в большую сторону\n",
    "user_all['mb_used_overrun'] = np.ceil(user_all['mb_used_overrun']/1024)\n",
    "display(user_all.head(5))"
   ]
  },
  {
   "cell_type": "code",
   "execution_count": 8,
   "metadata": {},
   "outputs": [
    {
     "data": {
      "text/html": [
       "<div>\n",
       "<style scoped>\n",
       "    .dataframe tbody tr th:only-of-type {\n",
       "        vertical-align: middle;\n",
       "    }\n",
       "\n",
       "    .dataframe tbody tr th {\n",
       "        vertical-align: top;\n",
       "    }\n",
       "\n",
       "    .dataframe thead th {\n",
       "        text-align: right;\n",
       "    }\n",
       "</style>\n",
       "<table border=\"1\" class=\"dataframe\">\n",
       "  <thead>\n",
       "    <tr style=\"text-align: right;\">\n",
       "      <th></th>\n",
       "      <th>user_id</th>\n",
       "      <th>month</th>\n",
       "      <th>minutes</th>\n",
       "      <th>number_of_calls</th>\n",
       "      <th>number_of_messages</th>\n",
       "      <th>mb_used</th>\n",
       "      <th>age</th>\n",
       "      <th>churn_date</th>\n",
       "      <th>city</th>\n",
       "      <th>first_name</th>\n",
       "      <th>...</th>\n",
       "      <th>minutes_included</th>\n",
       "      <th>rub_monthly_fee</th>\n",
       "      <th>rub_per_gb</th>\n",
       "      <th>rub_per_message</th>\n",
       "      <th>rub_per_minute</th>\n",
       "      <th>minutes_overrun</th>\n",
       "      <th>messages_overrun</th>\n",
       "      <th>mb_used_overrun</th>\n",
       "      <th>revenue</th>\n",
       "      <th>revenue_total</th>\n",
       "    </tr>\n",
       "  </thead>\n",
       "  <tbody>\n",
       "    <tr>\n",
       "      <td>0</td>\n",
       "      <td>1000</td>\n",
       "      <td>5</td>\n",
       "      <td>159.0</td>\n",
       "      <td>22.0</td>\n",
       "      <td>22.0</td>\n",
       "      <td>2253.49</td>\n",
       "      <td>52</td>\n",
       "      <td>NaN</td>\n",
       "      <td>Краснодар</td>\n",
       "      <td>Рафаил</td>\n",
       "      <td>...</td>\n",
       "      <td>3000</td>\n",
       "      <td>1950</td>\n",
       "      <td>150</td>\n",
       "      <td>1</td>\n",
       "      <td>1</td>\n",
       "      <td>-2841.0</td>\n",
       "      <td>-978.0</td>\n",
       "      <td>-27.0</td>\n",
       "      <td>0.0</td>\n",
       "      <td>1950.0</td>\n",
       "    </tr>\n",
       "    <tr>\n",
       "      <td>1</td>\n",
       "      <td>1000</td>\n",
       "      <td>6</td>\n",
       "      <td>172.0</td>\n",
       "      <td>43.0</td>\n",
       "      <td>60.0</td>\n",
       "      <td>23233.77</td>\n",
       "      <td>52</td>\n",
       "      <td>NaN</td>\n",
       "      <td>Краснодар</td>\n",
       "      <td>Рафаил</td>\n",
       "      <td>...</td>\n",
       "      <td>3000</td>\n",
       "      <td>1950</td>\n",
       "      <td>150</td>\n",
       "      <td>1</td>\n",
       "      <td>1</td>\n",
       "      <td>-2828.0</td>\n",
       "      <td>-940.0</td>\n",
       "      <td>-7.0</td>\n",
       "      <td>0.0</td>\n",
       "      <td>1950.0</td>\n",
       "    </tr>\n",
       "    <tr>\n",
       "      <td>2</td>\n",
       "      <td>1000</td>\n",
       "      <td>7</td>\n",
       "      <td>340.0</td>\n",
       "      <td>47.0</td>\n",
       "      <td>75.0</td>\n",
       "      <td>14003.64</td>\n",
       "      <td>52</td>\n",
       "      <td>NaN</td>\n",
       "      <td>Краснодар</td>\n",
       "      <td>Рафаил</td>\n",
       "      <td>...</td>\n",
       "      <td>3000</td>\n",
       "      <td>1950</td>\n",
       "      <td>150</td>\n",
       "      <td>1</td>\n",
       "      <td>1</td>\n",
       "      <td>-2660.0</td>\n",
       "      <td>-925.0</td>\n",
       "      <td>-16.0</td>\n",
       "      <td>0.0</td>\n",
       "      <td>1950.0</td>\n",
       "    </tr>\n",
       "    <tr>\n",
       "      <td>3</td>\n",
       "      <td>1000</td>\n",
       "      <td>8</td>\n",
       "      <td>408.0</td>\n",
       "      <td>52.0</td>\n",
       "      <td>81.0</td>\n",
       "      <td>14055.93</td>\n",
       "      <td>52</td>\n",
       "      <td>NaN</td>\n",
       "      <td>Краснодар</td>\n",
       "      <td>Рафаил</td>\n",
       "      <td>...</td>\n",
       "      <td>3000</td>\n",
       "      <td>1950</td>\n",
       "      <td>150</td>\n",
       "      <td>1</td>\n",
       "      <td>1</td>\n",
       "      <td>-2592.0</td>\n",
       "      <td>-919.0</td>\n",
       "      <td>-16.0</td>\n",
       "      <td>0.0</td>\n",
       "      <td>1950.0</td>\n",
       "    </tr>\n",
       "    <tr>\n",
       "      <td>4</td>\n",
       "      <td>1000</td>\n",
       "      <td>9</td>\n",
       "      <td>466.0</td>\n",
       "      <td>58.0</td>\n",
       "      <td>57.0</td>\n",
       "      <td>14568.91</td>\n",
       "      <td>52</td>\n",
       "      <td>NaN</td>\n",
       "      <td>Краснодар</td>\n",
       "      <td>Рафаил</td>\n",
       "      <td>...</td>\n",
       "      <td>3000</td>\n",
       "      <td>1950</td>\n",
       "      <td>150</td>\n",
       "      <td>1</td>\n",
       "      <td>1</td>\n",
       "      <td>-2534.0</td>\n",
       "      <td>-943.0</td>\n",
       "      <td>-15.0</td>\n",
       "      <td>0.0</td>\n",
       "      <td>1950.0</td>\n",
       "    </tr>\n",
       "    <tr>\n",
       "      <td>5</td>\n",
       "      <td>1000</td>\n",
       "      <td>10</td>\n",
       "      <td>350.0</td>\n",
       "      <td>57.0</td>\n",
       "      <td>73.0</td>\n",
       "      <td>14702.49</td>\n",
       "      <td>52</td>\n",
       "      <td>NaN</td>\n",
       "      <td>Краснодар</td>\n",
       "      <td>Рафаил</td>\n",
       "      <td>...</td>\n",
       "      <td>3000</td>\n",
       "      <td>1950</td>\n",
       "      <td>150</td>\n",
       "      <td>1</td>\n",
       "      <td>1</td>\n",
       "      <td>-2650.0</td>\n",
       "      <td>-927.0</td>\n",
       "      <td>-15.0</td>\n",
       "      <td>0.0</td>\n",
       "      <td>1950.0</td>\n",
       "    </tr>\n",
       "    <tr>\n",
       "      <td>6</td>\n",
       "      <td>1000</td>\n",
       "      <td>11</td>\n",
       "      <td>338.0</td>\n",
       "      <td>43.0</td>\n",
       "      <td>58.0</td>\n",
       "      <td>14756.47</td>\n",
       "      <td>52</td>\n",
       "      <td>NaN</td>\n",
       "      <td>Краснодар</td>\n",
       "      <td>Рафаил</td>\n",
       "      <td>...</td>\n",
       "      <td>3000</td>\n",
       "      <td>1950</td>\n",
       "      <td>150</td>\n",
       "      <td>1</td>\n",
       "      <td>1</td>\n",
       "      <td>-2662.0</td>\n",
       "      <td>-942.0</td>\n",
       "      <td>-15.0</td>\n",
       "      <td>0.0</td>\n",
       "      <td>1950.0</td>\n",
       "    </tr>\n",
       "    <tr>\n",
       "      <td>7</td>\n",
       "      <td>1000</td>\n",
       "      <td>12</td>\n",
       "      <td>333.0</td>\n",
       "      <td>46.0</td>\n",
       "      <td>70.0</td>\n",
       "      <td>9817.61</td>\n",
       "      <td>52</td>\n",
       "      <td>NaN</td>\n",
       "      <td>Краснодар</td>\n",
       "      <td>Рафаил</td>\n",
       "      <td>...</td>\n",
       "      <td>3000</td>\n",
       "      <td>1950</td>\n",
       "      <td>150</td>\n",
       "      <td>1</td>\n",
       "      <td>1</td>\n",
       "      <td>-2667.0</td>\n",
       "      <td>-930.0</td>\n",
       "      <td>-20.0</td>\n",
       "      <td>0.0</td>\n",
       "      <td>1950.0</td>\n",
       "    </tr>\n",
       "    <tr>\n",
       "      <td>8</td>\n",
       "      <td>1001</td>\n",
       "      <td>11</td>\n",
       "      <td>430.0</td>\n",
       "      <td>59.0</td>\n",
       "      <td>NaN</td>\n",
       "      <td>18429.34</td>\n",
       "      <td>41</td>\n",
       "      <td>NaN</td>\n",
       "      <td>Москва</td>\n",
       "      <td>Иван</td>\n",
       "      <td>...</td>\n",
       "      <td>500</td>\n",
       "      <td>550</td>\n",
       "      <td>200</td>\n",
       "      <td>3</td>\n",
       "      <td>3</td>\n",
       "      <td>-70.0</td>\n",
       "      <td>NaN</td>\n",
       "      <td>3.0</td>\n",
       "      <td>600.0</td>\n",
       "      <td>1150.0</td>\n",
       "    </tr>\n",
       "    <tr>\n",
       "      <td>9</td>\n",
       "      <td>1001</td>\n",
       "      <td>12</td>\n",
       "      <td>414.0</td>\n",
       "      <td>63.0</td>\n",
       "      <td>NaN</td>\n",
       "      <td>14036.66</td>\n",
       "      <td>41</td>\n",
       "      <td>NaN</td>\n",
       "      <td>Москва</td>\n",
       "      <td>Иван</td>\n",
       "      <td>...</td>\n",
       "      <td>500</td>\n",
       "      <td>550</td>\n",
       "      <td>200</td>\n",
       "      <td>3</td>\n",
       "      <td>3</td>\n",
       "      <td>-86.0</td>\n",
       "      <td>NaN</td>\n",
       "      <td>-1.0</td>\n",
       "      <td>0.0</td>\n",
       "      <td>550.0</td>\n",
       "    </tr>\n",
       "  </tbody>\n",
       "</table>\n",
       "<p>10 rows × 25 columns</p>\n",
       "</div>"
      ],
      "text/plain": [
       "   user_id  month  minutes  number_of_calls  number_of_messages   mb_used  \\\n",
       "0     1000      5    159.0             22.0                22.0   2253.49   \n",
       "1     1000      6    172.0             43.0                60.0  23233.77   \n",
       "2     1000      7    340.0             47.0                75.0  14003.64   \n",
       "3     1000      8    408.0             52.0                81.0  14055.93   \n",
       "4     1000      9    466.0             58.0                57.0  14568.91   \n",
       "5     1000     10    350.0             57.0                73.0  14702.49   \n",
       "6     1000     11    338.0             43.0                58.0  14756.47   \n",
       "7     1000     12    333.0             46.0                70.0   9817.61   \n",
       "8     1001     11    430.0             59.0                 NaN  18429.34   \n",
       "9     1001     12    414.0             63.0                 NaN  14036.66   \n",
       "\n",
       "   age churn_date       city first_name  ... minutes_included rub_monthly_fee  \\\n",
       "0   52        NaN  Краснодар     Рафаил  ...             3000            1950   \n",
       "1   52        NaN  Краснодар     Рафаил  ...             3000            1950   \n",
       "2   52        NaN  Краснодар     Рафаил  ...             3000            1950   \n",
       "3   52        NaN  Краснодар     Рафаил  ...             3000            1950   \n",
       "4   52        NaN  Краснодар     Рафаил  ...             3000            1950   \n",
       "5   52        NaN  Краснодар     Рафаил  ...             3000            1950   \n",
       "6   52        NaN  Краснодар     Рафаил  ...             3000            1950   \n",
       "7   52        NaN  Краснодар     Рафаил  ...             3000            1950   \n",
       "8   41        NaN     Москва       Иван  ...              500             550   \n",
       "9   41        NaN     Москва       Иван  ...              500             550   \n",
       "\n",
       "  rub_per_gb  rub_per_message  rub_per_minute  minutes_overrun  \\\n",
       "0        150                1               1          -2841.0   \n",
       "1        150                1               1          -2828.0   \n",
       "2        150                1               1          -2660.0   \n",
       "3        150                1               1          -2592.0   \n",
       "4        150                1               1          -2534.0   \n",
       "5        150                1               1          -2650.0   \n",
       "6        150                1               1          -2662.0   \n",
       "7        150                1               1          -2667.0   \n",
       "8        200                3               3            -70.0   \n",
       "9        200                3               3            -86.0   \n",
       "\n",
       "   messages_overrun  mb_used_overrun  revenue  revenue_total  \n",
       "0            -978.0            -27.0      0.0         1950.0  \n",
       "1            -940.0             -7.0      0.0         1950.0  \n",
       "2            -925.0            -16.0      0.0         1950.0  \n",
       "3            -919.0            -16.0      0.0         1950.0  \n",
       "4            -943.0            -15.0      0.0         1950.0  \n",
       "5            -927.0            -15.0      0.0         1950.0  \n",
       "6            -942.0            -15.0      0.0         1950.0  \n",
       "7            -930.0            -20.0      0.0         1950.0  \n",
       "8               NaN              3.0    600.0         1150.0  \n",
       "9               NaN             -1.0      0.0          550.0  \n",
       "\n",
       "[10 rows x 25 columns]"
      ]
     },
     "metadata": {},
     "output_type": "display_data"
    }
   ],
   "source": [
    "# создадим функцию для подсчета перерасхода в рублях\n",
    "\n",
    "def get_revenue(row):\n",
    "    revenue_by_min = 0\n",
    "    revenue_by_messages = 0\n",
    "    revenue_mb = 0\n",
    "    if row['minutes_overrun'] > 0:\n",
    "        revenue_by_min = row['minutes_overrun'] * row['rub_per_minute']\n",
    "    if row['messages_overrun'] > 0:\n",
    "        revenue_by_messages = row['messages_overrun'] * row['rub_per_message']\n",
    "    if row['mb_used_overrun'] > 0:\n",
    "        revenue_mb = row['mb_used_overrun'] * row['rub_per_gb']\n",
    "    result = revenue_by_min + revenue_by_messages + revenue_mb\n",
    "    return result\n",
    "\n",
    "# добавим столбец с перерасходом в таблицу\n",
    "user_all['revenue'] = user_all.apply(get_revenue, axis=1)\n",
    "\n",
    "#посчитаем помесячную выручку с каждого пользователя\n",
    "user_all['revenue_total'] = user_all['rub_monthly_fee'] + user_all['revenue']\n",
    "display(user_all.head(10))"
   ]
  },
  {
   "cell_type": "markdown",
   "metadata": {},
   "source": [
    "### Вывод\n",
    "Мы посчитали для каждого пользователя количесто звонков, израсходованных минут, отправленных сообщений и потраченных мегабайт. С помощью этой информации мы смогли посчитать помесячную выручку с каждого пользователя и обнаружили, что некоторые пользователи превышают отведенный в тарифе лимит."
   ]
  },
  {
   "cell_type": "markdown",
   "metadata": {},
   "source": [
    "## Анализ данных"
   ]
  },
  {
   "cell_type": "code",
   "execution_count": 9,
   "metadata": {},
   "outputs": [
    {
     "name": "stdout",
     "output_type": "stream",
     "text": [
      "tariff\n",
      "smart    419.062978\n",
      "ultra    545.451104\n",
      "Name: minutes, dtype: float64\n",
      "\n",
      "tariff\n",
      "smart    38.716441\n",
      "ultra    61.161006\n",
      "Name: number_of_messages, dtype: float64\n",
      "\n",
      "tariff\n",
      "smart    15.835607\n",
      "ultra    19.207505\n",
      "Name: mb_used, dtype: float64\n"
     ]
    }
   ],
   "source": [
    "#Посчитаем сколько тратит клиент за месяц минут, смс и мегабайт.\n",
    "\n",
    "# 1. сколько минут разговора\n",
    "print(user_all.groupby('tariff')['minutes'].mean())        \n",
    "print()\n",
    "# 2. сколько сообщений \n",
    "print(user_all.groupby('tariff')['number_of_messages'].mean()) \n",
    "print()\n",
    "# 3.какой объем интернет-трафика\n",
    "print(user_all.groupby('tariff')['mb_used'].mean()/1024)"
   ]
  },
  {
   "cell_type": "markdown",
   "metadata": {},
   "source": [
    "### Вывод\n",
    "Мы видим, что пользователи тарифа «Смарт» в среднем тратят 419 минут в месяц при лимите в 500 мин,\n",
    "в то время как пользователи тарифа «Ультра» 545 при норме в 3000 мин.\n",
    "\n",
    "Сообщения:\n",
    "«Смарт» - 39 шт. при лимите в 50,\n",
    "«Ультра» - 61 шт. при лимите в 1000.\n",
    "\n",
    "Интернет-трафик:\n",
    "«Смарт» - 16 Гб при лимите в 15,\n",
    "«Ультра» - 19 при лимите в 30."
   ]
  },
  {
   "cell_type": "code",
   "execution_count": 10,
   "metadata": {},
   "outputs": [
    {
     "name": "stdout",
     "output_type": "stream",
     "text": [
      "tariff\n",
      "smart    189.325618\n",
      "ultra    306.925754\n",
      "Name: minutes, dtype: float64\n",
      "\n",
      "tariff\n",
      "smart    26.787949\n",
      "ultra    45.931026\n",
      "Name: number_of_messages, dtype: float64\n",
      "\n",
      "tariff\n",
      "smart    5861.736234\n",
      "ultra    9943.050284\n",
      "Name: mb_used, dtype: float64\n"
     ]
    }
   ],
   "source": [
    "#посчитаем стандартное отклонение\n",
    "\n",
    "# 1. минут\n",
    "print(user_all.groupby('tariff')['minutes'].std())        \n",
    "print()\n",
    "# 2. сообщений \n",
    "print(user_all.groupby('tariff')['number_of_messages'].std()) \n",
    "print()\n",
    "# 3.интернет-трафика\n",
    "print(user_all.groupby('tariff')['mb_used'].std())"
   ]
  },
  {
   "cell_type": "code",
   "execution_count": 11,
   "metadata": {},
   "outputs": [
    {
     "data": {
      "text/html": [
       "<style  type=\"text/css\" >\n",
       "</style><table id=\"T_64eb0222_276c_11ec_b8a2_02420a39435b\" ><thead>    <tr>        <th class=\"blank\" ></th>        <th class=\"index_name level0\" >tariff</th>        <th class=\"col_heading level0 col0\" >smart</th>        <th class=\"col_heading level0 col1\" >ultra</th>    </tr></thead><tbody>\n",
       "                <tr>\n",
       "                        <th id=\"T_64eb0222_276c_11ec_b8a2_02420a39435blevel0_row0\" class=\"row_heading level0 row0\" rowspan=3>mean</th>\n",
       "                        <th id=\"T_64eb0222_276c_11ec_b8a2_02420a39435blevel1_row0\" class=\"row_heading level1 row0\" >mb_used</th>\n",
       "                        <td id=\"T_64eb0222_276c_11ec_b8a2_02420a39435brow0_col0\" class=\"data row0 col0\" >16215.66</td>\n",
       "                        <td id=\"T_64eb0222_276c_11ec_b8a2_02420a39435brow0_col1\" class=\"data row0 col1\" >19668.49</td>\n",
       "            </tr>\n",
       "            <tr>\n",
       "                                <th id=\"T_64eb0222_276c_11ec_b8a2_02420a39435blevel1_row1\" class=\"row_heading level1 row1\" >minutes</th>\n",
       "                        <td id=\"T_64eb0222_276c_11ec_b8a2_02420a39435brow1_col0\" class=\"data row1 col0\" >419.06</td>\n",
       "                        <td id=\"T_64eb0222_276c_11ec_b8a2_02420a39435brow1_col1\" class=\"data row1 col1\" >545.45</td>\n",
       "            </tr>\n",
       "            <tr>\n",
       "                                <th id=\"T_64eb0222_276c_11ec_b8a2_02420a39435blevel1_row2\" class=\"row_heading level1 row2\" >number_of_messages</th>\n",
       "                        <td id=\"T_64eb0222_276c_11ec_b8a2_02420a39435brow2_col0\" class=\"data row2 col0\" >38.72</td>\n",
       "                        <td id=\"T_64eb0222_276c_11ec_b8a2_02420a39435brow2_col1\" class=\"data row2 col1\" >61.16</td>\n",
       "            </tr>\n",
       "            <tr>\n",
       "                        <th id=\"T_64eb0222_276c_11ec_b8a2_02420a39435blevel0_row3\" class=\"row_heading level0 row3\" rowspan=3>std</th>\n",
       "                        <th id=\"T_64eb0222_276c_11ec_b8a2_02420a39435blevel1_row3\" class=\"row_heading level1 row3\" >mb_used</th>\n",
       "                        <td id=\"T_64eb0222_276c_11ec_b8a2_02420a39435brow3_col0\" class=\"data row3 col0\" >5861.74</td>\n",
       "                        <td id=\"T_64eb0222_276c_11ec_b8a2_02420a39435brow3_col1\" class=\"data row3 col1\" >9943.05</td>\n",
       "            </tr>\n",
       "            <tr>\n",
       "                                <th id=\"T_64eb0222_276c_11ec_b8a2_02420a39435blevel1_row4\" class=\"row_heading level1 row4\" >minutes</th>\n",
       "                        <td id=\"T_64eb0222_276c_11ec_b8a2_02420a39435brow4_col0\" class=\"data row4 col0\" >189.33</td>\n",
       "                        <td id=\"T_64eb0222_276c_11ec_b8a2_02420a39435brow4_col1\" class=\"data row4 col1\" >306.93</td>\n",
       "            </tr>\n",
       "            <tr>\n",
       "                                <th id=\"T_64eb0222_276c_11ec_b8a2_02420a39435blevel1_row5\" class=\"row_heading level1 row5\" >number_of_messages</th>\n",
       "                        <td id=\"T_64eb0222_276c_11ec_b8a2_02420a39435brow5_col0\" class=\"data row5 col0\" >26.79</td>\n",
       "                        <td id=\"T_64eb0222_276c_11ec_b8a2_02420a39435brow5_col1\" class=\"data row5 col1\" >45.93</td>\n",
       "            </tr>\n",
       "            <tr>\n",
       "                        <th id=\"T_64eb0222_276c_11ec_b8a2_02420a39435blevel0_row6\" class=\"row_heading level0 row6\" rowspan=3>var</th>\n",
       "                        <th id=\"T_64eb0222_276c_11ec_b8a2_02420a39435blevel1_row6\" class=\"row_heading level1 row6\" >mb_used</th>\n",
       "                        <td id=\"T_64eb0222_276c_11ec_b8a2_02420a39435brow6_col0\" class=\"data row6 col0\" >34359951.68</td>\n",
       "                        <td id=\"T_64eb0222_276c_11ec_b8a2_02420a39435brow6_col1\" class=\"data row6 col1\" >98864248.95</td>\n",
       "            </tr>\n",
       "            <tr>\n",
       "                                <th id=\"T_64eb0222_276c_11ec_b8a2_02420a39435blevel1_row7\" class=\"row_heading level1 row7\" >minutes</th>\n",
       "                        <td id=\"T_64eb0222_276c_11ec_b8a2_02420a39435brow7_col0\" class=\"data row7 col0\" >35844.19</td>\n",
       "                        <td id=\"T_64eb0222_276c_11ec_b8a2_02420a39435brow7_col1\" class=\"data row7 col1\" >94203.42</td>\n",
       "            </tr>\n",
       "            <tr>\n",
       "                                <th id=\"T_64eb0222_276c_11ec_b8a2_02420a39435blevel1_row8\" class=\"row_heading level1 row8\" >number_of_messages</th>\n",
       "                        <td id=\"T_64eb0222_276c_11ec_b8a2_02420a39435brow8_col0\" class=\"data row8 col0\" >717.59</td>\n",
       "                        <td id=\"T_64eb0222_276c_11ec_b8a2_02420a39435brow8_col1\" class=\"data row8 col1\" >2109.66</td>\n",
       "            </tr>\n",
       "    </tbody></table>"
      ],
      "text/plain": [
       "<pandas.io.formats.style.Styler at 0x7f0a47795b90>"
      ]
     },
     "execution_count": 11,
     "metadata": {},
     "output_type": "execute_result"
    }
   ],
   "source": [
    "user_all.pivot_table(index='tariff',  \n",
    "                 values=['minutes', 'mb_used', 'number_of_messages'], \n",
    "                 aggfunc=['mean', 'std', 'var']).T.style.format('{:.2f}')"
   ]
  },
  {
   "cell_type": "code",
   "execution_count": 12,
   "metadata": {},
   "outputs": [
    {
     "name": "stdout",
     "output_type": "stream",
     "text": [
      "tariff\n",
      "smart    35844.189551\n",
      "ultra    94203.418396\n",
      "Name: minutes, dtype: float64\n",
      "\n",
      "tariff\n",
      "smart     717.594201\n",
      "ultra    2109.659183\n",
      "Name: number_of_messages, dtype: float64\n",
      "\n",
      "tariff\n",
      "smart    3.435995e+07\n",
      "ultra    9.886425e+07\n",
      "Name: mb_used, dtype: float64\n"
     ]
    }
   ],
   "source": [
    "# посчитаем дисперсию\n",
    "\n",
    "# 1. минут\n",
    "print(user_all.groupby('tariff')['minutes'].std()** 2)        \n",
    "print()\n",
    "# 2. сообщений \n",
    "print(user_all.groupby('tariff')['number_of_messages'].std()** 2) \n",
    "print()\n",
    "# 3.интернет-трафика\n",
    "print(user_all.groupby('tariff')['mb_used'].std()** 2)\n"
   ]
  },
  {
   "cell_type": "code",
   "execution_count": 13,
   "metadata": {},
   "outputs": [
    {
     "data": {
      "image/png": "[encoded data removed]",
      "text/plain": [
       "<Figure size 432x288 with 1 Axes>"
      ]
     },
     "metadata": {
      "needs_background": "light"
     },
     "output_type": "display_data"
    },
    {
     "data": {
      "image/png": "[encoded data removed]",
      "text/plain": [
       "<Figure size 432x288 with 1 Axes>"
      ]
     },
     "metadata": {
      "needs_background": "light"
     },
     "output_type": "display_data"
    },
    {
     "data": {
      "image/png": "[encoded data removed]",
      "text/plain": [
       "<Figure size 432x288 with 1 Axes>"
      ]
     },
     "metadata": {
      "needs_background": "light"
     },
     "output_type": "display_data"
    }
   ],
   "source": [
    "# построим гистограммы\n",
    "\n",
    "# построим гистограммы для тарифа Смарт с исползованием цикла!\n",
    "plot_columns = [\n",
    "    'minutes',\n",
    "    'number_of_messages',\n",
    "    'mb_used'\n",
    "]\n",
    "\n",
    "for col in plot_columns:\n",
    "    user_all[user_all['tariff']=='smart'][col].hist()\n",
    "    plt.title(col)\n",
    "    plt.show()\n"
   ]
  },
  {
   "cell_type": "markdown",
   "metadata": {},
   "source": [
    "### Вывод\n",
    "Изучив гистограммы тарифа \"Смарт\" мы видим, что распределение количества минут и интернет-трафика нормальное. Распределение сообщений скошено влево, обычно пользователи используют от 0 до 30 смс в месяц."
   ]
  },
  {
   "cell_type": "code",
   "execution_count": 14,
   "metadata": {},
   "outputs": [
    {
     "data": {
      "image/png": "[encoded data removed]",
      "text/plain": [
       "<Figure size 432x288 with 1 Axes>"
      ]
     },
     "metadata": {
      "needs_background": "light"
     },
     "output_type": "display_data"
    },
    {
     "data": {
      "image/png": "[encoded data removed]",
      "text/plain": [
       "<Figure size 432x288 with 1 Axes>"
      ]
     },
     "metadata": {
      "needs_background": "light"
     },
     "output_type": "display_data"
    },
    {
     "data": {
      "image/png": "[encoded data removed]",
      "text/plain": [
       "<Figure size 432x288 with 1 Axes>"
      ]
     },
     "metadata": {
      "needs_background": "light"
     },
     "output_type": "display_data"
    }
   ],
   "source": [
    "# построим гистограммы для тарифа Смарт с исползованием цикла!\n",
    "plot_columns = [\n",
    "    'minutes',\n",
    "    'number_of_messages',\n",
    "    'mb_used'\n",
    "]\n",
    "\n",
    "for col in plot_columns:\n",
    "    user_all[user_all['tariff']=='ultra'][col].hist()\n",
    "    plt.title(col)\n",
    "    plt.show()"
   ]
  },
  {
   "cell_type": "markdown",
   "metadata": {},
   "source": [
    "### Вывод\n",
    "В целом у тарифа \"Ультра\" картина схожая с тарифом \"Смарт\". "
   ]
  },
  {
   "cell_type": "markdown",
   "metadata": {},
   "source": [
    "## Проверим гипотезы"
   ]
  },
  {
   "cell_type": "markdown",
   "metadata": {},
   "source": [
    "### Гипотеза № 1\n",
    "Средняя выручка пользователей тарифов «Ультра» и «Смарт» различаются."
   ]
  },
  {
   "cell_type": "code",
   "execution_count": 15,
   "metadata": {},
   "outputs": [
    {
     "name": "stdout",
     "output_type": "stream",
     "text": [
      "month\n",
      "1      721.323529\n",
      "2      827.603448\n",
      "3     1164.623377\n",
      "4      963.089286\n",
      "5     1197.510638\n",
      "6     1204.018293\n",
      "7     1223.950249\n",
      "8     1320.595745\n",
      "9     1249.946154\n",
      "10    1364.853741\n",
      "11    1343.047468\n",
      "12    1578.531157\n",
      "Name: revenue_total, dtype: float64\n",
      "\n",
      "month\n",
      "1     1950.000000\n",
      "2     1975.000000\n",
      "3     2014.864865\n",
      "4     2001.818182\n",
      "5     2059.701493\n",
      "6     2039.285714\n",
      "7     2118.131868\n",
      "8     2083.177570\n",
      "9     2024.347826\n",
      "10    2065.853659\n",
      "11    2092.164179\n",
      "12    2138.848921\n",
      "Name: revenue_total, dtype: float64\n",
      "\n",
      "P-value: 3.2027925855703315e-08\n",
      "Отвергаем нулевую гипотезу\n"
     ]
    }
   ],
   "source": [
    "# создадим две таблицы по тарифам\n",
    "smart = user_all[user_all['tariff'] == 'smart']\n",
    "ultra = user_all[user_all['tariff'] == 'ultra']\n",
    "print(smart.groupby('month')['revenue_total'].mean())\n",
    "print()\n",
    "print(ultra.groupby('month')['revenue_total'].mean())\n",
    "print()\n",
    "# проверим гипотезу\n",
    "alpha = 0.05\n",
    "results = st.ttest_ind(smart.groupby('month')['revenue_total'].mean()\\\n",
    "                       , ultra.groupby('month')['revenue_total'].mean(), equal_var = False)\n",
    "\n",
    "print('P-value:', results.pvalue)\n",
    "if (results.pvalue < alpha):\n",
    "    print(\"Отвергаем нулевую гипотезу\")\n",
    "else:\n",
    "    print(\"Не получилось отвергнуть нулевую гипотезу\")"
   ]
  },
  {
   "cell_type": "code",
   "execution_count": 16,
   "metadata": {},
   "outputs": [
    {
     "name": "stdout",
     "output_type": "stream",
     "text": [
      "1289.9735307312696\n",
      "2070.1522842639592\n",
      "P-value: 4.2606313931076085e-250\n",
      "Отвергаем нулевую гипотезу\n"
     ]
    }
   ],
   "source": [
    "print(user_all[user_all['tariff'] == 'smart']['revenue_total'].mean())\n",
    "print(user_all[user_all['tariff'] == 'ultra']['revenue_total'].mean())\n",
    "# проверим гипотезу\n",
    "alpha = 0.05\n",
    "results = st.ttest_ind(user_all[user_all['tariff'] == 'smart']['revenue_total']\\\n",
    "                       , user_all[user_all['tariff'] == 'ultra']['revenue_total'], equal_var = False)\n",
    "\n",
    "print('P-value:', results.pvalue)\n",
    "if (results.pvalue < alpha):\n",
    "    print(\"Отвергаем нулевую гипотезу\")\n",
    "else:\n",
    "    print(\"Не получилось отвергнуть нулевую гипотезу\")"
   ]
  },
  {
   "cell_type": "markdown",
   "metadata": {},
   "source": [
    "### Вывод\n",
    "Нулевая гипотеза - срдняя выручка тарифов равна, алтернативная - выручки отличаются.\n",
    "\n",
    "Мы выбрали гипотезу о равенстве средних двух генеральных совокупностей,значит используем st.ttest_ind, alpha возьмем 0.05, то есть вероятность 5 %.\n",
    "Наша вероятность оказалось намного меньше процента, значит мы отвергаем нулевую гипотезу. Срдние выручки различаются.\n",
    "\n",
    "Выручка тарифа «Ультра» больше, но зато у тарифа «Смарт» больше плата за перерасход лимитов."
   ]
  },
  {
   "cell_type": "markdown",
   "metadata": {},
   "source": [
    "### Гипотеза № 2\n",
    "Средняя выручка пользователей из Москвы отличается от выручки пользователей из других регионов."
   ]
  },
  {
   "cell_type": "code",
   "execution_count": 17,
   "metadata": {},
   "outputs": [
    {
     "name": "stdout",
     "output_type": "stream",
     "text": [
      "month\n",
      "1     1475.000000\n",
      "2     1175.142857\n",
      "3     1649.600000\n",
      "4     1503.310345\n",
      "5     1465.128205\n",
      "6     1500.723404\n",
      "7     1448.571429\n",
      "8     1600.709677\n",
      "9     1548.544118\n",
      "10    1547.790123\n",
      "11    1575.175824\n",
      "12    1647.406250\n",
      "Name: revenue_total, dtype: float64\n",
      "\n",
      "month\n",
      "1      865.000000\n",
      "2     1161.014706\n",
      "3     1396.106383\n",
      "4     1263.550725\n",
      "5     1477.568047\n",
      "6     1483.706468\n",
      "7     1515.440678\n",
      "8     1549.985714\n",
      "9     1473.892508\n",
      "10    1577.369048\n",
      "11    1563.821727\n",
      "12    1766.089474\n",
      "Name: revenue_total, dtype: float64\n",
      "\n",
      "P-value: 0.27212244216705705\n",
      "Не получилось отвергнуть нулевую гипотезу\n"
     ]
    }
   ],
   "source": [
    "#создадим две таблицы, для клиентов из москвы и остальных\n",
    "moscow = user_all[user_all['city'] == 'Москва']\n",
    "other = user_all[user_all['city'] != 'Москва']\n",
    "print(moscow.groupby('month')['revenue_total'].mean())\n",
    "print()\n",
    "print(other.groupby('month')['revenue_total'].mean())\n",
    "print()\n",
    "\n",
    "# проверим гипотезу\n",
    "alpha = 0.05\n",
    "results = st.ttest_ind(moscow.groupby('month')['revenue_total'].mean()\\\n",
    "                       , other.groupby('month')['revenue_total'].mean(), equal_var = False)\n",
    "\n",
    "print('P-value:', results.pvalue)\n",
    "if (results.pvalue < alpha):\n",
    "    print(\"Отвергаем нулевую гипотезу\")\n",
    "else:\n",
    "    print(\"Не получилось отвергнуть нулевую гипотезу\")"
   ]
  },
  {
   "cell_type": "code",
   "execution_count": 18,
   "metadata": {},
   "outputs": [
    {
     "name": "stdout",
     "output_type": "stream",
     "text": [
      "1546.7135842880523\n",
      "1524.9362274298885\n",
      "P-value: 0.5257376663729298\n",
      "Не получилось отвергнуть нулевую гипотезу\n"
     ]
    }
   ],
   "source": [
    "print(user_all[user_all['city'] == 'Москва']['revenue_total'].mean())\n",
    "print(user_all[user_all['city'] != 'Москва']['revenue_total'].mean())\n",
    "# проверим гипотезу\n",
    "alpha = 0.05\n",
    "results = st.ttest_ind(user_all[user_all['city'] == 'Москва']['revenue_total']\\\n",
    "                       , user_all[user_all['city'] != 'Москва']['revenue_total'], equal_var = False)\n",
    "\n",
    "print('P-value:', results.pvalue)\n",
    "if (results.pvalue < alpha):\n",
    "    print(\"Отвергаем нулевую гипотезу\")\n",
    "else:\n",
    "    print(\"Не получилось отвергнуть нулевую гипотезу\")"
   ]
  },
  {
   "cell_type": "markdown",
   "metadata": {},
   "source": [
    "### Вывод\n",
    "Нулевая гипотеза - средняя выручка пользователей из Москвы равна средней выручке пользователей из других регионов. Альтернативная - различаются.\n",
    "\n",
    "Мы выбрали гипотезу о равенстве средних двух генеральных совокупностей,значит используем st.ttest_ind, alpha возьмем 0.05, то есть вероятность 5 %.\n",
    "Наша вероятность оказалось 0.53, то есть 53 %, значит мы не можем отвергнуть нулевую гипотезу."
   ]
  },
  {
   "cell_type": "markdown",
   "metadata": {},
   "source": [
    "## Общий вывод\n",
    "Нам были предоставлены данные 500 пользователей, использующих тарифа \"Смарт\" и \"Ультра\". Данные были в 5 таблицах. Мы изучили таблицы, привели данные к нужны типам, исправили ошибки и собрали всю информацию в 1 таблицу.\n",
    "Затем нашли данные за месяц по количеству израсходованных минут, сообщений, интернет-трафика и помесячную выручку каждого пользователя. Построили гистограммы тарифов и заметили на них нормальное распределение количества звонков и трафика и скошенное влево распределение сообщений на обоих тарифах.\n",
    "Проверили две гипотезы. Первая о том, что прибыли в тарифах различаются и она оказалась верной.\n",
    "Прибыль с тарифа \"Ультра\" оказалась выше чем с тарифа \" Смарт\", но только за счет того, что у первого стоимость в 3.5 раза больше, зато в тарифе \"Смарт\" пользователи чаще и больше платят за перерасход лимитов. \n",
    "Вторую гипотезу о том, что в Москве прибыль больше чем в регионах доказать не удалось. Москва не так уж сильно отличается от регионов.\n",
    "\n",
    "Считаю наиболее выгодным для оператора тариф \"Ультра\", в среднем доход с одного пользователя тарифа \"Ультра\" почти на 800 р больше пользователя тарифа \"Смарт\". Также считаю оператору стоит задуматься о вводе нового тарифа, занимающего среднюю нишу между первыми двумя, так как у пользователей \"Смарт\" большая переплата, но 1950 р в месяц они платить не готовы. Я бы предложил тариф под кодовым названием \"Оптима\" и абонентской платой порядка 1050-1150 р."
   ]
  }
 ],
 "metadata": {
  "ExecuteTimeLog": [
   {
    "duration": 217,
    "start_time": "2021-09-29T06:35:05.503Z"
   },
   {
    "duration": 136,
    "start_time": "2021-09-29T06:35:53.767Z"
   },
   {
    "duration": 1361,
    "start_time": "2021-09-30T06:11:07.528Z"
   },
   {
    "duration": 654,
    "start_time": "2021-09-30T06:42:39.683Z"
   },
   {
    "duration": 610,
    "start_time": "2021-09-30T06:42:54.814Z"
   },
   {
    "duration": 20,
    "start_time": "2021-09-30T06:47:45.049Z"
   },
   {
    "duration": 831,
    "start_time": "2021-09-30T06:51:47.510Z"
   },
   {
    "duration": 610,
    "start_time": "2021-09-30T06:52:48.418Z"
   },
   {
    "duration": 375,
    "start_time": "2021-09-30T07:11:23.552Z"
   },
   {
    "duration": 363,
    "start_time": "2021-09-30T07:13:45.122Z"
   },
   {
    "duration": 592,
    "start_time": "2021-09-30T07:13:49.311Z"
   },
   {
    "duration": 268,
    "start_time": "2021-09-30T07:13:49.906Z"
   },
   {
    "duration": 975,
    "start_time": "2021-09-30T07:14:41.271Z"
   },
   {
    "duration": 103,
    "start_time": "2021-09-30T07:18:53.046Z"
   },
   {
    "duration": 381,
    "start_time": "2021-09-30T07:19:27.556Z"
   },
   {
    "duration": 585,
    "start_time": "2021-09-30T07:19:50.679Z"
   },
   {
    "duration": 151,
    "start_time": "2021-09-30T07:19:51.267Z"
   },
   {
    "duration": 450,
    "start_time": "2021-09-30T07:24:30.865Z"
   },
   {
    "duration": 618,
    "start_time": "2021-09-30T07:24:46.666Z"
   },
   {
    "duration": 244,
    "start_time": "2021-09-30T07:24:47.287Z"
   },
   {
    "duration": 459,
    "start_time": "2021-09-30T07:25:15.030Z"
   },
   {
    "duration": 683,
    "start_time": "2021-09-30T07:25:37.289Z"
   },
   {
    "duration": 238,
    "start_time": "2021-09-30T07:25:37.974Z"
   },
   {
    "duration": 103,
    "start_time": "2021-09-30T08:40:07.635Z"
   },
   {
    "duration": 90,
    "start_time": "2021-09-30T08:45:04.935Z"
   },
   {
    "duration": 95,
    "start_time": "2021-09-30T08:45:11.927Z"
   },
   {
    "duration": 93,
    "start_time": "2021-09-30T08:48:23.427Z"
   },
   {
    "duration": 68,
    "start_time": "2021-09-30T08:53:26.467Z"
   },
   {
    "duration": 7547,
    "start_time": "2021-09-30T09:02:09.120Z"
   },
   {
    "duration": 99,
    "start_time": "2021-09-30T09:03:25.109Z"
   },
   {
    "duration": 6689,
    "start_time": "2021-09-30T09:11:05.032Z"
   },
   {
    "duration": 79,
    "start_time": "2021-09-30T09:13:11.284Z"
   },
   {
    "duration": 29,
    "start_time": "2021-09-30T09:39:49.374Z"
   },
   {
    "duration": 25,
    "start_time": "2021-09-30T12:44:45.499Z"
   },
   {
    "duration": 360,
    "start_time": "2021-09-30T12:52:11.027Z"
   },
   {
    "duration": 613,
    "start_time": "2021-09-30T12:52:26.246Z"
   },
   {
    "duration": 250,
    "start_time": "2021-09-30T12:52:26.862Z"
   },
   {
    "duration": 365,
    "start_time": "2021-09-30T12:52:27.115Z"
   },
   {
    "duration": -3033,
    "start_time": "2021-09-30T12:52:30.516Z"
   },
   {
    "duration": -3035,
    "start_time": "2021-09-30T12:52:30.519Z"
   },
   {
    "duration": -3049,
    "start_time": "2021-09-30T12:52:30.534Z"
   },
   {
    "duration": 96,
    "start_time": "2021-09-30T12:52:57.374Z"
   },
   {
    "duration": 338,
    "start_time": "2021-09-30T12:54:48.615Z"
   },
   {
    "duration": 93,
    "start_time": "2021-09-30T12:55:29.866Z"
   },
   {
    "duration": 97,
    "start_time": "2021-09-30T12:58:00.887Z"
   },
   {
    "duration": 96,
    "start_time": "2021-09-30T12:58:40.192Z"
   },
   {
    "duration": 115,
    "start_time": "2021-09-30T13:00:54.730Z"
   },
   {
    "duration": 106,
    "start_time": "2021-09-30T13:01:17.066Z"
   },
   {
    "duration": 98,
    "start_time": "2021-09-30T13:02:46.467Z"
   },
   {
    "duration": 669,
    "start_time": "2021-09-30T13:02:57.367Z"
   },
   {
    "duration": 233,
    "start_time": "2021-09-30T13:02:58.038Z"
   },
   {
    "duration": 115,
    "start_time": "2021-09-30T13:02:58.283Z"
   },
   {
    "duration": 63,
    "start_time": "2021-09-30T13:02:58.401Z"
   },
   {
    "duration": 87,
    "start_time": "2021-09-30T13:02:58.467Z"
   },
   {
    "duration": 48,
    "start_time": "2021-09-30T13:02:58.557Z"
   },
   {
    "duration": 75,
    "start_time": "2021-09-30T13:04:22.243Z"
   },
   {
    "duration": 72,
    "start_time": "2021-09-30T13:05:44.499Z"
   },
   {
    "duration": 30,
    "start_time": "2021-09-30T13:08:08.582Z"
   },
   {
    "duration": 29,
    "start_time": "2021-09-30T13:08:51.152Z"
   },
   {
    "duration": 328,
    "start_time": "2021-10-01T12:56:11.783Z"
   },
   {
    "duration": 1023,
    "start_time": "2021-10-01T12:56:17.149Z"
   },
   {
    "duration": 158,
    "start_time": "2021-10-01T12:56:18.174Z"
   },
   {
    "duration": 81,
    "start_time": "2021-10-01T12:56:18.334Z"
   },
   {
    "duration": 60,
    "start_time": "2021-10-01T12:56:18.417Z"
   },
   {
    "duration": 50,
    "start_time": "2021-10-01T12:56:18.478Z"
   },
   {
    "duration": 313,
    "start_time": "2021-10-01T12:56:18.529Z"
   },
   {
    "duration": -4796,
    "start_time": "2021-10-01T12:56:23.640Z"
   },
   {
    "duration": 20,
    "start_time": "2021-10-01T12:57:21.811Z"
   },
   {
    "duration": 31,
    "start_time": "2021-10-01T12:58:18.401Z"
   },
   {
    "duration": 85,
    "start_time": "2021-10-01T13:02:17.436Z"
   },
   {
    "duration": 7074,
    "start_time": "2021-10-01T13:03:20.420Z"
   },
   {
    "duration": 544,
    "start_time": "2021-10-01T13:05:25.423Z"
   },
   {
    "duration": 85,
    "start_time": "2021-10-01T13:06:32.951Z"
   },
   {
    "duration": 87,
    "start_time": "2021-10-01T13:07:46.678Z"
   },
   {
    "duration": 91,
    "start_time": "2021-10-01T13:08:22.720Z"
   },
   {
    "duration": 84,
    "start_time": "2021-10-01T13:11:38.231Z"
   },
   {
    "duration": 94,
    "start_time": "2021-10-01T13:11:48.159Z"
   },
   {
    "duration": 96,
    "start_time": "2021-10-01T13:14:29.672Z"
   },
   {
    "duration": 101,
    "start_time": "2021-10-01T13:14:45.184Z"
   },
   {
    "duration": 86,
    "start_time": "2021-10-01T13:15:50.505Z"
   },
   {
    "duration": 86,
    "start_time": "2021-10-01T13:16:00.946Z"
   },
   {
    "duration": 21,
    "start_time": "2021-10-01T13:17:02.577Z"
   },
   {
    "duration": 4,
    "start_time": "2021-10-01T13:17:06.408Z"
   },
   {
    "duration": 311,
    "start_time": "2021-10-01T14:23:41.132Z"
   },
   {
    "duration": 265,
    "start_time": "2021-10-01T14:24:52.968Z"
   },
   {
    "duration": 22,
    "start_time": "2021-10-01T14:26:20.886Z"
   },
   {
    "duration": 266,
    "start_time": "2021-10-01T14:30:17.233Z"
   },
   {
    "duration": 7549,
    "start_time": "2021-10-01T14:40:11.237Z"
   },
   {
    "duration": 8119,
    "start_time": "2021-10-01T14:43:48.647Z"
   },
   {
    "duration": 8523,
    "start_time": "2021-10-01T14:44:50.600Z"
   },
   {
    "duration": 7803,
    "start_time": "2021-10-01T14:47:05.961Z"
   },
   {
    "duration": 488,
    "start_time": "2021-10-01T14:47:22.419Z"
   },
   {
    "duration": 172,
    "start_time": "2021-10-01T14:47:22.909Z"
   },
   {
    "duration": 83,
    "start_time": "2021-10-01T14:47:23.082Z"
   },
   {
    "duration": 44,
    "start_time": "2021-10-01T14:47:23.167Z"
   },
   {
    "duration": 67,
    "start_time": "2021-10-01T14:47:23.213Z"
   },
   {
    "duration": 32,
    "start_time": "2021-10-01T14:47:23.281Z"
   },
   {
    "duration": 39,
    "start_time": "2021-10-01T14:47:23.315Z"
   },
   {
    "duration": 8159,
    "start_time": "2021-10-01T14:47:23.356Z"
   },
   {
    "duration": 19,
    "start_time": "2021-10-01T14:49:11.845Z"
   },
   {
    "duration": 9104,
    "start_time": "2021-10-01T14:51:09.001Z"
   },
   {
    "duration": 8666,
    "start_time": "2021-10-01T14:56:32.023Z"
   },
   {
    "duration": 436,
    "start_time": "2021-10-01T14:57:40.040Z"
   },
   {
    "duration": 244,
    "start_time": "2021-10-01T14:57:40.478Z"
   },
   {
    "duration": 71,
    "start_time": "2021-10-01T14:57:40.724Z"
   },
   {
    "duration": 53,
    "start_time": "2021-10-01T14:57:40.796Z"
   },
   {
    "duration": 44,
    "start_time": "2021-10-01T14:57:40.850Z"
   },
   {
    "duration": 28,
    "start_time": "2021-10-01T14:57:40.896Z"
   },
   {
    "duration": 35,
    "start_time": "2021-10-01T14:57:40.926Z"
   },
   {
    "duration": 7982,
    "start_time": "2021-10-01T14:57:40.963Z"
   },
   {
    "duration": 7691,
    "start_time": "2021-10-01T14:59:13.879Z"
   },
   {
    "duration": 463,
    "start_time": "2021-10-01T14:59:29.097Z"
   },
   {
    "duration": 146,
    "start_time": "2021-10-01T14:59:29.562Z"
   },
   {
    "duration": 83,
    "start_time": "2021-10-01T14:59:29.710Z"
   },
   {
    "duration": 49,
    "start_time": "2021-10-01T14:59:29.795Z"
   },
   {
    "duration": 45,
    "start_time": "2021-10-01T14:59:29.845Z"
   },
   {
    "duration": 29,
    "start_time": "2021-10-01T14:59:29.892Z"
   },
   {
    "duration": 38,
    "start_time": "2021-10-01T14:59:29.922Z"
   },
   {
    "duration": 7600,
    "start_time": "2021-10-01T14:59:29.962Z"
   },
   {
    "duration": 19,
    "start_time": "2021-10-01T15:01:48.671Z"
   },
   {
    "duration": 4,
    "start_time": "2021-10-01T15:02:05.642Z"
   },
   {
    "duration": 10938,
    "start_time": "2021-10-01T15:02:10.342Z"
   },
   {
    "duration": 3,
    "start_time": "2021-10-01T15:07:38.775Z"
   },
   {
    "duration": 440,
    "start_time": "2021-10-01T15:07:46.244Z"
   },
   {
    "duration": 161,
    "start_time": "2021-10-01T15:07:46.686Z"
   },
   {
    "duration": 64,
    "start_time": "2021-10-01T15:07:46.849Z"
   },
   {
    "duration": 57,
    "start_time": "2021-10-01T15:07:46.914Z"
   },
   {
    "duration": 46,
    "start_time": "2021-10-01T15:07:46.973Z"
   },
   {
    "duration": 47,
    "start_time": "2021-10-01T15:07:47.021Z"
   },
   {
    "duration": 20,
    "start_time": "2021-10-01T15:07:47.070Z"
   },
   {
    "duration": 4,
    "start_time": "2021-10-01T15:07:47.092Z"
   },
   {
    "duration": 165,
    "start_time": "2021-10-01T15:07:47.097Z"
   },
   {
    "duration": 4,
    "start_time": "2021-10-01T15:09:31.815Z"
   },
   {
    "duration": 627,
    "start_time": "2021-10-01T15:09:32.440Z"
   },
   {
    "duration": 4,
    "start_time": "2021-10-01T15:10:05.186Z"
   },
   {
    "duration": 4,
    "start_time": "2021-10-01T15:10:12.519Z"
   },
   {
    "duration": 3,
    "start_time": "2021-10-01T15:10:24.152Z"
   },
   {
    "duration": 449,
    "start_time": "2021-10-01T15:10:27.364Z"
   },
   {
    "duration": 155,
    "start_time": "2021-10-01T15:10:27.815Z"
   },
   {
    "duration": 78,
    "start_time": "2021-10-01T15:10:27.972Z"
   },
   {
    "duration": 41,
    "start_time": "2021-10-01T15:10:28.052Z"
   },
   {
    "duration": 61,
    "start_time": "2021-10-01T15:10:28.095Z"
   },
   {
    "duration": 30,
    "start_time": "2021-10-01T15:10:28.158Z"
   },
   {
    "duration": 19,
    "start_time": "2021-10-01T15:10:28.189Z"
   },
   {
    "duration": 4,
    "start_time": "2021-10-01T15:10:28.210Z"
   },
   {
    "duration": 136,
    "start_time": "2021-10-01T15:10:28.215Z"
   },
   {
    "duration": 127,
    "start_time": "2021-10-01T15:15:14.401Z"
   },
   {
    "duration": 7086,
    "start_time": "2021-10-01T15:19:18.175Z"
   },
   {
    "duration": 126,
    "start_time": "2021-10-01T15:19:43.978Z"
   },
   {
    "duration": 118,
    "start_time": "2021-10-01T15:22:51.161Z"
   },
   {
    "duration": 2371,
    "start_time": "2021-10-02T14:42:04.001Z"
   },
   {
    "duration": 1414,
    "start_time": "2021-10-02T14:42:20.966Z"
   },
   {
    "duration": 248,
    "start_time": "2021-10-02T14:42:22.383Z"
   },
   {
    "duration": 122,
    "start_time": "2021-10-02T14:42:22.634Z"
   },
   {
    "duration": 77,
    "start_time": "2021-10-02T14:42:22.759Z"
   },
   {
    "duration": 86,
    "start_time": "2021-10-02T14:42:22.838Z"
   },
   {
    "duration": 51,
    "start_time": "2021-10-02T14:42:22.926Z"
   },
   {
    "duration": 59,
    "start_time": "2021-10-02T14:42:22.980Z"
   },
   {
    "duration": 227,
    "start_time": "2021-10-02T14:42:23.042Z"
   },
   {
    "duration": 148,
    "start_time": "2021-10-02T15:07:48.595Z"
   },
   {
    "duration": 449,
    "start_time": "2021-10-02T15:10:20.469Z"
   },
   {
    "duration": 9,
    "start_time": "2021-10-02T15:10:54.612Z"
   },
   {
    "duration": 10,
    "start_time": "2021-10-02T15:12:50.030Z"
   },
   {
    "duration": 20,
    "start_time": "2021-10-02T15:13:43.398Z"
   },
   {
    "duration": 1782,
    "start_time": "2021-10-02T15:21:17.480Z"
   },
   {
    "duration": 744,
    "start_time": "2021-10-02T15:21:28.816Z"
   },
   {
    "duration": 281,
    "start_time": "2021-10-02T15:21:29.563Z"
   },
   {
    "duration": 125,
    "start_time": "2021-10-02T15:21:29.847Z"
   },
   {
    "duration": 82,
    "start_time": "2021-10-02T15:21:29.976Z"
   },
   {
    "duration": 99,
    "start_time": "2021-10-02T15:21:30.061Z"
   },
   {
    "duration": 69,
    "start_time": "2021-10-02T15:21:30.162Z"
   },
   {
    "duration": 38,
    "start_time": "2021-10-02T15:21:30.234Z"
   },
   {
    "duration": 308,
    "start_time": "2021-10-02T15:21:30.276Z"
   },
   {
    "duration": 33,
    "start_time": "2021-10-02T15:21:30.587Z"
   },
   {
    "duration": 693,
    "start_time": "2021-10-02T15:21:30.624Z"
   },
   {
    "duration": 2292,
    "start_time": "2021-10-03T07:05:44.876Z"
   },
   {
    "duration": 458,
    "start_time": "2021-10-03T07:05:47.172Z"
   },
   {
    "duration": 176,
    "start_time": "2021-10-03T07:05:47.634Z"
   },
   {
    "duration": 113,
    "start_time": "2021-10-03T07:05:47.813Z"
   },
   {
    "duration": 118,
    "start_time": "2021-10-03T07:05:47.929Z"
   },
   {
    "duration": 85,
    "start_time": "2021-10-03T07:05:48.050Z"
   },
   {
    "duration": 53,
    "start_time": "2021-10-03T07:05:48.138Z"
   },
   {
    "duration": 228,
    "start_time": "2021-10-03T07:05:48.194Z"
   },
   {
    "duration": 13,
    "start_time": "2021-10-03T07:05:48.425Z"
   },
   {
    "duration": 398,
    "start_time": "2021-10-03T07:05:48.441Z"
   },
   {
    "duration": -49,
    "start_time": "2021-10-03T07:05:48.890Z"
   },
   {
    "duration": 3,
    "start_time": "2021-10-03T07:05:58.750Z"
   },
   {
    "duration": 14,
    "start_time": "2021-10-03T07:05:59.586Z"
   },
   {
    "duration": 425,
    "start_time": "2021-10-03T07:07:16.635Z"
   },
   {
    "duration": 267,
    "start_time": "2021-10-03T07:23:31.242Z"
   },
   {
    "duration": 965,
    "start_time": "2021-10-03T07:23:59.520Z"
   },
   {
    "duration": 404,
    "start_time": "2021-10-03T07:24:00.488Z"
   },
   {
    "duration": 119,
    "start_time": "2021-10-03T07:24:00.895Z"
   },
   {
    "duration": 79,
    "start_time": "2021-10-03T07:24:01.017Z"
   },
   {
    "duration": 85,
    "start_time": "2021-10-03T07:24:01.099Z"
   },
   {
    "duration": 57,
    "start_time": "2021-10-03T07:24:01.186Z"
   },
   {
    "duration": 42,
    "start_time": "2021-10-03T07:24:01.262Z"
   },
   {
    "duration": 269,
    "start_time": "2021-10-03T07:24:01.307Z"
   },
   {
    "duration": 15,
    "start_time": "2021-10-03T07:24:01.578Z"
   },
   {
    "duration": 662,
    "start_time": "2021-10-03T07:24:01.595Z"
   },
   {
    "duration": -10,
    "start_time": "2021-10-03T07:24:02.270Z"
   },
   {
    "duration": 15,
    "start_time": "2021-10-03T07:31:04.893Z"
   },
   {
    "duration": 15,
    "start_time": "2021-10-03T07:32:26.039Z"
   },
   {
    "duration": 19,
    "start_time": "2021-10-03T07:33:18.902Z"
   },
   {
    "duration": 14,
    "start_time": "2021-10-03T07:40:23.898Z"
   },
   {
    "duration": 623,
    "start_time": "2021-10-03T07:55:13.401Z"
   },
   {
    "duration": 308,
    "start_time": "2021-10-03T07:55:25.456Z"
   },
   {
    "duration": 85,
    "start_time": "2021-10-03T08:01:04.139Z"
   },
   {
    "duration": 545,
    "start_time": "2021-10-03T08:01:14.490Z"
   },
   {
    "duration": 310,
    "start_time": "2021-10-03T08:01:24.522Z"
   },
   {
    "duration": 756,
    "start_time": "2021-10-03T08:09:32.231Z"
   },
   {
    "duration": 1276,
    "start_time": "2021-10-03T08:09:43.462Z"
   },
   {
    "duration": 653,
    "start_time": "2021-10-03T08:09:54.504Z"
   },
   {
    "duration": 251,
    "start_time": "2021-10-03T08:09:55.162Z"
   },
   {
    "duration": 108,
    "start_time": "2021-10-03T08:09:55.416Z"
   },
   {
    "duration": 78,
    "start_time": "2021-10-03T08:09:55.527Z"
   },
   {
    "duration": 83,
    "start_time": "2021-10-03T08:09:55.607Z"
   },
   {
    "duration": 79,
    "start_time": "2021-10-03T08:09:55.692Z"
   },
   {
    "duration": 34,
    "start_time": "2021-10-03T08:09:55.773Z"
   },
   {
    "duration": 239,
    "start_time": "2021-10-03T08:09:55.810Z"
   },
   {
    "duration": 25,
    "start_time": "2021-10-03T08:09:56.053Z"
   },
   {
    "duration": 15,
    "start_time": "2021-10-03T08:09:56.095Z"
   },
   {
    "duration": 16,
    "start_time": "2021-10-03T08:09:56.112Z"
   },
   {
    "duration": 645,
    "start_time": "2021-10-03T08:09:56.131Z"
   },
   {
    "duration": 796,
    "start_time": "2021-10-03T08:10:07.094Z"
   },
   {
    "duration": 710,
    "start_time": "2021-10-03T08:10:29.693Z"
   },
   {
    "duration": 627,
    "start_time": "2021-10-03T08:11:09.761Z"
   },
   {
    "duration": 15,
    "start_time": "2021-10-03T08:12:31.031Z"
   },
   {
    "duration": 310,
    "start_time": "2021-10-03T08:12:35.846Z"
   },
   {
    "duration": 959,
    "start_time": "2021-10-03T08:17:15.914Z"
   },
   {
    "duration": 1332,
    "start_time": "2021-10-03T08:19:33.802Z"
   },
   {
    "duration": 1384,
    "start_time": "2021-10-03T08:20:02.746Z"
   },
   {
    "duration": 951,
    "start_time": "2021-10-03T08:21:17.310Z"
   },
   {
    "duration": 256,
    "start_time": "2021-10-03T08:22:26.139Z"
   },
   {
    "duration": 1118,
    "start_time": "2021-10-03T08:31:03.986Z"
   },
   {
    "duration": 3,
    "start_time": "2021-10-03T08:40:00.994Z"
   },
   {
    "duration": 272,
    "start_time": "2021-10-03T08:42:37.156Z"
   },
   {
    "duration": 3371,
    "start_time": "2021-10-03T08:54:00.930Z"
   },
   {
    "duration": 16,
    "start_time": "2021-10-03T08:54:40.480Z"
   },
   {
    "duration": 11,
    "start_time": "2021-10-03T08:57:51.581Z"
   },
   {
    "duration": 13,
    "start_time": "2021-10-03T08:58:32.866Z"
   },
   {
    "duration": 93,
    "start_time": "2021-10-03T09:23:17.983Z"
   },
   {
    "duration": 106,
    "start_time": "2021-10-03T09:23:25.492Z"
   },
   {
    "duration": 18,
    "start_time": "2021-10-03T09:24:17.928Z"
   },
   {
    "duration": 14,
    "start_time": "2021-10-03T09:26:24.060Z"
   },
   {
    "duration": 13,
    "start_time": "2021-10-03T09:26:28.654Z"
   },
   {
    "duration": 764,
    "start_time": "2021-10-03T12:57:26.234Z"
   },
   {
    "duration": 229,
    "start_time": "2021-10-03T12:57:27.002Z"
   },
   {
    "duration": 175,
    "start_time": "2021-10-03T12:57:27.235Z"
   },
   {
    "duration": 109,
    "start_time": "2021-10-03T12:57:27.414Z"
   },
   {
    "duration": 112,
    "start_time": "2021-10-03T12:57:27.526Z"
   },
   {
    "duration": 88,
    "start_time": "2021-10-03T12:57:27.641Z"
   },
   {
    "duration": 63,
    "start_time": "2021-10-03T12:57:27.732Z"
   },
   {
    "duration": 232,
    "start_time": "2021-10-03T12:57:27.800Z"
   },
   {
    "duration": 27,
    "start_time": "2021-10-03T12:57:28.035Z"
   },
   {
    "duration": 40,
    "start_time": "2021-10-03T12:57:28.065Z"
   },
   {
    "duration": 18,
    "start_time": "2021-10-03T12:57:28.108Z"
   },
   {
    "duration": 926,
    "start_time": "2021-10-03T12:57:28.129Z"
   },
   {
    "duration": 993,
    "start_time": "2021-10-03T12:57:29.058Z"
   },
   {
    "duration": 16,
    "start_time": "2021-10-03T12:57:30.054Z"
   },
   {
    "duration": 16,
    "start_time": "2021-10-03T12:59:32.382Z"
   },
   {
    "duration": 14,
    "start_time": "2021-10-03T12:59:35.503Z"
   },
   {
    "duration": 3,
    "start_time": "2021-10-03T13:17:58.557Z"
   },
   {
    "duration": 3,
    "start_time": "2021-10-03T13:18:02.359Z"
   },
   {
    "duration": 8,
    "start_time": "2021-10-03T13:25:43.170Z"
   },
   {
    "duration": 13,
    "start_time": "2021-10-03T13:27:47.099Z"
   },
   {
    "duration": 13,
    "start_time": "2021-10-03T13:27:50.139Z"
   },
   {
    "duration": 13,
    "start_time": "2021-10-03T13:29:29.652Z"
   },
   {
    "duration": 81,
    "start_time": "2021-10-03T13:31:12.366Z"
   },
   {
    "duration": 15,
    "start_time": "2021-10-03T13:32:17.997Z"
   },
   {
    "duration": 17,
    "start_time": "2021-10-03T13:48:24.283Z"
   },
   {
    "duration": 101,
    "start_time": "2021-10-03T13:56:07.573Z"
   },
   {
    "duration": 33,
    "start_time": "2021-10-03T14:00:51.498Z"
   },
   {
    "duration": 23,
    "start_time": "2021-10-03T14:04:21.890Z"
   },
   {
    "duration": 3,
    "start_time": "2021-10-03T14:06:48.861Z"
   },
   {
    "duration": 2546,
    "start_time": "2021-10-04T06:18:02.925Z"
   },
   {
    "duration": 237,
    "start_time": "2021-10-04T06:18:05.474Z"
   },
   {
    "duration": 115,
    "start_time": "2021-10-04T06:18:05.714Z"
   },
   {
    "duration": 63,
    "start_time": "2021-10-04T06:18:05.831Z"
   },
   {
    "duration": 90,
    "start_time": "2021-10-04T06:18:05.897Z"
   },
   {
    "duration": 68,
    "start_time": "2021-10-04T06:18:05.989Z"
   },
   {
    "duration": 37,
    "start_time": "2021-10-04T06:18:06.060Z"
   },
   {
    "duration": 232,
    "start_time": "2021-10-04T06:18:06.100Z"
   },
   {
    "duration": 16,
    "start_time": "2021-10-04T06:18:06.336Z"
   },
   {
    "duration": 25,
    "start_time": "2021-10-04T06:18:06.355Z"
   },
   {
    "duration": 47,
    "start_time": "2021-10-04T06:18:06.383Z"
   },
   {
    "duration": 1325,
    "start_time": "2021-10-04T06:18:06.433Z"
   },
   {
    "duration": 1224,
    "start_time": "2021-10-04T06:18:07.761Z"
   },
   {
    "duration": 39,
    "start_time": "2021-10-04T06:18:08.988Z"
   },
   {
    "duration": 28,
    "start_time": "2021-10-04T06:18:09.029Z"
   },
   {
    "duration": 85464,
    "start_time": "2021-10-04T06:26:30.646Z"
   },
   {
    "duration": 2088,
    "start_time": "2021-10-04T06:28:06.947Z"
   },
   {
    "duration": 248,
    "start_time": "2021-10-04T06:28:09.038Z"
   },
   {
    "duration": 117,
    "start_time": "2021-10-04T06:28:09.290Z"
   },
   {
    "duration": 72,
    "start_time": "2021-10-04T06:28:09.410Z"
   },
   {
    "duration": 121,
    "start_time": "2021-10-04T06:28:09.485Z"
   },
   {
    "duration": 75,
    "start_time": "2021-10-04T06:28:09.609Z"
   },
   {
    "duration": 63,
    "start_time": "2021-10-04T06:28:09.687Z"
   },
   {
    "duration": 369,
    "start_time": "2021-10-04T06:28:09.755Z"
   },
   {
    "duration": 18,
    "start_time": "2021-10-04T06:28:10.127Z"
   },
   {
    "duration": 14,
    "start_time": "2021-10-04T06:28:10.147Z"
   },
   {
    "duration": 85541,
    "start_time": "2021-10-04T06:28:10.164Z"
   },
   {
    "duration": 36,
    "start_time": "2021-10-04T06:29:35.707Z"
   },
   {
    "duration": 1117,
    "start_time": "2021-10-04T06:29:35.746Z"
   },
   {
    "duration": 956,
    "start_time": "2021-10-04T06:29:36.866Z"
   },
   {
    "duration": 24,
    "start_time": "2021-10-04T06:29:37.825Z"
   },
   {
    "duration": 145,
    "start_time": "2021-10-04T06:29:37.852Z"
   },
   {
    "duration": 346,
    "start_time": "2021-10-04T09:53:28.840Z"
   },
   {
    "duration": 2437,
    "start_time": "2021-10-04T09:53:37.430Z"
   },
   {
    "duration": 181,
    "start_time": "2021-10-04T09:53:39.870Z"
   },
   {
    "duration": 126,
    "start_time": "2021-10-04T09:53:40.055Z"
   },
   {
    "duration": 82,
    "start_time": "2021-10-04T09:53:40.183Z"
   },
   {
    "duration": 82,
    "start_time": "2021-10-04T09:53:40.268Z"
   },
   {
    "duration": 52,
    "start_time": "2021-10-04T09:53:40.352Z"
   },
   {
    "duration": 46,
    "start_time": "2021-10-04T09:53:40.423Z"
   },
   {
    "duration": 225,
    "start_time": "2021-10-04T09:53:40.473Z"
   },
   {
    "duration": 28,
    "start_time": "2021-10-04T09:53:40.700Z"
   },
   {
    "duration": 14,
    "start_time": "2021-10-04T09:53:40.730Z"
   },
   {
    "duration": 1149,
    "start_time": "2021-10-04T09:53:40.746Z"
   },
   {
    "duration": 27,
    "start_time": "2021-10-04T09:53:41.898Z"
   },
   {
    "duration": 1002,
    "start_time": "2021-10-04T09:53:41.928Z"
   },
   {
    "duration": 992,
    "start_time": "2021-10-04T09:53:42.933Z"
   },
   {
    "duration": 20,
    "start_time": "2021-10-04T09:53:43.927Z"
   },
   {
    "duration": 125,
    "start_time": "2021-10-04T09:53:43.950Z"
   },
   {
    "duration": 8,
    "start_time": "2021-10-04T10:01:39.880Z"
   },
   {
    "duration": 26,
    "start_time": "2021-10-04T10:06:55.959Z"
   },
   {
    "duration": 22,
    "start_time": "2021-10-04T11:04:32.678Z"
   },
   {
    "duration": 21,
    "start_time": "2021-10-04T12:11:01.972Z"
   },
   {
    "duration": 17,
    "start_time": "2021-10-04T12:12:19.728Z"
   },
   {
    "duration": 76,
    "start_time": "2021-10-04T12:26:52.195Z"
   },
   {
    "duration": 1154,
    "start_time": "2021-10-04T12:36:48.415Z"
   },
   {
    "duration": 1198,
    "start_time": "2021-10-04T12:39:22.183Z"
   },
   {
    "duration": 64,
    "start_time": "2021-10-04T12:45:35.184Z"
   },
   {
    "duration": 51,
    "start_time": "2021-10-04T12:46:04.488Z"
   },
   {
    "duration": 36,
    "start_time": "2021-10-04T12:49:09.571Z"
   },
   {
    "duration": 33,
    "start_time": "2021-10-04T12:50:49.723Z"
   },
   {
    "duration": 208,
    "start_time": "2021-10-04T12:52:20.700Z"
   },
   {
    "duration": 679,
    "start_time": "2021-10-04T12:53:01.467Z"
   },
   {
    "duration": 178,
    "start_time": "2021-10-04T12:53:02.149Z"
   },
   {
    "duration": 110,
    "start_time": "2021-10-04T12:53:02.330Z"
   },
   {
    "duration": 65,
    "start_time": "2021-10-04T12:53:02.443Z"
   },
   {
    "duration": 71,
    "start_time": "2021-10-04T12:53:02.523Z"
   },
   {
    "duration": 73,
    "start_time": "2021-10-04T12:53:02.596Z"
   },
   {
    "duration": 53,
    "start_time": "2021-10-04T12:53:02.671Z"
   },
   {
    "duration": 237,
    "start_time": "2021-10-04T12:53:02.728Z"
   },
   {
    "duration": 15,
    "start_time": "2021-10-04T12:53:02.968Z"
   },
   {
    "duration": 38,
    "start_time": "2021-10-04T12:53:02.986Z"
   },
   {
    "duration": 39,
    "start_time": "2021-10-04T12:53:03.027Z"
   },
   {
    "duration": 15,
    "start_time": "2021-10-04T12:53:03.068Z"
   },
   {
    "duration": 916,
    "start_time": "2021-10-04T12:53:03.085Z"
   },
   {
    "duration": 888,
    "start_time": "2021-10-04T12:53:04.003Z"
   },
   {
    "duration": 36,
    "start_time": "2021-10-04T12:53:04.893Z"
   },
   {
    "duration": 16,
    "start_time": "2021-10-04T12:53:04.931Z"
   },
   {
    "duration": 20,
    "start_time": "2021-10-04T12:53:04.949Z"
   },
   {
    "duration": 51,
    "start_time": "2021-10-04T12:53:04.971Z"
   },
   {
    "duration": 2375,
    "start_time": "2021-10-04T13:13:33.095Z"
   },
   {
    "duration": 173,
    "start_time": "2021-10-04T13:13:35.473Z"
   },
   {
    "duration": 125,
    "start_time": "2021-10-04T13:13:35.649Z"
   },
   {
    "duration": 80,
    "start_time": "2021-10-04T13:13:35.777Z"
   },
   {
    "duration": 88,
    "start_time": "2021-10-04T13:13:35.860Z"
   },
   {
    "duration": 53,
    "start_time": "2021-10-04T13:13:35.951Z"
   },
   {
    "duration": 39,
    "start_time": "2021-10-04T13:13:36.023Z"
   },
   {
    "duration": 232,
    "start_time": "2021-10-04T13:13:36.065Z"
   },
   {
    "duration": 26,
    "start_time": "2021-10-04T13:13:36.300Z"
   },
   {
    "duration": 40,
    "start_time": "2021-10-04T13:13:36.329Z"
   },
   {
    "duration": 678,
    "start_time": "2021-10-04T13:13:36.372Z"
   },
   {
    "duration": 18,
    "start_time": "2021-10-04T13:13:37.054Z"
   },
   {
    "duration": 1048,
    "start_time": "2021-10-04T13:13:37.074Z"
   },
   {
    "duration": 932,
    "start_time": "2021-10-04T13:13:38.125Z"
   },
   {
    "duration": 22,
    "start_time": "2021-10-04T13:13:39.062Z"
   },
   {
    "duration": 44,
    "start_time": "2021-10-04T13:13:39.087Z"
   },
   {
    "duration": 104,
    "start_time": "2021-10-04T13:13:39.133Z"
   },
   {
    "duration": 18,
    "start_time": "2021-10-04T13:13:39.240Z"
   },
   {
    "duration": 2059,
    "start_time": "2021-10-07T12:45:00.152Z"
   },
   {
    "duration": 187,
    "start_time": "2021-10-07T12:45:02.213Z"
   },
   {
    "duration": 165,
    "start_time": "2021-10-07T12:45:02.403Z"
   },
   {
    "duration": 75,
    "start_time": "2021-10-07T12:45:02.571Z"
   },
   {
    "duration": 83,
    "start_time": "2021-10-07T12:45:02.662Z"
   },
   {
    "duration": 70,
    "start_time": "2021-10-07T12:45:02.747Z"
   },
   {
    "duration": 63,
    "start_time": "2021-10-07T12:45:02.819Z"
   },
   {
    "duration": 241,
    "start_time": "2021-10-07T12:45:02.886Z"
   },
   {
    "duration": 14,
    "start_time": "2021-10-07T12:45:03.130Z"
   },
   {
    "duration": 19,
    "start_time": "2021-10-07T12:45:03.162Z"
   },
   {
    "duration": 1298,
    "start_time": "2021-10-07T12:45:03.184Z"
   },
   {
    "duration": 18,
    "start_time": "2021-10-07T12:45:04.484Z"
   },
   {
    "duration": 1066,
    "start_time": "2021-10-07T12:45:04.504Z"
   },
   {
    "duration": 1002,
    "start_time": "2021-10-07T12:45:05.573Z"
   },
   {
    "duration": 22,
    "start_time": "2021-10-07T12:45:06.578Z"
   },
   {
    "duration": 18,
    "start_time": "2021-10-07T12:45:06.602Z"
   },
   {
    "duration": 140,
    "start_time": "2021-10-07T12:45:06.622Z"
   },
   {
    "duration": 23,
    "start_time": "2021-10-07T12:45:06.765Z"
   },
   {
    "duration": 32,
    "start_time": "2021-10-07T12:45:27.794Z"
   }
  ],
  "kernelspec": {
   "display_name": "Python 3 (ipykernel)",
   "language": "python",
   "name": "python3"
  },
  "language_info": {
   "codemirror_mode": {
    "name": "ipython",
    "version": 3
   },
   "file_extension": ".py",
   "mimetype": "text/x-python",
   "name": "python",
   "nbconvert_exporter": "python",
   "pygments_lexer": "ipython3",
   "version": "3.9.5"
  },
  "toc": {
   "base_numbering": 1,
   "nav_menu": {},
   "number_sections": true,
   "sideBar": true,
   "skip_h1_title": true,
   "title_cell": "Table of Contents",
   "title_sidebar": "Contents",
   "toc_cell": false,
   "toc_position": {},
   "toc_section_display": true,
   "toc_window_display": false
  }
 },
 "nbformat": 4,
 "nbformat_minor": 2
}
