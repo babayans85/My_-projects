{
 "cells": [
  {
   "cell_type": "markdown",
   "metadata": {},
   "source": [
    "# Выявление закономерностей, определяющих успешность игры.\n",
    "\n",
    "Вы работаете в интернет-магазине «Стримчик», который продаёт по всему миру компьютерные игры. Из открытых источников доступны исторические данные о продажах игр, оценки пользователей и экспертов, жанры и платформы (например, Xbox или PlayStation). Вам нужно выявить определяющие успешность игры закономерности. Это позволит сделать ставку на потенциально популярный продукт и спланировать рекламные кампании.\n",
    "Перед вами данные до 2016 года. Представим, что сейчас декабрь 2016 г., и вы планируете кампанию на 2017-й. Нужно отработать принцип работы с данными. Неважно, прогнозируете ли вы продажи на 2017 год по данным 2016-го или же 2027-й — по данным 2026 года.\n",
    "В наборе данных попадается аббревиатура ESRB (Entertainment Software Rating Board) — это ассоциация, определяющая возрастной рейтинг компьютерных игр. ESRB оценивает игровой контент и присваивает ему подходящую возрастную категорию, например, «Для взрослых», «Для детей младшего возраста» или «Для подростков»."
   ]
  },
  {
   "cell_type": "markdown",
   "metadata": {},
   "source": [
    "## Изучение данных."
   ]
  },
  {
   "cell_type": "code",
   "execution_count": 1,
   "metadata": {
    "scrolled": true
   },
   "outputs": [],
   "source": [
    "# подгружаем библиотеки\n",
    "import pandas as pd\n",
    "import math\n",
    "import numpy as np \n",
    "import scipy.stats as sp\n",
    "import matplotlib.pyplot as plt\n",
    "from IPython.display import display\n",
    "import seaborn as sns\n",
    "import datetime as dt"
   ]
  },
  {
   "cell_type": "code",
   "execution_count": 2,
   "metadata": {},
   "outputs": [
    {
     "data": {
      "text/html": [
       "<div>\n",
       "<style scoped>\n",
       "    .dataframe tbody tr th:only-of-type {\n",
       "        vertical-align: middle;\n",
       "    }\n",
       "\n",
       "    .dataframe tbody tr th {\n",
       "        vertical-align: top;\n",
       "    }\n",
       "\n",
       "    .dataframe thead th {\n",
       "        text-align: right;\n",
       "    }\n",
       "</style>\n",
       "<table border=\"1\" class=\"dataframe\">\n",
       "  <thead>\n",
       "    <tr style=\"text-align: right;\">\n",
       "      <th></th>\n",
       "      <th>Name</th>\n",
       "      <th>Platform</th>\n",
       "      <th>Year_of_Release</th>\n",
       "      <th>Genre</th>\n",
       "      <th>NA_sales</th>\n",
       "      <th>EU_sales</th>\n",
       "      <th>JP_sales</th>\n",
       "      <th>Other_sales</th>\n",
       "      <th>Critic_Score</th>\n",
       "      <th>User_Score</th>\n",
       "      <th>Rating</th>\n",
       "    </tr>\n",
       "  </thead>\n",
       "  <tbody>\n",
       "    <tr>\n",
       "      <td>0</td>\n",
       "      <td>Wii Sports</td>\n",
       "      <td>Wii</td>\n",
       "      <td>2006.0</td>\n",
       "      <td>Sports</td>\n",
       "      <td>41.36</td>\n",
       "      <td>28.96</td>\n",
       "      <td>3.77</td>\n",
       "      <td>8.45</td>\n",
       "      <td>76.0</td>\n",
       "      <td>8</td>\n",
       "      <td>E</td>\n",
       "    </tr>\n",
       "    <tr>\n",
       "      <td>1</td>\n",
       "      <td>Super Mario Bros.</td>\n",
       "      <td>NES</td>\n",
       "      <td>1985.0</td>\n",
       "      <td>Platform</td>\n",
       "      <td>29.08</td>\n",
       "      <td>3.58</td>\n",
       "      <td>6.81</td>\n",
       "      <td>0.77</td>\n",
       "      <td>NaN</td>\n",
       "      <td>NaN</td>\n",
       "      <td>NaN</td>\n",
       "    </tr>\n",
       "    <tr>\n",
       "      <td>2</td>\n",
       "      <td>Mario Kart Wii</td>\n",
       "      <td>Wii</td>\n",
       "      <td>2008.0</td>\n",
       "      <td>Racing</td>\n",
       "      <td>15.68</td>\n",
       "      <td>12.76</td>\n",
       "      <td>3.79</td>\n",
       "      <td>3.29</td>\n",
       "      <td>82.0</td>\n",
       "      <td>8.3</td>\n",
       "      <td>E</td>\n",
       "    </tr>\n",
       "    <tr>\n",
       "      <td>3</td>\n",
       "      <td>Wii Sports Resort</td>\n",
       "      <td>Wii</td>\n",
       "      <td>2009.0</td>\n",
       "      <td>Sports</td>\n",
       "      <td>15.61</td>\n",
       "      <td>10.93</td>\n",
       "      <td>3.28</td>\n",
       "      <td>2.95</td>\n",
       "      <td>80.0</td>\n",
       "      <td>8</td>\n",
       "      <td>E</td>\n",
       "    </tr>\n",
       "    <tr>\n",
       "      <td>4</td>\n",
       "      <td>Pokemon Red/Pokemon Blue</td>\n",
       "      <td>GB</td>\n",
       "      <td>1996.0</td>\n",
       "      <td>Role-Playing</td>\n",
       "      <td>11.27</td>\n",
       "      <td>8.89</td>\n",
       "      <td>10.22</td>\n",
       "      <td>1.00</td>\n",
       "      <td>NaN</td>\n",
       "      <td>NaN</td>\n",
       "      <td>NaN</td>\n",
       "    </tr>\n",
       "  </tbody>\n",
       "</table>\n",
       "</div>"
      ],
      "text/plain": [
       "                       Name Platform  Year_of_Release         Genre  NA_sales  \\\n",
       "0                Wii Sports      Wii           2006.0        Sports     41.36   \n",
       "1         Super Mario Bros.      NES           1985.0      Platform     29.08   \n",
       "2            Mario Kart Wii      Wii           2008.0        Racing     15.68   \n",
       "3         Wii Sports Resort      Wii           2009.0        Sports     15.61   \n",
       "4  Pokemon Red/Pokemon Blue       GB           1996.0  Role-Playing     11.27   \n",
       "\n",
       "   EU_sales  JP_sales  Other_sales  Critic_Score User_Score Rating  \n",
       "0     28.96      3.77         8.45          76.0          8      E  \n",
       "1      3.58      6.81         0.77           NaN        NaN    NaN  \n",
       "2     12.76      3.79         3.29          82.0        8.3      E  \n",
       "3     10.93      3.28         2.95          80.0          8      E  \n",
       "4      8.89     10.22         1.00           NaN        NaN    NaN  "
      ]
     },
     "metadata": {},
     "output_type": "display_data"
    },
    {
     "name": "stdout",
     "output_type": "stream",
     "text": [
      "<class 'pandas.core.frame.DataFrame'>\n",
      "RangeIndex: 16715 entries, 0 to 16714\n",
      "Data columns (total 11 columns):\n",
      "Name               16713 non-null object\n",
      "Platform           16715 non-null object\n",
      "Year_of_Release    16446 non-null float64\n",
      "Genre              16713 non-null object\n",
      "NA_sales           16715 non-null float64\n",
      "EU_sales           16715 non-null float64\n",
      "JP_sales           16715 non-null float64\n",
      "Other_sales        16715 non-null float64\n",
      "Critic_Score       8137 non-null float64\n",
      "User_Score         10014 non-null object\n",
      "Rating             9949 non-null object\n",
      "dtypes: float64(6), object(5)\n",
      "memory usage: 1.4+ MB\n",
      "[76. nan 82. 80. 89. 58. 87. 91. 61. 97. 95. 77. 88. 83. 94. 93. 85. 86.\n",
      " 98. 96. 90. 84. 73. 74. 78. 92. 71. 72. 68. 62. 49. 67. 81. 66. 56. 79.\n",
      " 70. 59. 64. 75. 60. 63. 69. 50. 25. 42. 44. 55. 48. 57. 29. 47. 65. 54.\n",
      " 20. 53. 37. 38. 33. 52. 30. 32. 43. 45. 51. 40. 46. 39. 34. 35. 41. 36.\n",
      " 28. 31. 27. 26. 19. 23. 24. 21. 17. 22. 13.]\n",
      "['8' nan '8.3' '8.5' '6.6' '8.4' '8.6' '7.7' '6.3' '7.4' '8.2' '9' '7.9'\n",
      " '8.1' '8.7' '7.1' '3.4' '5.3' '4.8' '3.2' '8.9' '6.4' '7.8' '7.5' '2.6'\n",
      " '7.2' '9.2' '7' '7.3' '4.3' '7.6' '5.7' '5' '9.1' '6.5' 'tbd' '8.8' '6.9'\n",
      " '9.4' '6.8' '6.1' '6.7' '5.4' '4' '4.9' '4.5' '9.3' '6.2' '4.2' '6' '3.7'\n",
      " '4.1' '5.8' '5.6' '5.5' '4.4' '4.6' '5.9' '3.9' '3.1' '2.9' '5.2' '3.3'\n",
      " '4.7' '5.1' '3.5' '2.5' '1.9' '3' '2.7' '2.2' '2' '9.5' '2.1' '3.6' '2.8'\n",
      " '1.8' '3.8' '0' '1.6' '9.6' '2.4' '1.7' '1.1' '0.3' '1.5' '0.7' '1.2'\n",
      " '2.3' '0.5' '1.3' '0.2' '0.6' '1.4' '0.9' '1' '9.7']\n",
      "['E' nan 'M' 'T' 'E10+' 'K-A' 'AO' 'EC' 'RP']\n"
     ]
    }
   ],
   "source": [
    "# открываем файл\n",
    "games = pd.read_csv('/datasets/games.csv')\n",
    "display(games.head(5)) \n",
    "games.info()\n",
    "print(games['Critic_Score'].unique())\n",
    "print(games['User_Score'].unique())\n",
    "print(games['Rating'].unique())"
   ]
  },
  {
   "cell_type": "markdown",
   "metadata": {},
   "source": [
    "### Вывод\n",
    "Мы ознакомились с данными. Обнаружили следующее:\n",
    "- названия столбцов начинаются с верхнего регистра, переведем в нижний;\n",
    "- в столбце Name есть пропуски, оставим как есть;\n",
    "- в столбце Platform все отлично;\n",
    "- в столбце Year_of_Release пропуски оставим как есть, а тип данных поменяем на int64;\n",
    "- в столбце Genre есть пропуски, оставим как есть;\n",
    "- в столбцах NA_sales, EU_sales, JP_sales и Other_sales пропусков нет, тип данных оставим как есть, чтоб ничего не потерять при подсчетах;\n",
    "- в столбце Critic_Score много пропусков, возможно это связано с тем, что игры не очень популярны и на них нет оценки критиков. Заполнить их не получится, но мы поменяем тип данных на int64;\n",
    "- в столбце User_Score есть пропуски, а также 'tbd', что примерно означает \"будет заполен позже\", попробуем заменить их на Nan, также поменяем тип данных на int64;\n",
    "- в столбце Rating всё оставим без изменения."
   ]
  },
  {
   "cell_type": "markdown",
   "metadata": {},
   "source": [
    "## Предобработка данных"
   ]
  },
  {
   "cell_type": "code",
   "execution_count": 3,
   "metadata": {},
   "outputs": [
    {
     "name": "stdout",
     "output_type": "stream",
     "text": [
      "<class 'pandas.core.frame.DataFrame'>\n",
      "RangeIndex: 16715 entries, 0 to 16714\n",
      "Data columns (total 11 columns):\n",
      "name               16713 non-null object\n",
      "platform           16715 non-null object\n",
      "year_of_release    16446 non-null Int64\n",
      "genre              16713 non-null object\n",
      "na_sales           16715 non-null float64\n",
      "eu_sales           16715 non-null float64\n",
      "jp_sales           16715 non-null float64\n",
      "other_sales        16715 non-null float64\n",
      "critic_score       8137 non-null Int64\n",
      "user_score         7590 non-null float64\n",
      "rating             9949 non-null object\n",
      "dtypes: Int64(2), float64(5), object(4)\n",
      "memory usage: 1.4+ MB\n"
     ]
    },
    {
     "data": {
      "text/html": [
       "<div>\n",
       "<style scoped>\n",
       "    .dataframe tbody tr th:only-of-type {\n",
       "        vertical-align: middle;\n",
       "    }\n",
       "\n",
       "    .dataframe tbody tr th {\n",
       "        vertical-align: top;\n",
       "    }\n",
       "\n",
       "    .dataframe thead th {\n",
       "        text-align: right;\n",
       "    }\n",
       "</style>\n",
       "<table border=\"1\" class=\"dataframe\">\n",
       "  <thead>\n",
       "    <tr style=\"text-align: right;\">\n",
       "      <th></th>\n",
       "      <th>name</th>\n",
       "      <th>platform</th>\n",
       "      <th>year_of_release</th>\n",
       "      <th>genre</th>\n",
       "      <th>na_sales</th>\n",
       "      <th>eu_sales</th>\n",
       "      <th>jp_sales</th>\n",
       "      <th>other_sales</th>\n",
       "      <th>critic_score</th>\n",
       "      <th>user_score</th>\n",
       "      <th>rating</th>\n",
       "    </tr>\n",
       "  </thead>\n",
       "  <tbody>\n",
       "    <tr>\n",
       "      <td>0</td>\n",
       "      <td>Wii Sports</td>\n",
       "      <td>Wii</td>\n",
       "      <td>2006</td>\n",
       "      <td>Sports</td>\n",
       "      <td>41.36</td>\n",
       "      <td>28.96</td>\n",
       "      <td>3.77</td>\n",
       "      <td>8.45</td>\n",
       "      <td>76</td>\n",
       "      <td>8.0</td>\n",
       "      <td>E</td>\n",
       "    </tr>\n",
       "    <tr>\n",
       "      <td>1</td>\n",
       "      <td>Super Mario Bros.</td>\n",
       "      <td>NES</td>\n",
       "      <td>1985</td>\n",
       "      <td>Platform</td>\n",
       "      <td>29.08</td>\n",
       "      <td>3.58</td>\n",
       "      <td>6.81</td>\n",
       "      <td>0.77</td>\n",
       "      <td>NaN</td>\n",
       "      <td>NaN</td>\n",
       "      <td>NaN</td>\n",
       "    </tr>\n",
       "    <tr>\n",
       "      <td>2</td>\n",
       "      <td>Mario Kart Wii</td>\n",
       "      <td>Wii</td>\n",
       "      <td>2008</td>\n",
       "      <td>Racing</td>\n",
       "      <td>15.68</td>\n",
       "      <td>12.76</td>\n",
       "      <td>3.79</td>\n",
       "      <td>3.29</td>\n",
       "      <td>82</td>\n",
       "      <td>8.3</td>\n",
       "      <td>E</td>\n",
       "    </tr>\n",
       "    <tr>\n",
       "      <td>3</td>\n",
       "      <td>Wii Sports Resort</td>\n",
       "      <td>Wii</td>\n",
       "      <td>2009</td>\n",
       "      <td>Sports</td>\n",
       "      <td>15.61</td>\n",
       "      <td>10.93</td>\n",
       "      <td>3.28</td>\n",
       "      <td>2.95</td>\n",
       "      <td>80</td>\n",
       "      <td>8.0</td>\n",
       "      <td>E</td>\n",
       "    </tr>\n",
       "    <tr>\n",
       "      <td>4</td>\n",
       "      <td>Pokemon Red/Pokemon Blue</td>\n",
       "      <td>GB</td>\n",
       "      <td>1996</td>\n",
       "      <td>Role-Playing</td>\n",
       "      <td>11.27</td>\n",
       "      <td>8.89</td>\n",
       "      <td>10.22</td>\n",
       "      <td>1.00</td>\n",
       "      <td>NaN</td>\n",
       "      <td>NaN</td>\n",
       "      <td>NaN</td>\n",
       "    </tr>\n",
       "  </tbody>\n",
       "</table>\n",
       "</div>"
      ],
      "text/plain": [
       "                       name platform  year_of_release         genre  na_sales  \\\n",
       "0                Wii Sports      Wii             2006        Sports     41.36   \n",
       "1         Super Mario Bros.      NES             1985      Platform     29.08   \n",
       "2            Mario Kart Wii      Wii             2008        Racing     15.68   \n",
       "3         Wii Sports Resort      Wii             2009        Sports     15.61   \n",
       "4  Pokemon Red/Pokemon Blue       GB             1996  Role-Playing     11.27   \n",
       "\n",
       "   eu_sales  jp_sales  other_sales  critic_score  user_score rating  \n",
       "0     28.96      3.77         8.45            76         8.0      E  \n",
       "1      3.58      6.81         0.77           NaN         NaN    NaN  \n",
       "2     12.76      3.79         3.29            82         8.3      E  \n",
       "3     10.93      3.28         2.95            80         8.0      E  \n",
       "4      8.89     10.22         1.00           NaN         NaN    NaN  "
      ]
     },
     "metadata": {},
     "output_type": "display_data"
    }
   ],
   "source": [
    "# переведем название столбцов к нижнему регистру\n",
    "games.columns = games.columns.str.lower()\n",
    "\n",
    "# заменим в столбце user_score tbd на Nan\n",
    "games['user_score'] = games['user_score'].replace('tbd', np.NaN)\n",
    "games['user_score'] = games['user_score'].astype(\"float\")\n",
    "\n",
    "# поменяем тип данных в столбцах year_of_release, critic_score, user_score\n",
    "games[['year_of_release', 'critic_score']] = games[\n",
    "    ['year_of_release', 'critic_score']].round().astype('Int64')\n",
    "  \n",
    "games.info()\n",
    "display(games.head(5))"
   ]
  },
  {
   "cell_type": "code",
   "execution_count": 4,
   "metadata": {},
   "outputs": [
    {
     "data": {
      "text/html": [
       "<div>\n",
       "<style scoped>\n",
       "    .dataframe tbody tr th:only-of-type {\n",
       "        vertical-align: middle;\n",
       "    }\n",
       "\n",
       "    .dataframe tbody tr th {\n",
       "        vertical-align: top;\n",
       "    }\n",
       "\n",
       "    .dataframe thead th {\n",
       "        text-align: right;\n",
       "    }\n",
       "</style>\n",
       "<table border=\"1\" class=\"dataframe\">\n",
       "  <thead>\n",
       "    <tr style=\"text-align: right;\">\n",
       "      <th></th>\n",
       "      <th>name</th>\n",
       "      <th>platform</th>\n",
       "      <th>year_of_release</th>\n",
       "      <th>genre</th>\n",
       "      <th>na_sales</th>\n",
       "      <th>eu_sales</th>\n",
       "      <th>jp_sales</th>\n",
       "      <th>other_sales</th>\n",
       "      <th>critic_score</th>\n",
       "      <th>user_score</th>\n",
       "      <th>rating</th>\n",
       "      <th>total_sales</th>\n",
       "    </tr>\n",
       "  </thead>\n",
       "  <tbody>\n",
       "    <tr>\n",
       "      <td>0</td>\n",
       "      <td>Wii Sports</td>\n",
       "      <td>Wii</td>\n",
       "      <td>2006</td>\n",
       "      <td>Sports</td>\n",
       "      <td>41.36</td>\n",
       "      <td>28.96</td>\n",
       "      <td>3.77</td>\n",
       "      <td>8.45</td>\n",
       "      <td>76</td>\n",
       "      <td>8.0</td>\n",
       "      <td>E</td>\n",
       "      <td>82.54</td>\n",
       "    </tr>\n",
       "    <tr>\n",
       "      <td>1</td>\n",
       "      <td>Super Mario Bros.</td>\n",
       "      <td>NES</td>\n",
       "      <td>1985</td>\n",
       "      <td>Platform</td>\n",
       "      <td>29.08</td>\n",
       "      <td>3.58</td>\n",
       "      <td>6.81</td>\n",
       "      <td>0.77</td>\n",
       "      <td>NaN</td>\n",
       "      <td>NaN</td>\n",
       "      <td>NaN</td>\n",
       "      <td>40.24</td>\n",
       "    </tr>\n",
       "    <tr>\n",
       "      <td>2</td>\n",
       "      <td>Mario Kart Wii</td>\n",
       "      <td>Wii</td>\n",
       "      <td>2008</td>\n",
       "      <td>Racing</td>\n",
       "      <td>15.68</td>\n",
       "      <td>12.76</td>\n",
       "      <td>3.79</td>\n",
       "      <td>3.29</td>\n",
       "      <td>82</td>\n",
       "      <td>8.3</td>\n",
       "      <td>E</td>\n",
       "      <td>35.52</td>\n",
       "    </tr>\n",
       "    <tr>\n",
       "      <td>3</td>\n",
       "      <td>Wii Sports Resort</td>\n",
       "      <td>Wii</td>\n",
       "      <td>2009</td>\n",
       "      <td>Sports</td>\n",
       "      <td>15.61</td>\n",
       "      <td>10.93</td>\n",
       "      <td>3.28</td>\n",
       "      <td>2.95</td>\n",
       "      <td>80</td>\n",
       "      <td>8.0</td>\n",
       "      <td>E</td>\n",
       "      <td>32.77</td>\n",
       "    </tr>\n",
       "    <tr>\n",
       "      <td>4</td>\n",
       "      <td>Pokemon Red/Pokemon Blue</td>\n",
       "      <td>GB</td>\n",
       "      <td>1996</td>\n",
       "      <td>Role-Playing</td>\n",
       "      <td>11.27</td>\n",
       "      <td>8.89</td>\n",
       "      <td>10.22</td>\n",
       "      <td>1.00</td>\n",
       "      <td>NaN</td>\n",
       "      <td>NaN</td>\n",
       "      <td>NaN</td>\n",
       "      <td>31.38</td>\n",
       "    </tr>\n",
       "  </tbody>\n",
       "</table>\n",
       "</div>"
      ],
      "text/plain": [
       "                       name platform  year_of_release         genre  na_sales  \\\n",
       "0                Wii Sports      Wii             2006        Sports     41.36   \n",
       "1         Super Mario Bros.      NES             1985      Platform     29.08   \n",
       "2            Mario Kart Wii      Wii             2008        Racing     15.68   \n",
       "3         Wii Sports Resort      Wii             2009        Sports     15.61   \n",
       "4  Pokemon Red/Pokemon Blue       GB             1996  Role-Playing     11.27   \n",
       "\n",
       "   eu_sales  jp_sales  other_sales  critic_score  user_score rating  \\\n",
       "0     28.96      3.77         8.45            76         8.0      E   \n",
       "1      3.58      6.81         0.77           NaN         NaN    NaN   \n",
       "2     12.76      3.79         3.29            82         8.3      E   \n",
       "3     10.93      3.28         2.95            80         8.0      E   \n",
       "4      8.89     10.22         1.00           NaN         NaN    NaN   \n",
       "\n",
       "   total_sales  \n",
       "0        82.54  \n",
       "1        40.24  \n",
       "2        35.52  \n",
       "3        32.77  \n",
       "4        31.38  "
      ]
     },
     "metadata": {},
     "output_type": "display_data"
    }
   ],
   "source": [
    "# посчитаем суммарные продажи во всех регионах\n",
    "\n",
    "games['total_sales'] = games['na_sales'] + games['eu_sales'] + games['jp_sales'] + games['other_sales']\n",
    "display(games.head(5))"
   ]
  },
  {
   "cell_type": "markdown",
   "metadata": {},
   "source": [
    "### Вывод\n",
    "Мы провели следующие преобразования:\n",
    "- перевели название столбцов в нижний регистр с помощью str.lower();\n",
    "- замениили в столбце user_score tbd на Nan с помощью replace();\n",
    "- поменяли тип данных в столбцах year_of_release, critic_score, user_score с помощью round().astype('Int64');\n",
    "- посчитали суммарные продажи во всех регионах и добавили их в столбец total_sales.\n",
    "\n",
    "Теперь данные готовы для анализа.\n"
   ]
  },
  {
   "cell_type": "markdown",
   "metadata": {},
   "source": [
    "## Исследовательский анализ данных\n"
   ]
  },
  {
   "cell_type": "markdown",
   "metadata": {},
   "source": [
    "### Посчитаем сколько игр выпускалось в разные годы"
   ]
  },
  {
   "cell_type": "code",
   "execution_count": 5,
   "metadata": {},
   "outputs": [
    {
     "name": "stdout",
     "output_type": "stream",
     "text": [
      "2008    1427\n",
      "2009    1426\n",
      "2010    1255\n",
      "2007    1197\n",
      "2011    1136\n",
      "2006    1006\n",
      "2005     939\n",
      "2002     829\n",
      "2003     775\n",
      "2004     762\n",
      "2012     653\n",
      "2015     606\n",
      "2014     581\n",
      "2013     544\n",
      "2016     502\n",
      "2001     482\n",
      "1998     379\n",
      "2000     350\n",
      "1999     338\n",
      "1997     289\n",
      "1996     263\n",
      "1995     219\n",
      "1994     121\n",
      "1993      62\n",
      "1981      46\n",
      "1992      43\n",
      "1991      41\n",
      "1982      36\n",
      "1986      21\n",
      "1983      17\n",
      "1989      17\n",
      "1987      16\n",
      "1990      16\n",
      "1988      15\n",
      "1984      14\n",
      "1985      14\n",
      "1980       9\n",
      "Name: year_of_release, dtype: int64\n"
     ]
    },
    {
     "data": {
      "text/plain": [
       "Text(0, 0.5, 'количество')"
      ]
     },
     "execution_count": 5,
     "metadata": {},
     "output_type": "execute_result"
    },
    {
     "data": {
      "image/png": "[encoded data removed]",
      "text/plain": [
       "<Figure size 432x288 with 1 Axes>"
      ]
     },
     "metadata": {
      "needs_background": "light"
     },
     "output_type": "display_data"
    }
   ],
   "source": [
    "# посчитаем сколько игр выпускалось в разные годы\n",
    "print(games.year_of_release.value_counts())\n",
    "# посмотрим гистограмму\n",
    "plt.hist(games.year_of_release,bins=37)\n",
    "plt.title('количество выпущенных игр в зависимости от года')\n",
    "plt.xlabel('год выпуска')\n",
    "plt.ylabel('количество')"
   ]
  },
  {
   "cell_type": "markdown",
   "metadata": {},
   "source": [
    "### Вывод\n",
    "Наибольшее количество игры было выпущено в период с 2005 по 2011 года. А годы до 1994 го можем вообще опустить, в тот период было слишком мало игр. Это связано с тем, что еще не было большинства платформ."
   ]
  },
  {
   "cell_type": "markdown",
   "metadata": {},
   "source": [
    "### Посмотрим как менялись продажи на платформах"
   ]
  },
  {
   "cell_type": "code",
   "execution_count": 6,
   "metadata": {},
   "outputs": [
    {
     "name": "stdout",
     "output_type": "stream",
     "text": [
      "platform\n",
      "PS2     1255.77\n",
      "X360     971.42\n",
      "PS3      939.65\n",
      "Wii      907.51\n",
      "DS       806.12\n",
      "PS       730.86\n",
      "GBA      317.85\n",
      "PS4      314.14\n",
      "PSP      294.05\n",
      "PC       259.52\n",
      "3DS      259.00\n",
      "XB       257.74\n",
      "GB       255.46\n",
      "NES      251.05\n",
      "N64      218.68\n",
      "SNES     200.04\n",
      "GC       198.93\n",
      "XOne     159.32\n",
      "2600      96.98\n",
      "WiiU      82.19\n",
      "PSV       54.07\n",
      "SAT       33.59\n",
      "GEN       30.77\n",
      "DC        15.95\n",
      "SCD        1.86\n",
      "NG         1.44\n",
      "WS         1.42\n",
      "TG16       0.16\n",
      "3DO        0.10\n",
      "GG         0.04\n",
      "PCFX       0.03\n",
      "Name: total_sales, dtype: float64\n"
     ]
    }
   ],
   "source": [
    "print(games.groupby('platform')['total_sales'].sum(\n",
    "     ).sort_values(ascending=False))"
   ]
  },
  {
   "cell_type": "code",
   "execution_count": 7,
   "metadata": {},
   "outputs": [
    {
     "data": {
      "text/html": [
       "<div>\n",
       "<style scoped>\n",
       "    .dataframe tbody tr th:only-of-type {\n",
       "        vertical-align: middle;\n",
       "    }\n",
       "\n",
       "    .dataframe tbody tr th {\n",
       "        vertical-align: top;\n",
       "    }\n",
       "\n",
       "    .dataframe thead th {\n",
       "        text-align: right;\n",
       "    }\n",
       "</style>\n",
       "<table border=\"1\" class=\"dataframe\">\n",
       "  <thead>\n",
       "    <tr style=\"text-align: right;\">\n",
       "      <th></th>\n",
       "      <th>name</th>\n",
       "      <th>platform</th>\n",
       "      <th>year_of_release</th>\n",
       "      <th>genre</th>\n",
       "      <th>na_sales</th>\n",
       "      <th>eu_sales</th>\n",
       "      <th>jp_sales</th>\n",
       "      <th>other_sales</th>\n",
       "      <th>critic_score</th>\n",
       "      <th>user_score</th>\n",
       "      <th>rating</th>\n",
       "      <th>total_sales</th>\n",
       "    </tr>\n",
       "  </thead>\n",
       "  <tbody>\n",
       "    <tr>\n",
       "      <td>0</td>\n",
       "      <td>Wii Sports</td>\n",
       "      <td>Wii</td>\n",
       "      <td>2006</td>\n",
       "      <td>Sports</td>\n",
       "      <td>41.36</td>\n",
       "      <td>28.96</td>\n",
       "      <td>3.77</td>\n",
       "      <td>8.45</td>\n",
       "      <td>76</td>\n",
       "      <td>8.0</td>\n",
       "      <td>E</td>\n",
       "      <td>82.54</td>\n",
       "    </tr>\n",
       "    <tr>\n",
       "      <td>2</td>\n",
       "      <td>Mario Kart Wii</td>\n",
       "      <td>Wii</td>\n",
       "      <td>2008</td>\n",
       "      <td>Racing</td>\n",
       "      <td>15.68</td>\n",
       "      <td>12.76</td>\n",
       "      <td>3.79</td>\n",
       "      <td>3.29</td>\n",
       "      <td>82</td>\n",
       "      <td>8.3</td>\n",
       "      <td>E</td>\n",
       "      <td>35.52</td>\n",
       "    </tr>\n",
       "    <tr>\n",
       "      <td>3</td>\n",
       "      <td>Wii Sports Resort</td>\n",
       "      <td>Wii</td>\n",
       "      <td>2009</td>\n",
       "      <td>Sports</td>\n",
       "      <td>15.61</td>\n",
       "      <td>10.93</td>\n",
       "      <td>3.28</td>\n",
       "      <td>2.95</td>\n",
       "      <td>80</td>\n",
       "      <td>8.0</td>\n",
       "      <td>E</td>\n",
       "      <td>32.77</td>\n",
       "    </tr>\n",
       "    <tr>\n",
       "      <td>6</td>\n",
       "      <td>New Super Mario Bros.</td>\n",
       "      <td>DS</td>\n",
       "      <td>2006</td>\n",
       "      <td>Platform</td>\n",
       "      <td>11.28</td>\n",
       "      <td>9.14</td>\n",
       "      <td>6.50</td>\n",
       "      <td>2.88</td>\n",
       "      <td>89</td>\n",
       "      <td>8.5</td>\n",
       "      <td>E</td>\n",
       "      <td>29.80</td>\n",
       "    </tr>\n",
       "    <tr>\n",
       "      <td>7</td>\n",
       "      <td>Wii Play</td>\n",
       "      <td>Wii</td>\n",
       "      <td>2006</td>\n",
       "      <td>Misc</td>\n",
       "      <td>13.96</td>\n",
       "      <td>9.18</td>\n",
       "      <td>2.93</td>\n",
       "      <td>2.84</td>\n",
       "      <td>58</td>\n",
       "      <td>6.6</td>\n",
       "      <td>E</td>\n",
       "      <td>28.91</td>\n",
       "    </tr>\n",
       "    <tr>\n",
       "      <td>...</td>\n",
       "      <td>...</td>\n",
       "      <td>...</td>\n",
       "      <td>...</td>\n",
       "      <td>...</td>\n",
       "      <td>...</td>\n",
       "      <td>...</td>\n",
       "      <td>...</td>\n",
       "      <td>...</td>\n",
       "      <td>...</td>\n",
       "      <td>...</td>\n",
       "      <td>...</td>\n",
       "      <td>...</td>\n",
       "    </tr>\n",
       "    <tr>\n",
       "      <td>16700</td>\n",
       "      <td>Mezase!! Tsuri Master DS</td>\n",
       "      <td>DS</td>\n",
       "      <td>2009</td>\n",
       "      <td>Sports</td>\n",
       "      <td>0.00</td>\n",
       "      <td>0.00</td>\n",
       "      <td>0.01</td>\n",
       "      <td>0.00</td>\n",
       "      <td>NaN</td>\n",
       "      <td>NaN</td>\n",
       "      <td>NaN</td>\n",
       "      <td>0.01</td>\n",
       "    </tr>\n",
       "    <tr>\n",
       "      <td>16704</td>\n",
       "      <td>Plushees</td>\n",
       "      <td>DS</td>\n",
       "      <td>2008</td>\n",
       "      <td>Simulation</td>\n",
       "      <td>0.01</td>\n",
       "      <td>0.00</td>\n",
       "      <td>0.00</td>\n",
       "      <td>0.00</td>\n",
       "      <td>NaN</td>\n",
       "      <td>NaN</td>\n",
       "      <td>E</td>\n",
       "      <td>0.01</td>\n",
       "    </tr>\n",
       "    <tr>\n",
       "      <td>16709</td>\n",
       "      <td>SCORE International Baja 1000: The Official Game</td>\n",
       "      <td>PS2</td>\n",
       "      <td>2008</td>\n",
       "      <td>Racing</td>\n",
       "      <td>0.00</td>\n",
       "      <td>0.00</td>\n",
       "      <td>0.00</td>\n",
       "      <td>0.00</td>\n",
       "      <td>NaN</td>\n",
       "      <td>NaN</td>\n",
       "      <td>NaN</td>\n",
       "      <td>0.00</td>\n",
       "    </tr>\n",
       "    <tr>\n",
       "      <td>16710</td>\n",
       "      <td>Samurai Warriors: Sanada Maru</td>\n",
       "      <td>PS3</td>\n",
       "      <td>2016</td>\n",
       "      <td>Action</td>\n",
       "      <td>0.00</td>\n",
       "      <td>0.00</td>\n",
       "      <td>0.01</td>\n",
       "      <td>0.00</td>\n",
       "      <td>NaN</td>\n",
       "      <td>NaN</td>\n",
       "      <td>NaN</td>\n",
       "      <td>0.01</td>\n",
       "    </tr>\n",
       "    <tr>\n",
       "      <td>16711</td>\n",
       "      <td>LMA Manager 2007</td>\n",
       "      <td>X360</td>\n",
       "      <td>2006</td>\n",
       "      <td>Sports</td>\n",
       "      <td>0.00</td>\n",
       "      <td>0.01</td>\n",
       "      <td>0.00</td>\n",
       "      <td>0.00</td>\n",
       "      <td>NaN</td>\n",
       "      <td>NaN</td>\n",
       "      <td>NaN</td>\n",
       "      <td>0.01</td>\n",
       "    </tr>\n",
       "  </tbody>\n",
       "</table>\n",
       "<p>9422 rows × 12 columns</p>\n",
       "</div>"
      ],
      "text/plain": [
       "                                                   name platform  \\\n",
       "0                                            Wii Sports      Wii   \n",
       "2                                        Mario Kart Wii      Wii   \n",
       "3                                     Wii Sports Resort      Wii   \n",
       "6                                 New Super Mario Bros.       DS   \n",
       "7                                              Wii Play      Wii   \n",
       "...                                                 ...      ...   \n",
       "16700                          Mezase!! Tsuri Master DS       DS   \n",
       "16704                                          Plushees       DS   \n",
       "16709  SCORE International Baja 1000: The Official Game      PS2   \n",
       "16710                     Samurai Warriors: Sanada Maru      PS3   \n",
       "16711                                  LMA Manager 2007     X360   \n",
       "\n",
       "       year_of_release       genre  na_sales  eu_sales  jp_sales  other_sales  \\\n",
       "0                 2006      Sports     41.36     28.96      3.77         8.45   \n",
       "2                 2008      Racing     15.68     12.76      3.79         3.29   \n",
       "3                 2009      Sports     15.61     10.93      3.28         2.95   \n",
       "6                 2006    Platform     11.28      9.14      6.50         2.88   \n",
       "7                 2006        Misc     13.96      9.18      2.93         2.84   \n",
       "...                ...         ...       ...       ...       ...          ...   \n",
       "16700             2009      Sports      0.00      0.00      0.01         0.00   \n",
       "16704             2008  Simulation      0.01      0.00      0.00         0.00   \n",
       "16709             2008      Racing      0.00      0.00      0.00         0.00   \n",
       "16710             2016      Action      0.00      0.00      0.01         0.00   \n",
       "16711             2006      Sports      0.00      0.01      0.00         0.00   \n",
       "\n",
       "       critic_score  user_score rating  total_sales  \n",
       "0                76         8.0      E        82.54  \n",
       "2                82         8.3      E        35.52  \n",
       "3                80         8.0      E        32.77  \n",
       "6                89         8.5      E        29.80  \n",
       "7                58         6.6      E        28.91  \n",
       "...             ...         ...    ...          ...  \n",
       "16700           NaN         NaN    NaN         0.01  \n",
       "16704           NaN         NaN      E         0.01  \n",
       "16709           NaN         NaN    NaN         0.00  \n",
       "16710           NaN         NaN    NaN         0.01  \n",
       "16711           NaN         NaN    NaN         0.01  \n",
       "\n",
       "[9422 rows x 12 columns]"
      ]
     },
     "metadata": {},
     "output_type": "display_data"
    }
   ],
   "source": [
    "# самые популярные платформы: PS2, X360, PS3, Wii, DS, PS. Соберем их в одну таблицу\n",
    "platform_list=['PS2', 'X360', 'PS3', 'Wii', 'DS', 'PS'] \n",
    "top_platforms = games[games.platform.isin(platform_list)]\n",
    "display(top_platforms)"
   ]
  },
  {
   "cell_type": "code",
   "execution_count": 8,
   "metadata": {},
   "outputs": [
    {
     "name": "stdout",
     "output_type": "stream",
     "text": [
      "PS2\n",
      "X360\n",
      "PS3\n",
      "Wii\n",
      "DS\n",
      "PS\n"
     ]
    },
    {
     "data": {
      "image/png": "[encoded data removed]",
      "text/plain": [
       "<Figure size 432x288 with 1 Axes>"
      ]
     },
     "metadata": {
      "needs_background": "light"
     },
     "output_type": "display_data"
    },
    {
     "data": {
      "image/png": "[encoded data removed]",
      "text/plain": [
       "<Figure size 432x288 with 1 Axes>"
      ]
     },
     "metadata": {
      "needs_background": "light"
     },
     "output_type": "display_data"
    },
    {
     "data": {
      "image/png": "[encoded data removed]",
      "text/plain": [
       "<Figure size 432x288 with 1 Axes>"
      ]
     },
     "metadata": {
      "needs_background": "light"
     },
     "output_type": "display_data"
    },
    {
     "data": {
      "image/png": "[encoded data removed]",
      "text/plain": [
       "<Figure size 432x288 with 1 Axes>"
      ]
     },
     "metadata": {
      "needs_background": "light"
     },
     "output_type": "display_data"
    },
    {
     "data": {
      "image/png": "[encoded data removed]",
      "text/plain": [
       "<Figure size 432x288 with 1 Axes>"
      ]
     },
     "metadata": {
      "needs_background": "light"
     },
     "output_type": "display_data"
    },
    {
     "data": {
      "image/png": "[encoded data removed]",
      "text/plain": [
       "<Figure size 432x288 with 1 Axes>"
      ]
     },
     "metadata": {
      "needs_background": "light"
     },
     "output_type": "display_data"
    }
   ],
   "source": [
    "# сделаем сводную таблицу на основе избранных платформ\n",
    "\n",
    "platform_sales = (\n",
    "    top_platforms\n",
    "    .pivot_table(index='platform', values='total_sales', aggfunc='sum')\n",
    "    .sort_values('total_sales', ascending=False)\n",
    ")\n",
    "\n",
    "# затем в цикле построим графики\n",
    "\n",
    "for platform in platform_sales.index:\n",
    "    print(platform)\n",
    "    \n",
    "    top_platforms.query('platform == @platform').pivot_table(\n",
    "        index='year_of_release', values='total_sales', aggfunc='sum').plot()\n",
    "    plt.title(platform)"
   ]
  },
  {
   "cell_type": "code",
   "execution_count": 9,
   "metadata": {},
   "outputs": [
    {
     "data": {
      "text/html": [
       "<div>\n",
       "<style scoped>\n",
       "    .dataframe tbody tr th:only-of-type {\n",
       "        vertical-align: middle;\n",
       "    }\n",
       "\n",
       "    .dataframe tbody tr th {\n",
       "        vertical-align: top;\n",
       "    }\n",
       "\n",
       "    .dataframe thead tr th {\n",
       "        text-align: left;\n",
       "    }\n",
       "\n",
       "    .dataframe thead tr:last-of-type th {\n",
       "        text-align: right;\n",
       "    }\n",
       "</style>\n",
       "<table border=\"1\" class=\"dataframe\">\n",
       "  <thead>\n",
       "    <tr>\n",
       "      <th></th>\n",
       "      <th>min</th>\n",
       "      <th>max</th>\n",
       "      <th>platform_years</th>\n",
       "    </tr>\n",
       "    <tr>\n",
       "      <th></th>\n",
       "      <th>year_of_release</th>\n",
       "      <th>year_of_release</th>\n",
       "      <th></th>\n",
       "    </tr>\n",
       "    <tr>\n",
       "      <th>platform</th>\n",
       "      <th></th>\n",
       "      <th></th>\n",
       "      <th></th>\n",
       "    </tr>\n",
       "  </thead>\n",
       "  <tbody>\n",
       "    <tr>\n",
       "      <td>PC</td>\n",
       "      <td>1985</td>\n",
       "      <td>2016</td>\n",
       "      <td>31</td>\n",
       "    </tr>\n",
       "    <tr>\n",
       "      <td>DS</td>\n",
       "      <td>1985</td>\n",
       "      <td>2013</td>\n",
       "      <td>28</td>\n",
       "    </tr>\n",
       "    <tr>\n",
       "      <td>GB</td>\n",
       "      <td>1988</td>\n",
       "      <td>2001</td>\n",
       "      <td>13</td>\n",
       "    </tr>\n",
       "    <tr>\n",
       "      <td>X360</td>\n",
       "      <td>2005</td>\n",
       "      <td>2016</td>\n",
       "      <td>11</td>\n",
       "    </tr>\n",
       "    <tr>\n",
       "      <td>PSP</td>\n",
       "      <td>2004</td>\n",
       "      <td>2015</td>\n",
       "      <td>11</td>\n",
       "    </tr>\n",
       "    <tr>\n",
       "      <td>PS2</td>\n",
       "      <td>2000</td>\n",
       "      <td>2011</td>\n",
       "      <td>11</td>\n",
       "    </tr>\n",
       "    <tr>\n",
       "      <td>NES</td>\n",
       "      <td>1983</td>\n",
       "      <td>1994</td>\n",
       "      <td>11</td>\n",
       "    </tr>\n",
       "    <tr>\n",
       "      <td>DC</td>\n",
       "      <td>1998</td>\n",
       "      <td>2008</td>\n",
       "      <td>10</td>\n",
       "    </tr>\n",
       "    <tr>\n",
       "      <td>Wii</td>\n",
       "      <td>2006</td>\n",
       "      <td>2016</td>\n",
       "      <td>10</td>\n",
       "    </tr>\n",
       "    <tr>\n",
       "      <td>PS3</td>\n",
       "      <td>2006</td>\n",
       "      <td>2016</td>\n",
       "      <td>10</td>\n",
       "    </tr>\n",
       "  </tbody>\n",
       "</table>\n",
       "</div>"
      ],
      "text/plain": [
       "                     min             max platform_years\n",
       "         year_of_release year_of_release               \n",
       "platform                                               \n",
       "PC                  1985            2016             31\n",
       "DS                  1985            2013             28\n",
       "GB                  1988            2001             13\n",
       "X360                2005            2016             11\n",
       "PSP                 2004            2015             11\n",
       "PS2                 2000            2011             11\n",
       "NES                 1983            1994             11\n",
       "DC                  1998            2008             10\n",
       "Wii                 2006            2016             10\n",
       "PS3                 2006            2016             10"
      ]
     },
     "metadata": {},
     "output_type": "display_data"
    },
    {
     "name": "stdout",
     "output_type": "stream",
     "text": [
      "Среднее время существования платформы: 6.0 лет\n"
     ]
    }
   ],
   "source": [
    "# посчитаем среднюю продолжительность\n",
    "platform_years_pivot = games.pivot_table(index = 'platform', values = 'year_of_release', aggfunc = ['min', 'max'])\n",
    "\n",
    "platform_years_pivot['platform_years'] = platform_years_pivot[(\n",
    "    'max', 'year_of_release')] - platform_years_pivot[('min', 'year_of_release')]\n",
    "display(platform_years_pivot.sort_values(by = 'platform_years', ascending = False).head(10))\n",
    "platform_years = platform_years_pivot['platform_years'].median()\n",
    "print(f'Среднее время существования платформы: {platform_years:.1f} лет')"
   ]
  },
  {
   "cell_type": "markdown",
   "metadata": {},
   "source": [
    "### Вывод\n",
    "Судя по графикам топ-6 платформ мы видим что популярность платформы в среднем растет 3-5 лет, затем примерно столько же времени требуется до полного забвения. Также посчитал среднее время существования всех платформ (вернее медиану, чтобю избезать выбрасов, так как к примеру PC и DS точно будет мешать). В среднем назвал бы сроком жизни платформы 6-7 лет."
   ]
  },
  {
   "cell_type": "markdown",
   "metadata": {},
   "source": [
    "### Создадим таблицу с данными только за актуальный период.\n",
    "Учитывая графики, которые мы увидели, за актуальный период возьмем данные за последние 5 лет, начиная с 2012 года."
   ]
  },
  {
   "cell_type": "code",
   "execution_count": 10,
   "metadata": {},
   "outputs": [
    {
     "data": {
      "text/html": [
       "<div>\n",
       "<style scoped>\n",
       "    .dataframe tbody tr th:only-of-type {\n",
       "        vertical-align: middle;\n",
       "    }\n",
       "\n",
       "    .dataframe tbody tr th {\n",
       "        vertical-align: top;\n",
       "    }\n",
       "\n",
       "    .dataframe thead th {\n",
       "        text-align: right;\n",
       "    }\n",
       "</style>\n",
       "<table border=\"1\" class=\"dataframe\">\n",
       "  <thead>\n",
       "    <tr style=\"text-align: right;\">\n",
       "      <th></th>\n",
       "      <th>name</th>\n",
       "      <th>platform</th>\n",
       "      <th>year_of_release</th>\n",
       "      <th>genre</th>\n",
       "      <th>na_sales</th>\n",
       "      <th>eu_sales</th>\n",
       "      <th>jp_sales</th>\n",
       "      <th>other_sales</th>\n",
       "      <th>critic_score</th>\n",
       "      <th>user_score</th>\n",
       "      <th>rating</th>\n",
       "      <th>total_sales</th>\n",
       "    </tr>\n",
       "  </thead>\n",
       "  <tbody>\n",
       "    <tr>\n",
       "      <td>16</td>\n",
       "      <td>Grand Theft Auto V</td>\n",
       "      <td>PS3</td>\n",
       "      <td>2013</td>\n",
       "      <td>Action</td>\n",
       "      <td>7.02</td>\n",
       "      <td>9.09</td>\n",
       "      <td>0.98</td>\n",
       "      <td>3.96</td>\n",
       "      <td>97</td>\n",
       "      <td>8.2</td>\n",
       "      <td>M</td>\n",
       "      <td>21.05</td>\n",
       "    </tr>\n",
       "    <tr>\n",
       "      <td>23</td>\n",
       "      <td>Grand Theft Auto V</td>\n",
       "      <td>X360</td>\n",
       "      <td>2013</td>\n",
       "      <td>Action</td>\n",
       "      <td>9.66</td>\n",
       "      <td>5.14</td>\n",
       "      <td>0.06</td>\n",
       "      <td>1.41</td>\n",
       "      <td>97</td>\n",
       "      <td>8.1</td>\n",
       "      <td>M</td>\n",
       "      <td>16.27</td>\n",
       "    </tr>\n",
       "    <tr>\n",
       "      <td>31</td>\n",
       "      <td>Call of Duty: Black Ops 3</td>\n",
       "      <td>PS4</td>\n",
       "      <td>2015</td>\n",
       "      <td>Shooter</td>\n",
       "      <td>6.03</td>\n",
       "      <td>5.86</td>\n",
       "      <td>0.36</td>\n",
       "      <td>2.38</td>\n",
       "      <td>NaN</td>\n",
       "      <td>NaN</td>\n",
       "      <td>NaN</td>\n",
       "      <td>14.63</td>\n",
       "    </tr>\n",
       "    <tr>\n",
       "      <td>33</td>\n",
       "      <td>Pokemon X/Pokemon Y</td>\n",
       "      <td>3DS</td>\n",
       "      <td>2013</td>\n",
       "      <td>Role-Playing</td>\n",
       "      <td>5.28</td>\n",
       "      <td>4.19</td>\n",
       "      <td>4.35</td>\n",
       "      <td>0.78</td>\n",
       "      <td>NaN</td>\n",
       "      <td>NaN</td>\n",
       "      <td>NaN</td>\n",
       "      <td>14.60</td>\n",
       "    </tr>\n",
       "    <tr>\n",
       "      <td>34</td>\n",
       "      <td>Call of Duty: Black Ops II</td>\n",
       "      <td>PS3</td>\n",
       "      <td>2012</td>\n",
       "      <td>Shooter</td>\n",
       "      <td>4.99</td>\n",
       "      <td>5.73</td>\n",
       "      <td>0.65</td>\n",
       "      <td>2.42</td>\n",
       "      <td>83</td>\n",
       "      <td>5.3</td>\n",
       "      <td>M</td>\n",
       "      <td>13.79</td>\n",
       "    </tr>\n",
       "  </tbody>\n",
       "</table>\n",
       "</div>"
      ],
      "text/plain": [
       "                          name platform  year_of_release         genre  \\\n",
       "16          Grand Theft Auto V      PS3             2013        Action   \n",
       "23          Grand Theft Auto V     X360             2013        Action   \n",
       "31   Call of Duty: Black Ops 3      PS4             2015       Shooter   \n",
       "33         Pokemon X/Pokemon Y      3DS             2013  Role-Playing   \n",
       "34  Call of Duty: Black Ops II      PS3             2012       Shooter   \n",
       "\n",
       "    na_sales  eu_sales  jp_sales  other_sales  critic_score  user_score  \\\n",
       "16      7.02      9.09      0.98         3.96            97         8.2   \n",
       "23      9.66      5.14      0.06         1.41            97         8.1   \n",
       "31      6.03      5.86      0.36         2.38           NaN         NaN   \n",
       "33      5.28      4.19      4.35         0.78           NaN         NaN   \n",
       "34      4.99      5.73      0.65         2.42            83         5.3   \n",
       "\n",
       "   rating  total_sales  \n",
       "16      M        21.05  \n",
       "23      M        16.27  \n",
       "31    NaN        14.63  \n",
       "33    NaN        14.60  \n",
       "34      M        13.79  "
      ]
     },
     "metadata": {},
     "output_type": "display_data"
    }
   ],
   "source": [
    "actual_games = games[games.year_of_release >= 2012]\n",
    "display(actual_games.head(5))"
   ]
  },
  {
   "cell_type": "markdown",
   "metadata": {},
   "source": [
    "### Какие платформы лидируют по продажам."
   ]
  },
  {
   "cell_type": "code",
   "execution_count": 11,
   "metadata": {},
   "outputs": [
    {
     "name": "stdout",
     "output_type": "stream",
     "text": [
      "platform\n",
      "PS4     314.14\n",
      "PS3     288.79\n",
      "X360    236.54\n",
      "3DS     194.61\n",
      "XOne    159.32\n",
      "WiiU     82.19\n",
      "PC       62.65\n",
      "PSV      49.18\n",
      "Wii      35.37\n",
      "DS       12.55\n",
      "PSP      11.19\n",
      "Name: total_sales, dtype: float64\n"
     ]
    }
   ],
   "source": [
    "print(actual_games.groupby('platform')['total_sales'].sum(\n",
    "     ).sort_values(ascending=False))"
   ]
  },
  {
   "cell_type": "code",
   "execution_count": 12,
   "metadata": {},
   "outputs": [
    {
     "data": {
      "text/html": [
       "<div>\n",
       "<style scoped>\n",
       "    .dataframe tbody tr th:only-of-type {\n",
       "        vertical-align: middle;\n",
       "    }\n",
       "\n",
       "    .dataframe tbody tr th {\n",
       "        vertical-align: top;\n",
       "    }\n",
       "\n",
       "    .dataframe thead th {\n",
       "        text-align: right;\n",
       "    }\n",
       "</style>\n",
       "<table border=\"1\" class=\"dataframe\">\n",
       "  <thead>\n",
       "    <tr style=\"text-align: right;\">\n",
       "      <th>platform</th>\n",
       "      <th>3DS</th>\n",
       "      <th>DS</th>\n",
       "      <th>PC</th>\n",
       "      <th>PS3</th>\n",
       "      <th>PS4</th>\n",
       "      <th>PSP</th>\n",
       "      <th>PSV</th>\n",
       "      <th>Wii</th>\n",
       "      <th>WiiU</th>\n",
       "      <th>X360</th>\n",
       "      <th>XOne</th>\n",
       "    </tr>\n",
       "    <tr>\n",
       "      <th>year_of_release</th>\n",
       "      <th></th>\n",
       "      <th></th>\n",
       "      <th></th>\n",
       "      <th></th>\n",
       "      <th></th>\n",
       "      <th></th>\n",
       "      <th></th>\n",
       "      <th></th>\n",
       "      <th></th>\n",
       "      <th></th>\n",
       "      <th></th>\n",
       "    </tr>\n",
       "  </thead>\n",
       "  <tbody>\n",
       "    <tr>\n",
       "      <td>2012</td>\n",
       "      <td>51.36</td>\n",
       "      <td>11.01</td>\n",
       "      <td>23.22</td>\n",
       "      <td>107.36</td>\n",
       "      <td>NaN</td>\n",
       "      <td>7.69</td>\n",
       "      <td>16.19</td>\n",
       "      <td>21.71</td>\n",
       "      <td>17.56</td>\n",
       "      <td>99.74</td>\n",
       "      <td>NaN</td>\n",
       "    </tr>\n",
       "    <tr>\n",
       "      <td>2013</td>\n",
       "      <td>56.57</td>\n",
       "      <td>1.54</td>\n",
       "      <td>12.38</td>\n",
       "      <td>113.25</td>\n",
       "      <td>25.99</td>\n",
       "      <td>3.14</td>\n",
       "      <td>10.59</td>\n",
       "      <td>8.59</td>\n",
       "      <td>21.65</td>\n",
       "      <td>88.58</td>\n",
       "      <td>18.96</td>\n",
       "    </tr>\n",
       "    <tr>\n",
       "      <td>2014</td>\n",
       "      <td>43.76</td>\n",
       "      <td>NaN</td>\n",
       "      <td>13.28</td>\n",
       "      <td>47.76</td>\n",
       "      <td>100.00</td>\n",
       "      <td>0.24</td>\n",
       "      <td>11.90</td>\n",
       "      <td>3.75</td>\n",
       "      <td>22.03</td>\n",
       "      <td>34.74</td>\n",
       "      <td>54.07</td>\n",
       "    </tr>\n",
       "    <tr>\n",
       "      <td>2015</td>\n",
       "      <td>27.78</td>\n",
       "      <td>NaN</td>\n",
       "      <td>8.52</td>\n",
       "      <td>16.82</td>\n",
       "      <td>118.90</td>\n",
       "      <td>0.12</td>\n",
       "      <td>6.25</td>\n",
       "      <td>1.14</td>\n",
       "      <td>16.35</td>\n",
       "      <td>11.96</td>\n",
       "      <td>60.14</td>\n",
       "    </tr>\n",
       "    <tr>\n",
       "      <td>2016</td>\n",
       "      <td>15.14</td>\n",
       "      <td>NaN</td>\n",
       "      <td>5.25</td>\n",
       "      <td>3.60</td>\n",
       "      <td>69.25</td>\n",
       "      <td>NaN</td>\n",
       "      <td>4.25</td>\n",
       "      <td>0.18</td>\n",
       "      <td>4.60</td>\n",
       "      <td>1.52</td>\n",
       "      <td>26.15</td>\n",
       "    </tr>\n",
       "  </tbody>\n",
       "</table>\n",
       "</div>"
      ],
      "text/plain": [
       "platform           3DS     DS     PC     PS3     PS4   PSP    PSV    Wii  \\\n",
       "year_of_release                                                            \n",
       "2012             51.36  11.01  23.22  107.36     NaN  7.69  16.19  21.71   \n",
       "2013             56.57   1.54  12.38  113.25   25.99  3.14  10.59   8.59   \n",
       "2014             43.76    NaN  13.28   47.76  100.00  0.24  11.90   3.75   \n",
       "2015             27.78    NaN   8.52   16.82  118.90  0.12   6.25   1.14   \n",
       "2016             15.14    NaN   5.25    3.60   69.25   NaN   4.25   0.18   \n",
       "\n",
       "platform          WiiU   X360   XOne  \n",
       "year_of_release                       \n",
       "2012             17.56  99.74    NaN  \n",
       "2013             21.65  88.58  18.96  \n",
       "2014             22.03  34.74  54.07  \n",
       "2015             16.35  11.96  60.14  \n",
       "2016              4.60   1.52  26.15  "
      ]
     },
     "metadata": {},
     "output_type": "display_data"
    },
    {
     "data": {
      "text/plain": [
       "Text(0, 0.5, 'продажи')"
      ]
     },
     "execution_count": 12,
     "metadata": {},
     "output_type": "execute_result"
    },
    {
     "data": {
      "image/png": "[encoded data removed]",
      "text/plain": [
       "<Figure size 1008x504 with 1 Axes>"
      ]
     },
     "metadata": {
      "needs_background": "light"
     },
     "output_type": "display_data"
    }
   ],
   "source": [
    "actual_pivot = actual_games.pivot_table(columns='platform', index='year_of_release', values='total_sales', aggfunc='sum')\n",
    "display(actual_pivot.head(5))                                                                  \n",
    "plot = actual_pivot.plot(figsize=(14,7), legend=True, grid=True, alpha=0.8, \n",
    "                  title='Актуальный график продаж')\n",
    "plt.xlabel('год')\n",
    "plt.ylabel('продажи')"
   ]
  },
  {
   "cell_type": "markdown",
   "metadata": {},
   "source": [
    "### Вывод\n",
    "Лидеры по продажам за последние годы: PS4, XOne и 3DS. Так как данные за 2016 год еще не полностью выгружены мы видим, что продажи по платформам PS4 и XOne находятся в росте, а продажи 3DS постепенно падают, по графику заметно, что платформа теряет популярность. Значит оратим особое внимание на PS4 и XOne."
   ]
  },
  {
   "cell_type": "markdown",
   "metadata": {},
   "source": [
    "###  Построим график «ящик с усами» по глобальным продажам игр в разбивке по платформам."
   ]
  },
  {
   "cell_type": "code",
   "execution_count": 13,
   "metadata": {},
   "outputs": [
    {
     "name": "stdout",
     "output_type": "stream",
     "text": [
      "\n",
      "PS4\n",
      "count    392.000000\n",
      "mean       0.801378\n",
      "std        1.609456\n",
      "min        0.010000\n",
      "25%        0.060000\n",
      "50%        0.200000\n",
      "75%        0.730000\n",
      "max       14.630000\n",
      "Name: total_sales, dtype: float64\n",
      "XOne\n",
      "count    247.000000\n",
      "mean       0.645020\n",
      "std        1.036139\n",
      "min        0.010000\n",
      "25%        0.060000\n",
      "50%        0.220000\n",
      "75%        0.685000\n",
      "max        7.390000\n",
      "Name: total_sales, dtype: float64\n",
      "3DS\n",
      "count    396.000000\n",
      "mean       0.491439\n",
      "std        1.387161\n",
      "min        0.010000\n",
      "25%        0.040000\n",
      "50%        0.110000\n",
      "75%        0.312500\n",
      "max       14.600000\n",
      "Name: total_sales, dtype: float64\n"
     ]
    },
    {
     "data": {
      "image/png": "[encoded data removed]",
      "text/plain": [
       "<Figure size 864x432 with 1 Axes>"
      ]
     },
     "metadata": {
      "needs_background": "light"
     },
     "output_type": "display_data"
    }
   ],
   "source": [
    "actual_games2 = actual_games[(actual_games['platform'] == 'PS4') | \n",
    "                             (actual_games['platform'] == 'XOne') | \n",
    "                             (actual_games['platform'] == '3DS')].reset_index()\n",
    "\n",
    "plot = sns.catplot(\n",
    "    data = actual_games2, x='platform', y='total_sales', kind='box', height=6, \n",
    "                    aspect=2, legend_out=False)\n",
    "plot.set(ylim=(0, 4))\n",
    "plot.set_axis_labels(x_var='Платформы', y_var='Продажи')\n",
    "\n",
    "plot.fig.suptitle('Продажи по трем лучшим платформам', y=1.1)\n",
    "print()\n",
    "print('PS4')\n",
    "print(actual_games2[actual_games2['platform'] == 'PS4']['total_sales'].describe())\n",
    "print('XOne')\n",
    "print(actual_games2[actual_games2['platform'] == 'XOne']['total_sales'].describe())\n",
    "print('3DS')\n",
    "print(actual_games2[actual_games2['platform'] == '3DS']['total_sales'].describe())"
   ]
  },
  {
   "cell_type": "markdown",
   "metadata": {},
   "source": [
    "### Вывод\n",
    "Внимательно изучив 3 лучшие платформы за актуальный период мы видим, что лучше всех дела обстоят у PS4.\n",
    "Средний показатель 0.8 против 0.64 и 0.49, третий квартиль 0.73 против 0.68 и 0.31 миллиона $. Второе место уверенно занимает XOne, ну а дела у 3DS обстоят гораздо хуже, похоже лучшие ее годы уже позади."
   ]
  },
  {
   "cell_type": "markdown",
   "metadata": {},
   "source": [
    "### Посмотрим, как влияют на продажи внутри одной популярной платформы отзывы пользователей и критиков."
   ]
  },
  {
   "cell_type": "markdown",
   "metadata": {},
   "source": [
    "1. PS4"
   ]
  },
  {
   "cell_type": "code",
   "execution_count": 14,
   "metadata": {},
   "outputs": [
    {
     "data": {
      "text/html": [
       "<div>\n",
       "<style scoped>\n",
       "    .dataframe tbody tr th:only-of-type {\n",
       "        vertical-align: middle;\n",
       "    }\n",
       "\n",
       "    .dataframe tbody tr th {\n",
       "        vertical-align: top;\n",
       "    }\n",
       "\n",
       "    .dataframe thead th {\n",
       "        text-align: right;\n",
       "    }\n",
       "</style>\n",
       "<table border=\"1\" class=\"dataframe\">\n",
       "  <thead>\n",
       "    <tr style=\"text-align: right;\">\n",
       "      <th></th>\n",
       "      <th>total_sales</th>\n",
       "      <th>critic_score</th>\n",
       "      <th>user_score</th>\n",
       "    </tr>\n",
       "  </thead>\n",
       "  <tbody>\n",
       "    <tr>\n",
       "      <td>total_sales</td>\n",
       "      <td>1.000000</td>\n",
       "      <td>0.406568</td>\n",
       "      <td>-0.031957</td>\n",
       "    </tr>\n",
       "    <tr>\n",
       "      <td>critic_score</td>\n",
       "      <td>0.406568</td>\n",
       "      <td>1.000000</td>\n",
       "      <td>0.557654</td>\n",
       "    </tr>\n",
       "    <tr>\n",
       "      <td>user_score</td>\n",
       "      <td>-0.031957</td>\n",
       "      <td>0.557654</td>\n",
       "      <td>1.000000</td>\n",
       "    </tr>\n",
       "  </tbody>\n",
       "</table>\n",
       "</div>"
      ],
      "text/plain": [
       "              total_sales  critic_score  user_score\n",
       "total_sales      1.000000      0.406568   -0.031957\n",
       "critic_score     0.406568      1.000000    0.557654\n",
       "user_score      -0.031957      0.557654    1.000000"
      ]
     },
     "metadata": {},
     "output_type": "display_data"
    }
   ],
   "source": [
    "# создадим таблицу для PS4 со столбцами только из отзывов и выручки\n",
    "actual_games2_ps4 = actual_games2[(\n",
    "    actual_games2['platform'] == 'PS4')][['total_sales', 'critic_score', 'user_score']]\n",
    "display(actual_games2_ps4.corr())"
   ]
  },
  {
   "cell_type": "code",
   "execution_count": 15,
   "metadata": {},
   "outputs": [
    {
     "name": "stdout",
     "output_type": "stream",
     "text": [
      "\n"
     ]
    },
    {
     "data": {
      "image/png": "[encoded data removed]",
      "text/plain": [
       "<Figure size 1080x720 with 1 Axes>"
      ]
     },
     "metadata": {
      "needs_background": "light"
     },
     "output_type": "display_data"
    },
    {
     "data": {
      "image/png": "[encoded data removed]",
      "text/plain": [
       "<Figure size 1080x720 with 1 Axes>"
      ]
     },
     "metadata": {
      "needs_background": "light"
     },
     "output_type": "display_data"
    }
   ],
   "source": [
    "# построим диаграмму рассеивания\n",
    "plot1 = actual_games2_ps4.plot(\n",
    "    kind = 'scatter', x='critic_score', y='total_sales', figsize=(15,10), legend=True, grid=True, \n",
    "    alpha=0.7, title='влияние отзывов критиков на продажи по ps4', color='red')\n",
    "plot2 = actual_games2_ps4.plot(\n",
    "    kind = 'scatter', x='user_score', y='total_sales', figsize=(15,10), legend=True, grid=True, \n",
    "    alpha=0.7, title='влияние отзывово пользователей на продажи по ps4', color='blue')\n",
    "plot1.set_xlabel('отзывы критиков'), plot1.set_ylabel('продажи')\n",
    "plot2.set_xlabel('отзывы пользователей'), plot2.set_ylabel('продажи')\n",
    "print()"
   ]
  },
  {
   "cell_type": "markdown",
   "metadata": {},
   "source": [
    "2. XOne"
   ]
  },
  {
   "cell_type": "code",
   "execution_count": 16,
   "metadata": {},
   "outputs": [
    {
     "data": {
      "text/html": [
       "<div>\n",
       "<style scoped>\n",
       "    .dataframe tbody tr th:only-of-type {\n",
       "        vertical-align: middle;\n",
       "    }\n",
       "\n",
       "    .dataframe tbody tr th {\n",
       "        vertical-align: top;\n",
       "    }\n",
       "\n",
       "    .dataframe thead th {\n",
       "        text-align: right;\n",
       "    }\n",
       "</style>\n",
       "<table border=\"1\" class=\"dataframe\">\n",
       "  <thead>\n",
       "    <tr style=\"text-align: right;\">\n",
       "      <th></th>\n",
       "      <th>total_sales</th>\n",
       "      <th>critic_score</th>\n",
       "      <th>user_score</th>\n",
       "    </tr>\n",
       "  </thead>\n",
       "  <tbody>\n",
       "    <tr>\n",
       "      <td>total_sales</td>\n",
       "      <td>1.000000</td>\n",
       "      <td>0.416998</td>\n",
       "      <td>-0.068925</td>\n",
       "    </tr>\n",
       "    <tr>\n",
       "      <td>critic_score</td>\n",
       "      <td>0.416998</td>\n",
       "      <td>1.000000</td>\n",
       "      <td>0.472462</td>\n",
       "    </tr>\n",
       "    <tr>\n",
       "      <td>user_score</td>\n",
       "      <td>-0.068925</td>\n",
       "      <td>0.472462</td>\n",
       "      <td>1.000000</td>\n",
       "    </tr>\n",
       "  </tbody>\n",
       "</table>\n",
       "</div>"
      ],
      "text/plain": [
       "              total_sales  critic_score  user_score\n",
       "total_sales      1.000000      0.416998   -0.068925\n",
       "critic_score     0.416998      1.000000    0.472462\n",
       "user_score      -0.068925      0.472462    1.000000"
      ]
     },
     "metadata": {},
     "output_type": "display_data"
    }
   ],
   "source": [
    "# создадим таблицу для XOne со столбцами только из отзывов и выручки\n",
    "actual_games2_xone = actual_games2[(\n",
    "    actual_games2['platform'] == 'XOne')][['total_sales', 'critic_score', 'user_score']]\n",
    "display(actual_games2_xone.corr())"
   ]
  },
  {
   "cell_type": "code",
   "execution_count": 17,
   "metadata": {},
   "outputs": [
    {
     "name": "stdout",
     "output_type": "stream",
     "text": [
      "\n"
     ]
    },
    {
     "data": {
      "image/png": "[encoded data removed]",
      "text/plain": [
       "<Figure size 1080x720 with 1 Axes>"
      ]
     },
     "metadata": {
      "needs_background": "light"
     },
     "output_type": "display_data"
    },
    {
     "data": {
      "image/png": "[encoded data removed]",
      "text/plain": [
       "<Figure size 1080x720 with 1 Axes>"
      ]
     },
     "metadata": {
      "needs_background": "light"
     },
     "output_type": "display_data"
    }
   ],
   "source": [
    "# построим диаграмму рассеивания\n",
    "plot1 = actual_games2_xone.plot(\n",
    "    kind = 'scatter', x='critic_score', y='total_sales', figsize=(15,10), legend=True, grid=True, \n",
    "    alpha=0.7, title='влияние отзывов критиков на продажи по xone', color='red')\n",
    "plot2 = actual_games2_ps4.plot(\n",
    "    kind = 'scatter', x='user_score', y='total_sales', figsize=(15,10), legend=True, grid=True, \n",
    "    alpha=0.7, title='влияние отзывово пользователей на продажи по xone', color='blue')\n",
    "plot1.set_xlabel('отзывы критиков'), plot1.set_ylabel('продажи')\n",
    "plot2.set_xlabel('отзывы пользователей'), plot2.set_ylabel('продажи')\n",
    "print()"
   ]
  },
  {
   "cell_type": "markdown",
   "metadata": {},
   "source": [
    "3. 3DS"
   ]
  },
  {
   "cell_type": "code",
   "execution_count": 18,
   "metadata": {},
   "outputs": [
    {
     "data": {
      "text/html": [
       "<div>\n",
       "<style scoped>\n",
       "    .dataframe tbody tr th:only-of-type {\n",
       "        vertical-align: middle;\n",
       "    }\n",
       "\n",
       "    .dataframe tbody tr th {\n",
       "        vertical-align: top;\n",
       "    }\n",
       "\n",
       "    .dataframe thead th {\n",
       "        text-align: right;\n",
       "    }\n",
       "</style>\n",
       "<table border=\"1\" class=\"dataframe\">\n",
       "  <thead>\n",
       "    <tr style=\"text-align: right;\">\n",
       "      <th></th>\n",
       "      <th>total_sales</th>\n",
       "      <th>critic_score</th>\n",
       "      <th>user_score</th>\n",
       "    </tr>\n",
       "  </thead>\n",
       "  <tbody>\n",
       "    <tr>\n",
       "      <td>total_sales</td>\n",
       "      <td>1.000000</td>\n",
       "      <td>0.320803</td>\n",
       "      <td>0.197583</td>\n",
       "    </tr>\n",
       "    <tr>\n",
       "      <td>critic_score</td>\n",
       "      <td>0.320803</td>\n",
       "      <td>1.000000</td>\n",
       "      <td>0.722762</td>\n",
       "    </tr>\n",
       "    <tr>\n",
       "      <td>user_score</td>\n",
       "      <td>0.197583</td>\n",
       "      <td>0.722762</td>\n",
       "      <td>1.000000</td>\n",
       "    </tr>\n",
       "  </tbody>\n",
       "</table>\n",
       "</div>"
      ],
      "text/plain": [
       "              total_sales  critic_score  user_score\n",
       "total_sales      1.000000      0.320803    0.197583\n",
       "critic_score     0.320803      1.000000    0.722762\n",
       "user_score       0.197583      0.722762    1.000000"
      ]
     },
     "metadata": {},
     "output_type": "display_data"
    }
   ],
   "source": [
    "# создадим таблицу для 3DS со столбцами только из отзывов и выручки\n",
    "actual_games2_3ds = actual_games2[(\n",
    "    actual_games2['platform'] == '3DS')][['total_sales', 'critic_score', 'user_score']]\n",
    "display(actual_games2_3ds.corr())"
   ]
  },
  {
   "cell_type": "code",
   "execution_count": 19,
   "metadata": {},
   "outputs": [
    {
     "name": "stdout",
     "output_type": "stream",
     "text": [
      "\n"
     ]
    },
    {
     "data": {
      "image/png": "[encoded data removed]",
      "text/plain": [
       "<Figure size 1080x720 with 1 Axes>"
      ]
     },
     "metadata": {
      "needs_background": "light"
     },
     "output_type": "display_data"
    },
    {
     "data": {
      "image/png": "[encoded data removed]",
      "text/plain": [
       "<Figure size 1080x720 with 1 Axes>"
      ]
     },
     "metadata": {
      "needs_background": "light"
     },
     "output_type": "display_data"
    }
   ],
   "source": [
    "# построим диаграмму рассеивания\n",
    "plot1 = actual_games2_3ds.plot(\n",
    "    kind = 'scatter', x='critic_score', y='total_sales', figsize=(15,10), legend=True, grid=True, \n",
    "    alpha=0.7, title='влияние отзывов критиков на продажи по xone', color='red')\n",
    "plot2 = actual_games2_3ds.plot(\n",
    "    kind = 'scatter', x='user_score', y='total_sales', figsize=(15,10), legend=True, grid=True, \n",
    "    alpha=0.7, title='влияние отзывово пользователей на продажи по 3ds', color='blue')\n",
    "plot1.set_xlabel('отзывы критиков'), plot1.set_ylabel('продажи')\n",
    "plot2.set_xlabel('отзывы пользователей'), plot2.set_ylabel('продажи')\n",
    "print()"
   ]
  },
  {
   "cell_type": "markdown",
   "metadata": {},
   "source": [
    "### Вывод\n",
    "Исходя из корреляции и диаграммы рассеивания можно смело сказать что:\n",
    "1. Для PS4 прослеживается связь продаж с отзывами критиков, коэф. 0.4, а с отзывами пользователей связь очень мала.\n",
    "2. Для XOne ситуация схожая, коэф. 0.41 у критиков, и очень низкий у пользователей.\n",
    "3. 3DS связь отличается, 0.32 у критиков против 0.2 у пользователей. Интересная связь.\n",
    "Общий вывод следующий, отзывы критиков реально коррелируют с продажами."
   ]
  },
  {
   "cell_type": "markdown",
   "metadata": {},
   "source": [
    "### Посмотрим на общее распределение игр по жанрам."
   ]
  },
  {
   "cell_type": "code",
   "execution_count": 20,
   "metadata": {},
   "outputs": [
    {
     "data": {
      "text/html": [
       "<div>\n",
       "<style scoped>\n",
       "    .dataframe tbody tr th:only-of-type {\n",
       "        vertical-align: middle;\n",
       "    }\n",
       "\n",
       "    .dataframe tbody tr th {\n",
       "        vertical-align: top;\n",
       "    }\n",
       "\n",
       "    .dataframe thead th {\n",
       "        text-align: right;\n",
       "    }\n",
       "</style>\n",
       "<table border=\"1\" class=\"dataframe\">\n",
       "  <thead>\n",
       "    <tr style=\"text-align: right;\">\n",
       "      <th></th>\n",
       "      <th>sales</th>\n",
       "      <th>games</th>\n",
       "      <th>sales_for_game</th>\n",
       "    </tr>\n",
       "    <tr>\n",
       "      <th>genre</th>\n",
       "      <th></th>\n",
       "      <th></th>\n",
       "      <th></th>\n",
       "    </tr>\n",
       "  </thead>\n",
       "  <tbody>\n",
       "    <tr>\n",
       "      <td>Action</td>\n",
       "      <td>178.90</td>\n",
       "      <td>385</td>\n",
       "      <td>0.464675</td>\n",
       "    </tr>\n",
       "    <tr>\n",
       "      <td>Shooter</td>\n",
       "      <td>149.02</td>\n",
       "      <td>81</td>\n",
       "      <td>1.839753</td>\n",
       "    </tr>\n",
       "    <tr>\n",
       "      <td>Role-Playing</td>\n",
       "      <td>118.84</td>\n",
       "      <td>144</td>\n",
       "      <td>0.825278</td>\n",
       "    </tr>\n",
       "    <tr>\n",
       "      <td>Sports</td>\n",
       "      <td>86.58</td>\n",
       "      <td>96</td>\n",
       "      <td>0.901875</td>\n",
       "    </tr>\n",
       "    <tr>\n",
       "      <td>Platform</td>\n",
       "      <td>27.73</td>\n",
       "      <td>36</td>\n",
       "      <td>0.770278</td>\n",
       "    </tr>\n",
       "    <tr>\n",
       "      <td>Misc</td>\n",
       "      <td>25.07</td>\n",
       "      <td>80</td>\n",
       "      <td>0.313375</td>\n",
       "    </tr>\n",
       "    <tr>\n",
       "      <td>Racing</td>\n",
       "      <td>22.21</td>\n",
       "      <td>40</td>\n",
       "      <td>0.555250</td>\n",
       "    </tr>\n",
       "    <tr>\n",
       "      <td>Simulation</td>\n",
       "      <td>21.85</td>\n",
       "      <td>30</td>\n",
       "      <td>0.728333</td>\n",
       "    </tr>\n",
       "    <tr>\n",
       "      <td>Fighting</td>\n",
       "      <td>19.56</td>\n",
       "      <td>34</td>\n",
       "      <td>0.575294</td>\n",
       "    </tr>\n",
       "    <tr>\n",
       "      <td>Adventure</td>\n",
       "      <td>13.32</td>\n",
       "      <td>75</td>\n",
       "      <td>0.177600</td>\n",
       "    </tr>\n",
       "    <tr>\n",
       "      <td>Puzzle</td>\n",
       "      <td>2.68</td>\n",
       "      <td>14</td>\n",
       "      <td>0.191429</td>\n",
       "    </tr>\n",
       "    <tr>\n",
       "      <td>Strategy</td>\n",
       "      <td>2.31</td>\n",
       "      <td>20</td>\n",
       "      <td>0.115500</td>\n",
       "    </tr>\n",
       "  </tbody>\n",
       "</table>\n",
       "</div>"
      ],
      "text/plain": [
       "               sales  games  sales_for_game\n",
       "genre                                      \n",
       "Action        178.90    385        0.464675\n",
       "Shooter       149.02     81        1.839753\n",
       "Role-Playing  118.84    144        0.825278\n",
       "Sports         86.58     96        0.901875\n",
       "Platform       27.73     36        0.770278\n",
       "Misc           25.07     80        0.313375\n",
       "Racing         22.21     40        0.555250\n",
       "Simulation     21.85     30        0.728333\n",
       "Fighting       19.56     34        0.575294\n",
       "Adventure      13.32     75        0.177600\n",
       "Puzzle          2.68     14        0.191429\n",
       "Strategy        2.31     20        0.115500"
      ]
     },
     "metadata": {},
     "output_type": "display_data"
    }
   ],
   "source": [
    "# создадим сводную таблицу состоящую из жанров и продаж\n",
    "actual_games2_genre_pivot = actual_games2.pivot_table(\n",
    "    index = 'genre', values = 'total_sales', aggfunc = ['sum', 'count'])\n",
    "actual_games2_genre_pivot.columns = ['sales', 'games']\n",
    "actual_games2_genre_pivot['sales_for_game'] = actual_games2_genre_pivot['sales'] / actual_games2_genre_pivot['games']\n",
    "\n",
    "display(actual_games2_genre_pivot.sort_values(by = 'sales', ascending = False))"
   ]
  },
  {
   "cell_type": "markdown",
   "metadata": {},
   "source": [
    "### Вывод\n",
    "Самыми прибыльными жанрами являются: Action, Shooter, Role-Playing и Sports. Они же лидеры по количеству выпущенных игр в жанре. Соответственно, чем популярнее жанр, тем больше игр в нем и тем больше прибыль от продаж. Хотя когда мы добавили столбец со средней стоимостью одной игры, то среди 4 -х лидеров по общим продажам появился один жанр с очень низкой средней стоимостью, Action, то есть в этом жанре большие продажи, но только за счет того что много игр. Остальные же 3 жанра показали, что наряду с большой прибылью у них и самые большие средние цены.\n",
    "Аутсайдерами как по прибыли, так и по средней цене стали такие жанры: Adventure, Puzzle и Strategy.\n"
   ]
  },
  {
   "cell_type": "markdown",
   "metadata": {},
   "source": [
    "## Составим портрет пользователя каждого региона."
   ]
  },
  {
   "cell_type": "code",
   "execution_count": 21,
   "metadata": {},
   "outputs": [
    {
     "data": {
      "text/html": [
       "<div>\n",
       "<style scoped>\n",
       "    .dataframe tbody tr th:only-of-type {\n",
       "        vertical-align: middle;\n",
       "    }\n",
       "\n",
       "    .dataframe tbody tr th {\n",
       "        vertical-align: top;\n",
       "    }\n",
       "\n",
       "    .dataframe thead th {\n",
       "        text-align: right;\n",
       "    }\n",
       "</style>\n",
       "<table border=\"1\" class=\"dataframe\">\n",
       "  <thead>\n",
       "    <tr style=\"text-align: right;\">\n",
       "      <th></th>\n",
       "      <th>eu_sales</th>\n",
       "      <th>jp_sales</th>\n",
       "      <th>na_sales</th>\n",
       "    </tr>\n",
       "    <tr>\n",
       "      <th>platform</th>\n",
       "      <th></th>\n",
       "      <th></th>\n",
       "      <th></th>\n",
       "    </tr>\n",
       "  </thead>\n",
       "  <tbody>\n",
       "    <tr>\n",
       "      <td>3DS</td>\n",
       "      <td>42.64</td>\n",
       "      <td>87.79</td>\n",
       "      <td>55.31</td>\n",
       "    </tr>\n",
       "    <tr>\n",
       "      <td>DS</td>\n",
       "      <td>3.53</td>\n",
       "      <td>3.72</td>\n",
       "      <td>4.59</td>\n",
       "    </tr>\n",
       "    <tr>\n",
       "      <td>PC</td>\n",
       "      <td>37.76</td>\n",
       "      <td>0.00</td>\n",
       "      <td>19.12</td>\n",
       "    </tr>\n",
       "    <tr>\n",
       "      <td>PS3</td>\n",
       "      <td>106.86</td>\n",
       "      <td>35.29</td>\n",
       "      <td>103.38</td>\n",
       "    </tr>\n",
       "    <tr>\n",
       "      <td>PS4</td>\n",
       "      <td>141.09</td>\n",
       "      <td>15.96</td>\n",
       "      <td>108.74</td>\n",
       "    </tr>\n",
       "    <tr>\n",
       "      <td>PSP</td>\n",
       "      <td>0.42</td>\n",
       "      <td>10.47</td>\n",
       "      <td>0.13</td>\n",
       "    </tr>\n",
       "    <tr>\n",
       "      <td>PSV</td>\n",
       "      <td>11.36</td>\n",
       "      <td>21.04</td>\n",
       "      <td>10.98</td>\n",
       "    </tr>\n",
       "    <tr>\n",
       "      <td>Wii</td>\n",
       "      <td>11.92</td>\n",
       "      <td>3.39</td>\n",
       "      <td>17.45</td>\n",
       "    </tr>\n",
       "    <tr>\n",
       "      <td>WiiU</td>\n",
       "      <td>25.13</td>\n",
       "      <td>13.01</td>\n",
       "      <td>38.10</td>\n",
       "    </tr>\n",
       "    <tr>\n",
       "      <td>X360</td>\n",
       "      <td>74.52</td>\n",
       "      <td>1.57</td>\n",
       "      <td>140.05</td>\n",
       "    </tr>\n",
       "    <tr>\n",
       "      <td>XOne</td>\n",
       "      <td>51.59</td>\n",
       "      <td>0.34</td>\n",
       "      <td>93.12</td>\n",
       "    </tr>\n",
       "  </tbody>\n",
       "</table>\n",
       "</div>"
      ],
      "text/plain": [
       "          eu_sales  jp_sales  na_sales\n",
       "platform                              \n",
       "3DS          42.64     87.79     55.31\n",
       "DS            3.53      3.72      4.59\n",
       "PC           37.76      0.00     19.12\n",
       "PS3         106.86     35.29    103.38\n",
       "PS4         141.09     15.96    108.74\n",
       "PSP           0.42     10.47      0.13\n",
       "PSV          11.36     21.04     10.98\n",
       "Wii          11.92      3.39     17.45\n",
       "WiiU         25.13     13.01     38.10\n",
       "X360         74.52      1.57    140.05\n",
       "XOne         51.59      0.34     93.12"
      ]
     },
     "metadata": {},
     "output_type": "display_data"
    }
   ],
   "source": [
    "# составим сводную таблицу для платформ\n",
    "actual_games_region_platform_pivot = (\n",
    "    actual_games.pivot_table(index = 'platform', values =['na_sales', 'eu_sales', 'jp_sales'],\n",
    "                                                             aggfunc = 'sum'))\n",
    "display(actual_games_region_platform_pivot)"
   ]
  },
  {
   "cell_type": "code",
   "execution_count": 22,
   "metadata": {},
   "outputs": [
    {
     "data": {
      "text/html": [
       "<div>\n",
       "<style scoped>\n",
       "    .dataframe tbody tr th:only-of-type {\n",
       "        vertical-align: middle;\n",
       "    }\n",
       "\n",
       "    .dataframe tbody tr th {\n",
       "        vertical-align: top;\n",
       "    }\n",
       "\n",
       "    .dataframe thead th {\n",
       "        text-align: right;\n",
       "    }\n",
       "</style>\n",
       "<table border=\"1\" class=\"dataframe\">\n",
       "  <thead>\n",
       "    <tr style=\"text-align: right;\">\n",
       "      <th></th>\n",
       "      <th>eu_sales</th>\n",
       "      <th>jp_sales</th>\n",
       "      <th>na_sales</th>\n",
       "    </tr>\n",
       "    <tr>\n",
       "      <th>genre</th>\n",
       "      <th></th>\n",
       "      <th></th>\n",
       "      <th></th>\n",
       "    </tr>\n",
       "  </thead>\n",
       "  <tbody>\n",
       "    <tr>\n",
       "      <td>Action</td>\n",
       "      <td>159.34</td>\n",
       "      <td>52.80</td>\n",
       "      <td>177.84</td>\n",
       "    </tr>\n",
       "    <tr>\n",
       "      <td>Adventure</td>\n",
       "      <td>9.46</td>\n",
       "      <td>8.24</td>\n",
       "      <td>8.92</td>\n",
       "    </tr>\n",
       "    <tr>\n",
       "      <td>Fighting</td>\n",
       "      <td>10.79</td>\n",
       "      <td>9.44</td>\n",
       "      <td>19.79</td>\n",
       "    </tr>\n",
       "    <tr>\n",
       "      <td>Misc</td>\n",
       "      <td>26.32</td>\n",
       "      <td>12.86</td>\n",
       "      <td>38.19</td>\n",
       "    </tr>\n",
       "    <tr>\n",
       "      <td>Platform</td>\n",
       "      <td>21.41</td>\n",
       "      <td>8.63</td>\n",
       "      <td>25.38</td>\n",
       "    </tr>\n",
       "    <tr>\n",
       "      <td>Puzzle</td>\n",
       "      <td>1.40</td>\n",
       "      <td>2.14</td>\n",
       "      <td>1.13</td>\n",
       "    </tr>\n",
       "    <tr>\n",
       "      <td>Racing</td>\n",
       "      <td>27.29</td>\n",
       "      <td>2.50</td>\n",
       "      <td>17.22</td>\n",
       "    </tr>\n",
       "    <tr>\n",
       "      <td>Role-Playing</td>\n",
       "      <td>48.53</td>\n",
       "      <td>65.44</td>\n",
       "      <td>64.00</td>\n",
       "    </tr>\n",
       "    <tr>\n",
       "      <td>Shooter</td>\n",
       "      <td>113.47</td>\n",
       "      <td>9.23</td>\n",
       "      <td>144.77</td>\n",
       "    </tr>\n",
       "    <tr>\n",
       "      <td>Simulation</td>\n",
       "      <td>14.55</td>\n",
       "      <td>10.41</td>\n",
       "      <td>7.97</td>\n",
       "    </tr>\n",
       "    <tr>\n",
       "      <td>Sports</td>\n",
       "      <td>69.09</td>\n",
       "      <td>8.01</td>\n",
       "      <td>81.53</td>\n",
       "    </tr>\n",
       "    <tr>\n",
       "      <td>Strategy</td>\n",
       "      <td>5.17</td>\n",
       "      <td>2.88</td>\n",
       "      <td>4.23</td>\n",
       "    </tr>\n",
       "  </tbody>\n",
       "</table>\n",
       "</div>"
      ],
      "text/plain": [
       "              eu_sales  jp_sales  na_sales\n",
       "genre                                     \n",
       "Action          159.34     52.80    177.84\n",
       "Adventure         9.46      8.24      8.92\n",
       "Fighting         10.79      9.44     19.79\n",
       "Misc             26.32     12.86     38.19\n",
       "Platform         21.41      8.63     25.38\n",
       "Puzzle            1.40      2.14      1.13\n",
       "Racing           27.29      2.50     17.22\n",
       "Role-Playing     48.53     65.44     64.00\n",
       "Shooter         113.47      9.23    144.77\n",
       "Simulation       14.55     10.41      7.97\n",
       "Sports           69.09      8.01     81.53\n",
       "Strategy          5.17      2.88      4.23"
      ]
     },
     "metadata": {},
     "output_type": "display_data"
    }
   ],
   "source": [
    "# составим сводную таблицу для жанров\n",
    "actual_games_region_genre_pivot = (\n",
    "    actual_games.pivot_table(index = 'genre', values =['na_sales', 'eu_sales', 'jp_sales'],\n",
    "                                                             aggfunc = 'sum'))\n",
    "display(actual_games_region_genre_pivot)"
   ]
  },
  {
   "cell_type": "markdown",
   "metadata": {},
   "source": [
    "регион NA"
   ]
  },
  {
   "cell_type": "code",
   "execution_count": 23,
   "metadata": {},
   "outputs": [
    {
     "data": {
      "text/html": [
       "<div>\n",
       "<style scoped>\n",
       "    .dataframe tbody tr th:only-of-type {\n",
       "        vertical-align: middle;\n",
       "    }\n",
       "\n",
       "    .dataframe tbody tr th {\n",
       "        vertical-align: top;\n",
       "    }\n",
       "\n",
       "    .dataframe thead th {\n",
       "        text-align: right;\n",
       "    }\n",
       "</style>\n",
       "<table border=\"1\" class=\"dataframe\">\n",
       "  <thead>\n",
       "    <tr style=\"text-align: right;\">\n",
       "      <th></th>\n",
       "      <th>na_sales</th>\n",
       "      <th>%</th>\n",
       "    </tr>\n",
       "    <tr>\n",
       "      <th>platform</th>\n",
       "      <th></th>\n",
       "      <th></th>\n",
       "    </tr>\n",
       "  </thead>\n",
       "  <tbody>\n",
       "    <tr>\n",
       "      <td>X360</td>\n",
       "      <td>140.05</td>\n",
       "      <td>27.976428</td>\n",
       "    </tr>\n",
       "    <tr>\n",
       "      <td>PS4</td>\n",
       "      <td>108.74</td>\n",
       "      <td>21.721934</td>\n",
       "    </tr>\n",
       "    <tr>\n",
       "      <td>PS3</td>\n",
       "      <td>103.38</td>\n",
       "      <td>20.651219</td>\n",
       "    </tr>\n",
       "    <tr>\n",
       "      <td>XOne</td>\n",
       "      <td>93.12</td>\n",
       "      <td>18.601678</td>\n",
       "    </tr>\n",
       "    <tr>\n",
       "      <td>3DS</td>\n",
       "      <td>55.31</td>\n",
       "      <td>11.048742</td>\n",
       "    </tr>\n",
       "  </tbody>\n",
       "</table>\n",
       "</div>"
      ],
      "text/plain": [
       "          na_sales          %\n",
       "platform                     \n",
       "X360        140.05  27.976428\n",
       "PS4         108.74  21.721934\n",
       "PS3         103.38  20.651219\n",
       "XOne         93.12  18.601678\n",
       "3DS          55.31  11.048742"
      ]
     },
     "metadata": {},
     "output_type": "display_data"
    },
    {
     "data": {
      "image/png": "[encoded data removed]",
      "text/plain": [
       "<Figure size 720x720 with 1 Axes>"
      ]
     },
     "metadata": {},
     "output_type": "display_data"
    }
   ],
   "source": [
    "# самые популярные платформы (топ-5)\n",
    "platforms_na = actual_games_region_platform_pivot['na_sales'].sort_values(ascending = False).head(5)\n",
    "platforms_na = pd.DataFrame(platforms_na)\n",
    "platforms_na['%'] = platforms_na['na_sales'] / platforms_na['na_sales'].sum() * 100\n",
    "display(platforms_na)\n",
    "\n",
    "# построим график, для наглядности попробуем построить круговую диаграмму\n",
    "platforms_na.sort_values(by = '%', ascending = False)\n",
    "platforms_na.plot(\n",
    "    kind = 'pie', y='%', figsize=(10,10), title = 'Топ-5 платформа NA', legend=False)\n",
    "plt.show()"
   ]
  },
  {
   "cell_type": "code",
   "execution_count": 24,
   "metadata": {},
   "outputs": [
    {
     "data": {
      "text/html": [
       "<div>\n",
       "<style scoped>\n",
       "    .dataframe tbody tr th:only-of-type {\n",
       "        vertical-align: middle;\n",
       "    }\n",
       "\n",
       "    .dataframe tbody tr th {\n",
       "        vertical-align: top;\n",
       "    }\n",
       "\n",
       "    .dataframe thead th {\n",
       "        text-align: right;\n",
       "    }\n",
       "</style>\n",
       "<table border=\"1\" class=\"dataframe\">\n",
       "  <thead>\n",
       "    <tr style=\"text-align: right;\">\n",
       "      <th></th>\n",
       "      <th>na_sales</th>\n",
       "      <th>%</th>\n",
       "    </tr>\n",
       "    <tr>\n",
       "      <th>genre</th>\n",
       "      <th></th>\n",
       "      <th></th>\n",
       "    </tr>\n",
       "  </thead>\n",
       "  <tbody>\n",
       "    <tr>\n",
       "      <td>Action</td>\n",
       "      <td>177.84</td>\n",
       "      <td>35.123339</td>\n",
       "    </tr>\n",
       "    <tr>\n",
       "      <td>Shooter</td>\n",
       "      <td>144.77</td>\n",
       "      <td>28.592025</td>\n",
       "    </tr>\n",
       "    <tr>\n",
       "      <td>Sports</td>\n",
       "      <td>81.53</td>\n",
       "      <td>16.102147</td>\n",
       "    </tr>\n",
       "    <tr>\n",
       "      <td>Role-Playing</td>\n",
       "      <td>64.00</td>\n",
       "      <td>12.639978</td>\n",
       "    </tr>\n",
       "    <tr>\n",
       "      <td>Misc</td>\n",
       "      <td>38.19</td>\n",
       "      <td>7.542512</td>\n",
       "    </tr>\n",
       "  </tbody>\n",
       "</table>\n",
       "</div>"
      ],
      "text/plain": [
       "              na_sales          %\n",
       "genre                            \n",
       "Action          177.84  35.123339\n",
       "Shooter         144.77  28.592025\n",
       "Sports           81.53  16.102147\n",
       "Role-Playing     64.00  12.639978\n",
       "Misc             38.19   7.542512"
      ]
     },
     "metadata": {},
     "output_type": "display_data"
    },
    {
     "data": {
      "image/png": "[encoded data removed]",
      "text/plain": [
       "<Figure size 720x720 with 1 Axes>"
      ]
     },
     "metadata": {},
     "output_type": "display_data"
    }
   ],
   "source": [
    "# самые популярные жанры (топ-5)\n",
    "genres_na = actual_games_region_genre_pivot['na_sales'].sort_values(ascending = False).head(5)\n",
    "genres_na = pd.DataFrame(genres_na)\n",
    "genres_na['%'] = genres_na['na_sales'] / genres_na['na_sales'].sum() * 100\n",
    "display(genres_na)\n",
    "\n",
    "# построим график\n",
    "genres_na.sort_values(by = '%', ascending = False)\n",
    "genres_na.plot(\n",
    "    kind = 'pie', y='%', figsize=(10,10), title = 'Топ-5 жанров NA', legend=False)\n",
    "plt.show()"
   ]
  },
  {
   "cell_type": "markdown",
   "metadata": {},
   "source": [
    "регион EU"
   ]
  },
  {
   "cell_type": "code",
   "execution_count": 25,
   "metadata": {},
   "outputs": [
    {
     "data": {
      "text/html": [
       "<div>\n",
       "<style scoped>\n",
       "    .dataframe tbody tr th:only-of-type {\n",
       "        vertical-align: middle;\n",
       "    }\n",
       "\n",
       "    .dataframe tbody tr th {\n",
       "        vertical-align: top;\n",
       "    }\n",
       "\n",
       "    .dataframe thead th {\n",
       "        text-align: right;\n",
       "    }\n",
       "</style>\n",
       "<table border=\"1\" class=\"dataframe\">\n",
       "  <thead>\n",
       "    <tr style=\"text-align: right;\">\n",
       "      <th></th>\n",
       "      <th>eu_sales</th>\n",
       "      <th>%</th>\n",
       "    </tr>\n",
       "    <tr>\n",
       "      <th>platform</th>\n",
       "      <th></th>\n",
       "      <th></th>\n",
       "    </tr>\n",
       "  </thead>\n",
       "  <tbody>\n",
       "    <tr>\n",
       "      <td>PS4</td>\n",
       "      <td>141.09</td>\n",
       "      <td>33.858891</td>\n",
       "    </tr>\n",
       "    <tr>\n",
       "      <td>PS3</td>\n",
       "      <td>106.86</td>\n",
       "      <td>25.644348</td>\n",
       "    </tr>\n",
       "    <tr>\n",
       "      <td>X360</td>\n",
       "      <td>74.52</td>\n",
       "      <td>17.883369</td>\n",
       "    </tr>\n",
       "    <tr>\n",
       "      <td>XOne</td>\n",
       "      <td>51.59</td>\n",
       "      <td>12.380610</td>\n",
       "    </tr>\n",
       "    <tr>\n",
       "      <td>3DS</td>\n",
       "      <td>42.64</td>\n",
       "      <td>10.232781</td>\n",
       "    </tr>\n",
       "  </tbody>\n",
       "</table>\n",
       "</div>"
      ],
      "text/plain": [
       "          eu_sales          %\n",
       "platform                     \n",
       "PS4         141.09  33.858891\n",
       "PS3         106.86  25.644348\n",
       "X360         74.52  17.883369\n",
       "XOne         51.59  12.380610\n",
       "3DS          42.64  10.232781"
      ]
     },
     "metadata": {},
     "output_type": "display_data"
    },
    {
     "data": {
      "image/png": "[encoded data removed]",
      "text/plain": [
       "<Figure size 720x720 with 1 Axes>"
      ]
     },
     "metadata": {},
     "output_type": "display_data"
    }
   ],
   "source": [
    "# самые популярные платформы (топ-5)\n",
    "platforms_eu = actual_games_region_platform_pivot['eu_sales'].sort_values(ascending = False).head(5)\n",
    "platforms_eu = pd.DataFrame(platforms_eu)\n",
    "platforms_eu['%'] = platforms_eu['eu_sales'] / platforms_eu['eu_sales'].sum() * 100\n",
    "display(platforms_eu)\n",
    "\n",
    "# построим график\n",
    "platforms_eu.sort_values(by = '%', ascending = False)\n",
    "platforms_eu.plot(\n",
    "    kind = 'pie', y='%', figsize=(10,10), title = 'Топ-5 платформа EU', legend=False)\n",
    "plt.show()"
   ]
  },
  {
   "cell_type": "code",
   "execution_count": 26,
   "metadata": {},
   "outputs": [
    {
     "data": {
      "text/html": [
       "<div>\n",
       "<style scoped>\n",
       "    .dataframe tbody tr th:only-of-type {\n",
       "        vertical-align: middle;\n",
       "    }\n",
       "\n",
       "    .dataframe tbody tr th {\n",
       "        vertical-align: top;\n",
       "    }\n",
       "\n",
       "    .dataframe thead th {\n",
       "        text-align: right;\n",
       "    }\n",
       "</style>\n",
       "<table border=\"1\" class=\"dataframe\">\n",
       "  <thead>\n",
       "    <tr style=\"text-align: right;\">\n",
       "      <th></th>\n",
       "      <th>eu_sales</th>\n",
       "      <th>%</th>\n",
       "    </tr>\n",
       "    <tr>\n",
       "      <th>genre</th>\n",
       "      <th></th>\n",
       "      <th></th>\n",
       "    </tr>\n",
       "  </thead>\n",
       "  <tbody>\n",
       "    <tr>\n",
       "      <td>Action</td>\n",
       "      <td>159.34</td>\n",
       "      <td>38.145169</td>\n",
       "    </tr>\n",
       "    <tr>\n",
       "      <td>Shooter</td>\n",
       "      <td>113.47</td>\n",
       "      <td>27.164129</td>\n",
       "    </tr>\n",
       "    <tr>\n",
       "      <td>Sports</td>\n",
       "      <td>69.09</td>\n",
       "      <td>16.539787</td>\n",
       "    </tr>\n",
       "    <tr>\n",
       "      <td>Role-Playing</td>\n",
       "      <td>48.53</td>\n",
       "      <td>11.617830</td>\n",
       "    </tr>\n",
       "    <tr>\n",
       "      <td>Racing</td>\n",
       "      <td>27.29</td>\n",
       "      <td>6.533084</td>\n",
       "    </tr>\n",
       "  </tbody>\n",
       "</table>\n",
       "</div>"
      ],
      "text/plain": [
       "              eu_sales          %\n",
       "genre                            \n",
       "Action          159.34  38.145169\n",
       "Shooter         113.47  27.164129\n",
       "Sports           69.09  16.539787\n",
       "Role-Playing     48.53  11.617830\n",
       "Racing           27.29   6.533084"
      ]
     },
     "metadata": {},
     "output_type": "display_data"
    },
    {
     "data": {
      "image/png": "[encoded data removed]",
      "text/plain": [
       "<Figure size 720x720 with 1 Axes>"
      ]
     },
     "metadata": {},
     "output_type": "display_data"
    }
   ],
   "source": [
    "# самые популярные жанры (топ-5)\n",
    "genres_eu = actual_games_region_genre_pivot['eu_sales'].sort_values(ascending = False).head(5)\n",
    "genres_eu = pd.DataFrame(genres_eu)\n",
    "genres_eu['%'] = genres_eu['eu_sales'] / genres_eu['eu_sales'].sum() * 100\n",
    "display(genres_eu)\n",
    "\n",
    "# построим график\n",
    "genres_eu.sort_values(by = '%', ascending = False)\n",
    "genres_eu.plot(\n",
    "    kind = 'pie', y='%', figsize=(10,10), title = 'Топ-5 жанров EU', legend=False)\n",
    "plt.show()"
   ]
  },
  {
   "cell_type": "markdown",
   "metadata": {},
   "source": [
    "регион JP"
   ]
  },
  {
   "cell_type": "code",
   "execution_count": 27,
   "metadata": {},
   "outputs": [
    {
     "data": {
      "text/html": [
       "<div>\n",
       "<style scoped>\n",
       "    .dataframe tbody tr th:only-of-type {\n",
       "        vertical-align: middle;\n",
       "    }\n",
       "\n",
       "    .dataframe tbody tr th {\n",
       "        vertical-align: top;\n",
       "    }\n",
       "\n",
       "    .dataframe thead th {\n",
       "        text-align: right;\n",
       "    }\n",
       "</style>\n",
       "<table border=\"1\" class=\"dataframe\">\n",
       "  <thead>\n",
       "    <tr style=\"text-align: right;\">\n",
       "      <th></th>\n",
       "      <th>jp_sales</th>\n",
       "      <th>%</th>\n",
       "    </tr>\n",
       "    <tr>\n",
       "      <th>platform</th>\n",
       "      <th></th>\n",
       "      <th></th>\n",
       "    </tr>\n",
       "  </thead>\n",
       "  <tbody>\n",
       "    <tr>\n",
       "      <td>3DS</td>\n",
       "      <td>87.79</td>\n",
       "      <td>50.719279</td>\n",
       "    </tr>\n",
       "    <tr>\n",
       "      <td>PS3</td>\n",
       "      <td>35.29</td>\n",
       "      <td>20.388237</td>\n",
       "    </tr>\n",
       "    <tr>\n",
       "      <td>PSV</td>\n",
       "      <td>21.04</td>\n",
       "      <td>12.155526</td>\n",
       "    </tr>\n",
       "    <tr>\n",
       "      <td>PS4</td>\n",
       "      <td>15.96</td>\n",
       "      <td>9.220637</td>\n",
       "    </tr>\n",
       "    <tr>\n",
       "      <td>WiiU</td>\n",
       "      <td>13.01</td>\n",
       "      <td>7.516321</td>\n",
       "    </tr>\n",
       "  </tbody>\n",
       "</table>\n",
       "</div>"
      ],
      "text/plain": [
       "          jp_sales          %\n",
       "platform                     \n",
       "3DS          87.79  50.719279\n",
       "PS3          35.29  20.388237\n",
       "PSV          21.04  12.155526\n",
       "PS4          15.96   9.220637\n",
       "WiiU         13.01   7.516321"
      ]
     },
     "metadata": {},
     "output_type": "display_data"
    },
    {
     "data": {
      "image/png": "[encoded data removed]",
      "text/plain": [
       "<Figure size 720x720 with 1 Axes>"
      ]
     },
     "metadata": {},
     "output_type": "display_data"
    }
   ],
   "source": [
    "# самые популярные платформы (топ-5)\n",
    "platforms_jp = actual_games_region_platform_pivot['jp_sales'].sort_values(ascending = False).head(5)\n",
    "platforms_jp = pd.DataFrame(platforms_jp)\n",
    "platforms_jp['%'] = platforms_jp['jp_sales'] / platforms_jp['jp_sales'].sum() * 100\n",
    "display(platforms_jp)\n",
    "\n",
    "# построим график\n",
    "platforms_jp.sort_values(by = '%', ascending = False)\n",
    "platforms_jp.plot(\n",
    "    kind = 'pie', y='%', figsize=(10,10), title = 'Топ-5 платформ JP', legend=False)\n",
    "plt.show()"
   ]
  },
  {
   "cell_type": "code",
   "execution_count": 28,
   "metadata": {},
   "outputs": [
    {
     "data": {
      "text/html": [
       "<div>\n",
       "<style scoped>\n",
       "    .dataframe tbody tr th:only-of-type {\n",
       "        vertical-align: middle;\n",
       "    }\n",
       "\n",
       "    .dataframe tbody tr th {\n",
       "        vertical-align: top;\n",
       "    }\n",
       "\n",
       "    .dataframe thead th {\n",
       "        text-align: right;\n",
       "    }\n",
       "</style>\n",
       "<table border=\"1\" class=\"dataframe\">\n",
       "  <thead>\n",
       "    <tr style=\"text-align: right;\">\n",
       "      <th></th>\n",
       "      <th>jp_sales</th>\n",
       "      <th>%</th>\n",
       "    </tr>\n",
       "    <tr>\n",
       "      <th>genre</th>\n",
       "      <th></th>\n",
       "      <th></th>\n",
       "    </tr>\n",
       "  </thead>\n",
       "  <tbody>\n",
       "    <tr>\n",
       "      <td>Role-Playing</td>\n",
       "      <td>65.44</td>\n",
       "      <td>43.352103</td>\n",
       "    </tr>\n",
       "    <tr>\n",
       "      <td>Action</td>\n",
       "      <td>52.80</td>\n",
       "      <td>34.978470</td>\n",
       "    </tr>\n",
       "    <tr>\n",
       "      <td>Misc</td>\n",
       "      <td>12.86</td>\n",
       "      <td>8.519377</td>\n",
       "    </tr>\n",
       "    <tr>\n",
       "      <td>Simulation</td>\n",
       "      <td>10.41</td>\n",
       "      <td>6.896323</td>\n",
       "    </tr>\n",
       "    <tr>\n",
       "      <td>Fighting</td>\n",
       "      <td>9.44</td>\n",
       "      <td>6.253726</td>\n",
       "    </tr>\n",
       "  </tbody>\n",
       "</table>\n",
       "</div>"
      ],
      "text/plain": [
       "              jp_sales          %\n",
       "genre                            \n",
       "Role-Playing     65.44  43.352103\n",
       "Action           52.80  34.978470\n",
       "Misc             12.86   8.519377\n",
       "Simulation       10.41   6.896323\n",
       "Fighting          9.44   6.253726"
      ]
     },
     "metadata": {},
     "output_type": "display_data"
    },
    {
     "data": {
      "image/png": "[encoded data removed]",
      "text/plain": [
       "<Figure size 720x720 with 1 Axes>"
      ]
     },
     "metadata": {},
     "output_type": "display_data"
    }
   ],
   "source": [
    "# самые популярные жанры (топ-5)\n",
    "genres_jp = actual_games_region_genre_pivot['jp_sales'].sort_values(ascending = False).head(5)\n",
    "genres_jp = pd.DataFrame(genres_jp)\n",
    "genres_jp['%'] = genres_jp['jp_sales'] / genres_jp['jp_sales'].sum() * 100\n",
    "display(genres_jp)\n",
    "\n",
    "# построим график\n",
    "genres_jp.sort_values(by = '%', ascending = False)\n",
    "genres_jp.plot(\n",
    "    kind = 'pie', y='%', figsize=(10,10), title = 'Топ-5 жанров JP', legend=False)\n",
    "plt.show()"
   ]
  },
  {
   "cell_type": "markdown",
   "metadata": {},
   "source": [
    "Сравним самые поулярные платформы в регионах.\n",
    "- В NA:\n",
    "1. X360 с долей примерно  28%\n",
    "2. PS4\t\t              22%\n",
    "3. PS3\t                  21%\n",
    "4. XOne\t                  19%\n",
    "5. 3DS\t                  11%\n",
    "- видим, доли близкие друг к другу. Самая популярная платформа X360, хотя она не входила в топ-3 по всем продажам в мире.\n",
    "\n",
    "\n",
    "- В EU:\n",
    "1. PS4\t                  34%\n",
    "2. PS3\t                  26%\n",
    "3. X360\t                  18%\n",
    "4. XOne                   12% \n",
    "5. 3DS                    10%\n",
    "- тут разброс доль чуть больше. Самая популярная платформа PS4, как и в целом в мире.\n",
    "\n",
    "\n",
    "- В JP:\n",
    "1. 3DS\t                   51%\n",
    "2. PS3                     20%\n",
    "3. PSV                     12%\n",
    "4. PS4\t                    9%\n",
    "5. WiiU                     8%\n",
    "- разброс по долям ощутимый, более 50% у 3DS, хотя в общих продажахпо всем регионам она третья. Видимо основные продажи по ней в этом регионе."
   ]
  },
  {
   "cell_type": "markdown",
   "metadata": {},
   "source": [
    "Теперь сделаем вывод о жанрах.\n",
    "- В NA:\n",
    "1. Action\t         35%\n",
    "2. Shooter\t         29%\n",
    "3. Sports\t         16%\n",
    "4. Role-Playing\t     13%\n",
    "5. Misc\t              8% \n",
    "\n",
    "- В EU:\n",
    "1. Action\t         38%\n",
    "2. Shooter\t         27%\n",
    "3. Sports\t         17%\n",
    "4. Role-Playing\t     12%\n",
    "5. Racing\t          7%\n",
    "- видим, что в Америке и Европе практически одинаковая картина по долям и лидерам жанров. первые 4 места общие, что в целом почти 92%. \n",
    "\n",
    "\n",
    "- В JP:\n",
    "1. Role-Playing\t     43%\n",
    "2. Action\t         35%\n",
    "3. Misc\t              9%\n",
    "4. Simulation\t      7%\n",
    "5. Fighting\t          6%\n",
    "- в Японии, как обычно, картина совсем другая, опять большой разброс по долям и совсем другой лидер. Role-Playing 43%, на втором месте лидер по Америке и Европе, Action с 35%. Такая разница между Америкой и Европой с одной стороны и Японией с другой связана с разностью культур и национальных особенностей."
   ]
  },
  {
   "cell_type": "markdown",
   "metadata": {},
   "source": [
    "### В Америке и Европе пользователи больше предпочитают жанры Action и Shooter, то есть более агрессивные игры, в сумме эти два жанра занимают порядка 65% от общих продаж. В Японии 43% предпочитают Ролевики, более спокойный и созидательный жанр. "
   ]
  },
  {
   "cell_type": "code",
   "execution_count": 29,
   "metadata": {},
   "outputs": [
    {
     "name": "stdout",
     "output_type": "stream",
     "text": [
      "['M' nan 'E' 'E10+' 'T']\n",
      "['M' 'NR' 'E' 'E10+' 'T']\n"
     ]
    },
    {
     "name": "stderr",
     "output_type": "stream",
     "text": [
      "/opt/conda/lib/python3.7/site-packages/pandas/core/generic.py:6287: SettingWithCopyWarning: \n",
      "A value is trying to be set on a copy of a slice from a DataFrame\n",
      "\n",
      "See the caveats in the documentation: http://pandas.pydata.org/pandas-docs/stable/user_guide/indexing.html#returning-a-view-versus-a-copy\n",
      "  self._update_inplace(new_data)\n"
     ]
    }
   ],
   "source": [
    "# посмотрим на уникальные значения в столбце rating\n",
    "print( actual_games['rating'].unique())\n",
    "\n",
    "# заменим пустые ячйки на NR (no rating)\n",
    "actual_games['rating'].fillna('NR', inplace=True)\n",
    "print( actual_games['rating'].unique())"
   ]
  },
  {
   "cell_type": "code",
   "execution_count": 30,
   "metadata": {},
   "outputs": [
    {
     "data": {
      "text/html": [
       "<div>\n",
       "<style scoped>\n",
       "    .dataframe tbody tr th:only-of-type {\n",
       "        vertical-align: middle;\n",
       "    }\n",
       "\n",
       "    .dataframe tbody tr th {\n",
       "        vertical-align: top;\n",
       "    }\n",
       "\n",
       "    .dataframe thead th {\n",
       "        text-align: right;\n",
       "    }\n",
       "</style>\n",
       "<table border=\"1\" class=\"dataframe\">\n",
       "  <thead>\n",
       "    <tr style=\"text-align: right;\">\n",
       "      <th></th>\n",
       "      <th>eu_sales</th>\n",
       "      <th>jp_sales</th>\n",
       "      <th>na_sales</th>\n",
       "    </tr>\n",
       "    <tr>\n",
       "      <th>rating</th>\n",
       "      <th></th>\n",
       "      <th></th>\n",
       "      <th></th>\n",
       "    </tr>\n",
       "  </thead>\n",
       "  <tbody>\n",
       "    <tr>\n",
       "      <td>E</td>\n",
       "      <td>113.03</td>\n",
       "      <td>28.33</td>\n",
       "      <td>114.37</td>\n",
       "    </tr>\n",
       "    <tr>\n",
       "      <td>E10+</td>\n",
       "      <td>55.37</td>\n",
       "      <td>8.19</td>\n",
       "      <td>75.70</td>\n",
       "    </tr>\n",
       "    <tr>\n",
       "      <td>M</td>\n",
       "      <td>193.96</td>\n",
       "      <td>21.20</td>\n",
       "      <td>231.57</td>\n",
       "    </tr>\n",
       "    <tr>\n",
       "      <td>NR</td>\n",
       "      <td>91.50</td>\n",
       "      <td>108.84</td>\n",
       "      <td>103.31</td>\n",
       "    </tr>\n",
       "    <tr>\n",
       "      <td>T</td>\n",
       "      <td>52.96</td>\n",
       "      <td>26.02</td>\n",
       "      <td>66.02</td>\n",
       "    </tr>\n",
       "  </tbody>\n",
       "</table>\n",
       "</div>"
      ],
      "text/plain": [
       "        eu_sales  jp_sales  na_sales\n",
       "rating                              \n",
       "E         113.03     28.33    114.37\n",
       "E10+       55.37      8.19     75.70\n",
       "M         193.96     21.20    231.57\n",
       "NR         91.50    108.84    103.31\n",
       "T          52.96     26.02     66.02"
      ]
     },
     "metadata": {},
     "output_type": "display_data"
    }
   ],
   "source": [
    "# проверим влияние рейтинга ESRB\n",
    "     # составим сводную таблицу по рейтингу\n",
    "actual_games_region_rating_pivot = (\n",
    "    actual_games.pivot_table(\n",
    "        index = 'rating', values =['na_sales', 'eu_sales', 'jp_sales'], aggfunc = 'sum'))\n",
    "display(actual_games_region_rating_pivot)"
   ]
  },
  {
   "cell_type": "markdown",
   "metadata": {},
   "source": [
    "регион NA"
   ]
  },
  {
   "cell_type": "code",
   "execution_count": 31,
   "metadata": {},
   "outputs": [
    {
     "data": {
      "text/html": [
       "<div>\n",
       "<style scoped>\n",
       "    .dataframe tbody tr th:only-of-type {\n",
       "        vertical-align: middle;\n",
       "    }\n",
       "\n",
       "    .dataframe tbody tr th {\n",
       "        vertical-align: top;\n",
       "    }\n",
       "\n",
       "    .dataframe thead th {\n",
       "        text-align: right;\n",
       "    }\n",
       "</style>\n",
       "<table border=\"1\" class=\"dataframe\">\n",
       "  <thead>\n",
       "    <tr style=\"text-align: right;\">\n",
       "      <th></th>\n",
       "      <th>na_sales</th>\n",
       "      <th>%</th>\n",
       "    </tr>\n",
       "    <tr>\n",
       "      <th>rating</th>\n",
       "      <th></th>\n",
       "      <th></th>\n",
       "    </tr>\n",
       "  </thead>\n",
       "  <tbody>\n",
       "    <tr>\n",
       "      <td>M</td>\n",
       "      <td>231.57</td>\n",
       "      <td>39.184730</td>\n",
       "    </tr>\n",
       "    <tr>\n",
       "      <td>E</td>\n",
       "      <td>114.37</td>\n",
       "      <td>19.352928</td>\n",
       "    </tr>\n",
       "    <tr>\n",
       "      <td>NR</td>\n",
       "      <td>103.31</td>\n",
       "      <td>17.481429</td>\n",
       "    </tr>\n",
       "    <tr>\n",
       "      <td>E10+</td>\n",
       "      <td>75.70</td>\n",
       "      <td>12.809449</td>\n",
       "    </tr>\n",
       "    <tr>\n",
       "      <td>T</td>\n",
       "      <td>66.02</td>\n",
       "      <td>11.171464</td>\n",
       "    </tr>\n",
       "  </tbody>\n",
       "</table>\n",
       "</div>"
      ],
      "text/plain": [
       "        na_sales          %\n",
       "rating                     \n",
       "M         231.57  39.184730\n",
       "E         114.37  19.352928\n",
       "NR        103.31  17.481429\n",
       "E10+       75.70  12.809449\n",
       "T          66.02  11.171464"
      ]
     },
     "metadata": {},
     "output_type": "display_data"
    },
    {
     "data": {
      "image/png": "[encoded data removed]",
      "text/plain": [
       "<Figure size 720x720 with 1 Axes>"
      ]
     },
     "metadata": {},
     "output_type": "display_data"
    }
   ],
   "source": [
    "# посмотрим взаимосвясь рейтинга и продаж\n",
    "rating_na = actual_games_region_rating_pivot['na_sales'].sort_values(ascending = False).head(5)\n",
    "rating_na = pd.DataFrame(rating_na)\n",
    "rating_na['%'] = rating_na['na_sales'] / rating_na['na_sales'].sum() * 100\n",
    "display(rating_na)\n",
    "\n",
    "# построим график\n",
    "rating_na.sort_values(by = '%', ascending = False)\n",
    "rating_na.plot(\n",
    "    kind = 'pie', y='%', figsize=(10,10), title = 'Популярные рейтинги в NA', legend=False)\n",
    "plt.show()"
   ]
  },
  {
   "cell_type": "markdown",
   "metadata": {},
   "source": [
    "регион EU"
   ]
  },
  {
   "cell_type": "code",
   "execution_count": 32,
   "metadata": {},
   "outputs": [
    {
     "data": {
      "text/html": [
       "<div>\n",
       "<style scoped>\n",
       "    .dataframe tbody tr th:only-of-type {\n",
       "        vertical-align: middle;\n",
       "    }\n",
       "\n",
       "    .dataframe tbody tr th {\n",
       "        vertical-align: top;\n",
       "    }\n",
       "\n",
       "    .dataframe thead th {\n",
       "        text-align: right;\n",
       "    }\n",
       "</style>\n",
       "<table border=\"1\" class=\"dataframe\">\n",
       "  <thead>\n",
       "    <tr style=\"text-align: right;\">\n",
       "      <th></th>\n",
       "      <th>eu_sales</th>\n",
       "      <th>%</th>\n",
       "    </tr>\n",
       "    <tr>\n",
       "      <th>rating</th>\n",
       "      <th></th>\n",
       "      <th></th>\n",
       "    </tr>\n",
       "  </thead>\n",
       "  <tbody>\n",
       "    <tr>\n",
       "      <td>M</td>\n",
       "      <td>193.96</td>\n",
       "      <td>38.269997</td>\n",
       "    </tr>\n",
       "    <tr>\n",
       "      <td>E</td>\n",
       "      <td>113.03</td>\n",
       "      <td>22.301803</td>\n",
       "    </tr>\n",
       "    <tr>\n",
       "      <td>NR</td>\n",
       "      <td>91.50</td>\n",
       "      <td>18.053747</td>\n",
       "    </tr>\n",
       "    <tr>\n",
       "      <td>E10+</td>\n",
       "      <td>55.37</td>\n",
       "      <td>10.924983</td>\n",
       "    </tr>\n",
       "    <tr>\n",
       "      <td>T</td>\n",
       "      <td>52.96</td>\n",
       "      <td>10.449469</td>\n",
       "    </tr>\n",
       "  </tbody>\n",
       "</table>\n",
       "</div>"
      ],
      "text/plain": [
       "        eu_sales          %\n",
       "rating                     \n",
       "M         193.96  38.269997\n",
       "E         113.03  22.301803\n",
       "NR         91.50  18.053747\n",
       "E10+       55.37  10.924983\n",
       "T          52.96  10.449469"
      ]
     },
     "metadata": {},
     "output_type": "display_data"
    },
    {
     "data": {
      "image/png": "[encoded data removed]",
      "text/plain": [
       "<Figure size 720x720 with 1 Axes>"
      ]
     },
     "metadata": {},
     "output_type": "display_data"
    }
   ],
   "source": [
    "# посмотрим взаимосвясь рейтинга и продаж\n",
    "rating_eu = actual_games_region_rating_pivot['eu_sales'].sort_values(ascending = False).head(5)\n",
    "rating_eu = pd.DataFrame(rating_eu)\n",
    "rating_eu['%'] = rating_eu['eu_sales'] / rating_eu['eu_sales'].sum() * 100\n",
    "display(rating_eu)\n",
    "\n",
    "# построим график\n",
    "rating_eu.sort_values(by = '%', ascending = False)\n",
    "rating_eu.plot(\n",
    "    kind = 'pie', y='%', figsize=(10,10), title = 'Популярные рейтинги в EU', legend=False)\n",
    "plt.show()"
   ]
  },
  {
   "cell_type": "markdown",
   "metadata": {},
   "source": [
    "регион JP"
   ]
  },
  {
   "cell_type": "code",
   "execution_count": 33,
   "metadata": {},
   "outputs": [
    {
     "data": {
      "text/html": [
       "<div>\n",
       "<style scoped>\n",
       "    .dataframe tbody tr th:only-of-type {\n",
       "        vertical-align: middle;\n",
       "    }\n",
       "\n",
       "    .dataframe tbody tr th {\n",
       "        vertical-align: top;\n",
       "    }\n",
       "\n",
       "    .dataframe thead th {\n",
       "        text-align: right;\n",
       "    }\n",
       "</style>\n",
       "<table border=\"1\" class=\"dataframe\">\n",
       "  <thead>\n",
       "    <tr style=\"text-align: right;\">\n",
       "      <th></th>\n",
       "      <th>jp_sales</th>\n",
       "      <th>%</th>\n",
       "    </tr>\n",
       "    <tr>\n",
       "      <th>rating</th>\n",
       "      <th></th>\n",
       "      <th></th>\n",
       "    </tr>\n",
       "  </thead>\n",
       "  <tbody>\n",
       "    <tr>\n",
       "      <td>NR</td>\n",
       "      <td>108.84</td>\n",
       "      <td>56.516772</td>\n",
       "    </tr>\n",
       "    <tr>\n",
       "      <td>E</td>\n",
       "      <td>28.33</td>\n",
       "      <td>14.710770</td>\n",
       "    </tr>\n",
       "    <tr>\n",
       "      <td>T</td>\n",
       "      <td>26.02</td>\n",
       "      <td>13.511268</td>\n",
       "    </tr>\n",
       "    <tr>\n",
       "      <td>M</td>\n",
       "      <td>21.20</td>\n",
       "      <td>11.008412</td>\n",
       "    </tr>\n",
       "    <tr>\n",
       "      <td>E10+</td>\n",
       "      <td>8.19</td>\n",
       "      <td>4.252778</td>\n",
       "    </tr>\n",
       "  </tbody>\n",
       "</table>\n",
       "</div>"
      ],
      "text/plain": [
       "        jp_sales          %\n",
       "rating                     \n",
       "NR        108.84  56.516772\n",
       "E          28.33  14.710770\n",
       "T          26.02  13.511268\n",
       "M          21.20  11.008412\n",
       "E10+        8.19   4.252778"
      ]
     },
     "metadata": {},
     "output_type": "display_data"
    },
    {
     "data": {
      "image/png": "[encoded data removed]",
      "text/plain": [
       "<Figure size 720x720 with 1 Axes>"
      ]
     },
     "metadata": {},
     "output_type": "display_data"
    }
   ],
   "source": [
    "# посмотрим взаимосвясь рейтинга и продаж\n",
    "rating_jp = actual_games_region_rating_pivot['jp_sales'].sort_values(ascending = False).head(5)\n",
    "rating_jp = pd.DataFrame(rating_jp)\n",
    "rating_jp['%'] = rating_jp['jp_sales'] / rating_jp['jp_sales'].sum() * 100\n",
    "display(rating_jp)\n",
    "\n",
    "# построим график\n",
    "rating_jp.sort_values(by = '%', ascending = False)\n",
    "rating_jp.plot(\n",
    "    kind = 'pie', y='%', figsize=(10,10), title = 'Популярные рейтинги в JP', legend=False)\n",
    "plt.show()"
   ]
  },
  {
   "cell_type": "markdown",
   "metadata": {},
   "source": [
    "### Вывод\n",
    "Опять видим практически полное сходство в Америке и Европе. Первое место - Для взрослых примерно 38-39%, второе - для всех с 19% в Америке и 22% в Европе, третье - игры без рейтинга с 17% и 18% соответственно.\n",
    "В Японии на первом месте игры для без рейтинга - 57%!!, потом для всех - 15% и 14% для подростков.\n",
    "Видим, что в Америке и Европе большей популярностью пользуются игры для взростлых это связано с тем, что популярные жанры тут Экшн и стрелялки, в Японии же больше половины продаж у игр без рейтинга. Может это связано с любовью к ролевым японским играм, возможно они популярны только в Японии и ESRB не присваиваа им рейтинг."
   ]
  },
  {
   "cell_type": "markdown",
   "metadata": {},
   "source": [
    "## Построим гипотезы"
   ]
  },
  {
   "cell_type": "markdown",
   "metadata": {},
   "source": [
    "Гипотеза 1.Средние пользовательские рейтинги платформ Xbox One и PC одинаковые.\n",
    "Нулевая гипотеза - Средние пользовательские рейтинги платформы Xbox One  равны Средним пользовательским рейтингам платформы PC.\n",
    "Альтернативная гипотеза - Средние пользовательские рейтинги платформы Xbox One  не равны Средним пользовательским рейтингам платформы PC."
   ]
  },
  {
   "cell_type": "code",
   "execution_count": 34,
   "metadata": {},
   "outputs": [
    {
     "name": "stdout",
     "output_type": "stream",
     "text": [
      "6.521428571428572\n",
      "\n",
      "6.428640776699029\n",
      "\n",
      "P-value: 0.5535080500642724\n",
      "Не получилось отвергнуть нулевую гипотезу\n"
     ]
    }
   ],
   "source": [
    "# создадим 2 таблицы, одну для Xbox, вторую для PC\n",
    "xone_u_s = actual_games.query('platform == \"XOne\"')\n",
    "pc_u_s = actual_games.query('platform == \"PC\"')\n",
    "\n",
    "# посмотрим на средние пользовательские рейтинги\n",
    "print(xone_u_s['user_score'].mean())\n",
    "print()\n",
    "print(pc_u_s['user_score'].mean())\n",
    "print()\n",
    "# проверим гипотезу\n",
    "alpha = 0.05\n",
    "results = sp.stats.ttest_ind(\n",
    "    xone_u_s['user_score'], pc_u_s['user_score'], nan_policy='omit')\n",
    "print('P-value:', results.pvalue)\n",
    "if (results.pvalue < alpha):\n",
    "    print(\"Отвергаем нулевую гипотезу\")\n",
    "else:\n",
    "    print(\"Не получилось отвергнуть нулевую гипотезу\")"
   ]
  },
  {
   "cell_type": "markdown",
   "metadata": {},
   "source": [
    "Выборки независимы, поэтому используем метод ttest_ind. P-value = 0.55.\n",
    "Не получилось отвергнуть нулевую гипотезу о равенстве средних пользовательских рейтингов двух платформ."
   ]
  },
  {
   "cell_type": "markdown",
   "metadata": {},
   "source": [
    "Гипотеза 2.Средние пользовательские рейтинги жанров Action и Sports разные.\n",
    "Нулевая гипотеза - Средние пользовательские рейтинги жанров Action и Sports равны.\n",
    "Альтернативная гипотеза - редние пользовательские рейтинги жанров Action и Sports разные."
   ]
  },
  {
   "cell_type": "code",
   "execution_count": 35,
   "metadata": {},
   "outputs": [
    {
     "name": "stdout",
     "output_type": "stream",
     "text": [
      "6.825047801147227\n",
      "\n",
      "5.455897435897437\n",
      "\n",
      "P-value: 3.716308946093586e-26\n",
      "Отвергаем нулевую гипотезу\n"
     ]
    }
   ],
   "source": [
    "# создадим 2 таблицы, одну для Action, вторую для Sports\n",
    "action_u_s = actual_games.query('genre == \"Action\"')\n",
    "sports_u_s = actual_games.query('genre == \"Sports\"')\n",
    "# посмотрим на средние пользовательские рейтинги\n",
    "print(action_u_s['user_score'].mean())\n",
    "print()\n",
    "print(sports_u_s['user_score'].mean())\n",
    "print()\n",
    "# проверим гипотезу\n",
    "alpha = 0.05\n",
    "results = sp.stats.ttest_ind(\n",
    "    action_u_s['user_score'], sports_u_s['user_score'], nan_policy='omit')\n",
    "print('P-value:', results.pvalue)\n",
    "if results.pvalue < alpha:\n",
    "    print(\"Отвергаем нулевую гипотезу\")\n",
    "else:\n",
    "    print(\"Не получилось отвергнуть нулевую гипотезу\")"
   ]
  },
  {
   "cell_type": "markdown",
   "metadata": {},
   "source": [
    "Выборки независимы, поэтому используем метод ttest_ind. P-value очень мало. Нулевая гипотеза о равенстве средних пользовательских рейтингов двух жанров отвергнута."
   ]
  },
  {
   "cell_type": "markdown",
   "metadata": {},
   "source": [
    "## Вывод\n",
    "В ходе исследования были проверены две гипотезы. alpha = 0.05, то есть 5 %.\n",
    "- Гипотеза 1. Средние пользовательские рейтинги платформ Xbox One и PC одинаковые. Нулевая гипотеза - Средние пользовательские рейтинги платформы Xbox One равны Средним пользовательским рейтингам платформы PC. Нам не удалось ее отвергнуть.\n",
    "- Гипотеза 2.Средние пользовательские рейтинги жанров Action и Sports разные. Нулевая гипотеза - Средние пользовательские рейтинги жанров Action и Sports равны. Нулевая гипотеза отвергнута."
   ]
  },
  {
   "cell_type": "markdown",
   "metadata": {},
   "source": [
    "## Общий вывод\n",
    "На успешность игры влияют разные факторы: \n",
    "- оценки пользователей;\n",
    "- оценки критиков;\n",
    "- жанр;\n",
    "- платформа\n",
    "- рейтинг \n",
    "- регион.\n",
    "\n",
    "Учитывая современные реалии и опираясь на данный анализ я бы посоветовал обратить внимание на игры:\n",
    "- которые выходят на платформах: PS4 и XONE, их популярность растет и они еще не исчерпали себя;\n",
    "- далее исходя из регионов выбирал бы жанр. Если это NA и EU то лучше выбирать: action и shooter. Если JP то жанры: action и role-playing.\n",
    "- возрастной рейтинг также зависит от регионов. Если это NA и EU то лучше выбирать: для взрослых, для всех и от 10 лет. Если JP то : игры для всех, для подростков и для взрослых."
   ]
  }
 ],
 "metadata": {
  "ExecuteTimeLog": [
   {
    "duration": 1113,
    "start_time": "2021-10-08T05:07:17.538Z"
   },
   {
    "duration": 115,
    "start_time": "2021-10-08T05:09:14.913Z"
   },
   {
    "duration": 189,
    "start_time": "2021-10-08T07:29:10.955Z"
   },
   {
    "duration": 59,
    "start_time": "2021-10-08T07:29:20.883Z"
   },
   {
    "duration": 55,
    "start_time": "2021-10-08T07:30:48.400Z"
   },
   {
    "duration": 54,
    "start_time": "2021-10-08T07:33:16.721Z"
   },
   {
    "duration": 54,
    "start_time": "2021-10-08T07:33:34.583Z"
   },
   {
    "duration": 55,
    "start_time": "2021-10-08T07:34:51.791Z"
   },
   {
    "duration": 5823,
    "start_time": "2021-10-08T11:29:20.662Z"
   },
   {
    "duration": 13,
    "start_time": "2021-10-08T11:32:09.480Z"
   },
   {
    "duration": 80,
    "start_time": "2021-10-08T11:36:15.843Z"
   },
   {
    "duration": 139,
    "start_time": "2021-10-08T11:36:25.793Z"
   },
   {
    "duration": 12,
    "start_time": "2021-10-08T11:36:48.354Z"
   },
   {
    "duration": 56,
    "start_time": "2021-10-08T11:37:16.282Z"
   },
   {
    "duration": 58,
    "start_time": "2021-10-08T11:37:21.316Z"
   },
   {
    "duration": 13,
    "start_time": "2021-10-08T11:37:21.377Z"
   },
   {
    "duration": 235,
    "start_time": "2021-10-08T11:50:19.001Z"
   },
   {
    "duration": 18,
    "start_time": "2021-10-08T11:53:59.969Z"
   },
   {
    "duration": 36,
    "start_time": "2021-10-08T11:54:24.462Z"
   },
   {
    "duration": 25,
    "start_time": "2021-10-08T11:54:43.641Z"
   },
   {
    "duration": 16,
    "start_time": "2021-10-08T11:55:40.230Z"
   },
   {
    "duration": 86,
    "start_time": "2021-10-08T11:57:36.434Z"
   },
   {
    "duration": 6472,
    "start_time": "2021-10-08T11:57:45.370Z"
   },
   {
    "duration": 5475,
    "start_time": "2021-10-08T11:58:23.276Z"
   },
   {
    "duration": 20,
    "start_time": "2021-10-08T12:00:19.748Z"
   },
   {
    "duration": 261,
    "start_time": "2021-10-08T12:17:23.578Z"
   },
   {
    "duration": 59,
    "start_time": "2021-10-08T12:17:39.596Z"
   },
   {
    "duration": 35,
    "start_time": "2021-10-08T12:17:39.657Z"
   },
   {
    "duration": 240,
    "start_time": "2021-10-08T12:17:50.450Z"
   },
   {
    "duration": 56,
    "start_time": "2021-10-08T12:18:04.254Z"
   },
   {
    "duration": 30,
    "start_time": "2021-10-08T12:18:04.312Z"
   },
   {
    "duration": 4,
    "start_time": "2021-10-11T08:38:37.833Z"
   },
   {
    "duration": 322,
    "start_time": "2021-10-11T08:38:39.077Z"
   },
   {
    "duration": 1550,
    "start_time": "2021-10-11T08:38:43.369Z"
   },
   {
    "duration": 62,
    "start_time": "2021-10-11T08:38:44.921Z"
   },
   {
    "duration": 5,
    "start_time": "2021-10-11T08:38:45.003Z"
   },
   {
    "duration": 19,
    "start_time": "2021-10-11T08:38:45.011Z"
   },
   {
    "duration": 22,
    "start_time": "2021-10-11T08:39:00.757Z"
   },
   {
    "duration": 12,
    "start_time": "2021-10-11T09:51:08.017Z"
   },
   {
    "duration": 10,
    "start_time": "2021-10-11T10:03:46.782Z"
   },
   {
    "duration": 9,
    "start_time": "2021-10-11T10:04:10.627Z"
   },
   {
    "duration": 366,
    "start_time": "2021-10-11T10:06:16.899Z"
   },
   {
    "duration": 602,
    "start_time": "2021-10-11T10:06:32.355Z"
   },
   {
    "duration": 445,
    "start_time": "2021-10-11T10:07:33.594Z"
   },
   {
    "duration": 5,
    "start_time": "2021-10-11T10:11:13.210Z"
   },
   {
    "duration": 11,
    "start_time": "2021-10-11T11:26:42.541Z"
   },
   {
    "duration": 9,
    "start_time": "2021-10-11T11:29:46.219Z"
   },
   {
    "duration": 113,
    "start_time": "2021-10-12T13:33:25.067Z"
   },
   {
    "duration": 103,
    "start_time": "2021-10-12T13:34:23.883Z"
   },
   {
    "duration": 129,
    "start_time": "2021-10-12T13:34:49.020Z"
   },
   {
    "duration": 181,
    "start_time": "2021-10-12T13:35:03.408Z"
   },
   {
    "duration": 337,
    "start_time": "2021-10-12T13:36:59.253Z"
   },
   {
    "duration": 1141,
    "start_time": "2021-10-12T13:37:45.658Z"
   },
   {
    "duration": 31,
    "start_time": "2021-10-12T13:37:46.801Z"
   },
   {
    "duration": 19,
    "start_time": "2021-10-12T13:37:46.834Z"
   },
   {
    "duration": 269,
    "start_time": "2021-10-12T13:37:46.855Z"
   },
   {
    "duration": 7,
    "start_time": "2021-10-12T13:37:47.126Z"
   },
   {
    "duration": 18,
    "start_time": "2021-10-12T13:37:47.135Z"
   },
   {
    "duration": 22,
    "start_time": "2021-10-12T13:40:46.592Z"
   },
   {
    "duration": 21,
    "start_time": "2021-10-12T13:47:31.115Z"
   },
   {
    "duration": 25,
    "start_time": "2021-10-12T13:51:01.750Z"
   },
   {
    "duration": 1120,
    "start_time": "2021-10-12T14:11:45.409Z"
   },
   {
    "duration": 1384,
    "start_time": "2021-10-12T14:19:07.573Z"
   },
   {
    "duration": 1211,
    "start_time": "2021-10-12T14:19:23.615Z"
   },
   {
    "duration": 1362,
    "start_time": "2021-10-12T14:20:54.241Z"
   },
   {
    "duration": 1273,
    "start_time": "2021-10-12T14:22:00.551Z"
   },
   {
    "duration": 1260,
    "start_time": "2021-10-12T14:22:13.956Z"
   },
   {
    "duration": 1095,
    "start_time": "2021-10-12T14:22:45.013Z"
   },
   {
    "duration": 1195,
    "start_time": "2021-10-12T14:23:22.685Z"
   },
   {
    "duration": 1115,
    "start_time": "2021-10-12T14:23:44.421Z"
   },
   {
    "duration": 17,
    "start_time": "2021-10-12T14:42:58.900Z"
   },
   {
    "duration": 6,
    "start_time": "2021-10-12T14:48:46.855Z"
   },
   {
    "duration": 397,
    "start_time": "2021-10-12T14:54:08.376Z"
   },
   {
    "duration": 940,
    "start_time": "2021-10-12T14:59:46.065Z"
   },
   {
    "duration": 1235,
    "start_time": "2021-10-12T15:04:10.632Z"
   },
   {
    "duration": 1137,
    "start_time": "2021-10-12T15:06:52.969Z"
   },
   {
    "duration": 329,
    "start_time": "2021-10-12T15:09:06.336Z"
   },
   {
    "duration": 318,
    "start_time": "2021-10-12T15:09:59.505Z"
   },
   {
    "duration": 135,
    "start_time": "2021-10-12T15:10:08.586Z"
   },
   {
    "duration": 29,
    "start_time": "2021-10-12T15:10:08.723Z"
   },
   {
    "duration": 27,
    "start_time": "2021-10-12T15:10:08.754Z"
   },
   {
    "duration": 255,
    "start_time": "2021-10-12T15:10:08.782Z"
   },
   {
    "duration": 7,
    "start_time": "2021-10-12T15:10:09.039Z"
   },
   {
    "duration": 37,
    "start_time": "2021-10-12T15:10:09.048Z"
   },
   {
    "duration": 1177,
    "start_time": "2021-10-12T15:10:09.087Z"
   },
   {
    "duration": 22,
    "start_time": "2021-10-12T15:10:10.267Z"
   },
   {
    "duration": 7,
    "start_time": "2021-10-12T15:10:10.291Z"
   },
   {
    "duration": 936,
    "start_time": "2021-10-12T15:10:10.299Z"
   },
   {
    "duration": 376,
    "start_time": "2021-10-12T15:10:11.236Z"
   },
   {
    "duration": 324,
    "start_time": "2021-10-12T15:12:50.256Z"
   },
   {
    "duration": 314,
    "start_time": "2021-10-12T15:13:32.944Z"
   },
   {
    "duration": 325,
    "start_time": "2021-10-12T15:15:01.897Z"
   },
   {
    "duration": 58,
    "start_time": "2021-10-12T15:16:04.771Z"
   },
   {
    "duration": 30,
    "start_time": "2021-10-12T15:16:04.830Z"
   },
   {
    "duration": 28,
    "start_time": "2021-10-12T15:16:04.861Z"
   },
   {
    "duration": 261,
    "start_time": "2021-10-12T15:16:04.891Z"
   },
   {
    "duration": 7,
    "start_time": "2021-10-12T15:16:05.154Z"
   },
   {
    "duration": 33,
    "start_time": "2021-10-12T15:16:05.162Z"
   },
   {
    "duration": 1105,
    "start_time": "2021-10-12T15:16:05.196Z"
   },
   {
    "duration": 15,
    "start_time": "2021-10-12T15:16:06.303Z"
   },
   {
    "duration": 7,
    "start_time": "2021-10-12T15:16:06.320Z"
   },
   {
    "duration": 338,
    "start_time": "2021-10-12T15:16:06.329Z"
   },
   {
    "duration": 328,
    "start_time": "2021-10-12T15:18:52.243Z"
   },
   {
    "duration": 124,
    "start_time": "2021-10-12T15:20:03.690Z"
   },
   {
    "duration": 323,
    "start_time": "2021-10-12T15:21:33.635Z"
   },
   {
    "duration": 319,
    "start_time": "2021-10-12T15:21:47.420Z"
   },
   {
    "duration": 326,
    "start_time": "2021-10-12T15:22:28.049Z"
   },
   {
    "duration": 369,
    "start_time": "2021-10-12T15:24:39.533Z"
   },
   {
    "duration": 48,
    "start_time": "2021-10-13T09:35:05.883Z"
   },
   {
    "duration": 1163,
    "start_time": "2021-10-13T09:35:15.301Z"
   },
   {
    "duration": 28,
    "start_time": "2021-10-13T09:35:16.465Z"
   },
   {
    "duration": 17,
    "start_time": "2021-10-13T09:35:16.495Z"
   },
   {
    "duration": 262,
    "start_time": "2021-10-13T09:35:16.513Z"
   },
   {
    "duration": 8,
    "start_time": "2021-10-13T09:35:16.777Z"
   },
   {
    "duration": 29,
    "start_time": "2021-10-13T09:35:16.787Z"
   },
   {
    "duration": 1127,
    "start_time": "2021-10-13T09:35:16.818Z"
   },
   {
    "duration": 15,
    "start_time": "2021-10-13T09:35:17.947Z"
   },
   {
    "duration": 5,
    "start_time": "2021-10-13T09:35:17.964Z"
   },
   {
    "duration": 66,
    "start_time": "2021-10-13T09:35:17.970Z"
   },
   {
    "duration": 236,
    "start_time": "2021-10-13T09:35:36.008Z"
   },
   {
    "duration": 14,
    "start_time": "2021-10-13T09:44:25.430Z"
   },
   {
    "duration": 26,
    "start_time": "2021-10-13T09:44:59.629Z"
   },
   {
    "duration": 24,
    "start_time": "2021-10-13T09:53:37.557Z"
   },
   {
    "duration": 238,
    "start_time": "2021-10-13T09:54:22.668Z"
   },
   {
    "duration": 163,
    "start_time": "2021-10-13T10:04:01.327Z"
   },
   {
    "duration": 364,
    "start_time": "2021-10-13T10:04:12.472Z"
   },
   {
    "duration": 424,
    "start_time": "2021-10-13T10:05:39.943Z"
   },
   {
    "duration": 367,
    "start_time": "2021-10-13T10:08:34.628Z"
   },
   {
    "duration": 405,
    "start_time": "2021-10-13T10:45:53.444Z"
   },
   {
    "duration": 387,
    "start_time": "2021-10-13T10:48:02.739Z"
   },
   {
    "duration": 73,
    "start_time": "2021-10-13T10:56:06.120Z"
   },
   {
    "duration": 431,
    "start_time": "2021-10-13T10:57:30.054Z"
   },
   {
    "duration": 420,
    "start_time": "2021-10-13T10:58:09.879Z"
   },
   {
    "duration": 409,
    "start_time": "2021-10-13T10:59:30.087Z"
   },
   {
    "duration": 398,
    "start_time": "2021-10-14T07:03:08.906Z"
   },
   {
    "duration": 1488,
    "start_time": "2021-10-14T07:03:15.243Z"
   },
   {
    "duration": 51,
    "start_time": "2021-10-14T07:03:16.734Z"
   },
   {
    "duration": 22,
    "start_time": "2021-10-14T07:03:16.788Z"
   },
   {
    "duration": 415,
    "start_time": "2021-10-14T07:03:16.813Z"
   },
   {
    "duration": 10,
    "start_time": "2021-10-14T07:03:17.231Z"
   },
   {
    "duration": 54,
    "start_time": "2021-10-14T07:03:17.244Z"
   },
   {
    "duration": 1905,
    "start_time": "2021-10-14T07:03:17.301Z"
   },
   {
    "duration": 24,
    "start_time": "2021-10-14T07:03:19.209Z"
   },
   {
    "duration": 8,
    "start_time": "2021-10-14T07:03:19.236Z"
   },
   {
    "duration": 627,
    "start_time": "2021-10-14T07:03:19.246Z"
   },
   {
    "duration": 724,
    "start_time": "2021-10-14T07:03:19.883Z"
   },
   {
    "duration": 377,
    "start_time": "2021-10-14T07:03:20.609Z"
   },
   {
    "duration": 14,
    "start_time": "2021-10-14T07:03:37.517Z"
   },
   {
    "duration": 14,
    "start_time": "2021-10-14T07:06:38.975Z"
   },
   {
    "duration": 3,
    "start_time": "2021-10-14T07:11:37.922Z"
   },
   {
    "duration": 1134,
    "start_time": "2021-10-14T07:20:43.440Z"
   },
   {
    "duration": 1202,
    "start_time": "2021-10-14T07:21:31.286Z"
   },
   {
    "duration": 16,
    "start_time": "2021-10-14T07:22:46.238Z"
   },
   {
    "duration": 17,
    "start_time": "2021-10-14T07:25:48.376Z"
   },
   {
    "duration": 1151,
    "start_time": "2021-10-14T07:28:22.625Z"
   },
   {
    "duration": 15,
    "start_time": "2021-10-14T07:31:17.731Z"
   },
   {
    "duration": 15,
    "start_time": "2021-10-14T07:31:43.242Z"
   },
   {
    "duration": 14,
    "start_time": "2021-10-14T07:33:46.612Z"
   },
   {
    "duration": 75,
    "start_time": "2021-10-14T07:33:52.584Z"
   },
   {
    "duration": 59,
    "start_time": "2021-10-14T07:33:52.662Z"
   },
   {
    "duration": 23,
    "start_time": "2021-10-14T07:33:52.724Z"
   },
   {
    "duration": 436,
    "start_time": "2021-10-14T07:33:52.750Z"
   },
   {
    "duration": 10,
    "start_time": "2021-10-14T07:33:53.188Z"
   },
   {
    "duration": 36,
    "start_time": "2021-10-14T07:33:53.200Z"
   },
   {
    "duration": 1729,
    "start_time": "2021-10-14T07:33:53.239Z"
   },
   {
    "duration": 31,
    "start_time": "2021-10-14T07:33:54.971Z"
   },
   {
    "duration": 9,
    "start_time": "2021-10-14T07:33:55.005Z"
   },
   {
    "duration": 701,
    "start_time": "2021-10-14T07:33:55.016Z"
   },
   {
    "duration": 615,
    "start_time": "2021-10-14T07:33:55.720Z"
   },
   {
    "duration": 15,
    "start_time": "2021-10-14T07:33:56.337Z"
   },
   {
    "duration": 1210,
    "start_time": "2021-10-14T07:33:56.355Z"
   },
   {
    "duration": 22,
    "start_time": "2021-10-14T07:33:57.568Z"
   },
   {
    "duration": 1158,
    "start_time": "2021-10-14T07:33:57.593Z"
   },
   {
    "duration": 31,
    "start_time": "2021-10-14T07:33:58.754Z"
   },
   {
    "duration": 16,
    "start_time": "2021-10-14T07:34:43.467Z"
   },
   {
    "duration": 1219,
    "start_time": "2021-10-14T07:35:34.755Z"
   },
   {
    "duration": 332,
    "start_time": "2021-10-14T19:09:17.708Z"
   },
   {
    "duration": 1563,
    "start_time": "2021-10-14T19:09:26.262Z"
   },
   {
    "duration": 64,
    "start_time": "2021-10-14T19:09:27.828Z"
   },
   {
    "duration": 27,
    "start_time": "2021-10-14T19:09:27.895Z"
   },
   {
    "duration": 446,
    "start_time": "2021-10-14T19:09:27.925Z"
   },
   {
    "duration": 11,
    "start_time": "2021-10-14T19:09:28.373Z"
   },
   {
    "duration": 36,
    "start_time": "2021-10-14T19:09:28.386Z"
   },
   {
    "duration": 1873,
    "start_time": "2021-10-14T19:09:28.424Z"
   },
   {
    "duration": 34,
    "start_time": "2021-10-14T19:09:30.300Z"
   },
   {
    "duration": 12,
    "start_time": "2021-10-14T19:09:30.338Z"
   },
   {
    "duration": 634,
    "start_time": "2021-10-14T19:09:30.380Z"
   },
   {
    "duration": 744,
    "start_time": "2021-10-14T19:09:31.018Z"
   },
   {
    "duration": 16,
    "start_time": "2021-10-14T19:09:31.765Z"
   },
   {
    "duration": 1312,
    "start_time": "2021-10-14T19:09:31.784Z"
   },
   {
    "duration": 14,
    "start_time": "2021-10-14T19:09:33.098Z"
   },
   {
    "duration": 1278,
    "start_time": "2021-10-14T19:09:33.114Z"
   },
   {
    "duration": 15,
    "start_time": "2021-10-14T19:09:34.394Z"
   },
   {
    "duration": 1490,
    "start_time": "2021-10-14T19:09:34.412Z"
   },
   {
    "duration": 344,
    "start_time": "2021-10-14T19:09:35.905Z"
   },
   {
    "duration": 32,
    "start_time": "2021-10-14T19:09:58.050Z"
   },
   {
    "duration": 104,
    "start_time": "2021-10-14T19:12:01.689Z"
   },
   {
    "duration": 34,
    "start_time": "2021-10-14T19:12:14.712Z"
   },
   {
    "duration": 24,
    "start_time": "2021-10-14T19:29:41.184Z"
   },
   {
    "duration": 15,
    "start_time": "2021-10-14T19:36:32.682Z"
   },
   {
    "duration": 14,
    "start_time": "2021-10-14T19:37:47.686Z"
   },
   {
    "duration": 275,
    "start_time": "2021-10-14T19:42:26.571Z"
   },
   {
    "duration": 23,
    "start_time": "2021-10-14T19:43:29.005Z"
   },
   {
    "duration": 16,
    "start_time": "2021-10-14T19:45:15.745Z"
   },
   {
    "duration": 16,
    "start_time": "2021-10-14T19:48:08.455Z"
   },
   {
    "duration": 15,
    "start_time": "2021-10-14T19:49:16.044Z"
   },
   {
    "duration": 15,
    "start_time": "2021-10-14T19:51:26.848Z"
   },
   {
    "duration": 15,
    "start_time": "2021-10-14T19:52:38.135Z"
   },
   {
    "duration": 303,
    "start_time": "2021-10-15T09:49:52.089Z"
   },
   {
    "duration": 1824,
    "start_time": "2021-10-15T09:49:58.831Z"
   },
   {
    "duration": 30,
    "start_time": "2021-10-15T09:50:00.657Z"
   },
   {
    "duration": 15,
    "start_time": "2021-10-15T09:50:00.689Z"
   },
   {
    "duration": 292,
    "start_time": "2021-10-15T09:50:00.706Z"
   },
   {
    "duration": 8,
    "start_time": "2021-10-15T09:50:01.000Z"
   },
   {
    "duration": 50,
    "start_time": "2021-10-15T09:50:01.010Z"
   },
   {
    "duration": 1135,
    "start_time": "2021-10-15T09:50:01.062Z"
   },
   {
    "duration": 20,
    "start_time": "2021-10-15T09:50:02.199Z"
   },
   {
    "duration": 32,
    "start_time": "2021-10-15T09:50:02.221Z"
   },
   {
    "duration": 412,
    "start_time": "2021-10-15T09:50:02.255Z"
   },
   {
    "duration": 509,
    "start_time": "2021-10-15T09:50:02.669Z"
   },
   {
    "duration": 10,
    "start_time": "2021-10-15T09:50:03.180Z"
   },
   {
    "duration": 829,
    "start_time": "2021-10-15T09:50:03.191Z"
   },
   {
    "duration": 9,
    "start_time": "2021-10-15T09:50:04.022Z"
   },
   {
    "duration": 867,
    "start_time": "2021-10-15T09:50:04.044Z"
   },
   {
    "duration": 10,
    "start_time": "2021-10-15T09:50:04.913Z"
   },
   {
    "duration": 868,
    "start_time": "2021-10-15T09:50:04.925Z"
   },
   {
    "duration": 22,
    "start_time": "2021-10-15T09:50:05.795Z"
   },
   {
    "duration": 31,
    "start_time": "2021-10-15T09:50:05.818Z"
   },
   {
    "duration": 25,
    "start_time": "2021-10-15T09:50:05.851Z"
   },
   {
    "duration": 19,
    "start_time": "2021-10-15T09:50:05.878Z"
   },
   {
    "duration": 13,
    "start_time": "2021-10-15T09:50:05.899Z"
   },
   {
    "duration": 11,
    "start_time": "2021-10-15T09:50:05.915Z"
   },
   {
    "duration": 30,
    "start_time": "2021-10-15T09:50:05.928Z"
   },
   {
    "duration": 22,
    "start_time": "2021-10-15T09:50:05.961Z"
   },
   {
    "duration": 15,
    "start_time": "2021-10-15T09:50:05.985Z"
   },
   {
    "duration": 21,
    "start_time": "2021-10-15T09:50:06.002Z"
   },
   {
    "duration": 14,
    "start_time": "2021-10-15T09:51:45.494Z"
   },
   {
    "duration": 9,
    "start_time": "2021-10-15T09:56:10.197Z"
   },
   {
    "duration": 10,
    "start_time": "2021-10-15T09:56:55.377Z"
   },
   {
    "duration": 9,
    "start_time": "2021-10-15T09:58:46.931Z"
   },
   {
    "duration": 10,
    "start_time": "2021-10-15T10:00:06.075Z"
   },
   {
    "duration": 5929,
    "start_time": "2021-10-15T11:44:27.706Z"
   },
   {
    "duration": 57,
    "start_time": "2021-10-15T11:45:29.225Z"
   },
   {
    "duration": 29,
    "start_time": "2021-10-15T11:45:29.284Z"
   },
   {
    "duration": 36,
    "start_time": "2021-10-15T11:45:29.315Z"
   },
   {
    "duration": 268,
    "start_time": "2021-10-15T11:45:29.353Z"
   },
   {
    "duration": 7,
    "start_time": "2021-10-15T11:45:29.623Z"
   },
   {
    "duration": 39,
    "start_time": "2021-10-15T11:45:29.632Z"
   },
   {
    "duration": 1142,
    "start_time": "2021-10-15T11:45:29.673Z"
   },
   {
    "duration": 15,
    "start_time": "2021-10-15T11:45:30.818Z"
   },
   {
    "duration": 15,
    "start_time": "2021-10-15T11:45:30.835Z"
   },
   {
    "duration": 454,
    "start_time": "2021-10-15T11:45:30.852Z"
   },
   {
    "duration": 436,
    "start_time": "2021-10-15T11:45:31.308Z"
   },
   {
    "duration": 11,
    "start_time": "2021-10-15T11:45:31.746Z"
   },
   {
    "duration": 823,
    "start_time": "2021-10-15T11:45:31.758Z"
   },
   {
    "duration": 10,
    "start_time": "2021-10-15T11:45:32.583Z"
   },
   {
    "duration": 772,
    "start_time": "2021-10-15T11:45:32.594Z"
   },
   {
    "duration": 9,
    "start_time": "2021-10-15T11:45:33.368Z"
   },
   {
    "duration": 815,
    "start_time": "2021-10-15T11:45:33.379Z"
   },
   {
    "duration": 22,
    "start_time": "2021-10-15T11:45:34.196Z"
   },
   {
    "duration": 35,
    "start_time": "2021-10-15T11:45:34.219Z"
   },
   {
    "duration": 17,
    "start_time": "2021-10-15T11:45:34.256Z"
   },
   {
    "duration": 9,
    "start_time": "2021-10-15T11:45:34.275Z"
   },
   {
    "duration": 16,
    "start_time": "2021-10-15T11:45:34.286Z"
   },
   {
    "duration": 13,
    "start_time": "2021-10-15T11:45:34.305Z"
   },
   {
    "duration": 31,
    "start_time": "2021-10-15T11:45:34.320Z"
   },
   {
    "duration": 25,
    "start_time": "2021-10-15T11:45:34.353Z"
   },
   {
    "duration": 24,
    "start_time": "2021-10-15T11:45:34.380Z"
   },
   {
    "duration": 17,
    "start_time": "2021-10-15T11:45:34.406Z"
   },
   {
    "duration": 12,
    "start_time": "2021-10-15T11:45:34.425Z"
   },
   {
    "duration": 19,
    "start_time": "2021-10-15T11:45:34.445Z"
   },
   {
    "duration": 13,
    "start_time": "2021-10-15T11:45:34.466Z"
   },
   {
    "duration": 5135,
    "start_time": "2021-10-15T11:45:34.481Z"
   },
   {
    "duration": 12,
    "start_time": "2021-10-15T11:49:23.920Z"
   },
   {
    "duration": 11,
    "start_time": "2021-10-15T11:50:29.614Z"
   },
   {
    "duration": 10,
    "start_time": "2021-10-15T11:52:00.975Z"
   },
   {
    "duration": 304,
    "start_time": "2021-10-15T11:54:06.471Z"
   },
   {
    "duration": 274,
    "start_time": "2021-10-15T12:14:16.143Z"
   },
   {
    "duration": 291,
    "start_time": "2021-10-15T12:15:19.311Z"
   },
   {
    "duration": 10,
    "start_time": "2021-10-15T12:22:20.236Z"
   },
   {
    "duration": 11,
    "start_time": "2021-10-15T12:29:56.233Z"
   },
   {
    "duration": 11,
    "start_time": "2021-10-15T12:35:18.733Z"
   },
   {
    "duration": 290,
    "start_time": "2021-10-15T12:41:38.377Z"
   },
   {
    "duration": 277,
    "start_time": "2021-10-15T12:42:01.475Z"
   },
   {
    "duration": 268,
    "start_time": "2021-10-15T12:42:58.587Z"
   },
   {
    "duration": 338,
    "start_time": "2021-10-15T15:43:19.122Z"
   },
   {
    "duration": 1633,
    "start_time": "2021-10-15T15:43:24.523Z"
   },
   {
    "duration": 46,
    "start_time": "2021-10-15T15:43:26.159Z"
   },
   {
    "duration": 26,
    "start_time": "2021-10-15T15:43:26.209Z"
   },
   {
    "duration": 437,
    "start_time": "2021-10-15T15:43:26.266Z"
   },
   {
    "duration": 10,
    "start_time": "2021-10-15T15:43:26.705Z"
   },
   {
    "duration": 63,
    "start_time": "2021-10-15T15:43:26.718Z"
   },
   {
    "duration": 1910,
    "start_time": "2021-10-15T15:43:26.783Z"
   },
   {
    "duration": 24,
    "start_time": "2021-10-15T15:43:28.698Z"
   },
   {
    "duration": 10,
    "start_time": "2021-10-15T15:43:28.725Z"
   },
   {
    "duration": 644,
    "start_time": "2021-10-15T15:43:28.767Z"
   },
   {
    "duration": 731,
    "start_time": "2021-10-15T15:43:29.414Z"
   },
   {
    "duration": 25,
    "start_time": "2021-10-15T15:43:30.147Z"
   },
   {
    "duration": 1436,
    "start_time": "2021-10-15T15:43:30.175Z"
   },
   {
    "duration": 15,
    "start_time": "2021-10-15T15:43:31.613Z"
   },
   {
    "duration": 1381,
    "start_time": "2021-10-15T15:43:31.630Z"
   },
   {
    "duration": 14,
    "start_time": "2021-10-15T15:43:33.014Z"
   },
   {
    "duration": 1291,
    "start_time": "2021-10-15T15:43:33.031Z"
   },
   {
    "duration": 47,
    "start_time": "2021-10-15T15:43:34.325Z"
   },
   {
    "duration": 33,
    "start_time": "2021-10-15T15:43:34.374Z"
   },
   {
    "duration": 22,
    "start_time": "2021-10-15T15:43:34.409Z"
   },
   {
    "duration": 35,
    "start_time": "2021-10-15T15:43:34.434Z"
   },
   {
    "duration": 20,
    "start_time": "2021-10-15T15:43:34.471Z"
   },
   {
    "duration": 15,
    "start_time": "2021-10-15T15:43:34.496Z"
   },
   {
    "duration": 15,
    "start_time": "2021-10-15T15:43:34.513Z"
   },
   {
    "duration": 49,
    "start_time": "2021-10-15T15:43:34.530Z"
   },
   {
    "duration": 15,
    "start_time": "2021-10-15T15:43:34.581Z"
   },
   {
    "duration": 23,
    "start_time": "2021-10-15T15:43:34.599Z"
   },
   {
    "duration": 46,
    "start_time": "2021-10-15T15:43:34.625Z"
   },
   {
    "duration": 14,
    "start_time": "2021-10-15T15:43:34.673Z"
   },
   {
    "duration": 17,
    "start_time": "2021-10-15T15:43:34.689Z"
   },
   {
    "duration": 16,
    "start_time": "2021-10-15T15:43:34.709Z"
   },
   {
    "duration": 406,
    "start_time": "2021-10-15T15:43:34.727Z"
   },
   {
    "duration": 1306,
    "start_time": "2021-10-15T15:45:30.320Z"
   },
   {
    "duration": 464,
    "start_time": "2021-10-15T15:46:17.582Z"
   },
   {
    "duration": 303,
    "start_time": "2021-10-15T17:31:24.040Z"
   },
   {
    "duration": 78,
    "start_time": "2021-10-15T17:31:35.815Z"
   },
   {
    "duration": 42,
    "start_time": "2021-10-15T17:31:35.895Z"
   },
   {
    "duration": 23,
    "start_time": "2021-10-15T17:31:35.969Z"
   },
   {
    "duration": 457,
    "start_time": "2021-10-15T17:31:35.995Z"
   },
   {
    "duration": 19,
    "start_time": "2021-10-15T17:31:36.454Z"
   },
   {
    "duration": 39,
    "start_time": "2021-10-15T17:31:36.476Z"
   },
   {
    "duration": 1985,
    "start_time": "2021-10-15T17:31:36.518Z"
   },
   {
    "duration": 26,
    "start_time": "2021-10-15T17:31:38.505Z"
   },
   {
    "duration": 33,
    "start_time": "2021-10-15T17:31:38.535Z"
   },
   {
    "duration": 736,
    "start_time": "2021-10-15T17:31:38.571Z"
   },
   {
    "duration": 649,
    "start_time": "2021-10-15T17:31:39.310Z"
   },
   {
    "duration": 15,
    "start_time": "2021-10-15T17:31:39.966Z"
   },
   {
    "duration": 1233,
    "start_time": "2021-10-15T17:31:39.984Z"
   },
   {
    "duration": 15,
    "start_time": "2021-10-15T17:31:41.220Z"
   },
   {
    "duration": 1264,
    "start_time": "2021-10-15T17:31:41.237Z"
   },
   {
    "duration": 16,
    "start_time": "2021-10-15T17:31:42.503Z"
   },
   {
    "duration": 1260,
    "start_time": "2021-10-15T17:31:42.521Z"
   },
   {
    "duration": 34,
    "start_time": "2021-10-15T17:31:43.783Z"
   },
   {
    "duration": 50,
    "start_time": "2021-10-15T17:31:43.819Z"
   },
   {
    "duration": 23,
    "start_time": "2021-10-15T17:31:43.872Z"
   },
   {
    "duration": 15,
    "start_time": "2021-10-15T17:31:43.897Z"
   },
   {
    "duration": 18,
    "start_time": "2021-10-15T17:31:43.915Z"
   },
   {
    "duration": 14,
    "start_time": "2021-10-15T17:31:43.967Z"
   },
   {
    "duration": 16,
    "start_time": "2021-10-15T17:31:43.984Z"
   },
   {
    "duration": 14,
    "start_time": "2021-10-15T17:31:44.003Z"
   },
   {
    "duration": 50,
    "start_time": "2021-10-15T17:31:44.019Z"
   },
   {
    "duration": 23,
    "start_time": "2021-10-15T17:31:44.074Z"
   },
   {
    "duration": 15,
    "start_time": "2021-10-15T17:31:44.099Z"
   },
   {
    "duration": 14,
    "start_time": "2021-10-15T17:31:44.116Z"
   },
   {
    "duration": 48,
    "start_time": "2021-10-15T17:31:44.132Z"
   },
   {
    "duration": 14,
    "start_time": "2021-10-15T17:31:44.183Z"
   },
   {
    "duration": 273,
    "start_time": "2021-10-15T17:31:44.200Z"
   },
   {
    "duration": 277,
    "start_time": "2021-10-15T18:16:11.895Z"
   },
   {
    "duration": 19,
    "start_time": "2021-10-15T18:16:28.436Z"
   },
   {
    "duration": 302,
    "start_time": "2021-10-15T18:22:10.490Z"
   },
   {
    "duration": 1116,
    "start_time": "2021-10-16T06:21:22.673Z"
   },
   {
    "duration": 27,
    "start_time": "2021-10-16T06:21:23.791Z"
   },
   {
    "duration": 15,
    "start_time": "2021-10-16T06:21:23.820Z"
   },
   {
    "duration": 276,
    "start_time": "2021-10-16T06:21:23.836Z"
   },
   {
    "duration": 7,
    "start_time": "2021-10-16T06:21:24.114Z"
   },
   {
    "duration": 21,
    "start_time": "2021-10-16T06:21:24.123Z"
   },
   {
    "duration": 1109,
    "start_time": "2021-10-16T06:21:24.146Z"
   },
   {
    "duration": 15,
    "start_time": "2021-10-16T06:21:25.257Z"
   },
   {
    "duration": 20,
    "start_time": "2021-10-16T06:21:25.274Z"
   },
   {
    "duration": 371,
    "start_time": "2021-10-16T06:21:25.295Z"
   },
   {
    "duration": 526,
    "start_time": "2021-10-16T06:21:25.668Z"
   },
   {
    "duration": 11,
    "start_time": "2021-10-16T06:21:26.195Z"
   },
   {
    "duration": 808,
    "start_time": "2021-10-16T06:21:26.208Z"
   },
   {
    "duration": 11,
    "start_time": "2021-10-16T06:21:27.018Z"
   },
   {
    "duration": 860,
    "start_time": "2021-10-16T06:21:27.031Z"
   },
   {
    "duration": 9,
    "start_time": "2021-10-16T06:21:27.893Z"
   },
   {
    "duration": 767,
    "start_time": "2021-10-16T06:21:27.904Z"
   },
   {
    "duration": 28,
    "start_time": "2021-10-16T06:21:28.672Z"
   },
   {
    "duration": 15,
    "start_time": "2021-10-16T06:21:28.701Z"
   },
   {
    "duration": 13,
    "start_time": "2021-10-16T06:21:28.717Z"
   },
   {
    "duration": 8,
    "start_time": "2021-10-16T06:21:28.732Z"
   },
   {
    "duration": 12,
    "start_time": "2021-10-16T06:21:28.741Z"
   },
   {
    "duration": 9,
    "start_time": "2021-10-16T06:21:28.755Z"
   },
   {
    "duration": 8,
    "start_time": "2021-10-16T06:21:28.792Z"
   },
   {
    "duration": 9,
    "start_time": "2021-10-16T06:21:28.801Z"
   },
   {
    "duration": 10,
    "start_time": "2021-10-16T06:21:28.812Z"
   },
   {
    "duration": 13,
    "start_time": "2021-10-16T06:21:28.824Z"
   },
   {
    "duration": 8,
    "start_time": "2021-10-16T06:21:28.838Z"
   },
   {
    "duration": 8,
    "start_time": "2021-10-16T06:21:28.848Z"
   },
   {
    "duration": 41,
    "start_time": "2021-10-16T06:21:28.858Z"
   },
   {
    "duration": 11,
    "start_time": "2021-10-16T06:21:28.900Z"
   },
   {
    "duration": 261,
    "start_time": "2021-10-16T06:21:28.912Z"
   },
   {
    "duration": 55,
    "start_time": "2021-10-16T06:21:37.871Z"
   },
   {
    "duration": 27,
    "start_time": "2021-10-16T06:21:37.928Z"
   },
   {
    "duration": 36,
    "start_time": "2021-10-16T06:21:37.957Z"
   },
   {
    "duration": 249,
    "start_time": "2021-10-16T06:21:37.995Z"
   },
   {
    "duration": 6,
    "start_time": "2021-10-16T06:21:38.246Z"
   },
   {
    "duration": 21,
    "start_time": "2021-10-16T06:21:38.254Z"
   },
   {
    "duration": 1047,
    "start_time": "2021-10-16T06:21:38.291Z"
   },
   {
    "duration": 14,
    "start_time": "2021-10-16T06:21:39.341Z"
   },
   {
    "duration": 6,
    "start_time": "2021-10-16T06:21:39.356Z"
   },
   {
    "duration": 477,
    "start_time": "2021-10-16T06:21:39.363Z"
   },
   {
    "duration": 452,
    "start_time": "2021-10-16T06:21:39.842Z"
   },
   {
    "duration": 10,
    "start_time": "2021-10-16T06:21:40.295Z"
   },
   {
    "duration": 786,
    "start_time": "2021-10-16T06:21:40.306Z"
   },
   {
    "duration": 8,
    "start_time": "2021-10-16T06:21:41.094Z"
   },
   {
    "duration": 788,
    "start_time": "2021-10-16T06:21:41.104Z"
   },
   {
    "duration": 9,
    "start_time": "2021-10-16T06:21:41.894Z"
   },
   {
    "duration": 756,
    "start_time": "2021-10-16T06:21:41.905Z"
   },
   {
    "duration": 30,
    "start_time": "2021-10-16T06:21:42.662Z"
   },
   {
    "duration": 15,
    "start_time": "2021-10-16T06:21:42.694Z"
   },
   {
    "duration": 14,
    "start_time": "2021-10-16T06:21:42.711Z"
   },
   {
    "duration": 9,
    "start_time": "2021-10-16T06:21:42.727Z"
   },
   {
    "duration": 9,
    "start_time": "2021-10-16T06:21:42.738Z"
   },
   {
    "duration": 48,
    "start_time": "2021-10-16T06:21:42.750Z"
   },
   {
    "duration": 9,
    "start_time": "2021-10-16T06:21:42.800Z"
   },
   {
    "duration": 9,
    "start_time": "2021-10-16T06:21:42.811Z"
   },
   {
    "duration": 10,
    "start_time": "2021-10-16T06:21:42.822Z"
   },
   {
    "duration": 16,
    "start_time": "2021-10-16T06:21:42.833Z"
   },
   {
    "duration": 41,
    "start_time": "2021-10-16T06:21:42.850Z"
   },
   {
    "duration": 10,
    "start_time": "2021-10-16T06:21:42.893Z"
   },
   {
    "duration": 9,
    "start_time": "2021-10-16T06:21:42.905Z"
   },
   {
    "duration": 10,
    "start_time": "2021-10-16T06:21:42.916Z"
   },
   {
    "duration": 182,
    "start_time": "2021-10-16T06:21:42.927Z"
   },
   {
    "duration": 1174,
    "start_time": "2021-10-16T06:28:25.800Z"
   },
   {
    "duration": 29,
    "start_time": "2021-10-16T06:28:26.976Z"
   },
   {
    "duration": 16,
    "start_time": "2021-10-16T06:28:27.007Z"
   },
   {
    "duration": 282,
    "start_time": "2021-10-16T06:28:27.024Z"
   },
   {
    "duration": 7,
    "start_time": "2021-10-16T06:28:27.308Z"
   },
   {
    "duration": 24,
    "start_time": "2021-10-16T06:28:27.317Z"
   },
   {
    "duration": 1114,
    "start_time": "2021-10-16T06:28:27.342Z"
   },
   {
    "duration": 15,
    "start_time": "2021-10-16T06:28:28.458Z"
   },
   {
    "duration": 17,
    "start_time": "2021-10-16T06:28:28.474Z"
   },
   {
    "duration": 362,
    "start_time": "2021-10-16T06:28:28.493Z"
   },
   {
    "duration": 466,
    "start_time": "2021-10-16T06:28:28.857Z"
   },
   {
    "duration": 8,
    "start_time": "2021-10-16T06:28:29.325Z"
   },
   {
    "duration": 788,
    "start_time": "2021-10-16T06:28:29.335Z"
   },
   {
    "duration": 9,
    "start_time": "2021-10-16T06:28:30.125Z"
   },
   {
    "duration": 777,
    "start_time": "2021-10-16T06:28:30.135Z"
   },
   {
    "duration": 9,
    "start_time": "2021-10-16T06:28:30.913Z"
   },
   {
    "duration": 764,
    "start_time": "2021-10-16T06:28:30.924Z"
   },
   {
    "duration": 21,
    "start_time": "2021-10-16T06:28:31.690Z"
   },
   {
    "duration": 13,
    "start_time": "2021-10-16T06:28:31.712Z"
   },
   {
    "duration": 14,
    "start_time": "2021-10-16T06:28:31.727Z"
   },
   {
    "duration": 8,
    "start_time": "2021-10-16T06:28:31.743Z"
   },
   {
    "duration": 57,
    "start_time": "2021-10-16T06:28:31.753Z"
   },
   {
    "duration": 21,
    "start_time": "2021-10-16T06:28:31.822Z"
   },
   {
    "duration": 20,
    "start_time": "2021-10-16T06:28:31.845Z"
   },
   {
    "duration": 37,
    "start_time": "2021-10-16T06:28:31.870Z"
   },
   {
    "duration": 20,
    "start_time": "2021-10-16T06:28:31.913Z"
   },
   {
    "duration": 23,
    "start_time": "2021-10-16T06:28:31.935Z"
   },
   {
    "duration": 10,
    "start_time": "2021-10-16T06:28:31.960Z"
   },
   {
    "duration": 11,
    "start_time": "2021-10-16T06:28:31.972Z"
   },
   {
    "duration": 14,
    "start_time": "2021-10-16T06:28:31.985Z"
   },
   {
    "duration": 10,
    "start_time": "2021-10-16T06:28:32.001Z"
   },
   {
    "duration": 265,
    "start_time": "2021-10-16T06:28:32.013Z"
   },
   {
    "duration": 56,
    "start_time": "2021-10-16T06:29:45.524Z"
   },
   {
    "duration": 25,
    "start_time": "2021-10-16T06:29:45.582Z"
   },
   {
    "duration": 13,
    "start_time": "2021-10-16T06:29:45.609Z"
   },
   {
    "duration": 264,
    "start_time": "2021-10-16T06:29:45.624Z"
   },
   {
    "duration": 7,
    "start_time": "2021-10-16T06:29:45.891Z"
   },
   {
    "duration": 26,
    "start_time": "2021-10-16T06:29:45.900Z"
   },
   {
    "duration": 1112,
    "start_time": "2021-10-16T06:29:45.927Z"
   },
   {
    "duration": 15,
    "start_time": "2021-10-16T06:29:47.041Z"
   },
   {
    "duration": 5,
    "start_time": "2021-10-16T06:29:47.059Z"
   },
   {
    "duration": 482,
    "start_time": "2021-10-16T06:29:47.066Z"
   },
   {
    "duration": 441,
    "start_time": "2021-10-16T06:29:47.550Z"
   },
   {
    "duration": 9,
    "start_time": "2021-10-16T06:29:47.993Z"
   },
   {
    "duration": 817,
    "start_time": "2021-10-16T06:29:48.003Z"
   },
   {
    "duration": 9,
    "start_time": "2021-10-16T06:29:48.823Z"
   },
   {
    "duration": 758,
    "start_time": "2021-10-16T06:29:48.834Z"
   },
   {
    "duration": 10,
    "start_time": "2021-10-16T06:29:49.594Z"
   },
   {
    "duration": 784,
    "start_time": "2021-10-16T06:29:49.606Z"
   },
   {
    "duration": 21,
    "start_time": "2021-10-16T06:29:50.392Z"
   },
   {
    "duration": 14,
    "start_time": "2021-10-16T06:29:50.415Z"
   },
   {
    "duration": 13,
    "start_time": "2021-10-16T06:29:50.431Z"
   },
   {
    "duration": 12,
    "start_time": "2021-10-16T06:29:50.445Z"
   },
   {
    "duration": 34,
    "start_time": "2021-10-16T06:29:50.459Z"
   },
   {
    "duration": 13,
    "start_time": "2021-10-16T06:29:50.494Z"
   },
   {
    "duration": 10,
    "start_time": "2021-10-16T06:29:50.509Z"
   },
   {
    "duration": 11,
    "start_time": "2021-10-16T06:29:50.521Z"
   },
   {
    "duration": 9,
    "start_time": "2021-10-16T06:29:50.533Z"
   },
   {
    "duration": 14,
    "start_time": "2021-10-16T06:29:50.545Z"
   },
   {
    "duration": 32,
    "start_time": "2021-10-16T06:29:50.561Z"
   },
   {
    "duration": 9,
    "start_time": "2021-10-16T06:29:50.594Z"
   },
   {
    "duration": 10,
    "start_time": "2021-10-16T06:29:50.605Z"
   },
   {
    "duration": 9,
    "start_time": "2021-10-16T06:29:50.617Z"
   },
   {
    "duration": 20,
    "start_time": "2021-10-16T06:29:50.628Z"
   },
   {
    "duration": 13,
    "start_time": "2021-10-16T06:54:56.087Z"
   },
   {
    "duration": 1124,
    "start_time": "2021-10-16T07:00:21.041Z"
   },
   {
    "duration": 27,
    "start_time": "2021-10-16T07:00:22.167Z"
   },
   {
    "duration": 15,
    "start_time": "2021-10-16T07:00:22.196Z"
   },
   {
    "duration": 265,
    "start_time": "2021-10-16T07:00:22.213Z"
   },
   {
    "duration": 18,
    "start_time": "2021-10-16T07:00:22.480Z"
   },
   {
    "duration": 23,
    "start_time": "2021-10-16T07:00:22.500Z"
   },
   {
    "duration": 1128,
    "start_time": "2021-10-16T07:00:22.525Z"
   },
   {
    "duration": 16,
    "start_time": "2021-10-16T07:00:23.657Z"
   },
   {
    "duration": 19,
    "start_time": "2021-10-16T07:00:23.675Z"
   },
   {
    "duration": 396,
    "start_time": "2021-10-16T07:00:23.696Z"
   },
   {
    "duration": 499,
    "start_time": "2021-10-16T07:00:24.094Z"
   },
   {
    "duration": 10,
    "start_time": "2021-10-16T07:00:24.595Z"
   },
   {
    "duration": 805,
    "start_time": "2021-10-16T07:00:24.607Z"
   },
   {
    "duration": 9,
    "start_time": "2021-10-16T07:00:25.413Z"
   },
   {
    "duration": 784,
    "start_time": "2021-10-16T07:00:25.423Z"
   },
   {
    "duration": 9,
    "start_time": "2021-10-16T07:00:26.208Z"
   },
   {
    "duration": 779,
    "start_time": "2021-10-16T07:00:26.219Z"
   },
   {
    "duration": 22,
    "start_time": "2021-10-16T07:00:27.000Z"
   },
   {
    "duration": 15,
    "start_time": "2021-10-16T07:00:27.024Z"
   },
   {
    "duration": 13,
    "start_time": "2021-10-16T07:00:27.041Z"
   },
   {
    "duration": 37,
    "start_time": "2021-10-16T07:00:27.056Z"
   },
   {
    "duration": 10,
    "start_time": "2021-10-16T07:00:27.095Z"
   },
   {
    "duration": 9,
    "start_time": "2021-10-16T07:00:27.109Z"
   },
   {
    "duration": 10,
    "start_time": "2021-10-16T07:00:27.121Z"
   },
   {
    "duration": 12,
    "start_time": "2021-10-16T07:00:27.133Z"
   },
   {
    "duration": 52,
    "start_time": "2021-10-16T07:00:27.146Z"
   },
   {
    "duration": 15,
    "start_time": "2021-10-16T07:00:27.200Z"
   },
   {
    "duration": 10,
    "start_time": "2021-10-16T07:00:27.217Z"
   },
   {
    "duration": 13,
    "start_time": "2021-10-16T07:00:27.229Z"
   },
   {
    "duration": 19,
    "start_time": "2021-10-16T07:00:27.244Z"
   },
   {
    "duration": 34,
    "start_time": "2021-10-16T07:00:27.265Z"
   },
   {
    "duration": 12,
    "start_time": "2021-10-16T07:00:27.301Z"
   },
   {
    "duration": 1203,
    "start_time": "2021-10-16T08:58:44.053Z"
   },
   {
    "duration": 25,
    "start_time": "2021-10-16T08:58:45.258Z"
   },
   {
    "duration": 18,
    "start_time": "2021-10-16T08:58:45.285Z"
   },
   {
    "duration": 261,
    "start_time": "2021-10-16T08:58:45.305Z"
   },
   {
    "duration": 8,
    "start_time": "2021-10-16T08:58:45.571Z"
   },
   {
    "duration": 22,
    "start_time": "2021-10-16T08:58:45.581Z"
   },
   {
    "duration": 1078,
    "start_time": "2021-10-16T08:58:45.605Z"
   },
   {
    "duration": 14,
    "start_time": "2021-10-16T08:58:46.685Z"
   },
   {
    "duration": 6,
    "start_time": "2021-10-16T08:58:46.702Z"
   },
   {
    "duration": 403,
    "start_time": "2021-10-16T08:58:46.710Z"
   },
   {
    "duration": 530,
    "start_time": "2021-10-16T08:58:47.115Z"
   },
   {
    "duration": 9,
    "start_time": "2021-10-16T08:58:47.646Z"
   },
   {
    "duration": 806,
    "start_time": "2021-10-16T08:58:47.657Z"
   },
   {
    "duration": 8,
    "start_time": "2021-10-16T08:58:48.465Z"
   },
   {
    "duration": 780,
    "start_time": "2021-10-16T08:58:48.475Z"
   },
   {
    "duration": 9,
    "start_time": "2021-10-16T08:58:49.257Z"
   },
   {
    "duration": 859,
    "start_time": "2021-10-16T08:58:49.267Z"
   },
   {
    "duration": 27,
    "start_time": "2021-10-16T08:58:50.128Z"
   },
   {
    "duration": 15,
    "start_time": "2021-10-16T08:58:50.157Z"
   },
   {
    "duration": 13,
    "start_time": "2021-10-16T08:58:50.174Z"
   },
   {
    "duration": 8,
    "start_time": "2021-10-16T08:58:50.189Z"
   },
   {
    "duration": 13,
    "start_time": "2021-10-16T08:58:50.198Z"
   },
   {
    "duration": 38,
    "start_time": "2021-10-16T08:58:50.212Z"
   },
   {
    "duration": 12,
    "start_time": "2021-10-16T08:58:50.251Z"
   },
   {
    "duration": 9,
    "start_time": "2021-10-16T08:58:50.264Z"
   },
   {
    "duration": 10,
    "start_time": "2021-10-16T08:58:50.275Z"
   },
   {
    "duration": 14,
    "start_time": "2021-10-16T08:58:50.288Z"
   },
   {
    "duration": 8,
    "start_time": "2021-10-16T08:58:50.304Z"
   },
   {
    "duration": 37,
    "start_time": "2021-10-16T08:58:50.314Z"
   },
   {
    "duration": 10,
    "start_time": "2021-10-16T08:58:50.353Z"
   },
   {
    "duration": 13,
    "start_time": "2021-10-16T08:58:50.365Z"
   },
   {
    "duration": 12,
    "start_time": "2021-10-16T08:58:50.380Z"
   },
   {
    "duration": 1522,
    "start_time": "2021-10-16T18:09:10.097Z"
   },
   {
    "duration": 85,
    "start_time": "2021-10-16T18:09:11.621Z"
   },
   {
    "duration": 571,
    "start_time": "2021-10-16T18:15:07.778Z"
   },
   {
    "duration": 4,
    "start_time": "2021-10-16T18:15:13.821Z"
   },
   {
    "duration": 82,
    "start_time": "2021-10-16T18:15:13.828Z"
   },
   {
    "duration": 44,
    "start_time": "2021-10-16T18:15:13.913Z"
   },
   {
    "duration": 58,
    "start_time": "2021-10-16T18:15:13.959Z"
   },
   {
    "duration": 438,
    "start_time": "2021-10-16T18:15:14.020Z"
   },
   {
    "duration": 11,
    "start_time": "2021-10-16T18:15:14.460Z"
   },
   {
    "duration": 74,
    "start_time": "2021-10-16T18:15:14.474Z"
   },
   {
    "duration": 1867,
    "start_time": "2021-10-16T18:15:14.551Z"
   },
   {
    "duration": 23,
    "start_time": "2021-10-16T18:15:16.420Z"
   },
   {
    "duration": 8,
    "start_time": "2021-10-16T18:15:16.445Z"
   },
   {
    "duration": 670,
    "start_time": "2021-10-16T18:15:16.455Z"
   },
   {
    "duration": 753,
    "start_time": "2021-10-16T18:15:17.128Z"
   },
   {
    "duration": 25,
    "start_time": "2021-10-16T18:15:17.885Z"
   },
   {
    "duration": 1329,
    "start_time": "2021-10-16T18:15:17.912Z"
   },
   {
    "duration": 14,
    "start_time": "2021-10-16T18:15:19.245Z"
   },
   {
    "duration": 1365,
    "start_time": "2021-10-16T18:15:19.262Z"
   },
   {
    "duration": 13,
    "start_time": "2021-10-16T18:15:20.630Z"
   },
   {
    "duration": 1255,
    "start_time": "2021-10-16T18:15:20.645Z"
   },
   {
    "duration": 46,
    "start_time": "2021-10-16T18:15:21.907Z"
   },
   {
    "duration": 57,
    "start_time": "2021-10-16T18:15:21.957Z"
   },
   {
    "duration": 26,
    "start_time": "2021-10-16T18:15:22.017Z"
   },
   {
    "duration": 15,
    "start_time": "2021-10-16T18:15:22.046Z"
   },
   {
    "duration": 50,
    "start_time": "2021-10-16T18:15:22.064Z"
   },
   {
    "duration": 16,
    "start_time": "2021-10-16T18:15:22.117Z"
   },
   {
    "duration": 14,
    "start_time": "2021-10-16T18:15:22.135Z"
   },
   {
    "duration": 57,
    "start_time": "2021-10-16T18:15:22.152Z"
   },
   {
    "duration": 18,
    "start_time": "2021-10-16T18:15:22.212Z"
   },
   {
    "duration": 24,
    "start_time": "2021-10-16T18:15:22.232Z"
   },
   {
    "duration": 50,
    "start_time": "2021-10-16T18:15:22.258Z"
   },
   {
    "duration": 15,
    "start_time": "2021-10-16T18:15:22.311Z"
   },
   {
    "duration": 14,
    "start_time": "2021-10-16T18:15:22.328Z"
   },
   {
    "duration": 56,
    "start_time": "2021-10-16T18:15:22.344Z"
   },
   {
    "duration": 21,
    "start_time": "2021-10-16T18:15:22.403Z"
   },
   {
    "duration": 454,
    "start_time": "2021-10-17T06:21:42.323Z"
   },
   {
    "duration": 1084,
    "start_time": "2021-10-17T06:21:47.309Z"
   },
   {
    "duration": 58,
    "start_time": "2021-10-17T06:21:48.394Z"
   },
   {
    "duration": 26,
    "start_time": "2021-10-17T06:21:48.453Z"
   },
   {
    "duration": 13,
    "start_time": "2021-10-17T06:21:48.481Z"
   },
   {
    "duration": 238,
    "start_time": "2021-10-17T06:21:48.496Z"
   },
   {
    "duration": 8,
    "start_time": "2021-10-17T06:21:48.735Z"
   },
   {
    "duration": 33,
    "start_time": "2021-10-17T06:21:48.744Z"
   },
   {
    "duration": 998,
    "start_time": "2021-10-17T06:21:48.779Z"
   },
   {
    "duration": 14,
    "start_time": "2021-10-17T06:21:49.779Z"
   },
   {
    "duration": 6,
    "start_time": "2021-10-17T06:21:49.794Z"
   },
   {
    "duration": 372,
    "start_time": "2021-10-17T06:21:49.801Z"
   },
   {
    "duration": 492,
    "start_time": "2021-10-17T06:21:50.174Z"
   },
   {
    "duration": 16,
    "start_time": "2021-10-17T06:21:50.668Z"
   },
   {
    "duration": 799,
    "start_time": "2021-10-17T06:21:50.685Z"
   },
   {
    "duration": 8,
    "start_time": "2021-10-17T06:21:51.486Z"
   },
   {
    "duration": 793,
    "start_time": "2021-10-17T06:21:51.496Z"
   },
   {
    "duration": 10,
    "start_time": "2021-10-17T06:21:52.291Z"
   },
   {
    "duration": 739,
    "start_time": "2021-10-17T06:21:52.302Z"
   },
   {
    "duration": 21,
    "start_time": "2021-10-17T06:21:53.043Z"
   },
   {
    "duration": 15,
    "start_time": "2021-10-17T06:21:53.076Z"
   },
   {
    "duration": 14,
    "start_time": "2021-10-17T06:21:53.092Z"
   },
   {
    "duration": 10,
    "start_time": "2021-10-17T06:21:53.108Z"
   },
   {
    "duration": 12,
    "start_time": "2021-10-17T06:21:53.121Z"
   },
   {
    "duration": 12,
    "start_time": "2021-10-17T06:21:53.135Z"
   },
   {
    "duration": 37,
    "start_time": "2021-10-17T06:21:53.149Z"
   },
   {
    "duration": 9,
    "start_time": "2021-10-17T06:21:53.188Z"
   },
   {
    "duration": 11,
    "start_time": "2021-10-17T06:21:53.198Z"
   },
   {
    "duration": 16,
    "start_time": "2021-10-17T06:21:53.211Z"
   },
   {
    "duration": 8,
    "start_time": "2021-10-17T06:21:53.229Z"
   },
   {
    "duration": 37,
    "start_time": "2021-10-17T06:21:53.239Z"
   },
   {
    "duration": 9,
    "start_time": "2021-10-17T06:21:53.278Z"
   },
   {
    "duration": 11,
    "start_time": "2021-10-17T06:21:53.289Z"
   },
   {
    "duration": 11,
    "start_time": "2021-10-17T06:21:53.302Z"
   },
   {
    "duration": 246,
    "start_time": "2021-10-17T06:24:48.818Z"
   },
   {
    "duration": 215,
    "start_time": "2021-10-17T06:25:48.322Z"
   },
   {
    "duration": 281,
    "start_time": "2021-10-17T06:26:17.137Z"
   },
   {
    "duration": 15,
    "start_time": "2021-10-17T06:26:50.386Z"
   },
   {
    "duration": 464,
    "start_time": "2021-10-17T06:29:49.139Z"
   },
   {
    "duration": 195,
    "start_time": "2021-10-17T06:30:25.548Z"
   },
   {
    "duration": 272,
    "start_time": "2021-10-17T06:32:17.322Z"
   },
   {
    "duration": 3,
    "start_time": "2021-10-17T06:32:48.297Z"
   },
   {
    "duration": 55,
    "start_time": "2021-10-17T06:32:48.303Z"
   },
   {
    "duration": 27,
    "start_time": "2021-10-17T06:32:48.360Z"
   },
   {
    "duration": 14,
    "start_time": "2021-10-17T06:32:48.388Z"
   },
   {
    "duration": 251,
    "start_time": "2021-10-17T06:32:48.404Z"
   },
   {
    "duration": 8,
    "start_time": "2021-10-17T06:32:48.656Z"
   },
   {
    "duration": 23,
    "start_time": "2021-10-17T06:32:48.676Z"
   },
   {
    "duration": 1019,
    "start_time": "2021-10-17T06:32:48.701Z"
   },
   {
    "duration": 15,
    "start_time": "2021-10-17T06:32:49.722Z"
   },
   {
    "duration": 6,
    "start_time": "2021-10-17T06:32:49.739Z"
   },
   {
    "duration": 377,
    "start_time": "2021-10-17T06:32:49.746Z"
   },
   {
    "duration": 421,
    "start_time": "2021-10-17T06:32:50.124Z"
   },
   {
    "duration": 11,
    "start_time": "2021-10-17T06:32:50.547Z"
   },
   {
    "duration": 840,
    "start_time": "2021-10-17T06:32:50.560Z"
   },
   {
    "duration": 9,
    "start_time": "2021-10-17T06:32:51.402Z"
   },
   {
    "duration": 754,
    "start_time": "2021-10-17T06:32:51.413Z"
   },
   {
    "duration": 14,
    "start_time": "2021-10-17T06:32:52.168Z"
   },
   {
    "duration": 791,
    "start_time": "2021-10-17T06:32:52.183Z"
   },
   {
    "duration": 22,
    "start_time": "2021-10-17T06:32:52.977Z"
   },
   {
    "duration": 12,
    "start_time": "2021-10-17T06:32:53.001Z"
   },
   {
    "duration": 13,
    "start_time": "2021-10-17T06:32:53.014Z"
   },
   {
    "duration": 248,
    "start_time": "2021-10-17T06:32:53.028Z"
   },
   {
    "duration": 10,
    "start_time": "2021-10-17T06:32:53.277Z"
   },
   {
    "duration": 10,
    "start_time": "2021-10-17T06:32:53.291Z"
   },
   {
    "duration": 15,
    "start_time": "2021-10-17T06:32:53.303Z"
   },
   {
    "duration": 11,
    "start_time": "2021-10-17T06:32:53.319Z"
   },
   {
    "duration": 11,
    "start_time": "2021-10-17T06:32:53.331Z"
   },
   {
    "duration": 51,
    "start_time": "2021-10-17T06:32:53.344Z"
   },
   {
    "duration": 9,
    "start_time": "2021-10-17T06:32:53.396Z"
   },
   {
    "duration": 9,
    "start_time": "2021-10-17T06:32:53.407Z"
   },
   {
    "duration": 8,
    "start_time": "2021-10-17T06:32:53.418Z"
   },
   {
    "duration": 13,
    "start_time": "2021-10-17T06:32:53.427Z"
   },
   {
    "duration": 36,
    "start_time": "2021-10-17T06:32:53.442Z"
   },
   {
    "duration": 158,
    "start_time": "2021-10-17T06:33:09.530Z"
   },
   {
    "duration": 153,
    "start_time": "2021-10-17T06:34:56.901Z"
   },
   {
    "duration": 152,
    "start_time": "2021-10-17T06:35:45.414Z"
   },
   {
    "duration": 149,
    "start_time": "2021-10-17T06:36:02.594Z"
   },
   {
    "duration": 155,
    "start_time": "2021-10-17T06:38:03.208Z"
   },
   {
    "duration": 150,
    "start_time": "2021-10-17T06:39:00.291Z"
   },
   {
    "duration": 151,
    "start_time": "2021-10-17T06:40:05.423Z"
   },
   {
    "duration": 151,
    "start_time": "2021-10-17T06:41:30.360Z"
   },
   {
    "duration": 12,
    "start_time": "2021-10-17T06:49:47.027Z"
   },
   {
    "duration": 11,
    "start_time": "2021-10-17T06:49:56.547Z"
   },
   {
    "duration": 1113,
    "start_time": "2021-10-17T07:23:40.250Z"
   },
   {
    "duration": 29,
    "start_time": "2021-10-17T07:23:46.001Z"
   },
   {
    "duration": 123,
    "start_time": "2021-10-17T07:24:05.144Z"
   },
   {
    "duration": 29,
    "start_time": "2021-10-17T07:25:13.730Z"
   },
   {
    "duration": 29,
    "start_time": "2021-10-17T07:28:11.464Z"
   },
   {
    "duration": 380,
    "start_time": "2021-10-17T07:34:20.125Z"
   },
   {
    "duration": 5,
    "start_time": "2021-10-17T07:35:56.630Z"
   },
   {
    "duration": 3,
    "start_time": "2021-10-17T07:39:25.833Z"
   },
   {
    "duration": 7,
    "start_time": "2021-10-17T07:42:49.370Z"
   },
   {
    "duration": 3,
    "start_time": "2021-10-17T07:43:06.502Z"
   },
   {
    "duration": 66,
    "start_time": "2021-10-17T07:43:06.508Z"
   },
   {
    "duration": 27,
    "start_time": "2021-10-17T07:43:06.576Z"
   },
   {
    "duration": 14,
    "start_time": "2021-10-17T07:43:06.605Z"
   },
   {
    "duration": 260,
    "start_time": "2021-10-17T07:43:06.621Z"
   },
   {
    "duration": 6,
    "start_time": "2021-10-17T07:43:06.883Z"
   },
   {
    "duration": 21,
    "start_time": "2021-10-17T07:43:06.891Z"
   },
   {
    "duration": 1052,
    "start_time": "2021-10-17T07:43:06.914Z"
   },
   {
    "duration": 33,
    "start_time": "2021-10-17T07:43:07.968Z"
   },
   {
    "duration": 14,
    "start_time": "2021-10-17T07:43:08.003Z"
   },
   {
    "duration": 6,
    "start_time": "2021-10-17T07:43:08.018Z"
   },
   {
    "duration": 377,
    "start_time": "2021-10-17T07:43:08.025Z"
   },
   {
    "duration": 408,
    "start_time": "2021-10-17T07:43:08.404Z"
   },
   {
    "duration": 11,
    "start_time": "2021-10-17T07:43:08.813Z"
   },
   {
    "duration": 779,
    "start_time": "2021-10-17T07:43:08.825Z"
   },
   {
    "duration": 11,
    "start_time": "2021-10-17T07:43:09.605Z"
   },
   {
    "duration": 742,
    "start_time": "2021-10-17T07:43:09.618Z"
   },
   {
    "duration": 23,
    "start_time": "2021-10-17T07:43:10.362Z"
   },
   {
    "duration": 861,
    "start_time": "2021-10-17T07:43:10.387Z"
   },
   {
    "duration": 32,
    "start_time": "2021-10-17T07:43:11.250Z"
   },
   {
    "duration": 15,
    "start_time": "2021-10-17T07:43:11.285Z"
   },
   {
    "duration": 14,
    "start_time": "2021-10-17T07:43:11.302Z"
   },
   {
    "duration": 174,
    "start_time": "2021-10-17T07:43:11.318Z"
   },
   {
    "duration": 162,
    "start_time": "2021-10-17T07:43:11.495Z"
   },
   {
    "duration": 157,
    "start_time": "2021-10-17T07:43:11.659Z"
   },
   {
    "duration": 166,
    "start_time": "2021-10-17T07:43:11.818Z"
   },
   {
    "duration": 158,
    "start_time": "2021-10-17T07:43:11.986Z"
   },
   {
    "duration": 161,
    "start_time": "2021-10-17T07:43:12.145Z"
   },
   {
    "duration": 6,
    "start_time": "2021-10-17T07:43:12.308Z"
   },
   {
    "duration": 15,
    "start_time": "2021-10-17T07:43:12.316Z"
   },
   {
    "duration": 9,
    "start_time": "2021-10-17T07:43:12.333Z"
   },
   {
    "duration": 36,
    "start_time": "2021-10-17T07:43:12.344Z"
   },
   {
    "duration": 9,
    "start_time": "2021-10-17T07:43:12.382Z"
   },
   {
    "duration": 15,
    "start_time": "2021-10-17T07:43:12.393Z"
   },
   {
    "duration": 16,
    "start_time": "2021-10-17T07:43:12.410Z"
   },
   {
    "duration": 5,
    "start_time": "2021-10-17T07:45:31.290Z"
   },
   {
    "duration": 16,
    "start_time": "2021-10-17T07:45:35.082Z"
   },
   {
    "duration": 7,
    "start_time": "2021-10-17T07:45:37.225Z"
   },
   {
    "duration": 5,
    "start_time": "2021-10-17T07:47:37.860Z"
   },
   {
    "duration": 3,
    "start_time": "2021-10-17T07:47:51.809Z"
   },
   {
    "duration": 56,
    "start_time": "2021-10-17T07:47:51.815Z"
   },
   {
    "duration": 26,
    "start_time": "2021-10-17T07:47:51.873Z"
   },
   {
    "duration": 14,
    "start_time": "2021-10-17T07:47:51.901Z"
   },
   {
    "duration": 253,
    "start_time": "2021-10-17T07:47:51.917Z"
   },
   {
    "duration": 9,
    "start_time": "2021-10-17T07:47:52.172Z"
   },
   {
    "duration": 24,
    "start_time": "2021-10-17T07:47:52.183Z"
   },
   {
    "duration": 1105,
    "start_time": "2021-10-17T07:47:52.209Z"
   },
   {
    "duration": 31,
    "start_time": "2021-10-17T07:47:53.316Z"
   },
   {
    "duration": 36,
    "start_time": "2021-10-17T07:47:53.349Z"
   },
   {
    "duration": 6,
    "start_time": "2021-10-17T07:47:53.386Z"
   },
   {
    "duration": 354,
    "start_time": "2021-10-17T07:47:53.394Z"
   },
   {
    "duration": 508,
    "start_time": "2021-10-17T07:47:53.750Z"
   },
   {
    "duration": 17,
    "start_time": "2021-10-17T07:47:54.260Z"
   },
   {
    "duration": 829,
    "start_time": "2021-10-17T07:47:54.279Z"
   },
   {
    "duration": 11,
    "start_time": "2021-10-17T07:47:55.110Z"
   },
   {
    "duration": 735,
    "start_time": "2021-10-17T07:47:55.122Z"
   },
   {
    "duration": 27,
    "start_time": "2021-10-17T07:47:55.859Z"
   },
   {
    "duration": 745,
    "start_time": "2021-10-17T07:47:55.887Z"
   },
   {
    "duration": 21,
    "start_time": "2021-10-17T07:47:56.634Z"
   },
   {
    "duration": 31,
    "start_time": "2021-10-17T07:47:56.656Z"
   },
   {
    "duration": 14,
    "start_time": "2021-10-17T07:47:56.688Z"
   },
   {
    "duration": 164,
    "start_time": "2021-10-17T07:47:56.704Z"
   },
   {
    "duration": 161,
    "start_time": "2021-10-17T07:47:56.871Z"
   },
   {
    "duration": 155,
    "start_time": "2021-10-17T07:47:57.034Z"
   },
   {
    "duration": 167,
    "start_time": "2021-10-17T07:47:57.190Z"
   },
   {
    "duration": 158,
    "start_time": "2021-10-17T07:47:57.359Z"
   },
   {
    "duration": 167,
    "start_time": "2021-10-17T07:47:57.519Z"
   },
   {
    "duration": 5,
    "start_time": "2021-10-17T07:47:57.688Z"
   },
   {
    "duration": 15,
    "start_time": "2021-10-17T07:47:57.694Z"
   },
   {
    "duration": 8,
    "start_time": "2021-10-17T07:47:57.710Z"
   },
   {
    "duration": 9,
    "start_time": "2021-10-17T07:47:57.720Z"
   },
   {
    "duration": 8,
    "start_time": "2021-10-17T07:47:57.731Z"
   },
   {
    "duration": 45,
    "start_time": "2021-10-17T07:47:57.740Z"
   },
   {
    "duration": 23,
    "start_time": "2021-10-17T07:47:57.787Z"
   },
   {
    "duration": 1121,
    "start_time": "2021-10-17T07:48:34.496Z"
   },
   {
    "duration": 59,
    "start_time": "2021-10-17T07:48:35.619Z"
   },
   {
    "duration": 27,
    "start_time": "2021-10-17T07:48:35.680Z"
   },
   {
    "duration": 18,
    "start_time": "2021-10-17T07:48:35.708Z"
   },
   {
    "duration": 252,
    "start_time": "2021-10-17T07:48:35.727Z"
   },
   {
    "duration": 7,
    "start_time": "2021-10-17T07:48:35.980Z"
   },
   {
    "duration": 23,
    "start_time": "2021-10-17T07:48:35.989Z"
   },
   {
    "duration": 1049,
    "start_time": "2021-10-17T07:48:36.014Z"
   },
   {
    "duration": 39,
    "start_time": "2021-10-17T07:48:37.065Z"
   },
   {
    "duration": 16,
    "start_time": "2021-10-17T07:48:37.106Z"
   },
   {
    "duration": 6,
    "start_time": "2021-10-17T07:48:37.124Z"
   },
   {
    "duration": 455,
    "start_time": "2021-10-17T07:48:37.132Z"
   },
   {
    "duration": 491,
    "start_time": "2021-10-17T07:48:37.589Z"
   },
   {
    "duration": 11,
    "start_time": "2021-10-17T07:48:38.082Z"
   },
   {
    "duration": 798,
    "start_time": "2021-10-17T07:48:38.095Z"
   },
   {
    "duration": 11,
    "start_time": "2021-10-17T07:48:38.895Z"
   },
   {
    "duration": 784,
    "start_time": "2021-10-17T07:48:38.908Z"
   },
   {
    "duration": 11,
    "start_time": "2021-10-17T07:48:39.693Z"
   },
   {
    "duration": 772,
    "start_time": "2021-10-17T07:48:39.706Z"
   },
   {
    "duration": 21,
    "start_time": "2021-10-17T07:48:40.480Z"
   },
   {
    "duration": 16,
    "start_time": "2021-10-17T07:48:40.503Z"
   },
   {
    "duration": 15,
    "start_time": "2021-10-17T07:48:40.521Z"
   },
   {
    "duration": 183,
    "start_time": "2021-10-17T07:48:40.540Z"
   },
   {
    "duration": 268,
    "start_time": "2021-10-17T07:48:40.725Z"
   },
   {
    "duration": 167,
    "start_time": "2021-10-17T07:48:40.995Z"
   },
   {
    "duration": 163,
    "start_time": "2021-10-17T07:48:41.164Z"
   },
   {
    "duration": 165,
    "start_time": "2021-10-17T07:48:41.329Z"
   },
   {
    "duration": 247,
    "start_time": "2021-10-17T07:48:41.496Z"
   },
   {
    "duration": 8,
    "start_time": "2021-10-17T07:48:41.745Z"
   },
   {
    "duration": 32,
    "start_time": "2021-10-17T07:48:41.754Z"
   },
   {
    "duration": 9,
    "start_time": "2021-10-17T07:48:41.788Z"
   },
   {
    "duration": 13,
    "start_time": "2021-10-17T07:48:41.798Z"
   },
   {
    "duration": 13,
    "start_time": "2021-10-17T07:48:41.813Z"
   },
   {
    "duration": 16,
    "start_time": "2021-10-17T07:48:41.827Z"
   },
   {
    "duration": 32,
    "start_time": "2021-10-17T07:48:41.845Z"
   },
   {
    "duration": 5,
    "start_time": "2021-10-17T07:49:35.619Z"
   },
   {
    "duration": 13,
    "start_time": "2021-10-17T07:49:49.491Z"
   },
   {
    "duration": 9,
    "start_time": "2021-10-17T07:49:58.739Z"
   },
   {
    "duration": 9,
    "start_time": "2021-10-17T07:50:09.425Z"
   },
   {
    "duration": 9,
    "start_time": "2021-10-17T07:50:13.166Z"
   },
   {
    "duration": 149,
    "start_time": "2021-10-17T08:07:05.651Z"
   },
   {
    "duration": 146,
    "start_time": "2021-10-17T08:08:03.938Z"
   },
   {
    "duration": 143,
    "start_time": "2021-10-17T08:08:49.263Z"
   },
   {
    "duration": 153,
    "start_time": "2021-10-17T08:09:48.492Z"
   },
   {
    "duration": 3,
    "start_time": "2021-10-17T08:10:04.655Z"
   },
   {
    "duration": 58,
    "start_time": "2021-10-17T08:10:04.662Z"
   },
   {
    "duration": 28,
    "start_time": "2021-10-17T08:10:04.723Z"
   },
   {
    "duration": 16,
    "start_time": "2021-10-17T08:10:04.778Z"
   },
   {
    "duration": 251,
    "start_time": "2021-10-17T08:10:04.797Z"
   },
   {
    "duration": 9,
    "start_time": "2021-10-17T08:10:05.050Z"
   },
   {
    "duration": 35,
    "start_time": "2021-10-17T08:10:05.061Z"
   },
   {
    "duration": 1132,
    "start_time": "2021-10-17T08:10:05.098Z"
   },
   {
    "duration": 43,
    "start_time": "2021-10-17T08:10:06.233Z"
   },
   {
    "duration": 16,
    "start_time": "2021-10-17T08:10:06.279Z"
   },
   {
    "duration": 7,
    "start_time": "2021-10-17T08:10:06.297Z"
   },
   {
    "duration": 365,
    "start_time": "2021-10-17T08:10:06.305Z"
   },
   {
    "duration": 489,
    "start_time": "2021-10-17T08:10:06.671Z"
   },
   {
    "duration": 17,
    "start_time": "2021-10-17T08:10:07.161Z"
   },
   {
    "duration": 779,
    "start_time": "2021-10-17T08:10:07.179Z"
   },
   {
    "duration": 18,
    "start_time": "2021-10-17T08:10:07.959Z"
   },
   {
    "duration": 781,
    "start_time": "2021-10-17T08:10:07.979Z"
   },
   {
    "duration": 18,
    "start_time": "2021-10-17T08:10:08.762Z"
   },
   {
    "duration": 687,
    "start_time": "2021-10-17T08:10:08.781Z"
   },
   {
    "duration": 20,
    "start_time": "2021-10-17T08:10:09.476Z"
   },
   {
    "duration": 12,
    "start_time": "2021-10-17T08:10:09.498Z"
   },
   {
    "duration": 18,
    "start_time": "2021-10-17T08:10:09.511Z"
   },
   {
    "duration": 171,
    "start_time": "2021-10-17T08:10:09.530Z"
   },
   {
    "duration": 159,
    "start_time": "2021-10-17T08:10:09.704Z"
   },
   {
    "duration": 159,
    "start_time": "2021-10-17T08:10:09.865Z"
   },
   {
    "duration": 168,
    "start_time": "2021-10-17T08:10:10.025Z"
   },
   {
    "duration": 157,
    "start_time": "2021-10-17T08:10:10.195Z"
   },
   {
    "duration": 163,
    "start_time": "2021-10-17T08:10:10.354Z"
   },
   {
    "duration": 5,
    "start_time": "2021-10-17T08:10:10.519Z"
   },
   {
    "duration": 33,
    "start_time": "2021-10-17T08:10:10.525Z"
   },
   {
    "duration": 228,
    "start_time": "2021-10-17T08:10:10.560Z"
   },
   {
    "duration": 154,
    "start_time": "2021-10-17T08:10:10.790Z"
   },
   {
    "duration": 161,
    "start_time": "2021-10-17T08:10:10.945Z"
   },
   {
    "duration": 12,
    "start_time": "2021-10-17T08:10:11.108Z"
   },
   {
    "duration": 40,
    "start_time": "2021-10-17T08:10:11.122Z"
   },
   {
    "duration": 1152,
    "start_time": "2021-10-17T08:10:36.038Z"
   },
   {
    "duration": 59,
    "start_time": "2021-10-17T08:10:37.192Z"
   },
   {
    "duration": 26,
    "start_time": "2021-10-17T08:10:37.254Z"
   },
   {
    "duration": 14,
    "start_time": "2021-10-17T08:10:37.282Z"
   },
   {
    "duration": 249,
    "start_time": "2021-10-17T08:10:37.298Z"
   },
   {
    "duration": 7,
    "start_time": "2021-10-17T08:10:37.548Z"
   },
   {
    "duration": 33,
    "start_time": "2021-10-17T08:10:37.557Z"
   },
   {
    "duration": 1013,
    "start_time": "2021-10-17T08:10:37.592Z"
   },
   {
    "duration": 30,
    "start_time": "2021-10-17T08:10:38.607Z"
   },
   {
    "duration": 14,
    "start_time": "2021-10-17T08:10:38.640Z"
   },
   {
    "duration": 25,
    "start_time": "2021-10-17T08:10:38.655Z"
   },
   {
    "duration": 362,
    "start_time": "2021-10-17T08:10:38.682Z"
   },
   {
    "duration": 530,
    "start_time": "2021-10-17T08:10:39.046Z"
   },
   {
    "duration": 12,
    "start_time": "2021-10-17T08:10:39.578Z"
   },
   {
    "duration": 810,
    "start_time": "2021-10-17T08:10:39.591Z"
   },
   {
    "duration": 11,
    "start_time": "2021-10-17T08:10:40.402Z"
   },
   {
    "duration": 746,
    "start_time": "2021-10-17T08:10:40.414Z"
   },
   {
    "duration": 16,
    "start_time": "2021-10-17T08:10:41.162Z"
   },
   {
    "duration": 801,
    "start_time": "2021-10-17T08:10:41.179Z"
   },
   {
    "duration": 22,
    "start_time": "2021-10-17T08:10:41.981Z"
   },
   {
    "duration": 13,
    "start_time": "2021-10-17T08:10:42.004Z"
   },
   {
    "duration": 14,
    "start_time": "2021-10-17T08:10:42.019Z"
   },
   {
    "duration": 182,
    "start_time": "2021-10-17T08:10:42.035Z"
   },
   {
    "duration": 159,
    "start_time": "2021-10-17T08:10:42.219Z"
   },
   {
    "duration": 162,
    "start_time": "2021-10-17T08:10:42.380Z"
   },
   {
    "duration": 194,
    "start_time": "2021-10-17T08:10:42.544Z"
   },
   {
    "duration": 257,
    "start_time": "2021-10-17T08:10:42.741Z"
   },
   {
    "duration": 231,
    "start_time": "2021-10-17T08:10:43.000Z"
   },
   {
    "duration": 7,
    "start_time": "2021-10-17T08:10:43.232Z"
   },
   {
    "duration": 13,
    "start_time": "2021-10-17T08:10:43.241Z"
   },
   {
    "duration": 168,
    "start_time": "2021-10-17T08:10:43.255Z"
   },
   {
    "duration": 158,
    "start_time": "2021-10-17T08:10:43.425Z"
   },
   {
    "duration": 162,
    "start_time": "2021-10-17T08:10:43.585Z"
   },
   {
    "duration": 13,
    "start_time": "2021-10-17T08:10:43.749Z"
   },
   {
    "duration": 22,
    "start_time": "2021-10-17T08:10:43.764Z"
   },
   {
    "duration": 4,
    "start_time": "2021-10-17T08:14:05.435Z"
   },
   {
    "duration": 1090,
    "start_time": "2021-10-17T08:14:17.702Z"
   },
   {
    "duration": 62,
    "start_time": "2021-10-17T08:14:18.793Z"
   },
   {
    "duration": 31,
    "start_time": "2021-10-17T08:14:18.857Z"
   },
   {
    "duration": 16,
    "start_time": "2021-10-17T08:14:18.890Z"
   },
   {
    "duration": 263,
    "start_time": "2021-10-17T08:14:18.908Z"
   },
   {
    "duration": 9,
    "start_time": "2021-10-17T08:14:19.176Z"
   },
   {
    "duration": 27,
    "start_time": "2021-10-17T08:14:19.187Z"
   },
   {
    "duration": 1070,
    "start_time": "2021-10-17T08:14:19.216Z"
   },
   {
    "duration": 31,
    "start_time": "2021-10-17T08:14:20.289Z"
   },
   {
    "duration": 14,
    "start_time": "2021-10-17T08:14:20.322Z"
   },
   {
    "duration": 5,
    "start_time": "2021-10-17T08:14:20.338Z"
   },
   {
    "duration": 387,
    "start_time": "2021-10-17T08:14:20.345Z"
   },
   {
    "duration": 478,
    "start_time": "2021-10-17T08:14:20.734Z"
   },
   {
    "duration": 12,
    "start_time": "2021-10-17T08:14:21.214Z"
   },
   {
    "duration": 852,
    "start_time": "2021-10-17T08:14:21.228Z"
   },
   {
    "duration": 11,
    "start_time": "2021-10-17T08:14:22.082Z"
   },
   {
    "duration": 770,
    "start_time": "2021-10-17T08:14:22.096Z"
   },
   {
    "duration": 17,
    "start_time": "2021-10-17T08:14:22.868Z"
   },
   {
    "duration": 756,
    "start_time": "2021-10-17T08:14:22.887Z"
   },
   {
    "duration": 32,
    "start_time": "2021-10-17T08:14:23.646Z"
   },
   {
    "duration": 15,
    "start_time": "2021-10-17T08:14:23.680Z"
   },
   {
    "duration": 15,
    "start_time": "2021-10-17T08:14:23.696Z"
   },
   {
    "duration": 177,
    "start_time": "2021-10-17T08:14:23.715Z"
   },
   {
    "duration": 164,
    "start_time": "2021-10-17T08:14:23.895Z"
   },
   {
    "duration": 159,
    "start_time": "2021-10-17T08:14:24.060Z"
   },
   {
    "duration": 166,
    "start_time": "2021-10-17T08:14:24.221Z"
   },
   {
    "duration": 163,
    "start_time": "2021-10-17T08:14:24.389Z"
   },
   {
    "duration": 232,
    "start_time": "2021-10-17T08:14:24.554Z"
   },
   {
    "duration": 7,
    "start_time": "2021-10-17T08:14:24.787Z"
   },
   {
    "duration": 15,
    "start_time": "2021-10-17T08:14:24.795Z"
   },
   {
    "duration": 172,
    "start_time": "2021-10-17T08:14:24.812Z"
   },
   {
    "duration": 161,
    "start_time": "2021-10-17T08:14:24.986Z"
   },
   {
    "duration": 158,
    "start_time": "2021-10-17T08:14:25.148Z"
   },
   {
    "duration": 12,
    "start_time": "2021-10-17T08:14:25.307Z"
   },
   {
    "duration": 13,
    "start_time": "2021-10-17T08:14:25.321Z"
   }
  ],
  "kernelspec": {
   "display_name": "Python 3 (ipykernel)",
   "language": "python",
   "name": "python3"
  },
  "language_info": {
   "codemirror_mode": {
    "name": "ipython",
    "version": 3
   },
   "file_extension": ".py",
   "mimetype": "text/x-python",
   "name": "python",
   "nbconvert_exporter": "python",
   "pygments_lexer": "ipython3",
   "version": "3.9.5"
  },
  "toc": {
   "base_numbering": 1,
   "nav_menu": {},
   "number_sections": true,
   "sideBar": true,
   "skip_h1_title": true,
   "title_cell": "Table of Contents",
   "title_sidebar": "Contents",
   "toc_cell": false,
   "toc_position": {},
   "toc_section_display": true,
   "toc_window_display": false
  }
 },
 "nbformat": 4,
 "nbformat_minor": 2
}
